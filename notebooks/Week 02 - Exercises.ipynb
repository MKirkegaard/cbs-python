{
 "cells": [
  {
   "cell_type": "markdown",
   "metadata": {},
   "source": [
    "# Week 02 - Exercises"
   ]
  },
  {
   "cell_type": "markdown",
   "metadata": {},
   "source": [
    "### 1. Assignments and operations\n",
    "\n",
    "What is the difference between + and +=?\n"
   ]
  },
  {
   "cell_type": "code",
   "execution_count": null,
   "metadata": {
    "collapsed": false
   },
   "outputs": [],
   "source": [
    "A = 1\n",
    "B = 4\n",
    "\n",
    "A + B\n",
    "A += B"
   ]
  },
  {
   "cell_type": "raw",
   "metadata": {},
   "source": [
    "Answer: "
   ]
  },
  {
   "cell_type": "markdown",
   "metadata": {},
   "source": [
    "### 2. Get comfortable with the new data structures\n",
    "\n",
    "[Lists] Add comments (use #) to the script below describing what happens in each line"
   ]
  },
  {
   "cell_type": "code",
   "execution_count": null,
   "metadata": {
    "collapsed": false
   },
   "outputs": [],
   "source": [
    "L = [1,2,3] + [4,5,6]\n",
    "L.reverse()\n",
    "print L\n",
    "L.sort()\n",
    "print L\n",
    "idx = L.index(4)\n",
    "print idx"
   ]
  },
  {
   "cell_type": "markdown",
   "metadata": {},
   "source": [
    " What is the difference between ```list.remove()```, ```list.pop()``` and ```del(list)```? Try them out and add comments:"
   ]
  },
  {
   "cell_type": "code",
   "execution_count": null,
   "metadata": {
    "collapsed": false
   },
   "outputs": [],
   "source": [
    "myList = [0,1,5,3,4,5,6,7,8,9,10]"
   ]
  },
  {
   "cell_type": "markdown",
   "metadata": {},
   "source": [
    "[Dictionaries] Make a **list** of **dictionaries** of your top-3 favorite movies with the following structure:\n",
    "\n",
    "<ol>\n",
    "    <li>[0]</li>\n",
    "    <ul>\n",
    "        <li>\"Title\" : \"\"The Holy Grail\"</li>\n",
    "        <li>\"Genre\" : \"Comedy\"</li>\n",
    "        <li>\"Year\" : 1975</li>\n",
    "        <li>\"Length\" : 91</li>\n",
    "        <li>\"Directors\" : [\"Terry Gilliam\", \"Terry Jones\"]</li>\n",
    "        <li>\"Stars\" : [\"Graham Chapman\", \"John Cleese\", \"Eric Idle\"]</li>\n",
    "    </ul>\n",
    "    <li>[1]</li>\n",
    "    ...\n",
    "</ol>"
   ]
  },
  {
   "cell_type": "code",
   "execution_count": null,
   "metadata": {
    "collapsed": false
   },
   "outputs": [],
   "source": [
    "movies = [] # finish this code"
   ]
  },
  {
   "cell_type": "markdown",
   "metadata": {},
   "source": [
    "Go through each of the three movies and print the title, year and genre *using only two lines of code*."
   ]
  },
  {
   "cell_type": "code",
   "execution_count": null,
   "metadata": {
    "collapsed": false
   },
   "outputs": [],
   "source": []
  },
  {
   "cell_type": "markdown",
   "metadata": {},
   "source": [
    "The output should look something like this:"
   ]
  },
  {
   "cell_type": "raw",
   "metadata": {},
   "source": [
    "The Holy Grail, 1975, Comedy\n",
    "The Life of Brian, 1979, Comedy\n",
    "The Meaning of Life, 1983, Comedy"
   ]
  },
  {
   "cell_type": "markdown",
   "metadata": {},
   "source": [
    "### 3. Slice and dice\n",
    "In Python we used the index to access an item of a collection. Python can also access a range of items of collections using slicing. \n",
    "\n",
    "Instead of \n",
    "\n",
    "    collection[5]\n",
    "\n",
    "to access the 6'th element, we can use\n",
    "\n",
    "    collection[3:5]\n",
    "\n",
    "\n",
    "to access the 4'th and 5'th item of a sequence. The following figure shows how the slicing index is translated into ranges:\n",
    "\n",
    "\n",
    "<center>\n",
    "<img src=\"http://infohost.nmt.edu/tcc/help/pubs/python/web/fig/slicing.png\" width=\"250px\" />\n",
    "</center>\n",
    "\n",
    "In this exercise we try it out. Use this table for assistance:\n",
    "<center>\n",
    "<table>\n",
    "    <tr><td><b>Expression</b></td><td><b>Returns</b></td></tr>\n",
    "    <tr><td>seq[i:j]</td><td>Elements of *seq* from *i* to, but not including *j*</td></tr>\n",
    "    <tr><td>seq[i:]</td><td>Elements of *seq* from *i* through the end of the sequence</td></tr>\n",
    "    <tr><td>seq[:j]</td><td>Elements of *seq* from the first up to, but not including *j*</td></tr>\n",
    "    <tr><td>seq[:-1]</td><td>Elements of *seq* from the first up to, but not including the last</td></tr>\n",
    "    <tr><td>seq[:]</td><td>All the elements of *seq* - i.e. a copy of *seq*</td></tr>\n",
    "    <tr><td>seq[i:j:k]</td><td>Every k<sup>th</sup> element of *seq*, from i up to, but not including *j*</td></tr>\n",
    "</table>\n",
    "</center>\n",
    "\n",
    "We have a protein sequence: "
   ]
  },
  {
   "cell_type": "code",
   "execution_count": null,
   "metadata": {
    "collapsed": false
   },
   "outputs": [],
   "source": [
    "prot_seq = \"MKWVTFISLLFLFSSAYSRGVFRRDAHKSEVAHRFKDLGEENFKALVLIAFA\""
   ]
  },
  {
   "cell_type": "markdown",
   "metadata": {},
   "source": [
    "Obtain the signal peptide sequence of ```prot_seq```, which is the first 18 amino acids"
   ]
  },
  {
   "cell_type": "code",
   "execution_count": null,
   "metadata": {
    "collapsed": false
   },
   "outputs": [],
   "source": []
  },
  {
   "cell_type": "markdown",
   "metadata": {},
   "source": [
    "Obtain the middle part of the protein from amino acid position 22 to 36"
   ]
  },
  {
   "cell_type": "code",
   "execution_count": null,
   "metadata": {
    "collapsed": false
   },
   "outputs": [],
   "source": []
  },
  {
   "cell_type": "markdown",
   "metadata": {},
   "source": [
    "Obtain the last 12 amino acids using two different methods of slicing "
   ]
  },
  {
   "cell_type": "code",
   "execution_count": null,
   "metadata": {
    "collapsed": false
   },
   "outputs": [],
   "source": []
  },
  {
   "cell_type": "markdown",
   "metadata": {},
   "source": [
    "Obtain every second amino acid of the protein sequence using slicing"
   ]
  },
  {
   "cell_type": "code",
   "execution_count": null,
   "metadata": {
    "collapsed": false
   },
   "outputs": [],
   "source": []
  },
  {
   "cell_type": "markdown",
   "metadata": {},
   "source": [
    "Reverse the sequence using slicing\n",
    "**Hint:** *Set the step to $k=-1$*"
   ]
  },
  {
   "cell_type": "code",
   "execution_count": null,
   "metadata": {
    "collapsed": false
   },
   "outputs": [],
   "source": []
  },
  {
   "cell_type": "markdown",
   "metadata": {},
   "source": [
    "### 4. Playing with strings"
   ]
  },
  {
   "cell_type": "markdown",
   "metadata": {},
   "source": [
    "Strings have alot of built in functions. In this exercise we will explore some of the most common features. "
   ]
  },
  {
   "cell_type": "code",
   "execution_count": null,
   "metadata": {
    "collapsed": false
   },
   "outputs": [],
   "source": [
    "signal_peptide = \"maskatllclaftllfatcia\""
   ]
  },
  {
   "cell_type": "markdown",
   "metadata": {},
   "source": [
    "A list of functions associated with the string *signal_peptide* can be found by writing signal_peptide followed by a dot (.) and then hitting the <kbd>Tab</kbd> key to ask for auto-complete suggestions."
   ]
  },
  {
   "cell_type": "markdown",
   "metadata": {},
   "source": [
    "    signal_peptide.<hit-tab>"
   ]
  },
  {
   "cell_type": "markdown",
   "metadata": {},
   "source": [
    "Another way is to use the dir() function around signal_peptide:\n",
    "\n",
    "    dir(signal_peptide)\n",
    "\n",
    "Use either of these methods to find the suited functions for the following questions: "
   ]
  },
  {
   "cell_type": "markdown",
   "metadata": {},
   "source": [
    "Obtain a uppercase version of ```signal_peptide```"
   ]
  },
  {
   "cell_type": "code",
   "execution_count": null,
   "metadata": {
    "collapsed": false
   },
   "outputs": [],
   "source": []
  },
  {
   "cell_type": "markdown",
   "metadata": {},
   "source": [
    "Obtain the amino acid position of the first occurrance of Cysteine"
   ]
  },
  {
   "cell_type": "code",
   "execution_count": null,
   "metadata": {
    "collapsed": false
   },
   "outputs": [],
   "source": []
  },
  {
   "cell_type": "markdown",
   "metadata": {},
   "source": [
    "Print a deriving sequence where the part *\"laftl\"* is replaced with *\"alftlg\"*"
   ]
  },
  {
   "cell_type": "code",
   "execution_count": null,
   "metadata": {
    "collapsed": false
   },
   "outputs": [],
   "source": []
  },
  {
   "cell_type": "markdown",
   "metadata": {},
   "source": [
    "Find the GC content in the following sequence"
   ]
  },
  {
   "cell_type": "code",
   "execution_count": null,
   "metadata": {
    "collapsed": false
   },
   "outputs": [],
   "source": [
    "dna_sequence = \"TGCGTAGACGTGAGTAAAATGCATAAATAACTAGGCG\""
   ]
  },
  {
   "cell_type": "markdown",
   "metadata": {},
   "source": [
    "**hint:** <i>Use len(dna_sequence) to get the length of the sequence</i>"
   ]
  },
  {
   "cell_type": "code",
   "execution_count": null,
   "metadata": {
    "collapsed": false
   },
   "outputs": [],
   "source": []
  },
  {
   "cell_type": "markdown",
   "metadata": {},
   "source": [
    "### 5. Membership testing and sequence validation\n",
    "In Python you can use list comprehensions to create a list B from a list A:\n",
    "    \n",
    "    B = [expression for item in list]\n",
    "    B = [x^2 for x in A]\n",
    "\n",
    "The last bit\n",
    "    \n",
    "    item in list\n",
    "\n",
    "can also be used to test for the membership of the value x in a list. For instance:\n"
   ]
  },
  {
   "cell_type": "code",
   "execution_count": null,
   "metadata": {
    "collapsed": false
   },
   "outputs": [],
   "source": [
    "2 in [1,2,3,4]"
   ]
  },
  {
   "cell_type": "markdown",
   "metadata": {},
   "source": [
    "will return True if the number 2 is found in the list. Here is another example using membership testing for base validation:"
   ]
  },
  {
   "cell_type": "code",
   "execution_count": null,
   "metadata": {
    "collapsed": false
   },
   "outputs": [],
   "source": [
    "valid_base = \"UCAG\"\n",
    "print \"C\" in valid_base\n",
    "print \"G\" in valid_base\n",
    "print \"A\" in valid_base\n",
    "print \"T\" in valid_base"
   ]
  },
  {
   "cell_type": "markdown",
   "metadata": {},
   "source": [
    "##### Make a program that validates base sequences of RNA using a list comprehension. (Advanced)\n",
    "\n",
    "Combine list comprehensions\n",
    "\n",
    "    [expression for item in collection]\n",
    "\n",
    "and membership testing\n",
    "\n",
    "    value in collection\n",
    "\n",
    "to validate that these two sequences are RNA:"
   ]
  },
  {
   "cell_type": "code",
   "execution_count": null,
   "metadata": {
    "collapsed": false
   },
   "outputs": [],
   "source": [
    "base_seqA = \"ACGAGCUG\"\n",
    "base_seqB = \"ACTGTCGA\"\n",
    "\n",
    "# put your code into the brackets below:\n",
    "\n",
    "print all ( [] ) \n",
    "print all ( [] ) \n",
    "\n"
   ]
  },
  {
   "cell_type": "markdown",
   "metadata": {},
   "source": [
    "**Note:** *The function*\n",
    "\n",
    "    all(list)\n",
    "\n",
    "*will return True if all items in the list is true*:"
   ]
  },
  {
   "cell_type": "code",
   "execution_count": null,
   "metadata": {
    "collapsed": false
   },
   "outputs": [],
   "source": [
    "print all( [True, True, True] )\n",
    "print all( [True, True, False] )"
   ]
  },
  {
   "cell_type": "markdown",
   "metadata": {},
   "source": [
    "### 6. Advanced: Reverse Compliment, Molecular Weight and Translation\n",
    "A dictionary of the complement nucleotides:"
   ]
  },
  {
   "cell_type": "code",
   "execution_count": null,
   "metadata": {
    "collapsed": false
   },
   "outputs": [],
   "source": [
    "cmpl = {\"A\": \"T\", \"C\": \"G\", \"G\": \"C\", \"T\": \"A\"}"
   ]
  },
  {
   "cell_type": "markdown",
   "metadata": {},
   "source": [
    "Use the dictionary above to print the reverse complement sequence of ```dna_sequence```"
   ]
  },
  {
   "cell_type": "markdown",
   "metadata": {},
   "source": [
    "**Hint:** *use the \"\".join( ) function to concatenate a list into a string. Here is how it works:*"
   ]
  },
  {
   "cell_type": "code",
   "execution_count": null,
   "metadata": {
    "collapsed": false
   },
   "outputs": [],
   "source": [
    "\"\".join( [ \"a\", \"b\", \"c\", \"d\" ] )"
   ]
  },
  {
   "cell_type": "code",
   "execution_count": null,
   "metadata": {
    "collapsed": false
   },
   "outputs": [],
   "source": [
    "# Finish the command below\n",
    "print dna_sequence\n",
    "\"\".join ( [] ) "
   ]
  },
  {
   "cell_type": "markdown",
   "metadata": {},
   "source": [
    "Use a dictionary and list comprehension to calculate the molecular weight of dna_sequence (hint use the <i>sum</i> function)"
   ]
  },
  {
   "cell_type": "code",
   "execution_count": null,
   "metadata": {
    "collapsed": false
   },
   "outputs": [],
   "source": [
    "A = 313.21\n",
    "T = 304.2\n",
    "C = 289.18\n",
    "G = 329.21\n",
    "dna_sequence = \"TGCGTAGACGTGAGTAAAATGCATAAATAACTAGGCG\"\n",
    "# mol_weight_in_dalton = "
   ]
  },
  {
   "cell_type": "markdown",
   "metadata": {},
   "source": [
    "Use the following genetic code to translate DNA sequence into an protein sequence\n",
    "\n",
    "\n"
   ]
  },
  {
   "cell_type": "code",
   "execution_count": null,
   "metadata": {
    "collapsed": false
   },
   "outputs": [],
   "source": [
    "gencode = { 'ATA':'I',\n",
    "    'ATC':'I', 'ATT':'I', 'ATG':'M', 'ACA':'T', 'ACC':'T', 'ACG':'T',\n",
    "    'ACT':'T', 'AAC':'N', 'AAT':'N', 'AAA':'K', 'AAG':'K', 'AGC':'S',\n",
    "    'AGT':'S', 'AGA':'R', 'AGG':'R', 'CTA':'L', 'CTC':'L', 'CTG':'L',\n",
    "    'CTT':'L', 'CCA':'P', 'CCC':'P', 'CCG':'P', 'CCT':'P', 'CAC':'H',\n",
    "    'CAT':'H', 'CAA':'Q', 'CAG':'Q', 'CGA':'R', 'CGC':'R', 'CGG':'R',\n",
    "    'CGT':'R', 'GTA':'V', 'GTC':'V', 'GTG':'V', 'GTT':'V', 'GCA':'A',\n",
    "    'GCC':'A', 'GCG':'A', 'GCT':'A', 'GAC':'D', 'GAT':'D', 'GAA':'E',\n",
    "    'GAG':'E', 'GGA':'G', 'GGC':'G', 'GGG':'G', 'GGT':'G', 'TCA':'S',\n",
    "    'TCC':'S', 'TCG':'S', 'TCT':'S', 'TTC':'F', 'TTT':'F', 'TTA':'L',\n",
    "    'TTG':'L', 'TAC':'Y', 'TAT':'Y', 'TAA':'*', 'TAG':'*', 'TGC':'C',\n",
    "    'TGT':'C', 'TGA':'*', 'TGG':'W', }\n",
    "DNA_seq = \"\"\"ATGTGTATATACCTAACTGAAGAAAGGAGGATTTCTCACATGTTTCCAAAATCACCCAACAGGCAAATGTATCCGCAGCCAGGGCAGCAACCTTATACACCATATCCAATTCCACAACTACCACCGATGGCACAAAAAA \"\"\"\n",
    "pep_seq = []\n"
   ]
  },
  {
   "cell_type": "code",
   "execution_count": null,
   "metadata": {
    "collapsed": false
   },
   "outputs": [],
   "source": []
  },
  {
   "cell_type": "markdown",
   "metadata": {},
   "source": [
    "<br><br><br>"
   ]
  },
  {
   "cell_type": "markdown",
   "metadata": {},
   "source": [
    "<img src=\"../pix/FinishFlag.jpg\">\n",
    "<br><br><br>"
   ]
  },
  {
   "cell_type": "code",
   "execution_count": null,
   "metadata": {
    "collapsed": false
   },
   "outputs": [],
   "source": [
    "from IPython.core.display import HTML\n",
    "\n",
    "\n",
    "def css_styling():\n",
    "    styles = open(\"../styles/custom.css\", \"r\").read()\n",
    "    return HTML(styles)\n",
    "css_styling()"
   ]
  }
 ],
 "metadata": {
  "kernelspec": {
   "display_name": "Python 2",
   "language": "python",
   "name": "python2"
  },
  "language_info": {
   "codemirror_mode": {
    "name": "ipython",
    "version": 2
   },
   "file_extension": ".py",
   "mimetype": "text/x-python",
   "name": "python",
   "nbconvert_exporter": "python",
   "pygments_lexer": "ipython2",
   "version": "2.7.10"
  }
 },
 "nbformat": 4,
 "nbformat_minor": 0
}
