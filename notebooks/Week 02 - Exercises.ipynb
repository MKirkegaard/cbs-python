{
 "metadata": {
  "name": "",
  "signature": "sha256:1043781802dc82ca1b918fa95c45802db1a1a3f97b9716b18ead622e4c454ce3"
 },
 "nbformat": 3,
 "nbformat_minor": 0,
 "worksheets": [
  {
   "cells": [
    {
     "cell_type": "markdown",
     "metadata": {},
     "source": [
      "# Week 02 - Exercises"
     ]
    },
    {
     "cell_type": "markdown",
     "metadata": {},
     "source": [
      "<q>1. Assignments and operations</q>\n",
      "\n",
      "<qq>What is the difference between + and +=?</qq>\n"
     ]
    },
    {
     "cell_type": "code",
     "collapsed": false,
     "input": [
      "A = 1\n",
      "B = 4\n",
      "\n",
      "A + B\n",
      "A += B"
     ],
     "language": "python",
     "metadata": {},
     "outputs": []
    },
    {
     "cell_type": "raw",
     "metadata": {},
     "source": [
      "Answer: "
     ]
    },
    {
     "cell_type": "markdown",
     "metadata": {},
     "source": [
      "<q>2. Get comfortable with the new data structures</q>\n",
      "\n",
      "<qq>[Lists] Add comments (use #) to the script below describing what happens in each line</qq>"
     ]
    },
    {
     "cell_type": "code",
     "collapsed": false,
     "input": [
      "L = [1,2,3] + [4,5,6]\n",
      "L.reverse()\n",
      "print L\n",
      "L.sort()\n",
      "print L\n",
      "idx = L.index(4)\n",
      "print idx"
     ],
     "language": "python",
     "metadata": {},
     "outputs": []
    },
    {
     "cell_type": "markdown",
     "metadata": {},
     "source": [
      "<qq> What is the difference between ```list.remove()```, ```list.pop()``` and ```del(list)```? Try them out and add comments:</qq>"
     ]
    },
    {
     "cell_type": "code",
     "collapsed": false,
     "input": [
      "myList = [0,1,5,3,4,5,6,7,8,9,10]"
     ],
     "language": "python",
     "metadata": {},
     "outputs": []
    },
    {
     "cell_type": "markdown",
     "metadata": {},
     "source": [
      "<qq>[Dictionaries] Make a **list** of **dictionaries** of your top-3 favorite movies with the following structure:</qq>\n",
      "\n",
      "<ol>\n",
      "    <li>[0]</li>\n",
      "    <ul>\n",
      "        <li>\"Title\" : \"\"The Holy Grail\"</li>\n",
      "        <li>\"Genre\" : \"Comedy\"</li>\n",
      "        <li>\"Year\" : 1975</li>\n",
      "        <li>\"Length\" : 91</li>\n",
      "        <li>\"Directors\" : [\"Terry Gilliam\", \"Terry Jones\"]</li>\n",
      "        <li>\"Stars\" : [\"Graham Chapman\", \"John Cleese\", \"Eric Idle\"]</li>\n",
      "    </ul>\n",
      "    <li>[1]</li>\n",
      "    ...\n",
      "</ol>"
     ]
    },
    {
     "cell_type": "code",
     "collapsed": false,
     "input": [
      "movies = [] # finish this code"
     ],
     "language": "python",
     "metadata": {},
     "outputs": []
    },
    {
     "cell_type": "markdown",
     "metadata": {},
     "source": [
      "<qq>Go through each of the three movies and print the title, year and genre *using only two lines of code*.</qq>"
     ]
    },
    {
     "cell_type": "code",
     "collapsed": false,
     "input": [],
     "language": "python",
     "metadata": {},
     "outputs": []
    },
    {
     "cell_type": "markdown",
     "metadata": {},
     "source": [
      "The output should look something like this:"
     ]
    },
    {
     "cell_type": "raw",
     "metadata": {},
     "source": [
      "The Holy Grail, 1975, Comedy\n",
      "The Life of Brian, 1979, Comedy\n",
      "The Meaning of Life, 1983, Comedy"
     ]
    },
    {
     "cell_type": "markdown",
     "metadata": {},
     "source": [
      "<q>3. Slice and dice</q>\n",
      "In Python we used the index to access an item of a collection. Python can also access a range of items of collections using slicing. \n",
      "\n",
      "Instead of \n",
      "\n",
      "    collection[5]\n",
      "\n",
      "to access the 6'th element, we can use\n",
      "\n",
      "    collection[3:5]\n",
      "\n",
      "\n",
      "to access the 4'th and 5'th item of a sequence. The following figure shows how the slicing index is translated into ranges:\n",
      "\n",
      "\n",
      "<center>\n",
      "<img src=\"http://infohost.nmt.edu/tcc/help/pubs/python/web/fig/slicing.png\" width=\"250px\" />\n",
      "</center>\n",
      "\n",
      "In this exercise we try it out. Use this table for assistance:\n",
      "<center>\n",
      "<table>\n",
      "    <tr><td><b>Expression</b></td><td><b>Returns</b></td></tr>\n",
      "    <tr><td>seq[i:j]</td><td>Elements of *seq* from *i* to, but not including *j*</td></tr>\n",
      "    <tr><td>seq[i:]</td><td>Elements of *seq* from *i* through the end of the sequence</td></tr>\n",
      "    <tr><td>seq[:j]</td><td>Elements of *seq* from the first up to, but not including *j*</td></tr>\n",
      "    <tr><td>seq[:-1]</td><td>Elements of *seq* from the first up to, but not including the last</td></tr>\n",
      "    <tr><td>seq[:]</td><td>All the elements of *seq* - i.e. a copy of *seq*</td></tr>\n",
      "    <tr><td>seq[i:j:k]</td><td>Every k<sup>th</sup> element of *seq*, from i up to, but not including *j*</td></tr>\n",
      "</table>\n",
      "</center>\n",
      "\n",
      "We have a protein sequence: "
     ]
    },
    {
     "cell_type": "code",
     "collapsed": false,
     "input": [
      "prot_seq = \"MKWVTFISLLFLFSSAYSRGVFRRDAHKSEVAHRFKDLGEENFKALVLIAFA\""
     ],
     "language": "python",
     "metadata": {},
     "outputs": []
    },
    {
     "cell_type": "markdown",
     "metadata": {},
     "source": [
      "<qq>Obtain the signal peptide sequence of ```prot_seq```, which is the first 18 amino acids</qq>"
     ]
    },
    {
     "cell_type": "code",
     "collapsed": false,
     "input": [],
     "language": "python",
     "metadata": {},
     "outputs": []
    },
    {
     "cell_type": "heading",
     "level": 3,
     "metadata": {},
     "source": [
      "<qq>Obtain the middle part of the protein from amino acid position 22 to 36</qq>"
     ]
    },
    {
     "cell_type": "code",
     "collapsed": false,
     "input": [],
     "language": "python",
     "metadata": {},
     "outputs": []
    },
    {
     "cell_type": "markdown",
     "metadata": {},
     "source": [
      "<qq>Obtain the last 12 amino acids using two different methods of slicing </qq>"
     ]
    },
    {
     "cell_type": "code",
     "collapsed": false,
     "input": [],
     "language": "python",
     "metadata": {},
     "outputs": []
    },
    {
     "cell_type": "code",
     "collapsed": false,
     "input": [],
     "language": "python",
     "metadata": {},
     "outputs": []
    },
    {
     "cell_type": "markdown",
     "metadata": {},
     "source": [
      "<qq>Obtain every second amino acid of the protein sequence using slicing</qq>"
     ]
    },
    {
     "cell_type": "code",
     "collapsed": false,
     "input": [],
     "language": "python",
     "metadata": {},
     "outputs": []
    },
    {
     "cell_type": "markdown",
     "metadata": {},
     "source": [
      "<qq>Reverse the sequence using slicing</qq>\n",
      "**Hint:** *Set the step to $k=-1$*"
     ]
    },
    {
     "cell_type": "code",
     "collapsed": false,
     "input": [],
     "language": "python",
     "metadata": {},
     "outputs": []
    },
    {
     "cell_type": "markdown",
     "metadata": {},
     "source": [
      "<q>4. Playing with strings</q>"
     ]
    },
    {
     "cell_type": "markdown",
     "metadata": {},
     "source": [
      "Strings has alot of built in functions. In this exercise we will explore some of the most common features. "
     ]
    },
    {
     "cell_type": "code",
     "collapsed": false,
     "input": [
      "signal_peptide = \"maskatllclaftllfatcia\""
     ],
     "language": "python",
     "metadata": {},
     "outputs": []
    },
    {
     "cell_type": "markdown",
     "metadata": {},
     "source": [
      "A list of functions associated with the string *signal_peptide* can be found by writing signal_peptide followed by a dot (.) and then hitting the <kbd>Tab</kbd> key to ask for auto-complete suggestions."
     ]
    },
    {
     "cell_type": "markdown",
     "metadata": {},
     "source": [
      "    signal_peptide.<hit-tab>"
     ]
    },
    {
     "cell_type": "markdown",
     "metadata": {},
     "source": [
      "Another way is to use the dir() function around signal_peptide:\n",
      "\n",
      "    dir(signal_peptide)\n",
      "\n",
      "Use either of these methods to find the suited functions for the following questions: "
     ]
    },
    {
     "cell_type": "markdown",
     "metadata": {},
     "source": [
      "<qq>Obtain a uppercase version of ```signal_peptide```</qq>"
     ]
    },
    {
     "cell_type": "code",
     "collapsed": false,
     "input": [],
     "language": "python",
     "metadata": {},
     "outputs": []
    },
    {
     "cell_type": "markdown",
     "metadata": {},
     "source": [
      "<qq>Obtain the amino acid position of the first occurrance of Cysteine</qq>"
     ]
    },
    {
     "cell_type": "code",
     "collapsed": false,
     "input": [],
     "language": "python",
     "metadata": {},
     "outputs": []
    },
    {
     "cell_type": "markdown",
     "metadata": {},
     "source": [
      "<qq>Print a deriving sequence where the part *\"laftl\"* is replaced with *\"alftlg\"*"
     ]
    },
    {
     "cell_type": "code",
     "collapsed": false,
     "input": [],
     "language": "python",
     "metadata": {},
     "outputs": []
    },
    {
     "cell_type": "markdown",
     "metadata": {},
     "source": [
      "<qq>Find the GC content in the following sequence</qq>"
     ]
    },
    {
     "cell_type": "code",
     "collapsed": false,
     "input": [
      "dna_sequence = \"TGCGTAGACGTGAGTAAAATGCATAAATAACTAGGCG\""
     ],
     "language": "python",
     "metadata": {},
     "outputs": []
    },
    {
     "cell_type": "markdown",
     "metadata": {},
     "source": [
      "**hint:** <i>Use len(dna_sequence) to get the length of the sequence</i>"
     ]
    },
    {
     "cell_type": "code",
     "collapsed": false,
     "input": [],
     "language": "python",
     "metadata": {},
     "outputs": []
    },
    {
     "cell_type": "markdown",
     "metadata": {},
     "source": [
      "<q>5. Membership testing and sequence validation</q>\n",
      "In Python you can use list comprehensions to create a list B from a list A:\n",
      "    \n",
      "    B = [expression for item in list]\n",
      "    B = [x^2 for x in A]\n",
      "\n",
      "The last bit\n",
      "    \n",
      "    item in list\n",
      "\n",
      "can also be used to test for the membership of the value x in a list. For instance:\n"
     ]
    },
    {
     "cell_type": "code",
     "collapsed": false,
     "input": [
      "2 in [1,2,3,4]"
     ],
     "language": "python",
     "metadata": {},
     "outputs": []
    },
    {
     "cell_type": "markdown",
     "metadata": {},
     "source": [
      "will return True if the number 2 is found in the list. Here is another example using membership testing for base validation:"
     ]
    },
    {
     "cell_type": "code",
     "collapsed": false,
     "input": [
      "valid_base = \"UCAG\"\n",
      "print \"C\" in valid_base\n",
      "print \"G\" in valid_base\n",
      "print \"A\" in valid_base\n",
      "print \"T\" in valid_base"
     ],
     "language": "python",
     "metadata": {},
     "outputs": [
      {
       "output_type": "stream",
       "stream": "stdout",
       "text": [
        "True\n",
        "True\n",
        "True\n",
        "False\n"
       ]
      }
     ],
     "prompt_number": 21
    },
    {
     "cell_type": "markdown",
     "metadata": {},
     "source": [
      "<qq>Make a program that validates base sequences of RNA using a list comprehension. (Advanced)</qq>\n",
      "\n",
      "Combine list comprehensions\n",
      "\n",
      "    [expression for item in collection]\n",
      "\n",
      "and membership testing\n",
      "\n",
      "    value in collection\n",
      "\n",
      "to validate that these two sequences are RNA:"
     ]
    },
    {
     "cell_type": "code",
     "collapsed": false,
     "input": [
      "base_seqA = \"ACGAGCUG\"\n",
      "base_seqB = \"ACTGTCGA\"\n",
      "\n",
      "# put your code into the brackets below:\n",
      "\n",
      "print all ( [] ) \n",
      "print all ( [] ) \n",
      "\n",
      "print all ([(x in valid_base) for x in base_seqA])"
     ],
     "language": "python",
     "metadata": {},
     "outputs": [
      {
       "output_type": "stream",
       "stream": "stdout",
       "text": [
        "True\n",
        "True\n",
        "True\n"
       ]
      }
     ],
     "prompt_number": 24
    },
    {
     "cell_type": "markdown",
     "metadata": {},
     "source": [
      "**Note:** *The function*\n",
      "\n",
      "    all(list)\n",
      "\n",
      "*will return True if all items in the list is true*:"
     ]
    },
    {
     "cell_type": "code",
     "collapsed": false,
     "input": [
      "print all( [True, True, True] )\n",
      "print all( [True, True, False] )"
     ],
     "language": "python",
     "metadata": {},
     "outputs": []
    },
    {
     "cell_type": "markdown",
     "metadata": {},
     "source": [
      "<q>6. Advanced: Reverse Compliment, Molecular Weight and Translation </q>\n",
      "A dictionary of the complement nucleotides:"
     ]
    },
    {
     "cell_type": "code",
     "collapsed": false,
     "input": [
      "cmpl = {\"A\": \"T\", \"C\": \"G\", \"G\": \"C\", \"T\": \"A\"}"
     ],
     "language": "python",
     "metadata": {},
     "outputs": []
    },
    {
     "cell_type": "markdown",
     "metadata": {},
     "source": [
      "<qq>Use the dictionary above to print the reverse complement sequence of ```dna_sequence```</qq>"
     ]
    },
    {
     "cell_type": "markdown",
     "metadata": {},
     "source": [
      "**Hint:** *use the \"\".join( ) function to concatenate a list into a string. Here is how it works:*"
     ]
    },
    {
     "cell_type": "code",
     "collapsed": false,
     "input": [
      "\"\".join( [ \"a\", \"b\", \"c\", \"d\" ] )"
     ],
     "language": "python",
     "metadata": {},
     "outputs": []
    },
    {
     "cell_type": "code",
     "collapsed": false,
     "input": [
      "# Finish the command below\n",
      "print dna_sequence\n",
      "\"\".join ( [] ) "
     ],
     "language": "python",
     "metadata": {},
     "outputs": []
    },
    {
     "cell_type": "markdown",
     "metadata": {},
     "source": [
      "Use a dictionary and list comprehension to calculate the molecular weight of dna_sequence (hint use the <i>sum</i> function)"
     ]
    },
    {
     "cell_type": "code",
     "collapsed": false,
     "input": [
      "A = 313.21\n",
      "T = 304.2\n",
      "C = 289.18\n",
      "G = 329.21\n",
      "dna_sequence = \"TGCGTAGACGTGAGTAAAATGCATAAATAACTAGGCG\"\n",
      "# mol_weight_in_dalton = "
     ],
     "language": "python",
     "metadata": {},
     "outputs": []
    },
    {
     "cell_type": "markdown",
     "metadata": {},
     "source": [
      "Use the following genetic code to translate DNA sequence into an protein sequence\n",
      "\n",
      "\n"
     ]
    },
    {
     "cell_type": "code",
     "collapsed": false,
     "input": [
      "gencode = { 'ATA':'I',\n",
      "    'ATC':'I', 'ATT':'I', 'ATG':'M', 'ACA':'T', 'ACC':'T', 'ACG':'T',\n",
      "    'ACT':'T', 'AAC':'N', 'AAT':'N', 'AAA':'K', 'AAG':'K', 'AGC':'S',\n",
      "    'AGT':'S', 'AGA':'R', 'AGG':'R', 'CTA':'L', 'CTC':'L', 'CTG':'L',\n",
      "    'CTT':'L', 'CCA':'P', 'CCC':'P', 'CCG':'P', 'CCT':'P', 'CAC':'H',\n",
      "    'CAT':'H', 'CAA':'Q', 'CAG':'Q', 'CGA':'R', 'CGC':'R', 'CGG':'R',\n",
      "    'CGT':'R', 'GTA':'V', 'GTC':'V', 'GTG':'V', 'GTT':'V', 'GCA':'A',\n",
      "    'GCC':'A', 'GCG':'A', 'GCT':'A', 'GAC':'D', 'GAT':'D', 'GAA':'E',\n",
      "    'GAG':'E', 'GGA':'G', 'GGC':'G', 'GGG':'G', 'GGT':'G', 'TCA':'S',\n",
      "    'TCC':'S', 'TCG':'S', 'TCT':'S', 'TTC':'F', 'TTT':'F', 'TTA':'L',\n",
      "    'TTG':'L', 'TAC':'Y', 'TAT':'Y', 'TAA':'*', 'TAG':'*', 'TGC':'C',\n",
      "    'TGT':'C', 'TGA':'*', 'TGG':'W', }\n",
      "DNA_seq = \"\"\"ATGTGTATATACCTAACTGAAGAAAGGAGGATTTCTCACATGTTTCCAAAATCACCCAACAGGCAAATGTATCCGCAGCCAGGGCAGCAACCTTATACACCATATCCAATTCCACAACTACCACCGATGGCACAAAAAA \"\"\"\n",
      "pep_seq = []\n",
      "for i in range(0, len(DNA_seq),3):\n",
      "    pep_seq.append(gencode.get(DNA_seq[i:i+3], ''))\n",
      "    \n",
      "print pep_seq\n",
      "print ''.join(pep_seq)\n",
      "\n",
      "print ''.join([gencode.get(DNA_seq[i:i+3],'') for i in range(0, len(DNA_seq),3)])"
     ],
     "language": "python",
     "metadata": {},
     "outputs": [
      {
       "output_type": "stream",
       "stream": "stdout",
       "text": [
        "['M', 'C', 'I', 'Y', 'L', 'T', 'E', 'E', 'R', 'R', 'I', 'S', 'H', 'M', 'F', 'P', 'K', 'S', 'P', 'N', 'R', 'Q', 'M', 'Y', 'P', 'Q', 'P', 'G', 'Q', 'Q', 'P', 'Y', 'T', 'P', 'Y', 'P', 'I', 'P', 'Q', 'L', 'P', 'P', 'M', 'A', 'Q', 'K', '']\n",
        "MCIYLTEERRISHMFPKSPNRQMYPQPGQQPYTPYPIPQLPPMAQK\n",
        "MCIYLTEERRISHMFPKSPNRQMYPQPGQQPYTPYPIPQLPPMAQK\n"
       ]
      }
     ],
     "prompt_number": 18
    },
    {
     "cell_type": "code",
     "collapsed": false,
     "input": [],
     "language": "python",
     "metadata": {},
     "outputs": []
    },
    {
     "cell_type": "markdown",
     "metadata": {},
     "source": [
      "<br><br><br>"
     ]
    },
    {
     "cell_type": "markdown",
     "metadata": {},
     "source": [
      "<img src=\"../pix/FinishFlag.jpg\">\n",
      "<br><br><br>"
     ]
    },
    {
     "cell_type": "code",
     "collapsed": false,
     "input": [
      "from IPython.core.display import HTML\n",
      "\n",
      "\n",
      "def css_styling():\n",
      "    styles = open(\"../styles/custom.css\", \"r\").read()\n",
      "    return HTML(styles)\n",
      "css_styling()"
     ],
     "language": "python",
     "metadata": {},
     "outputs": [
      {
       "html": [
        "<style>\n",
        "    div.cell{\n",
        "        width:800px;\n",
        "        margin-left:16% !important;\n",
        "        margin-right:auto;\n",
        "    }\n",
        "    div.text_cell_render{\n",
        "        font-family: \"Helvetica Neue\", Arial, Helvetica, Geneva, sans-serif;\n",
        "        line-height: 145%;\n",
        "        font-size: 100%;\n",
        "        width:800px;\n",
        "        margin-left:auto;\n",
        "        margin-right:auto;\n",
        "    }\n",
        "    .CodeMirror{\n",
        "            font-family: \"Source Code Pro\", source-code-pro,Consolas, monospace;\n",
        "    }\n",
        "    div.CodeMirror{\n",
        "    \tfont-size: 11pt;\n",
        "    }\n",
        "    div.cell.border-box-sizing.code_cell{\n",
        "    \tpadding-left: 50px;\n",
        "    }\n",
        "    div.text_cell_input {\n",
        "    \tmargin-left: 50px;\n",
        "    }\n",
        "    .prompt{\n",
        "        display: None;\n",
        "    }\n",
        "    .text_cell_render h1 {\n",
        "        font-family: Helvetica, serif;\n",
        "        font-size: 30pt;\n",
        "        color: #274257;\n",
        "        text-transform: uppercase;\n",
        "        line-height: 100%;\n",
        "    }\n",
        "    .text_cell_render h2 {\n",
        "    \tmargin-top: 35px;\n",
        "        font-family: Helvetica, serif;\n",
        "        font-size: 24pt;\n",
        "        color: #2A75A9;\n",
        "        line-height: 100%;\n",
        "    }\n",
        "    .text_cell_render h3{\n",
        "    \tmargin-top: 35px;\n",
        "        font-family: Helvetica, serif;\n",
        "        font-size: 18pt;\n",
        "        color: #7EB5D6;\n",
        "        line-height: 100%;\n",
        "       }\n",
        "    .text_cell_render h4{\n",
        "    \tmargin-top: 35px;\n",
        "    \tfont-family: Helvetica, serif;\n",
        "        font-size: 14pt;\n",
        "        line-height: 100%;\n",
        "    }\n",
        "    .text_cell_render h5 {\n",
        "        font-weight: 300;\n",
        "        font-size: 22pt;\n",
        "        color: #4057A1;\n",
        "        font-style: italic;\n",
        "        margin-bottom: .5em;\n",
        "        margin-top: 0.5em;\n",
        "        display: block;\n",
        "        line-height: 100%;\n",
        "    }\n",
        "    \n",
        "    .warning{\n",
        "        color: rgb( 240, 20, 20 )\n",
        "        } \n",
        "    .wds {\n",
        "        background: none repeat scroll 0% 0% rgb(247, 247, 247);\n",
        "        padding: 0em 0em;\n",
        "        font-size: 11px;\n",
        "        font-family: Arial,Helvetica,sans-serif;\n",
        "        display: inline-block;\n",
        "        margin: 0px 0em;\n",
        "        white-space: nowrap;\n",
        "    }\n",
        "    cb {\n",
        "        background: none repeat scroll 0% 0% rgb(247, 247, 247);\n",
        "        padding: 0.1em 0.6em;\n",
        "        border: 1px solid rgb(204, 204, 204);\n",
        "        font-size: 11pt;\n",
        "        font-family: \"Source Code Pro\", source-code-pro,Consolas, monospace;\n",
        "        color: rgb(51, 51, 51);\n",
        "        box-shadow: 0px 1px 0px rgba(0, 0, 0, 0.2), 0px 0px 0px 2px rgb(255, 255, 255) inset;\n",
        "        border-radius: 3px 3px 3px 3px;\n",
        "        display: inline-block;\n",
        "        margin: 0px 0.1em;\n",
        "        line-height: 1.4;\n",
        "        white-space: nowrap;\n",
        "    }\n",
        "    q {\t\n",
        "        font-weight: 300;\n",
        "        font-size: 14pt;\n",
        "        color: #4057A1;\n",
        "        margin-bottom: .5em;\n",
        "        margin-top: 0.5em;\n",
        "        display: block;\n",
        "        font-family: \"Helvetica Neue\", Arial, Helvetica, Geneva, sans-serif;\n",
        "        line-height: 145%;\n",
        "        width:800px;\n",
        "        margin-left:auto;\n",
        "        margin-right:auto;\n",
        "    }\n",
        "    qq {\t\n",
        "        font-weight: 300;\n",
        "        font-size: 11pt;\n",
        "        color: #4057A1;\n",
        "        margin-bottom: .5em;\n",
        "        margin-top: 0.5em;\n",
        "        display: block;\n",
        "        font-family: \"Helvetica Neue\", Arial, Helvetica, Geneva, sans-serif;\n",
        "        line-height: 145%;\n",
        "        width:800px;\n",
        "        margin-left:auto;\n",
        "        margin-right:auto;\n",
        "    }\n",
        "    kbd {\n",
        "        background: none repeat scroll 0% 0% rgb(247, 247, 247);\n",
        "        padding: 0.1em 0.6em;\n",
        "        border: 1px solid rgb(204, 204, 204);\n",
        "        font-size: 11px;\n",
        "        font-family: Arial,Helvetica,sans-serif;\n",
        "        color: rgb(51, 51, 51);\n",
        "        box-shadow: 0px 1px 0px rgba(0, 0, 0, 0.2), 0px 0px 0px 2px rgb(255, 255, 255) inset;\n",
        "        border-radius: 3px 3px 3px 3px;\n",
        "        display: inline-block;\n",
        "        margin: 0px 0.1em;\n",
        "        text-shadow: 0px 1px 0px rgb(255, 255, 255);\n",
        "        line-height: 1.4;\n",
        "        white-space: nowrap;\n",
        "    }\n",
        "    ol {\n",
        "        list-style-type: decimal;\n",
        "    }\n",
        "\n",
        "\t.box_rotate {\n",
        "\t\t  -webkit-transform: rotate(270deg);  /* Chrome, Safari 3.1+ */\n",
        "\t\t     -moz-transform: rotate(270deg);  /* Firefox 3.5-15 */\n",
        "\t\t      -ms-transform: rotate(270deg);  /* IE 9 */\n",
        "\t\t       -o-transform: rotate(270deg);  /* Opera 10.50-12.00 */\n",
        "\t\t          transform: rotate(270deg);  /* Firefox 16+, IE 10+, Opera 12.10+ */\n",
        "\t}\n",
        "\n",
        "\t.vertical-text {\n",
        "\t\tdisplay: inline-block;\n",
        "\t\toverflow: hidden;\n",
        "\t\twidth: 1.5em;\n",
        "\t}\n",
        "\n",
        "\t.vertical-text__inner {\n",
        "\t\tdisplay: inline-block;\n",
        "\t\twhite-space: nowrap;\n",
        "\t\tline-height: 1.5;\n",
        "\t\t  -webkit-transform: rotate(270deg);  /* Chrome, Safari 3.1+ */\n",
        "\t\t     -moz-transform: rotate(270deg);  /* Firefox 3.5-15 */\n",
        "\t\t      -ms-transform: rotate(270deg);  /* IE 9 */\n",
        "\t\t       -o-transform: rotate(270deg);  /* Opera 10.50-12.00 */\n",
        "\t\t          transform: rotate(270deg);  /* Firefox 16+, IE 10+, Opera 12.10+ */\n",
        "\t}\n",
        "\n",
        "\t.vertical-text__inner:after {\n",
        "\t\tcontent: \"\";\n",
        "\t\tdisplay: block;\n",
        "\t\tmargin: -1.5em 0 100%;\n",
        "\t}\n",
        "\n",
        "\t.topics{\n",
        "\t\tbackground: url('files/images/topics.png') no-repeat scroll 0% 0%; \n",
        "\t\twidth: 520px; \n",
        "\t\theight: 250px; \n",
        "\n",
        "\t\tpadding-top: 35px;\n",
        "\t}\n",
        "\n",
        "\t.c_program{\n",
        "\t\tbackground: url('files/images/program.png') no-repeat scroll 0% 0%; width: 520px; margin-left: auto; margin-right: auto;\n",
        "\t}\n",
        "\n",
        "\t.c_require{\n",
        "\t\tbackground: url('files/images/software.png') no-repeat scroll 0% 0%; width: 520px; height: 250px; margin-left: auto; margin-right: auto;\n",
        "\t}\n",
        "\n",
        "</style>\n",
        "<script>\n",
        "    MathJax.Hub.Config({\n",
        "                        TeX: {\n",
        "                           extensions: [\"AMSmath.js\"]\n",
        "                           },\n",
        "                tex2jax: {\n",
        "                    inlineMath: [ ['$','$'], [\"\\\\(\",\"\\\\)\"] ],\n",
        "                    displayMath: [ ['$$','$$'], [\"\\\\[\",\"\\\\]\"] ]\n",
        "                },\n",
        "                displayAlign: 'center', // Change this to 'center' to center equations.\n",
        "                \"HTML-CSS\": {\n",
        "                    styles: {'.MathJax_Display': {\"margin\": 4}}\n",
        "                }\n",
        "        });\n",
        "</script>\n"
       ],
       "metadata": {},
       "output_type": "pyout",
       "prompt_number": 5,
       "text": [
        "<IPython.core.display.HTML at 0x11200aa90>"
       ]
      }
     ],
     "prompt_number": 5
    }
   ],
   "metadata": {}
  }
 ]
}