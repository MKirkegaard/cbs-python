{
 "metadata": {
  "name": "",
  "signature": "sha256:ffa2dd0226c3b88870cee88b31d2e8cd29fee4a0b4742c55c2549d94dc8abcc6"
 },
 "nbformat": 3,
 "nbformat_minor": 0,
 "worksheets": [
  {
   "cells": [
    {
     "cell_type": "markdown",
     "metadata": {},
     "source": [
      "# Week 07 - Exercises"
     ]
    },
    {
     "cell_type": "markdown",
     "metadata": {},
     "source": [
      "### A simple Genome class for reading and handling NCBI ptt files\n",
      "In this exercise we will create a Genome and a Gene class that can read information from NCBI Protein Table file.\n",
      "\n",
      "<br>The format is like following:\n",
      "<code style=\"white-space: pre\">\n",
      "Dickeya dadantii 3937 chromosome, complete genome - 1..4922802\n",
      "4549 proteins\n",
      "Location        Strand  Length  PID     Gene    Synonym Code    COG     Product\n",
      "32..475 -       147     307128765       mioC    Dda3937_00155   -       COG0716C        FMN-binding protein MioC\n",
      "567..1031       -       154     307128766       asnC    Dda3937_00156   -       COG1522K        DNA-binding transcriptional dual regulator\n",
      "1178..2653      -       491     307128767       viaA    Dda3937_00157   -       COG2425R        von Willebrand factor A\n",
      "2659..4155      -       498     307128768       ravA    Dda3937_00158   -       COG0714R        ATPase AAA\n",
      "</code>\n",
      "\n",
      "<br><br>"
     ]
    },
    {
     "cell_type": "markdown",
     "metadata": {},
     "source": [
      "Ultimately after designing and coding the classes, you should be able to run following code\n",
      "        "
     ]
    },
    {
     "cell_type": "code",
     "collapsed": false,
     "input": [
      "# this code won't run (yet)\n",
      "\n",
      "ptt_file1 = '../data/NC_012659.ptt'\n",
      "ptt_file2 = '../data/NC_014500.ptt'\n",
      "\n",
      "genome1 = Genome(ptt_file1)\n",
      "genome2 = Genome(ptt_file2)\n",
      "\n",
      "print genome1, 'has', len(genome1), 'genes'\n",
      "print genome2, 'has', len(genome2), 'genes'\n",
      "print\n",
      "\n",
      "search_string = 'chaperone'\n",
      "\n",
      "for gene in genome1.get_functions(search_string):\n",
      "    print genome1, 'has', gene\n",
      "print\n",
      "\n",
      "for gene in genome2.get_functions(search_string):\n",
      "    print genome2, 'has', gene\n",
      "print\n",
      "\n",
      "common_genes = genome1.get_common_gene_names(genome2)\n",
      "print '%s and %s have %d genes in common' % (genome1, genome2, len(common_genes))\n",
      "\n"
     ],
     "language": "python",
     "metadata": {},
     "outputs": []
    },
    {
     "cell_type": "markdown",
     "metadata": {},
     "source": [
      "<code style=\"white-space: pre\">\n",
      "Bacillus anthracis str. A0248 has 5041 genes\n",
      "Dickeya dadantii 3937 chromosome has 4549 genes\n",
      "\n",
      "Bacillus anthracis str. A0248 has csaA - chaperone CsaA\n",
      "Bacillus anthracis str. A0248 has narJ - nitrate reductase molybdenum cofactor assembly chaperone\n",
      "Bacillus anthracis str. A0248 has hscC - chaperone protein hscC\n",
      "Bacillus anthracis str. A0248 has dnaJ - chaperone protein DnaJ\n",
      "Bacillus anthracis str. A0248 has dnaK - molecular chaperone DnaK\n",
      "\n",
      "Dickeya dadantii 3937 chromosome has ibpA - heat shock chaperone\n",
      "Dickeya dadantii 3937 chromosome has ibpB - heat shock chaperone\n",
      "Dickeya dadantii 3937 chromosome has hslU - molecular chaperone and ATPase of HslUV protease\n",
      "Dickeya dadantii 3937 chromosome has hlpA - periplasmic chaperone\n",
      "Dickeya dadantii 3937 chromosome has htpG - molecular chaperone HSP90 family\n",
      "Dickeya dadantii 3937 chromosome has clpA - ATPase and specificity subunit of ClpA-ClpP ATP-dependent serine protease, chaperone activity\n",
      "Dickeya dadantii 3937 chromosome has lolA - chaperone for lipoproteins\n",
      "Dickeya dadantii 3937 chromosome has lolB - chaperone for lipoproteins\n",
      "Dickeya dadantii 3937 chromosome has orfC - HrpW-specific chaperone\n",
      "Dickeya dadantii 3937 chromosome has narJ - molybdenum-cofactor-assembly chaperone subunit (subunit delta) of nitrate reductase 1\n",
      "Dickeya dadantii 3937 chromosome has yegD - chaperone\n",
      "Dickeya dadantii 3937 chromosome has hybE - hydrogenase 2-specific chaperone\n",
      "Dickeya dadantii 3937 chromosome has hscA - chaperone protein hscA\n",
      "Dickeya dadantii 3937 chromosome has hscB - chaperone protein hscB\n",
      "Dickeya dadantii 3937 chromosome has djlA - DnaJ-like membrane chaperone protein\n",
      "Dickeya dadantii 3937 chromosome has dnaJ - chaperone Hsp40, co-chaperone with DnaK\n",
      "Dickeya dadantii 3937 chromosome has dnaK - chaperone protein DnaK\n",
      "Dickeya dadantii 3937 chromosome has hfq - RNA chaperone Hfq\n",
      "Dickeya dadantii 3937 chromosome has secB - protein export chaperone\n",
      "\n",
      "Bacillus anthracis str. A0248 and Dickeya dadantii 3937 chromosome have 535 genes in common\n",
      "<code>"
     ]
    },
    {
     "cell_type": "markdown",
     "metadata": {},
     "source": [
      "### 1) the Gene class\n",
      "Here we have already prepared a simple Gene class which can parse the protein information\n"
     ]
    },
    {
     "cell_type": "code",
     "collapsed": false,
     "input": [
      "class Gene:\n",
      "    def __init__(self, line):\n",
      "        self.parse(line)\n",
      "        \n",
      "    def parse(self, line):\n",
      "        fields = line.strip().split('\\t')\n",
      "        self.strand = fields[1]\n",
      "        self.length = int(fields[2])\n",
      "        self.pid = fields[3]\n",
      "        self.name = fields[4]\n",
      "        if self.name == '-':\n",
      "            self.name = fields[5]\n",
      "        self.annotation = fields[8]\n",
      "\n",
      "    def __str__(self):\n",
      "        return '%s - %s' % (self.name, self.annotation)\n",
      "\n",
      "line = '32..475\t-\t147\t307128765\tmioC\tDda3937_00155\t-\tCOG0716C\tFMN-binding protein MioC'\n",
      "test_gene = Gene(line)\n",
      "print test_gene\n"
     ],
     "language": "python",
     "metadata": {},
     "outputs": []
    },
    {
     "cell_type": "markdown",
     "metadata": {},
     "source": [
      "### 2) the Genome class"
     ]
    },
    {
     "cell_type": "code",
     "collapsed": false,
     "input": [
      "# continue the code for the read_ptt_file method\n",
      "\n",
      "class Genome:\n",
      "    def __init__(self, ptt_file):\n",
      "        self.read_ptt_file(ptt_file)\n",
      "        \n",
      "    def read_ptt_file(self, ptt_file):\n",
      "        # loop over the lines in ptt_file\n",
      "        # set self.organism to the first line (up to the comma)\n",
      "        # ignore second and third line\n",
      "        # for all other lines, create a new Gene with the current line\n",
      "        # and append it to a list of genes\n",
      "        \n"
     ],
     "language": "python",
     "metadata": {},
     "outputs": [],
     "prompt_number": 77
    },
    {
     "cell_type": "code",
     "collapsed": false,
     "input": [
      "# run it like following\n",
      "genome1 = Genome('../data/NC_012659.ptt')\n",
      "print len(genome1.genes)"
     ],
     "language": "python",
     "metadata": {},
     "outputs": []
    },
    {
     "cell_type": "markdown",
     "metadata": {},
     "source": [
      "### 3) overloading `__len__`\n",
      "We want to be able to use the len() function on a Genome object.<br>\n",
      "<code>print len(genome1)</code><br>\n",
      "For this we have to overload the `__len__`\n",
      " method to return the length of self.genes"
     ]
    },
    {
     "cell_type": "code",
     "collapsed": false,
     "input": [
      "# design and add the __len__ method to the class definition\n",
      "\n",
      "# test it with \n",
      "print len(genome1.genes)\n",
      "print len(genome1)"
     ],
     "language": "python",
     "metadata": {},
     "outputs": []
    },
    {
     "cell_type": "markdown",
     "metadata": {},
     "source": [
      "### 4) overloading `__str__`\n",
      "When we write <br><code>print genome1</code><br> we want to the script to print out the organism name (self.organism)"
     ]
    },
    {
     "cell_type": "code",
     "collapsed": false,
     "input": [
      "# design and add the __str__ method to the class definition\n",
      "\n",
      "# test it with\n",
      "print genome1"
     ],
     "language": "python",
     "metadata": {},
     "outputs": []
    },
    {
     "cell_type": "markdown",
     "metadata": {},
     "source": [
      "### 5) quering annotations\n",
      "write the method `get_functions` which will take a string as input and returns all genes which where `self.annotation` has a match <br>\n",
      "(hint: use `self.annotation.find(match_string) > -1`)"
     ]
    },
    {
     "cell_type": "code",
     "collapsed": false,
     "input": [
      "# design and add the method get_functions to the class definition\n",
      "   def get_functions(self, match_text):\n",
      "       XXX"
     ],
     "language": "python",
     "metadata": {},
     "outputs": [],
     "prompt_number": 7
    },
    {
     "cell_type": "code",
     "collapsed": false,
     "input": [
      "# run and test it with following\n",
      "search_string = 'chaperone'\n",
      "    \n",
      "for gene in genome1.get_functions(search_string):\n",
      "    print genome1, 'has', gene"
     ],
     "language": "python",
     "metadata": {},
     "outputs": []
    },
    {
     "cell_type": "markdown",
     "metadata": {},
     "source": [
      "### 6) compare the genes from one Genome to another\n",
      "write the method `get_common_gene_names` which takes another instance of Genome and returns a list of gene names which are common between both genomes."
     ]
    },
    {
     "cell_type": "code",
     "collapsed": false,
     "input": [
      "# design and add the method get_common_gene_names, where `other` is another object Genome\n",
      "   def get_common_gene_names(self, other):\n",
      "        XXX"
     ],
     "language": "python",
     "metadata": {},
     "outputs": []
    },
    {
     "cell_type": "markdown",
     "metadata": {},
     "source": [
      "Test it by running:\n"
     ]
    },
    {
     "cell_type": "code",
     "collapsed": false,
     "input": [
      "common_genes = genome1.get_common_gene_names(genome2)\n",
      "print '%s and %s have %d genes in common' % (genome1, genome2, len(common_genes))\n",
      "    "
     ],
     "language": "python",
     "metadata": {},
     "outputs": []
    },
    {
     "cell_type": "markdown",
     "metadata": {},
     "source": [
      "<br><br><br>"
     ]
    },
    {
     "cell_type": "markdown",
     "metadata": {},
     "source": [
      "We have only touched the surface of what Classes can do in your Python. There are countless ways to use Classes in your life science projects which will hopefully make more sense as you get more experienced with Python. For now, I hope you get a taste of at least one of the ways to use classes. Most modules you will encounter for your project will deal with classes in awesome ways. You will see more of this in week 9 when we will study the BioPython module.\n",
      "<br><br><br>"
     ]
    },
    {
     "cell_type": "code",
     "collapsed": false,
     "input": [
      "from IPython.core.display import HTML\n",
      "\n",
      "\n",
      "def css_styling():\n",
      "    styles = open(\"../styles/custom.css\", \"r\").read()\n",
      "    return HTML(styles)\n",
      "css_styling()"
     ],
     "language": "python",
     "metadata": {},
     "outputs": [
      {
       "html": [
        "<style>\n",
        "    div.cell{\n",
        "        width:800px;\n",
        "        margin-left:16% !important;\n",
        "        margin-right:auto;\n",
        "    }\n",
        "    div.text_cell_render{\n",
        "        font-family: \"Helvetica Neue\", Arial, Helvetica, Geneva, sans-serif;\n",
        "        line-height: 145%;\n",
        "        font-size: 100%;\n",
        "        width:800px;\n",
        "        margin-left:auto;\n",
        "        margin-right:auto;\n",
        "    }\n",
        "    .CodeMirror{\n",
        "            font-family: \"Source Code Pro\", source-code-pro,Consolas, monospace;\n",
        "    }\n",
        "    div.CodeMirror{\n",
        "    \tfont-size: 11pt;\n",
        "    }\n",
        "    div.cell.border-box-sizing.code_cell{\n",
        "    \tpadding-left: 50px;\n",
        "    }\n",
        "    div.text_cell_input {\n",
        "    \tmargin-left: 50px;\n",
        "    }\n",
        "    .prompt{\n",
        "        display: None;\n",
        "    }\n",
        "    .text_cell_render h1 {\n",
        "        font-family: Helvetica, serif;\n",
        "        font-size: 30pt;\n",
        "        color: #274257;\n",
        "        text-transform: uppercase;\n",
        "        line-height: 100%;\n",
        "    }\n",
        "    .text_cell_render h2 {\n",
        "    \tmargin-top: 35px;\n",
        "        font-family: Helvetica, serif;\n",
        "        font-size: 24pt;\n",
        "        color: #2A75A9;\n",
        "        line-height: 100%;\n",
        "    }\n",
        "    .text_cell_render h3{\n",
        "    \tmargin-top: 35px;\n",
        "        font-family: Helvetica, serif;\n",
        "        font-size: 18pt;\n",
        "        color: #7EB5D6;\n",
        "        line-height: 100%;\n",
        "       }\n",
        "    .text_cell_render h4{\n",
        "    \tmargin-top: 35px;\n",
        "    \tfont-family: Helvetica, serif;\n",
        "        font-size: 14pt;\n",
        "        line-height: 100%;\n",
        "    }\n",
        "    .text_cell_render h5 {\n",
        "        font-weight: 300;\n",
        "        font-size: 22pt;\n",
        "        color: #4057A1;\n",
        "        font-style: italic;\n",
        "        margin-bottom: .5em;\n",
        "        margin-top: 0.5em;\n",
        "        display: block;\n",
        "        line-height: 100%;\n",
        "    }\n",
        "    \n",
        "    .warning{\n",
        "        color: rgb( 240, 20, 20 )\n",
        "        } \n",
        "    .wds {\n",
        "        background: none repeat scroll 0% 0% rgb(247, 247, 247);\n",
        "        padding: 0em 0em;\n",
        "        font-size: 11px;\n",
        "        font-family: Arial,Helvetica,sans-serif;\n",
        "        display: inline-block;\n",
        "        margin: 0px 0em;\n",
        "        white-space: nowrap;\n",
        "    }\n",
        "    cb {\n",
        "        background: none repeat scroll 0% 0% rgb(247, 247, 247);\n",
        "        padding: 0.1em 0.6em;\n",
        "        border: 1px solid rgb(204, 204, 204);\n",
        "        font-size: 11pt;\n",
        "        font-family: \"Source Code Pro\", source-code-pro,Consolas, monospace;\n",
        "        color: rgb(51, 51, 51);\n",
        "        box-shadow: 0px 1px 0px rgba(0, 0, 0, 0.2), 0px 0px 0px 2px rgb(255, 255, 255) inset;\n",
        "        border-radius: 3px 3px 3px 3px;\n",
        "        display: inline-block;\n",
        "        margin: 0px 0.1em;\n",
        "        line-height: 1.4;\n",
        "        white-space: nowrap;\n",
        "    }\n",
        "    q {\t\n",
        "        font-weight: 300;\n",
        "        font-size: 14pt;\n",
        "        color: #4057A1;\n",
        "        margin-bottom: .5em;\n",
        "        margin-top: 0.5em;\n",
        "        display: block;\n",
        "        font-family: \"Helvetica Neue\", Arial, Helvetica, Geneva, sans-serif;\n",
        "        line-height: 145%;\n",
        "        width:800px;\n",
        "        margin-left:auto;\n",
        "        margin-right:auto;\n",
        "    }\n",
        "    qq {\t\n",
        "        font-weight: 300;\n",
        "        font-size: 11pt;\n",
        "        color: #4057A1;\n",
        "        margin-bottom: .5em;\n",
        "        margin-top: 0.5em;\n",
        "        display: block;\n",
        "        font-family: \"Helvetica Neue\", Arial, Helvetica, Geneva, sans-serif;\n",
        "        line-height: 145%;\n",
        "        width:800px;\n",
        "        margin-left:auto;\n",
        "        margin-right:auto;\n",
        "    }\n",
        "    kbd {\n",
        "        background: none repeat scroll 0% 0% rgb(247, 247, 247);\n",
        "        padding: 0.1em 0.6em;\n",
        "        border: 1px solid rgb(204, 204, 204);\n",
        "        font-size: 11px;\n",
        "        font-family: Arial,Helvetica,sans-serif;\n",
        "        color: rgb(51, 51, 51);\n",
        "        box-shadow: 0px 1px 0px rgba(0, 0, 0, 0.2), 0px 0px 0px 2px rgb(255, 255, 255) inset;\n",
        "        border-radius: 3px 3px 3px 3px;\n",
        "        display: inline-block;\n",
        "        margin: 0px 0.1em;\n",
        "        text-shadow: 0px 1px 0px rgb(255, 255, 255);\n",
        "        line-height: 1.4;\n",
        "        white-space: nowrap;\n",
        "    }\n",
        "    ol {\n",
        "        list-style-type: decimal;\n",
        "    }\n",
        "\n",
        "\t.box_rotate {\n",
        "\t\t  -webkit-transform: rotate(270deg);  /* Chrome, Safari 3.1+ */\n",
        "\t\t     -moz-transform: rotate(270deg);  /* Firefox 3.5-15 */\n",
        "\t\t      -ms-transform: rotate(270deg);  /* IE 9 */\n",
        "\t\t       -o-transform: rotate(270deg);  /* Opera 10.50-12.00 */\n",
        "\t\t          transform: rotate(270deg);  /* Firefox 16+, IE 10+, Opera 12.10+ */\n",
        "\t}\n",
        "\n",
        "\t.vertical-text {\n",
        "\t\tdisplay: inline-block;\n",
        "\t\toverflow: hidden;\n",
        "\t\twidth: 1.5em;\n",
        "\t}\n",
        "\n",
        "\t.vertical-text__inner {\n",
        "\t\tdisplay: inline-block;\n",
        "\t\twhite-space: nowrap;\n",
        "\t\tline-height: 1.5;\n",
        "\t\t  -webkit-transform: rotate(270deg);  /* Chrome, Safari 3.1+ */\n",
        "\t\t     -moz-transform: rotate(270deg);  /* Firefox 3.5-15 */\n",
        "\t\t      -ms-transform: rotate(270deg);  /* IE 9 */\n",
        "\t\t       -o-transform: rotate(270deg);  /* Opera 10.50-12.00 */\n",
        "\t\t          transform: rotate(270deg);  /* Firefox 16+, IE 10+, Opera 12.10+ */\n",
        "\t}\n",
        "\n",
        "\t.vertical-text__inner:after {\n",
        "\t\tcontent: \"\";\n",
        "\t\tdisplay: block;\n",
        "\t\tmargin: -1.5em 0 100%;\n",
        "\t}\n",
        "\n",
        "\t.topics{\n",
        "\t\tbackground: url('files/images/topics.png') no-repeat scroll 0% 0%; \n",
        "\t\twidth: 520px; \n",
        "\t\theight: 250px; \n",
        "\n",
        "\t\tpadding-top: 35px;\n",
        "\t}\n",
        "\n",
        "\t.c_program{\n",
        "\t\tbackground: url('files/images/program.png') no-repeat scroll 0% 0%; width: 520px; margin-left: auto; margin-right: auto;\n",
        "\t}\n",
        "\n",
        "\t.c_require{\n",
        "\t\tbackground: url('files/images/software.png') no-repeat scroll 0% 0%; width: 520px; height: 250px; margin-left: auto; margin-right: auto;\n",
        "\t}\n",
        "\n",
        "</style>\n",
        "<script>\n",
        "    MathJax.Hub.Config({\n",
        "                        TeX: {\n",
        "                           extensions: [\"AMSmath.js\"]\n",
        "                           },\n",
        "                tex2jax: {\n",
        "                    inlineMath: [ ['$','$'], [\"\\\\(\",\"\\\\)\"] ],\n",
        "                    displayMath: [ ['$$','$$'], [\"\\\\[\",\"\\\\]\"] ]\n",
        "                },\n",
        "                displayAlign: 'center', // Change this to 'center' to center equations.\n",
        "                \"HTML-CSS\": {\n",
        "                    styles: {'.MathJax_Display': {\"margin\": 4}}\n",
        "                }\n",
        "        });\n",
        "</script>\n"
       ],
       "metadata": {},
       "output_type": "pyout",
       "prompt_number": 12,
       "text": [
        "<IPython.core.display.HTML at 0x1057bfb10>"
       ]
      }
     ],
     "prompt_number": 12
    },
    {
     "cell_type": "code",
     "collapsed": false,
     "input": [],
     "language": "python",
     "metadata": {},
     "outputs": []
    }
   ],
   "metadata": {}
  }
 ]
}
