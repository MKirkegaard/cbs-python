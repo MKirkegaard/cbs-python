{
 "metadata": {
  "name": "",
  "signature": "sha256:f09d5dd9261221f6110a1c197973a403e6b00dc28f0eb1413ddf9b97df6d8dca"
 },
 "nbformat": 3,
 "nbformat_minor": 0,
 "worksheets": [
  {
   "cells": [
    {
     "cell_type": "markdown",
     "metadata": {},
     "source": [
      "# Week 06 - Exercises"
     ]
    },
    {
     "cell_type": "markdown",
     "metadata": {},
     "source": [
      "<q>1. Creating a generator to read records from a file </q>\n",
      "\n",
      "In this exercise we will explore the use of generators to read not an entire fasta file at once, but one record at a time using the\n",
      "\n",
      "    yield\n",
      "    \n",
      "statement.\n",
      "\n",
      "First, let's start with the basics.\n",
      "\n",
      "Make a function that generates all subsequently squared numbers of x\n",
      "\n",
      "Here are the instructions:\n",
      "\n",
      "<ol>\n",
      "<li>Use an infinite ```while``` loop</li>\n",
      "<li>Update ```x``` to be ```x**2``` in each iteration</li>\n",
      "<li>Yield ```x```</li>\n",
      "</ol>\n"
     ]
    },
    {
     "cell_type": "code",
     "collapsed": false,
     "input": [
      "def squared(x):\n",
      "    \"\"\" Yields the series of squared numbers, starting with x^2,\n",
      "    square(2), would yield\n",
      "        4\n",
      "        16\n",
      "        256\n",
      "        ...\n",
      "    squared(10), would yield\n",
      "        100\n",
      "        10000\n",
      "        100000000\n",
      "        ...\n",
      "    \"\"\"\n",
      "# finish the fucntion\n",
      "    "
     ],
     "language": "python",
     "metadata": {},
     "outputs": []
    },
    {
     "cell_type": "markdown",
     "metadata": {},
     "source": [
      "Test the function by running the code blocks below:"
     ]
    },
    {
     "cell_type": "code",
     "collapsed": false,
     "input": [
      "square = squared(2)\n",
      "print square.next()\n",
      "print square.next()\n",
      "print square.next()\n",
      "print square.next()\n"
     ],
     "language": "python",
     "metadata": {},
     "outputs": []
    },
    {
     "cell_type": "code",
     "collapsed": false,
     "input": [
      "square = squared(10)\n",
      "print next ( square )\n",
      "print next ( square )\n",
      "print next ( square )\n",
      "print next ( square )"
     ],
     "language": "python",
     "metadata": {},
     "outputs": []
    },
    {
     "cell_type": "markdown",
     "metadata": {},
     "source": [
      "*Reading a single line at a time*.\n",
      "\n",
      "I have already made the function for you. The function ```read_line()``` reads a single line from a file every time it is called."
     ]
    },
    {
     "cell_type": "code",
     "collapsed": false,
     "input": [
      "def read_line(filename):\n",
      "    \"\"\" Yields next line from file \"\"\"\n",
      "    with open(filename) as f:\n",
      "        for line in f:\n",
      "            yield line.rstrip()"
     ],
     "language": "python",
     "metadata": {},
     "outputs": []
    },
    {
     "cell_type": "markdown",
     "metadata": {},
     "source": [
      "When the function ```read_line()``` is called it creates a generator object:"
     ]
    },
    {
     "cell_type": "code",
     "collapsed": false,
     "input": [
      "read_line(\"myfile.txt\")"
     ],
     "language": "python",
     "metadata": {},
     "outputs": []
    },
    {
     "cell_type": "markdown",
     "metadata": {},
     "source": [
      "This object stores information about the original function and the state of function call. (By \"state\" I mean the values of the variables in the function and the location of the code to run next.) This object can be used to pull out lines every time it is called. **Remember, no lines are actually stored in this object.** It will read the line from the file only when the user asks for it!  "
     ]
    },
    {
     "cell_type": "markdown",
     "metadata": {},
     "source": [
      "Lets store our generator in a variable called ```record```"
     ]
    },
    {
     "cell_type": "code",
     "collapsed": false,
     "input": [
      "record = read_line(\"../data/HIV-1_M-B.fasta\") # Generator Object"
     ],
     "language": "python",
     "metadata": {},
     "outputs": []
    },
    {
     "cell_type": "markdown",
     "metadata": {},
     "source": [
      " **Try it!**: Run the line below a few times to see what it does."
     ]
    },
    {
     "cell_type": "code",
     "collapsed": false,
     "input": [
      "print record.next()"
     ],
     "language": "python",
     "metadata": {},
     "outputs": []
    },
    {
     "cell_type": "markdown",
     "metadata": {},
     "source": [
      "The next part of the exercise is to read an entire fasta record at a time, rather than just one line. A fasta record, as you know, contains a **description and a sequence**."
     ]
    },
    {
     "cell_type": "markdown",
     "metadata": {},
     "source": [
      "The function that we will make is called ```fasta_read_single()```. Our approach is as follow: \n",
      "\n",
      "<ol><li>We will go through each line of the fasta file and store the description and build up the sequence line by line.</li>\n",
      "<li>When we reach a new \">\" mark, which indicates a new fasta record, we will yield what we have so far (description and sequence).</li>\n",
      "<li>The variables (description and sequence) will then be updated in the following lines until we meet another \">\" mark.</li>\n",
      "<li>At the very end of the file, we nust remember to yield the last record that we stored</li></ol>\n",
      "\n",
      "Here is an overview of the entire function you are about to make:<br><br>\n",
      "\n",
      "\n",
      "<center>\n",
      "<img src=\"files/images/exercise_generator.png\" width=\"450px\"/>\n",
      "</center>"
     ]
    },
    {
     "cell_type": "markdown",
     "metadata": {},
     "source": [
      "Finish the function below"
     ]
    },
    {
     "cell_type": "code",
     "collapsed": false,
     "input": [
      "def fasta_read_single(filename):\n",
      "    \"\"\" Yields a single record from fasta file at a time \"\"\"\n",
      "    with open(filename) as f:\n",
      "        description = ''\n",
      "        sequence = ''\n",
      "        for line in f:\n",
      "            # Finish the rest\n",
      "        else:\n",
      "            # Finish the rest"
     ],
     "language": "python",
     "metadata": {},
     "outputs": []
    },
    {
     "cell_type": "markdown",
     "metadata": {},
     "source": [
      "The fasta record generator will be stored as the name record:"
     ]
    },
    {
     "cell_type": "code",
     "collapsed": false,
     "input": [
      "recordgen = fasta_read_single(\"../data/HIV-1_M-B.fasta\")"
     ],
     "language": "python",
     "metadata": {},
     "outputs": []
    },
    {
     "cell_type": "markdown",
     "metadata": {},
     "source": [
      "Now each new record can be retrieved by running:"
     ]
    },
    {
     "cell_type": "code",
     "collapsed": false,
     "input": [
      "print next ( recordgen )"
     ],
     "language": "python",
     "metadata": {},
     "outputs": []
    },
    {
     "cell_type": "markdown",
     "metadata": {},
     "source": [
      "Or going through all records in the file using"
     ]
    },
    {
     "cell_type": "code",
     "collapsed": false,
     "input": [
      "for record in recordgen:\n",
      "    print record"
     ],
     "language": "python",
     "metadata": {},
     "outputs": []
    },
    {
     "cell_type": "markdown",
     "metadata": {},
     "source": [
      "<q>2. Playing with Exception Handling</q>\n",
      "\n",
      "Try to see if you can make the function ```fasta_read_single()``` a bit more foolproof using\n",
      "\n",
      "    try\n",
      "\n",
      "around code that could be prone to errors, and \n",
      "\n",
      "    except\n",
      "    \n",
      "around the code to either solve this error or produce a userfriendly message explaining why it went terribly wrong. You are free to use any measures of error handling as you like. \n",
      "\n",
      "**Hints:** *Distinguish **static** code from **dynamic** code: Static code is something that will always produce the same output, while dynamic code is something that is affected by what the user does. Try to imagine what could go wrong in the code and place some exceptions what will take care of it.* \n",
      "\n",
      "Copy your code from ```fasta_read_single()``` above into the block below and improve the error handling"
     ]
    },
    {
     "cell_type": "code",
     "collapsed": false,
     "input": [],
     "language": "python",
     "metadata": {},
     "outputs": []
    },
    {
     "cell_type": "code",
     "collapsed": false,
     "input": [
      "from IPython.core.display import HTML\n",
      "\n",
      "def css_styling():\n",
      "    styles = open(\"../styles/custom.css\", \"r\").read()\n",
      "    return HTML(styles)\n",
      "css_styling()"
     ],
     "language": "python",
     "metadata": {},
     "outputs": []
    }
   ],
   "metadata": {}
  }
 ]
}