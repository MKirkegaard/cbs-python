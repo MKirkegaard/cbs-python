{
 "cells": [
  {
   "cell_type": "markdown",
   "metadata": {},
   "source": [
    "# Week 09 - BioPython and Final Remarks\n",
    "\n",
    "<div class=\"topics\">\n",
    "    <div style=\"padding-left: 15px;\">\n",
    "        This lecture will cover:\n",
    "        <ul>\n",
    "        <li>BioPython</li>\n",
    "        <ul>\n",
    "            <li>An Introduction to the BioPython module</li>\n",
    "            <li>Ways of making life easier in computational biology</li>\n",
    "        </ul>\n",
    "        <li>Become an Expert in Command Line Python</li>\n",
    "        </ul>\n",
    "    </div>\n",
    "</div>\n"
   ]
  },
  {
   "cell_type": "markdown",
   "metadata": {},
   "source": [
    "## Update the exercise!\n",
    "** !!! Before you do anything, backup your exercises !!! **\n",
    "#### For Windows: \n",
    "\n",
    "Open the Git Shell <img src=\"files/images/gitshell.png\" /> icon (<b>not the blue one</b>). Type in \n",
    "\n",
    "<cb>cd cbs-python</cb><br />\n",
    "<cb>git checkout -f master</cb><br />\n",
    "<cb>git pull origin master</cb><br /><br  />\n",
    "\n",
    "#### For MAC and Linux:\n",
    "\n",
    "Open a terminal. Navigate to the course directory (Whereever you placed it):\n",
    "\n",
    "<cb>cd ~/Documents/Courses/cbs-python</cb><br/>\n",
    "\n",
    "Now update the folder using\n",
    "\n",
    "<cb>git checkout -f master</cb><br />\n",
    "<cb>git pull origin master</cb><br /><br  />"
   ]
  },
  {
   "cell_type": "markdown",
   "metadata": {},
   "source": [
    "## BioPython\n",
    "#### What is BioPython?\n",
    "\n",
    ">\"The Biopython Project is an international association of developers of freely available Python tools for computational molecular biology. Basically, we just like to program in Python and want to make it as easy as possible to use Python for bioinformatics by creating high-quality, reusable modules and scripts.\" --\n",
    "http://biopython.org\n",
    "\n",
    "#### What does it contain? \n",
    "\n",
    ">\"A lot...\"\n",
    "\n",
    "<center>\n",
    "<img src=\"files/images/BioPython.png\" width=\"800px\" />\n",
    "</center>\n",
    "\n",
    "#### How to install\n",
    "\n",
    ">Unfortunately, the new version of anaconda doesn't have BioPython installed by default, so it has to be installed manually.<br><br>\n",
    "<u>For mac and linux:</u><br \\>\n",
    "Go to the terminal and type:<br><b>pip install biopython</b><br>\n",
    "<br><u>For windows:</u><br>\n",
    "Find the <i>anaconda command prompt</i> (search for it in windows, or find the program folder, and locate the program), and type the following:<br>\n",
    "<b>conda install biopython</b><br>\n"
   ]
  },
  {
   "cell_type": "markdown",
   "metadata": {},
   "source": [
    "## A few Examples\n",
    "The best way to explain how to use BioPython is by examples"
   ]
  },
  {
   "cell_type": "markdown",
   "metadata": {},
   "source": [
    "#### The Alphabet\n",
    "The BioPython module contains alphabets to declare a sequence type such as DNA and Proteins."
   ]
  },
  {
   "cell_type": "code",
   "execution_count": null,
   "metadata": {
    "collapsed": false
   },
   "outputs": [],
   "source": [
    "from Bio import Alphabet\n",
    "print Alphabet.ThreeLetterProtein.letters"
   ]
  },
  {
   "cell_type": "code",
   "execution_count": null,
   "metadata": {
    "collapsed": false
   },
   "outputs": [],
   "source": [
    "from Bio.Alphabet import IUPAC\n",
    "print IUPAC.IUPACProtein.letters\n",
    "print IUPAC.unambiguous_dna.letters"
   ]
  },
  {
   "cell_type": "markdown",
   "metadata": {},
   "source": [
    "We can also recreate the codon table we made in one of the previous week's exercises"
   ]
  },
  {
   "cell_type": "code",
   "execution_count": null,
   "metadata": {
    "collapsed": false
   },
   "outputs": [],
   "source": [
    "from Bio import Data\n",
    "codonTable = Data.CodonTable.standard_dna_table.forward_table\n",
    "print codonTable[\"ATG\"]\n",
    "print codonTable"
   ]
  },
  {
   "cell_type": "markdown",
   "metadata": {},
   "source": [
    "#### Seq Objects\n",
    "This objects is composed of a sequence of a specific type (alphabet)"
   ]
  },
  {
   "cell_type": "code",
   "execution_count": null,
   "metadata": {
    "collapsed": false
   },
   "outputs": [],
   "source": [
    "from Bio.Seq import Seq\n",
    "my_gene = Seq(\"CCGGGTT\", IUPAC.unambiguous_dna)\n",
    "my_gene"
   ]
  },
  {
   "cell_type": "code",
   "execution_count": null,
   "metadata": {
    "collapsed": false
   },
   "outputs": [],
   "source": [
    "my_gene.transcribe()"
   ]
  },
  {
   "cell_type": "code",
   "execution_count": null,
   "metadata": {
    "collapsed": false
   },
   "outputs": [],
   "source": [
    "my_gene.translate()"
   ]
  },
  {
   "cell_type": "markdown",
   "metadata": {},
   "source": [
    "Many of the string methods applies on these Seq objects, like"
   ]
  },
  {
   "cell_type": "code",
   "execution_count": null,
   "metadata": {
    "collapsed": false
   },
   "outputs": [],
   "source": [
    "my_gene[4:]"
   ]
  },
  {
   "cell_type": "code",
   "execution_count": null,
   "metadata": {
    "collapsed": false
   },
   "outputs": [],
   "source": [
    "len(my_gene)"
   ]
  },
  {
   "cell_type": "markdown",
   "metadata": {},
   "source": [
    "If you need it to be a string, you can always convert it"
   ]
  },
  {
   "cell_type": "code",
   "execution_count": null,
   "metadata": {
    "collapsed": false
   },
   "outputs": [],
   "source": [
    "str(my_gene)"
   ]
  },
  {
   "cell_type": "markdown",
   "metadata": {},
   "source": [
    "**Small exercise**\n",
    "Try to create a Seq object with some DNA, use help() on the seq object to get some information on what you can do with it (it will be a very long output). Try to figure out how you can reverse complement the sequence"
   ]
  },
  {
   "cell_type": "code",
   "execution_count": null,
   "metadata": {
    "collapsed": false
   },
   "outputs": [],
   "source": [
    "# Empty cell to write in code for exercise"
   ]
  },
  {
   "cell_type": "markdown",
   "metadata": {},
   "source": [
    "#### SeqRecord\n",
    "SeqRecord is a python Class that represents a sequence record containing the sequence itself, name and id. Much like an entry from a fasta file. Let's see how it works"
   ]
  },
  {
   "cell_type": "code",
   "execution_count": null,
   "metadata": {
    "collapsed": false
   },
   "outputs": [],
   "source": [
    "from Bio.SeqRecord import SeqRecord\n",
    "my_record = SeqRecord( my_gene , id=\"001\", name=\"MyGene1\",\n",
    "                      description=\"My first gene\")\n",
    "print my_record"
   ]
  },
  {
   "cell_type": "markdown",
   "metadata": {},
   "source": [
    "You can store multiple sequences as a list of SeqRecords: "
   ]
  },
  {
   "cell_type": "code",
   "execution_count": null,
   "metadata": {
    "collapsed": false
   },
   "outputs": [],
   "source": [
    "s = Seq(\"CCGGGTTAGCTAGCTACGTACATCGTACGATC\", IUPAC.unambiguous_dna)\n",
    "my_record2 = SeqRecord( s , id=\"002\", name=\"MyGene2\",\n",
    "                      description=\"My second gene\")\n",
    "sequences_list = [my_record, my_record2]\n",
    "print sequences_list\n",
    "#print sequences_list[0]"
   ]
  },
  {
   "cell_type": "markdown",
   "metadata": {},
   "source": [
    "#### SeqIO\n",
    "This class contains methods for reading and writing sequence files and handle them as SeqRecord objects. This class is extremely useful!"
   ]
  },
  {
   "cell_type": "code",
   "execution_count": null,
   "metadata": {
    "collapsed": false
   },
   "outputs": [],
   "source": [
    "from Bio import SeqIO"
   ]
  },
  {
   "cell_type": "markdown",
   "metadata": {},
   "source": [
    "**Reading Sequence files**\n",
    "\n",
    "If there is only one sequence use ```SeqIO.read()```:"
   ]
  },
  {
   "cell_type": "code",
   "execution_count": null,
   "metadata": {
    "collapsed": false
   },
   "outputs": [],
   "source": [
    "hbg = SeqIO.read( \"../data/human_beta_globin.fasta\" , \"fasta\" )\n",
    "\n",
    "print hbg"
   ]
  },
  {
   "cell_type": "markdown",
   "metadata": {},
   "source": [
    "If there is more than one sequence use ```SeqIO.parse()``` (this is the real use of SeqIO). Try to first look at the file (less data/HIV-1_M-B.fasta) - it contains multiple proteins from HIV."
   ]
  },
  {
   "cell_type": "code",
   "execution_count": null,
   "metadata": {
    "collapsed": false
   },
   "outputs": [],
   "source": [
    "for record in SeqIO.parse( \"../data/HIV-1_M-B.fasta\" , \"fasta\" ):\n",
    "    print record.id, \"- length:\", len(record.seq)\n",
    "    "
   ]
  },
  {
   "cell_type": "markdown",
   "metadata": {},
   "source": [
    "**Writing to files**\n",
    "\n",
    "Writing works in the opposite way, turning one or more SeqRecord objects into a file. "
   ]
  },
  {
   "cell_type": "code",
   "execution_count": null,
   "metadata": {
    "collapsed": false
   },
   "outputs": [],
   "source": [
    "SeqIO.write( my_record , \"../data/my_gene.gbk\" , \"genbank\" )"
   ]
  },
  {
   "cell_type": "code",
   "execution_count": null,
   "metadata": {
    "collapsed": false
   },
   "outputs": [],
   "source": [
    "SeqIO.read( \"../data/my_gene.gbk\" , \"genbank\" )"
   ]
  },
  {
   "cell_type": "markdown",
   "metadata": {},
   "source": [
    "We can also use it to save multiple sequences (the sequences_list) that we made above, also we can decide which format to save it in (open files and see):"
   ]
  },
  {
   "cell_type": "code",
   "execution_count": null,
   "metadata": {
    "collapsed": false
   },
   "outputs": [],
   "source": [
    "SeqIO.write(sequences_list, \"../data/homemade_sequences.gbk\", \"genbank\")\n",
    "SeqIO.write(sequences_list, \"../data/homemade_sequences.fasta\", \"fasta\")"
   ]
  },
  {
   "cell_type": "markdown",
   "metadata": {},
   "source": [
    "**Reading a genome in to memory**\n",
    "Sometimes it is nice to be able to load the entire genome of an organism (say human/bacteria) into python and work with it instead of parsing over it per chromosome/contig. For that we can use the ```SeqIO.to_dict``` function. Small question: Why is the keys/values not in 001->002 ordering?"
   ]
  },
  {
   "cell_type": "code",
   "execution_count": null,
   "metadata": {
    "collapsed": false
   },
   "outputs": [],
   "source": [
    "sequences_dict = SeqIO.to_dict(SeqIO.parse(\"../data/homemade_sequences.fasta\", \"fasta\"))\n",
    "sequences_dict.keys()\n",
    "#sequences_dict.values()"
   ]
  },
  {
   "cell_type": "markdown",
   "metadata": {},
   "source": [
    "**Small exercise**\n",
    "Try to get bases 4-7 in the 001 sequence. Additionally try to get it printed as a string (bases only)"
   ]
  },
  {
   "cell_type": "code",
   "execution_count": null,
   "metadata": {
    "collapsed": false
   },
   "outputs": [],
   "source": [
    "# Empty cell to write in code for exercise"
   ]
  },
  {
   "cell_type": "markdown",
   "metadata": {},
   "source": [
    "#### SeqIO.convert\n",
    "You will be suprised of how much time a bioinformatician spends on getting data converted into the right format. Here ```SeqIO.convert``` will be a great help. Lets try to convert an alignment of 16S rRNA in fasta to eg. phylip format. Open the phylip file and see. You can see all the conversions that are possible here http://biopython.org/wiki/SeqIO#File_Formats"
   ]
  },
  {
   "cell_type": "code",
   "execution_count": null,
   "metadata": {
    "collapsed": false
   },
   "outputs": [],
   "source": [
    "SeqIO.convert(\"../data/alignment.fasta\", \"fasta\", \"../data/alignment.phylip\", \"phylip\")"
   ]
  },
  {
   "cell_type": "markdown",
   "metadata": {},
   "source": [
    "### BLAST\n",
    "The Blast module in BioPython contain functions to deal with blast programs and output. \n",
    "\n",
    "** Running a local NCBI BLAST on Interaction**"
   ]
  },
  {
   "cell_type": "code",
   "execution_count": null,
   "metadata": {
    "collapsed": false
   },
   "outputs": [],
   "source": [
    "from Bio.Blast import NCBIStandalone as BLAST"
   ]
  },
  {
   "cell_type": "markdown",
   "metadata": {},
   "source": [
    "This module simply works as a Blast wrapper (a piece of code to parse along the commandline options) for the blast program locally installed on the computer. "
   ]
  },
  {
   "cell_type": "code",
   "execution_count": null,
   "metadata": {
    "collapsed": false
   },
   "outputs": [],
   "source": [
    "blast_exe = '/usr/cbs/bio/bin/Linux/ia64/blastall'\n",
    "file_in = '/path/to/my/file.fasta'\n",
    "blast_db = '/path/to/my/blast/database'\n",
    "\n",
    "result_handle, error_handle = BLAST.blastall(blast_exe, \"blastn\", blast_db, file_in)"
   ]
  },
  {
   "cell_type": "markdown",
   "metadata": {},
   "source": [
    "```result_handle``` contains the blast object from the run. Any errors will be placed in the ```error_handle```."
   ]
  },
  {
   "cell_type": "markdown",
   "metadata": {},
   "source": [
    "** Running BLAST over the internet **\n",
    "\n",
    "The function ```qblast()``` in the ```NCBIWWW``` module calls the *online* version of BLAST. This is slower than the standalone and does not offer the same flexibility for custom databases."
   ]
  },
  {
   "cell_type": "code",
   "execution_count": null,
   "metadata": {
    "collapsed": false
   },
   "outputs": [],
   "source": [
    "from Bio.Blast import NCBIWWW"
   ]
  },
  {
   "cell_type": "markdown",
   "metadata": {},
   "source": [
    "The function takes three arguments: ```qblast(program, database, sequence)```. Here is an example where we just give the Gene ID as sequence:"
   ]
  },
  {
   "cell_type": "code",
   "execution_count": null,
   "metadata": {
    "collapsed": false
   },
   "outputs": [],
   "source": [
    "result_handle = NCBIWWW.qblast(\"blastn\", \"nr\", \"8332116\")"
   ]
  },
  {
   "cell_type": "markdown",
   "metadata": {},
   "source": [
    "The result of the ```qblast()``` function is similar to a file handle object when we use ```open(\"myfile\")```. Similarly we can use ```read()``` to get the content. The output is nothing more than an XML file."
   ]
  },
  {
   "cell_type": "markdown",
   "metadata": {},
   "source": [
    "BioPython offers a tool to process the XML file in the ```NCBIXML``` module:"
   ]
  },
  {
   "cell_type": "code",
   "execution_count": null,
   "metadata": {
    "collapsed": false
   },
   "outputs": [],
   "source": [
    "from Bio.Blast import NCBIXML"
   ]
  },
  {
   "cell_type": "markdown",
   "metadata": {},
   "source": [
    "The module has a ```parse()``` that takes as argument the file handle for the blast result and returns an *iterator* for each record in the result. There is *one* record per *query sequence*. In our case, we only had one query sequence, and therefore only one record."
   ]
  },
  {
   "cell_type": "code",
   "execution_count": null,
   "metadata": {
    "collapsed": false
   },
   "outputs": [],
   "source": [
    "for record in NCBIXML.parse(result_handle):\n",
    "    pass"
   ]
  },
  {
   "cell_type": "markdown",
   "metadata": {},
   "source": [
    "\n",
    "Inside the record object is the *alignments* as well as all the parameters used in the run. Each alignment object contains information of the hit (title, accession number) and a list of *high scoring segment pairs* (HSPS) which is a segment of an alignment, shown below.\n",
    "\n",
    "<center>\n",
    "<img src=\"files/images/blasthsp.png\" width=\"600px\" />\n",
    "</center>"
   ]
  },
  {
   "cell_type": "code",
   "execution_count": null,
   "metadata": {
    "collapsed": false
   },
   "outputs": [],
   "source": [
    "for align in record.alignments:\n",
    "    print align.title[:35] + \", E =\", align.hsps[0].expect,\\\n",
    "    \", Accession:\", str(align.accession)"
   ]
  },
  {
   "cell_type": "markdown",
   "metadata": {},
   "source": [
    "Let us have a look at the best alignment"
   ]
  },
  {
   "cell_type": "code",
   "execution_count": null,
   "metadata": {
    "collapsed": false
   },
   "outputs": [],
   "source": [
    "align = record.alignments[0]\n",
    "for hsp in align.hsps:\n",
    "    if hsp.expect < 0.01:\n",
    "        print '****Alignment****'\n",
    "        print 'sequence:', align.title\n",
    "        print 'length:', align.length\n",
    "        print 'e value:', hsp.expect\n",
    "        print hsp.query[0:75] + '...'\n",
    "        print hsp.match[0:75] + '...'\n",
    "        print hsp.sbjct[0:75] + '...'"
   ]
  },
  {
   "cell_type": "markdown",
   "metadata": {},
   "source": [
    "#### Entrez\n",
    "**Entrez** is a data retrieval system that provides users access to NCBI’s databases such as PubMed, GenBank, GEO, and many others. You can access Entrez from a web browser to manually enter queries, or you can use Biopython’s Bio.Entrez module for programmatic access to Entrez. The latter allows you for example to search PubMed or download GenBank records from **within a Python script**.\n"
   ]
  },
  {
   "cell_type": "code",
   "execution_count": null,
   "metadata": {
    "collapsed": false
   },
   "outputs": [],
   "source": [
    "from Bio import Entrez"
   ]
  },
  {
   "cell_type": "markdown",
   "metadata": {},
   "source": [
    "Let's see an example of searching for a gene http://www.ncbi.nlm.nih.gov/nucleotide/186972394 directly from the Gene ID: ```\"EU490707\"```"
   ]
  },
  {
   "cell_type": "code",
   "execution_count": null,
   "metadata": {
    "collapsed": false
   },
   "outputs": [],
   "source": [
    "entrez_handle = Entrez.efetch(db=\"nucleotide\", id=\"EU490707\",\n",
    "                              rettype=\"fasta\", email=\"simon@cbs.dtu.dk\")"
   ]
  },
  {
   "cell_type": "code",
   "execution_count": null,
   "metadata": {
    "collapsed": false
   },
   "outputs": [],
   "source": [
    "entrez_handle.read()"
   ]
  },
  {
   "cell_type": "code",
   "execution_count": null,
   "metadata": {
    "collapsed": false
   },
   "outputs": [],
   "source": [
    "entrez_handle = Entrez.efetch(db=\"nucleotide\", id=\"EU490707\",\n",
    "                            rettype=\"fasta\", email=\"simon@cbs.dtu.dk\")"
   ]
  },
  {
   "cell_type": "code",
   "execution_count": null,
   "metadata": {
    "collapsed": false
   },
   "outputs": [],
   "source": [
    "record = SeqIO.read(entrez_handle, \"fasta\")"
   ]
  },
  {
   "cell_type": "code",
   "execution_count": null,
   "metadata": {
    "collapsed": false
   },
   "outputs": [],
   "source": [
    "print record"
   ]
  },
  {
   "cell_type": "markdown",
   "metadata": {},
   "source": [
    "Before using BioPython to access online resources note that most systems will find it abusing if you make hundreds of requests. BioPython already limits no more than one request every 3 seconds. "
   ]
  },
  {
   "cell_type": "markdown",
   "metadata": {},
   "source": [
    "#### Conclusion\n",
    "\n",
    "There are hundreds of modules and perhaps thousands of functions inside BioPython that you can explore on your own. \n",
    "\n",
    "<br>\n",
    "\n",
    "<center>\n",
    "<img src=\"files/images/BioPython.png\" width=\"600px\" />\n",
    "</center>\n",
    "\n",
    "<br>\n",
    "\n",
    "A good place to start is the BioPython Tutorial and Cookbook:<br/><br/> \n",
    "\n",
    "<center>\n",
    "http://biopython.org/DIST/docs/tutorial/Tutorial.pdf\n",
    "</center>"
   ]
  },
  {
   "cell_type": "markdown",
   "metadata": {},
   "source": [
    "## Become an Expert in Command Line Python\n",
    "\n",
    "Here are some guidelines of how you should write Biological programs: \n",
    "\n",
    "#### Accept parameters to the program\n",
    "Try not to *hardcode* any parameters to your program. Users of your program may not have enough programming experience to know how to change them inside the code. \n",
    "\n",
    "Instead, let them have default values, but accept them to be changed through the command line, like"
   ]
  },
  {
   "cell_type": "raw",
   "metadata": {},
   "source": [
    "./blastall -p blastn -i seq3.txt -d TAIR8cds -m 7"
   ]
  },
  {
   "cell_type": "markdown",
   "metadata": {},
   "source": [
    "#### Generate output that can easily be parsed by programs\n",
    "Always try to find a good balance between output that is human readable and easily parsed by other programs. *Always* use standard formats, like fasta for sequences and csv for a table of values.\n",
    "\n",
    "Use # in case you need to comment your output. Most other programs will understand this. "
   ]
  },
  {
   "cell_type": "markdown",
   "metadata": {},
   "source": [
    "#### Document your code! \n",
    "Although this is not specific to be an expert in command line, it is always good practice to keep your code commented and your functions documented. Also, add a \"-h\" option to run the program, e.g.:"
   ]
  },
  {
   "cell_type": "raw",
   "metadata": {},
   "source": [
    "$ fasta_align -h"
   ]
  },
  {
   "cell_type": "raw",
   "metadata": {},
   "source": [
    "Usage: fasta_align [-h] [args] fsa1 fsa2\n",
    "\n",
    "\tPARAMETER            DEFAULT VALUE        DESCRIPTION\n",
    "\t[-gf float]          11.000000            penalty for first gap\n",
    "\t[-gn float]          1.000000             penalty for next gap\n",
    "\t[-mal int]           3                    Minimum alignment lenght\n",
    "\t[-nw]                0                    Use Needleman-Wunsch\n",
    "\t[-bls int]           50                   BLOSUM SCORE MATRIX\n",
    "\t[-mpat filename]     /home/people/mniel/matrices/BLOSUM%i Matrix pattern"
   ]
  },
  {
   "cell_type": "markdown",
   "metadata": {},
   "source": [
    "#### Making command line work in Windows\n",
    "\n",
    "In windows, you cannot readily type in\n",
    "\n",
    "    python myprogram.py\n",
    "    \n",
    "in the command prompt to run ```myprogram.py```. This is because windows doesn't know where Python is. \n",
    "\n",
    "To tell it, we have to add the Python directory to something called Environment Variables. \n",
    "\n",
    "<ol>\n",
    "    <li>Open up the run command by holding down <kbd><img id=\"wds\" src=\"files/images/wds.png\" height=10px></kbd> while pressing <kbd>R</kbd>.</li>\n",
    "    <li>In the field, type <cb>sysdm.cpl</cb> and hit Enter.</li>\n",
    "    <li>Go to the *Advanced* tab and click on *Environment Variables*. A new dialog window will open.</li>\n",
    "    <li>Find in the System variables list the varible *Path*: select it and click on Edit.</li>\n",
    "    <li>(Be careful now) In **the end of the line**, add <cb>;C:\\Python27\\</cb> and click OK. **Remember the ;**</li>\n",
    "</ol>\n",
    "\n",
    "<center>\n",
    "<img src=\"files/images/environvar.png\" />\n",
    "</center>\n",
    "<br />\n",
    "\n",
    "Now you should be able to open a command prompt and type in\n",
    "\n",
    "    python\n",
    "    \n",
    "regardless of which directory you are in. "
   ]
  },
  {
   "cell_type": "markdown",
   "metadata": {},
   "source": [
    "#### Let's try to make our first program using command line inputs!\n",
    "\n",
    "We can use the sys module to get input from the user.\n",
    "\n",
    "We'll try to make a program that can take a fasta file as input, and then print the id and length of the sequence, just like we did in the previous example.\n",
    "\n",
    "Copy the following code into an empty file called \"commandline.py\" in this notebook directory and try to run it in the terminal by writing:\n",
    ">commandline.py ../data/alignment.fasta"
   ]
  },
  {
   "cell_type": "code",
   "execution_count": null,
   "metadata": {
    "collapsed": true
   },
   "outputs": [],
   "source": [
    "#Copy this code into a text editor, and run it on the command-line\n",
    "import sys\n",
    "from Bio import SeqIO\n",
    "\n",
    "for record in SeqIO.parse( sys.argv[1] , \"fasta\" ):\n",
    "    print record.id, \"- length:\", len(record.seq)"
   ]
  },
  {
   "cell_type": "markdown",
   "metadata": {},
   "source": [
    "As you may have noticed, the sys.argv[1] is the path to the fasta file. What do you think sys.argv[0] is? What happens if you add multiple files in the commandline?\n",
    "\n",
    "Using sys.argv is fine for quick programs, but if we want to document our code with a help-message like the above example, it can be a bit of a hassle to check every input for mistakes.<br>\n",
    "Luckily, Python has a module that is made for parsing commandline inputs! It's called argparse. Let's try to solve the previous exercise with argparse"
   ]
  },
  {
   "cell_type": "code",
   "execution_count": null,
   "metadata": {
    "collapsed": true
   },
   "outputs": [],
   "source": [
    "#Copy this code into a text editor, and run it on the command-line\n",
    "from argparse import ArgumentParser\n",
    "from Bio import SeqIO\n",
    "\n",
    "parser = ArgumentParser(description='Description of program')\n",
    "parser.add_argument(\"-f\", type=str, dest=\"fasta_file\", default=\"\",\n",
    "                    help=\"Fasta input file\", required=True)\n",
    "parser.add_argument(\"-l\", type=int, dest=\"min_length\", default=3,\n",
    "                    help=\"Minimum length of sequence to be printed\")\n",
    "#parser.add_argument(\"-v\", dest=\"verbose\", action=\"store_true\",\n",
    "#                    help=\"Prints verbose output\")\n",
    "\n",
    "args = parser.parse_args()\n",
    "\n",
    "for record in SeqIO.parse( args.fasta_file , \"fasta\" ):\n",
    "    if len(record.seq) > args.min_length:\n",
    "        print record.id, \"- length:\", len(record.seq)"
   ]
  },
  {
   "cell_type": "markdown",
   "metadata": {},
   "source": [
    "Try to type:\n",
    "><i>commandline.py ../data/alignment.fasta</i>\n",
    "\n",
    "Also try to type:\n",
    "><i>commandline.py -h</i>\n",
    "\n",
    "Argparse is really useful if you want to avoid hardcoding paths and files to your programs."
   ]
  },
  {
   "cell_type": "code",
   "execution_count": null,
   "metadata": {
    "collapsed": false
   },
   "outputs": [],
   "source": [
    "from IPython.core.display import HTML\n",
    "\n",
    "\n",
    "def css_styling():\n",
    "    styles = open(\"../styles/custom.css\", \"r\").read()\n",
    "    return HTML(styles)\n",
    "css_styling()"
   ]
  },
  {
   "cell_type": "code",
   "execution_count": null,
   "metadata": {
    "collapsed": false
   },
   "outputs": [],
   "source": []
  },
  {
   "cell_type": "code",
   "execution_count": null,
   "metadata": {
    "collapsed": false
   },
   "outputs": [],
   "source": []
  }
 ],
 "metadata": {
  "kernelspec": {
   "display_name": "Python 2",
   "language": "python",
   "name": "python2"
  },
  "language_info": {
   "codemirror_mode": {
    "name": "ipython",
    "version": 2
   },
   "file_extension": ".py",
   "mimetype": "text/x-python",
   "name": "python",
   "nbconvert_exporter": "python",
   "pygments_lexer": "ipython2",
   "version": "2.7.10"
  }
 },
 "nbformat": 4,
 "nbformat_minor": 0
}
