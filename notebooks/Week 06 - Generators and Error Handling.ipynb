{
 "cells": [
  {
   "cell_type": "markdown",
   "metadata": {},
   "source": [
    "## Backup your exercises\n",
    "rename or copy manually your changed exercise files to another directory\n",
    "\n",
    "## Update your Course Materials!\n",
    "<br><br><br><br><br><br><br><br><br>"
   ]
  },
  {
   "cell_type": "markdown",
   "metadata": {},
   "source": [
    "# Week 06 - Generators and Error Handling\n",
    "\n",
    "<div class=\"topics\">\n",
    "    <div style=\"padding-left: 15px;\">\n",
    "        This lecture will cover:\n",
    "        \n",
    "        <ul>\n",
    "            <li>Projects</li>\n",
    "            <li>Generators - A special kind of Function</li>\n",
    "            <li>Debugging in Python</li>\n",
    "            <li>Error Handling</li>\n",
    "            <ul>\n",
    "                <li>*A program rarely works as expected.*</li>\n",
    "                <li>Working with *Exceptions*</li>\n",
    "            </ul>\n",
    "        </ul>\n",
    "    </div>\n",
    "</div>"
   ]
  },
  {
   "cell_type": "markdown",
   "metadata": {},
   "source": [
    "# Projects\n",
    "    12. Nov - Project work\n",
    "    19. Nov - Project work\n",
    "    26. Nov - Project work\n",
    "     3. Dec - Project work\n",
    "    18. Dec - Handin project\n",
    "    \n",
    "Every project consists of the following parts.\n",
    "\n",
    "1. The **program code** itself. The code should be well **commented** so it is possible to follow your thinking. The **major data** structures should also be explained (structure and purpose). The code must given in as a **plain text file**.\n",
    "2. A document that **describes the algorithm** that you implemented, with **strengths and weaknesses** if any, and the expected **input data format**. The document/report should be in preferably PDF or Word document. Some projects are naturally heavy in theory, others have a more practical approach, and the report is expected to reflect that to some extent.\n",
    "3. Any **data files** if relevant.\n",
    "<br><br><br><br><br><br><br><br><br>\n",
    "\n",
    "Choose either a project from the list below or come with your own idea (e.g. from PhD or Master project)\n",
    "\n",
    "<b><big>The projects</big></b> (from http://www.cbs.dtu.dk/courses/27619/projects.php)\n",
    "<ol>\n",
    "<li><a href=\"http://www.cbs.dtu.dk/courses/27619/project01.php\">Random sequence generator</a>\n",
    "\n",
    "</li>\n",
    "\n",
    "<li><a href=\"http://www.cbs.dtu.dk/courses/27619/project02.php\">Text mining MEDLINE abstracts</a>\n",
    "\n",
    "</li>\n",
    "\n",
    "<li><a href=\"http://www.cbs.dtu.dk/courses/27619/project03.php\">Shortest path in graph</a>\n",
    "\n",
    "</li>\n",
    "\n",
    "\n",
    "<li><a href=\"http://www.cbs.dtu.dk/courses/27619/project05.php\">K-means clustering</a>\n",
    "\n",
    "</li>\n",
    "\n",
    "<li><a href=\"http://www.cbs.dtu.dk/courses/27619/project06.php\">Analysis of sorting</a>\n",
    "\n",
    "</li>\n",
    "\n",
    "<li><a href=\"http://www.cbs.dtu.dk/courses/27619/project07.php\">Data mining in NCBI databases</a>\n",
    "\n",
    "</li>\n",
    "\n",
    "<li><a href=\"http://www.cbs.dtu.dk/courses/27619/project09.php\">Score sequence data with a PSSM</a>\n",
    "\n",
    "</li>\n",
    "\n",
    "<li><a href=\"http://www.cbs.dtu.dk/courses/27619/project08.php\">Searching for signals/motifs in sequences</a>\n",
    "\n",
    "</li>\n",
    "\n",
    "<li><a href=\"http://www.cbs.dtu.dk/courses/27619/project10.php\">Data analysis</a>\n",
    "\n",
    "</li>\n",
    "\n",
    "<li><a href=\"http://www.cbs.dtu.dk/courses/27619/project11.php\">Sudoku</a>\n",
    "\n",
    "</li>\n",
    "\n",
    "<li><a href=\"http://www.cbs.dtu.dk/courses/27619/project16.php\">k-nearest neighbor (k-NN) continuous variable estimation</a>\n",
    "\n",
    "</li>\n",
    "\n",
    "<li><a href=\"http://www.cbs.dtu.dk/courses/27619/project17.php\">Read trimmer for Next-Generation-Sequencing data</a>\n",
    "\n",
    "</li>\n",
    "\n",
    "<li><a href=\"http://www.cbs.dtu.dk/courses/27619/project12.php\">QT clustering</a>\n",
    "\n",
    "</li>\n",
    "\n",
    "<li><a href=\"http://www.cbs.dtu.dk/courses/27619/project13.php\">Artificial Neural Network</a>\n",
    "\n",
    "</li>\n",
    "\n",
    "<li><a href=\"http://www.cbs.dtu.dk/courses/27619/project14.php\">Smith-Waterman alignment</a>\n",
    "\n",
    "</li>\n",
    "\n",
    "<li><a href=\"http://www.cbs.dtu.dk/courses/27619/project15.php\">Gibbs sampling</a>\n",
    "\n",
    "</li>\n",
    "\n",
    "</ol>"
   ]
  },
  {
   "cell_type": "markdown",
   "metadata": {},
   "source": [
    "## Generators - A Special Kind of Function\n",
    "\n",
    "Normal functions perform some action and the result is returned to the point where it was called. If the result of this function is really huge (a big list or dictionary), this could case problems. \n",
    "\n",
    "Take for example a function that reads a file and returns all the records of this file in a dictionary. If the file is too big (like several times the available memory), the resulting data structure will not fit in memory. \n",
    "\n",
    "\n",
    "This is a common problem in the field of bioinformatics. If the idea is to process each record, we would need a function that returns a record at a time. **A function can't do that because it doesn't keep a state**, so each times it is executed, it has to process all the data again. \n",
    "\n",
    "To do this, Python offer us **generators**\n",
    "\n",
    ">**Generators** are a speciel function that can keep their internal state.\n",
    "\n",
    "In these functions we can use \n",
    "\n",
    "    yield\n",
    "\n",
    "instead of ```return```. The nice thing about ```yield``` is that it can be used inside a loop. The next time the generator is called, it resumes operation from where it was.\n"
   ]
  },
  {
   "cell_type": "markdown",
   "metadata": {},
   "source": [
    "As an example let's look at **```range()```** and **```xrange()```**. By the look of things, it seems they are doing the same thing:"
   ]
  },
  {
   "cell_type": "code",
   "execution_count": null,
   "metadata": {
    "collapsed": false
   },
   "outputs": [],
   "source": [
    "for i in range(5):\n",
    "    print i, "
   ]
  },
  {
   "cell_type": "code",
   "execution_count": null,
   "metadata": {
    "collapsed": false
   },
   "outputs": [],
   "source": [
    "for i in xrange(5):\n",
    "    print i,"
   ]
  },
  {
   "cell_type": "markdown",
   "metadata": {},
   "source": [
    "However, ```range()``` is a function and ```xrange()``` is a **generator**. \n",
    "\n",
    "```range(5)``` produces a list ```[0,1,2,3,4]```:"
   ]
  },
  {
   "cell_type": "code",
   "execution_count": null,
   "metadata": {
    "collapsed": false
   },
   "outputs": [],
   "source": [
    "range(5)"
   ]
  },
  {
   "cell_type": "markdown",
   "metadata": {},
   "source": [
    "but ```xrange(5)``` does seemingly nothing:"
   ]
  },
  {
   "cell_type": "code",
   "execution_count": null,
   "metadata": {
    "collapsed": false
   },
   "outputs": [],
   "source": [
    "xrange(5)"
   ]
  },
  {
   "cell_type": "markdown",
   "metadata": {},
   "source": [
    "Generators are equally fast:"
   ]
  },
  {
   "cell_type": "code",
   "execution_count": null,
   "metadata": {
    "collapsed": false
   },
   "outputs": [],
   "source": [
    "timeit (' for x in range(10000000): pass')"
   ]
  },
  {
   "cell_type": "code",
   "execution_count": null,
   "metadata": {
    "collapsed": false
   },
   "outputs": [],
   "source": [
    "timeit (' for x in xrange(10000000): pass')"
   ]
  },
  {
   "cell_type": "markdown",
   "metadata": {},
   "source": [
    "However, the memory comsumption is far smaller for generators:"
   ]
  },
  {
   "cell_type": "raw",
   "metadata": {},
   "source": [
    "Running in terminal:\n",
    "python -m timeit \"for x in range(10000000):pass\"\n",
    "\n",
    "and \n",
    "\n",
    "python -m timeit \"for x in xrange(10000000):pass\"\n",
    "\n",
    "while monitoring memory usage (e.g. ```top```) shows a considerable difference."
   ]
  },
  {
   "cell_type": "markdown",
   "metadata": {},
   "source": [
    "<br><br><br><img src=\"../pix/play2.jpg\">\n",
    "### Creating a generator to square x\n",
    "\n",
    "Make a function that generates all subsequently squared numbers of x\n",
    "\n",
    "Here are the instructions:\n",
    "\n",
    "<ol>\n",
    "<li>Use an infinite ```while``` loop</li>\n",
    "<li>Update ```x``` to be ```x**2``` in each iteration</li>\n",
    "<li>Yield ```x```</li>\n",
    "</ol>\n"
   ]
  },
  {
   "cell_type": "code",
   "execution_count": null,
   "metadata": {
    "collapsed": false
   },
   "outputs": [],
   "source": [
    "def squared(x):\n",
    "    \"\"\" Yields the series of squared numbers, starting with x^2,\n",
    "    square(2), would yield\n",
    "        4\n",
    "        16\n",
    "        256\n",
    "        ...\n",
    "    squared(10), would yield\n",
    "        100\n",
    "        10000\n",
    "        100000000\n",
    "        ...\n",
    "    \"\"\"\n",
    "# finish the fucntion\n",
    " \n"
   ]
  },
  {
   "cell_type": "markdown",
   "metadata": {},
   "source": [
    "Test the function by running the code blocks below:"
   ]
  },
  {
   "cell_type": "code",
   "execution_count": null,
   "metadata": {
    "collapsed": false
   },
   "outputs": [],
   "source": [
    "square = squared(2)\n",
    "print square.next()\n"
   ]
  },
  {
   "cell_type": "code",
   "execution_count": null,
   "metadata": {
    "collapsed": false
   },
   "outputs": [],
   "source": [
    "square = squared(10)\n",
    "print next ( square )\n",
    "print next ( square )\n",
    "print next ( square )\n",
    "print next ( square )"
   ]
  },
  {
   "cell_type": "markdown",
   "metadata": {},
   "source": [
    "# Debugging in Python\n",
    "\n",
    "Tips for Debugging (from learnpythonthehardway.org)\n",
    "\n",
    "1. Do not use a \"debugger.\" A debugger is like doing a full-body scan on a sick person. You do not get any specific useful information, and you find a whole lot of information that doesn't help and is just confusing.\n",
    "1. The best way to debug a program is to use **`print`** to print out the values of variables at points in the program to see where they go wrong.\n",
    "1. Make sure parts of your programs work as you work on them. Do not write massive files of code before you try to run them. Code a little, run a little, fix a little.\n",
    "\n"
   ]
  },
  {
   "cell_type": "markdown",
   "metadata": {},
   "source": [
    "## Error Handling\n",
    "\n",
    ">\"A program rarely works as expected\"\n",
    "-- Some wise bloke\n",
    "\n",
    "So far we have made lots of programs without error checking. \n",
    "\n",
    "#### A program with no error checking\n",
    "This program reads a file (myfile.csv) separated by tabs and looks for a number that is found in the first column of the first line. This value is multiplied by 0.2 and the result is written to another file (otherfile.csv)."
   ]
  },
  {
   "cell_type": "markdown",
   "metadata": {},
   "source": [
    "*Strategy:* "
   ]
  },
  {
   "cell_type": "code",
   "execution_count": null,
   "metadata": {
    "collapsed": false
   },
   "outputs": [],
   "source": [
    "f = open(\"myfile.csv\")\n",
    "line = f.readline()\n",
    "f.close()\n",
    "value = line.split(\"\\t\")[0]\n",
    "f = open(\"otherfile.csv\", \"w\")\n",
    "f.write( str( int(value) * 0.2 ) )\n",
    "f.close()"
   ]
  },
  {
   "cell_type": "markdown",
   "metadata": {},
   "source": [
    "#### Possible errors:\n",
    "\n",
    "**File doesn't exist**"
   ]
  },
  {
   "cell_type": "raw",
   "metadata": {},
   "source": [
    "Traceback (most recent call last):\n",
    "  File \"wotest.py\", line 1, in ?\n",
    "    f = open(\"myfile.csv\")\n",
    "IOError: [Errno 2] No such file or directory: 'myfile.csv'"
   ]
  },
  {
   "cell_type": "markdown",
   "metadata": {},
   "source": [
    "**Don't have permission to create the file called \"otherfile.csv\"**"
   ]
  },
  {
   "cell_type": "raw",
   "metadata": {},
   "source": [
    "Traceback (most recent call last):\n",
    "  File \"wotest.py\", line 5, in ?\n",
    "    f = open(\"otherfile.csv\", \"w\")  \n",
    "IOError: [Errno 13] Permission denied: 'otherfile.csv'"
   ]
  },
  {
   "cell_type": "markdown",
   "metadata": {},
   "source": [
    "**There is no tabs in the file**"
   ]
  },
  {
   "cell_type": "raw",
   "metadata": {},
   "source": [
    "Traceback (most recent call last):\n",
    "  File \"wotest.py\", line 6, in ?\n",
    "    f.write( str( int(value) * 0.2 ) )\n",
    "ValueError: invalid literal for int():"
   ]
  },
  {
   "cell_type": "markdown",
   "metadata": {},
   "source": [
    "All of the errors above causes the program to stop. \n",
    "\n",
    ">It is not professional to show the end user a system error like these."
   ]
  },
  {
   "cell_type": "markdown",
   "metadata": {},
   "source": [
    "#### A program with Error Handling \n",
    "\n",
    "*Strategy:* **L**ook **B**efore **Y**ou **L**eap (LBYL)\n"
   ]
  },
  {
   "cell_type": "code",
   "execution_count": null,
   "metadata": {
    "collapsed": false
   },
   "outputs": [],
   "source": [
    "import os\n",
    "iname = raw_input(\"Enter input filename: \")\n",
    "oname = raw_input(\"Enter output filename: \")\n",
    "cwd = os.getcwd()\n",
    "if os.path.exists(iname):\n",
    "    fh = open(iname)\n",
    "    line = fh.readline()\n",
    "    fh.close()\n",
    "    if \"\\t\" in line:\n",
    "        value = line.split('\\t')[0]\n",
    "        if os.access(cwd+oname,os.W_OK)==0:\n",
    "            fw = open(cwd+oname,\"w\")\n",
    "            if value.isdigit():\n",
    "                fw.write(str(int(value)*.2))\n",
    "                fw.close()\n",
    "            else:\n",
    "                print(\"It can't be converted to int\")\n",
    "        else:\n",
    "            print(\"Output file is not writable\")\n",
    "    else:\n",
    "        print(\"There is no TAB. Check the input file\")\n",
    "else:\n",
    "    print(\"The file '\" + iname + \"' doesn't exist\")"
   ]
  },
  {
   "cell_type": "markdown",
   "metadata": {},
   "source": [
    "This way of error handling is not very nice! The code is difficult to read and maintain because error checking is mixed together with the instructions. \n",
    "\n",
    "For this reason new programming languages have included a specific system for the control of *execptional conditions*. "
   ]
  },
  {
   "cell_type": "markdown",
   "metadata": {},
   "source": [
    "## Exception Handling: ```try``` and ```except```\n",
    "\n",
    "In python we can use the \n",
    "\n",
    "    try\n",
    "    \n",
    "to wrap around the code we want to execute and then use\n",
    "\n",
    "    except\n",
    "    \n",
    "to wrap around the code that will be executed if there is an error in the code under the ```try``` block. "
   ]
  },
  {
   "cell_type": "markdown",
   "metadata": {},
   "source": [
    "#### Let's try it"
   ]
  },
  {
   "cell_type": "code",
   "execution_count": null,
   "metadata": {
    "collapsed": false
   },
   "outputs": [],
   "source": [
    "print 6/0"
   ]
  },
  {
   "cell_type": "code",
   "execution_count": null,
   "metadata": {
    "collapsed": false
   },
   "outputs": [],
   "source": [
    "try:\n",
    "    # CODE THAT MAY PRODUCE AN ERROR\n",
    "    print 6/0\n",
    "except ZeroDivisionError:\n",
    "    # CODE THAT SHOULD BE EXECUTED INSTEAD WHEN THE ERROR OCCURS\n",
    "    print \"Houston, we have a problem\""
   ]
  },
  {
   "cell_type": "markdown",
   "metadata": {},
   "source": [
    "#### A Program with *Exception Handling*\n",
    "\n",
    "*Strategy:* It's **E**asier to **A**sk **F**orgiveness than **P**ermission (EAFP)"
   ]
  },
  {
   "cell_type": "code",
   "execution_count": null,
   "metadata": {
    "collapsed": false
   },
   "outputs": [],
   "source": [
    "import os\n",
    "\n",
    "### CODE THAT WILL ALWAYS WORK\n",
    "iname = raw_input(\"Enter input filename: \")\n",
    "oname = raw_input(\"Enter output filename: \")\n",
    "cwd = os.getcwd()\n",
    "\n",
    "### CODE THAT MAY PRODUCE AN ERROR ###\n",
    "try:\n",
    "    fh = open(iname)\n",
    "    line = fh.readline()\n",
    "    fh.close()\n",
    "    value = line.split('\\t')[0]\n",
    "    fw = open(cwd+oname,\"w\")\n",
    "    fw.write(str(int(value)*.2))\n",
    "    fw.close()\n",
    "    \n",
    "### ERROR HANDLING ###\n",
    "except IOError, (errno,errtext):\n",
    "    if errno==13:\n",
    "        print(\"Can't write to outfile.\")\n",
    "    elif errno==2:\n",
    "        print(\"File not exist\")\n",
    "except ValueError, strerror:        \n",
    "    if \"substring not found\" in strerror.message:\n",
    "        print(\"There is no tab\")\n",
    "    elif \"invalid literal for int\" in strerror.message:\n",
    "        print(\"The value can't be converted to int\")\n",
    "except:\n",
    "    print \"Some unknown error occured!?\"\n",
    "else:\n",
    "    print(\"Thank you!. Everything went OK.\")"
   ]
  },
  {
   "cell_type": "markdown",
   "metadata": {},
   "source": [
    "> \"You can make it foolproof, but you can't make it damnfoolproof\" -- Naeser's law"
   ]
  },
  {
   "cell_type": "markdown",
   "metadata": {},
   "source": [
    "#### Provoking Exceptions\n",
    "\n",
    "Say we have a function that calculates the average of a sequence of numbers:"
   ]
  },
  {
   "cell_type": "code",
   "execution_count": null,
   "metadata": {
    "collapsed": false
   },
   "outputs": [],
   "source": [
    "def avg(numbers):\n",
    "    return sum(numbers) / len(numbers)"
   ]
  },
  {
   "cell_type": "markdown",
   "metadata": {},
   "source": [
    "A function of this type with have problems with an empty list"
   ]
  },
  {
   "cell_type": "code",
   "execution_count": null,
   "metadata": {
    "collapsed": false
   },
   "outputs": [],
   "source": [
    "avg( [] )"
   ]
  },
  {
   "cell_type": "markdown",
   "metadata": {},
   "source": [
    "The error doesn't tell us that it was caused by an empty list. It would be more interesting with if this error could point this out for us. For this we can **raise** an exception"
   ]
  },
  {
   "cell_type": "code",
   "execution_count": null,
   "metadata": {
    "collapsed": false
   },
   "outputs": [],
   "source": [
    "def avg(numbers):\n",
    "    if not numbers:\n",
    "        raise ValueError( \"The list provided is empty!\" )\n",
    "    return sum(numbers) / len(numbers)"
   ]
  },
  {
   "cell_type": "code",
   "execution_count": null,
   "metadata": {
    "collapsed": false
   },
   "outputs": [],
   "source": [
    "avg( [] )"
   ]
  },
  {
   "cell_type": "markdown",
   "metadata": {},
   "source": [
    "Now instead of a ZeroDivisionError we get a ValueError that points the user to the cause of the problem. "
   ]
  },
  {
   "cell_type": "markdown",
   "metadata": {},
   "source": [
    "<br><br><br><img src=\"../pix/book.gif\" width=50px> Required reading for next week: \n",
    "* Python for Bioinformatics by S. Bassi - Chapter 8, Object Orienting Programming\n",
    "\n",
    "\n",
    "<br><br><br>\n",
    "<img src=\"../pix/exercise.png\">\n",
    "<br><br><br>\n",
    "\n"
   ]
  },
  {
   "cell_type": "code",
   "execution_count": null,
   "metadata": {
    "collapsed": false
   },
   "outputs": [],
   "source": [
    "from IPython.core.display import HTML\n",
    "\n",
    "\n",
    "def css_styling():\n",
    "    styles = open(\"../styles/custom.css\", \"r\").read()\n",
    "    return HTML(styles)\n",
    "css_styling()"
   ]
  }
 ],
 "metadata": {
  "kernelspec": {
   "display_name": "Python 2",
   "language": "python",
   "name": "python2"
  },
  "language_info": {
   "codemirror_mode": {
    "name": "ipython",
    "version": 2
   },
   "file_extension": ".py",
   "mimetype": "text/x-python",
   "name": "python",
   "nbconvert_exporter": "python",
   "pygments_lexer": "ipython2",
   "version": "2.7.10"
  }
 },
 "nbformat": 4,
 "nbformat_minor": 0
}
