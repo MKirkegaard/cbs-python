{
 "metadata": {
  "name": "",
  "signature": "sha256:a5597d8aafcaf714a5c33862b08b260b861bb6a35ca3b32f5324d5df5a3ea011"
 },
 "nbformat": 3,
 "nbformat_minor": 0,
 "worksheets": [
  {
   "cells": [
    {
     "cell_type": "markdown",
     "metadata": {},
     "source": [
      "# Last weeks exercises\n",
      "\n",
      "<q>1. Reading CSV files </q>"
     ]
    },
    {
     "cell_type": "code",
     "collapsed": false,
     "input": [],
     "language": "python",
     "metadata": {},
     "outputs": []
    },
    {
     "cell_type": "markdown",
     "metadata": {},
     "source": [
      "<q>2. Parsing fasta files</q>"
     ]
    },
    {
     "cell_type": "code",
     "collapsed": false,
     "input": [],
     "language": "python",
     "metadata": {},
     "outputs": [],
     "prompt_number": 3
    },
    {
     "cell_type": "markdown",
     "metadata": {},
     "source": [
      "<q>3. Writing files</q>"
     ]
    },
    {
     "cell_type": "code",
     "collapsed": false,
     "input": [],
     "language": "python",
     "metadata": {},
     "outputs": []
    },
    {
     "cell_type": "markdown",
     "metadata": {},
     "source": [
      "<q>4. Sequence sorter</q>"
     ]
    },
    {
     "cell_type": "code",
     "collapsed": false,
     "input": [],
     "language": "python",
     "metadata": {},
     "outputs": []
    },
    {
     "cell_type": "markdown",
     "metadata": {},
     "source": [
      "<q>5. DNA translator</q>"
     ]
    },
    {
     "cell_type": "code",
     "collapsed": false,
     "input": [],
     "language": "python",
     "metadata": {},
     "outputs": [],
     "prompt_number": 5
    },
    {
     "cell_type": "markdown",
     "metadata": {},
     "source": [
      "# Case story\n"
     ]
    },
    {
     "cell_type": "markdown",
     "metadata": {},
     "source": [
      "# Comparing the codon usage of human gut bacteria obtained from SAS flights landing at Kastrup\n",
      "\n",
      "## Introduction\n",
      "Airports have been suggested as potentially optimal control points for limiting the spread of disease outbreaks. Here we investigated combined air toilet waste from 18 international flights arriving to Copenhagen. Total DNA was extracted and sequenced using Illumina technology. The sequence reads were de-novo assembled and all possible microbial genes were extracted.\n",
      "The resulting microbial gene catalogue was compared to the UniProt database.\n",
      "\n",
      "<center>\n",
      "<img src=\"../pix/sas.jpg\" width=\"300px\"/>\n",
      "</center>\n",
      "<br><br>\n",
      "The goal of this case is to calculate the codon usage for all sequences from a) Alphaproteobacteria and b) Clostridiales and print the codon usage for a) and b) next to each other.\n"
     ]
    },
    {
     "cell_type": "markdown",
     "metadata": {},
     "source": [
      "## Input files\n",
      "We have following files:\n",
      "* the FASTA file (302Mb), containing all microbial genes (nucleotides) \n",
      "<br>`../data/SK926/SK926.fna` \n",
      "<br>\n",
      "<code style=\"white-space: pre\">\n",
      "\\>contig-100_0_1 # 3 # 269 # -1 # ID=1_1;partial=10;start_type=ATG;rbs_motif=TAA;rbs_spacer=14bp;gc_cont=0.378\n",
      "ATGAGTGAAGAAAATAACTGGAATTATGGAAATGATGAGCCGAATGTAAATCAGGGAAATCCTGTCAGCC\n",
      "TGGAGAAAAGTACGACTGATGGTACAGCAGGTGTAAATTTAGAGAAGACTGTGACCGGAAATGAAGAGCG\n",
      "TGTAAATTCAGAAAAGACTATGACAGACAATCCGTATTATACAAATACGTCATATGGAAACGGCAATACA\n",
      "AATTATAATTACGGACAGTCAAATGACAGTGCAGGTTATAACTATGGACAGTCAAAC\n",
      "\\>contig-100_0_2 # 284 # 1297 # -1 # ID=1_2;partial=00;start_type=ATG;rbs_motif=TAA;rbs_spacer=15bp;gc_cont=0.413\n",
      "ATGAAATTACTGACATTTGCGATCCCGTGTTACAATTCACAGGATTACATGGAAAACTGTATCAAATCCC\n",
      "TGCTGCCGGGTGGCGATGATGTTGAGATCCTGATCATTGATGATGGGTCAAAAGATAGCACCGGTGACAT\n",
      "AGCAGATGCCTATGAGAAGAAATATCCGGGAATCATCCGTGCAATCCATCAGGTAAATGGAGGACACGGA\n",
      "GAGGCTGTCAATGCTGGAATCCGCAATGCGACAGGACTTTATTTTAAAGTGGTAGACAGCGATGACTGGG\n",
      "...\n",
      "</code><br>\n",
      "* the UniProt BLAST result (15Mb), tab-separated format (geneID bestHit-ID score ....)\n",
      "<br>`../data/SK926/SK926.blast_swissprot` \n",
      "<br>\n",
      "<code style=\"white-space: pre\">\n",
      "contig-100_0_2\tEPSJ_BACSU\t28.4\t222\t137\t10\t1\t636\t2\t211\t5.3e-16\t86.7\n",
      "contig-100_0_3\tGLF_ECOLI\t38.0\t392\t210\t13\t1\t1152\t1\t367\t8.9e-68\t258.8\n",
      "contig-100_0_43\tTAGA_BACSU\t30.9\t233\t147\t7\t7\t687\t1\t225\t1.9e-23\t110.9\n",
      "contig-100_0_14\tYNDE_BACSU\t22.2\t374\t256\t12\t1\t1077\t1\t354\t3.1e-18\t95.1\n",
      "contig-100_0_13\tSP2R_BACSU\t30.0\t203\t137\t2\t25\t618\t2\t204\t2e-24\t114.0\n",
      "contig-100_1_5\tY112B_HAEIN\t38.2\t267\t156\t6\t1\t792\t6\t266\t3e-41\t171.0\n",
      "contig-100_0_20\tY6286_MYCS2\t45.0\t429\t233\t3\t4\t1284\t1\t428\t7.5e-108\t392.1\n",
      "...\n",
      "</code>\n",
      "    \n",
      "* a UniProt database extract (32Mb), containing the UniProt-ID, the organism and the NCBI taonomy, tab separated\n",
      "format (UniProt-ID   Organism   Taxonomy):\n",
      "<br> `../data/SK926/swissprot_db.dat` \n",
      "<br>\n",
      "<code  style=\"white-space: pre\">\n",
      "EPSJ_BACSU\tBacillus subtilis (strain 168)\t Bacteria; Firmicutes; Bacilli; Bacillales; Bacillaceae; Bacillus\n",
      "GLF_ECOLI\tEscherichia coli (strain K12)\t Bacteria; Proteobacteria; Gammaproteobacteria; Enterobacteriales; Enterobacteriaceae; Escherichia\n",
      "TAGA_BACSU\tBacillus subtilis (strain 168)\t Bacteria; Firmicutes; Bacilli; Bacillales; Bacillaceae; Bacillus\n",
      "YNDE_BACSU\tBacillus subtilis (strain 168)\t Bacteria; Firmicutes; Bacilli; Bacillales; Bacillaceae; Bacillus\n",
      "SP2R_BACSU\tBacillus subtilis (strain 168)\t Bacteria; Firmicutes; Bacilli; Bacillales; Bacillaceae; Bacillus\n",
      "Y112B_HAEIN\tHaemophilus influenzae (strain ATCC 51907 / DSM 11121 / KW20 / Rd)\t Bacteria; Proteobacteria; Gammaproteobacteria; Pasteurellales; Pasteurellaceae; Haemophilus\n",
      "...\n",
      "</code>\n",
      "\n"
     ]
    },
    {
     "cell_type": "markdown",
     "metadata": {},
     "source": [
      "## Desired output:\n",
      "<code>\n",
      "      A    C\n",
      "CTT: 1.76 2.14\n",
      "TAG: 0.04 0.05\n",
      "ACA: 1.41 1.97\n",
      "ACG: 1.33 0.92\n",
      "ATC: 3.43 3.53\n",
      "AAC: 2.02 1.96\n",
      "ATA: 1.13 0.95\n",
      "...\n",
      "<code>"
     ]
    },
    {
     "cell_type": "markdown",
     "metadata": {},
     "source": [
      "## STEP 1: Decide how to attack the problem\n",
      "\n"
     ]
    },
    {
     "cell_type": "code",
     "collapsed": false,
     "input": [],
     "language": "python",
     "metadata": {},
     "outputs": []
    },
    {
     "cell_type": "markdown",
     "metadata": {},
     "source": [
      "## STEP 2: Make the overall structure of the program\n"
     ]
    },
    {
     "cell_type": "code",
     "collapsed": false,
     "input": [],
     "language": "python",
     "metadata": {},
     "outputs": []
    },
    {
     "cell_type": "markdown",
     "metadata": {},
     "source": [
      "## STEP 3: Fill out the functions"
     ]
    },
    {
     "cell_type": "code",
     "collapsed": false,
     "input": [],
     "language": "python",
     "metadata": {},
     "outputs": []
    },
    {
     "cell_type": "markdown",
     "metadata": {},
     "source": [
      "## STEP 4: Run it! "
     ]
    },
    {
     "cell_type": "markdown",
     "metadata": {},
     "source": [
      "### Exercise\n",
      "Write the complete python program, test run it on the data files and mail [me](mailto:thomas@cbs.dtu.dk) the script.\n",
      "<br>\n",
      "\n"
     ]
    },
    {
     "cell_type": "markdown",
     "metadata": {},
     "source": [
      "---"
     ]
    },
    {
     "cell_type": "code",
     "collapsed": false,
     "input": [
      "from IPython.core.display import HTML\n",
      "\n",
      "\n",
      "def css_styling():\n",
      "    styles = open(\"../styles/custom.css\", \"r\").read()\n",
      "    return HTML(styles)\n",
      "css_styling()"
     ],
     "language": "python",
     "metadata": {},
     "outputs": []
    },
    {
     "cell_type": "code",
     "collapsed": false,
     "input": [],
     "language": "python",
     "metadata": {},
     "outputs": []
    }
   ],
   "metadata": {}
  }
 ]
}