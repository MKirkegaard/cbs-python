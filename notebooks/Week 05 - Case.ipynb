{
 "metadata": {
  "name": "",
  "signature": "sha256:4e2885c1e84862a126e93e8439c77725bc58e2f46aa27e1e16705cb46c43a385"
 },
 "nbformat": 3,
 "nbformat_minor": 0,
 "worksheets": [
  {
   "cells": [
    {
     "cell_type": "markdown",
     "metadata": {},
     "source": [
      "## Backup your exercises\n",
      "copy manually your changed exercise files to another directory\n",
      "\n",
      "## Update your Course Materials!\n",
      "<code>\n",
      "cd cbs-python\n",
      "git checkout -f master\n",
      "git pull origin master\n",
      "\n",
      "\n",
      "In case of \"merge\" problems ...\n",
      "\n",
      "git fetch --all\n",
      "git reset --hard origin/master\n",
      "</code>\n",
      "<br><br><br>\n",
      "<br><br><br><br><br><br><br><br><br><br><br><br><br><br><br>"
     ]
    },
    {
     "cell_type": "markdown",
     "metadata": {},
     "source": [
      "# Last weeks exercises\n",
      "\n",
      "<q>1. Reading CSV files </q>"
     ]
    },
    {
     "cell_type": "code",
     "collapsed": false,
     "input": [
      "csv_file = \"../data/genes.csv\"\n",
      "\n",
      "fh = open(csv_file)\n",
      "\n",
      "fh.readline() # read but ignore the first line\n",
      "\n",
      "D = {}\n",
      "for line in fh.readlines():\n",
      "        fields = line.split('\\t')\n",
      "        if len(fields) != 3: continue\n",
      "        gene, C1, C2 = fields\n",
      "        D[gene] = (float(C1), float(C2))\n",
      "\n",
      "print D\n",
      "\n"
     ],
     "language": "python",
     "metadata": {},
     "outputs": []
    },
    {
     "cell_type": "markdown",
     "metadata": {},
     "source": [
      "The same code using a dictionary of dictionaries"
     ]
    },
    {
     "cell_type": "code",
     "collapsed": false,
     "input": [
      "\n",
      "csv_file = \"../data/genes.csv\"\n",
      "\n",
      "fh = open(csv_file)\n",
      "\n",
      "fh.readline() # read but ignore the first line\n",
      "\n",
      "D = {}\n",
      "for line in fh.readlines():\n",
      "        fields = line.split('\\t')\n",
      "        if len(fields) != 3: continue\n",
      "        \n",
      "        gene, C1, C2 = fields\n",
      "       \n",
      "        D[gene] = {'C1':float(C1), 'C2':float(C2)}\n",
      "\n",
      "gene = 'RNF14'\n",
      "print D[gene]['C1']\n",
      "\n",
      "fh.close()\n"
     ],
     "language": "python",
     "metadata": {},
     "outputs": [
      {
       "output_type": "stream",
       "stream": "stdout",
       "text": [
        "53.3653467074\n"
       ]
      }
     ],
     "prompt_number": 23
    },
    {
     "cell_type": "markdown",
     "metadata": {},
     "source": [
      "<q>2. Parsing fasta files</q>"
     ]
    },
    {
     "cell_type": "code",
     "collapsed": false,
     "input": [
      "\n",
      "fasta_file = \"../data/HIV-1_M-B.fasta\"\n",
      "\n",
      "def parse_fasta(fasta_file):\n",
      "    entries = []\n",
      "    entry = {}\n",
      "\n",
      "    fh = open(fasta_file)\n",
      "    for line in fh.readlines():\n",
      "        if line[0] == '>':\n",
      "            if entry: entries.append(entry)\n",
      "\n",
      "            fields = line.split('|')\n",
      "            db, UniqueIdentifier, description = fields\n",
      "            entry = {}\n",
      "            entry['DB'] = db[1:]\n",
      "            entry[\"AccNum\"] = UniqueIdentifier\n",
      "\n",
      "            d_fields = description.split()\n",
      "\n",
      "# >db|UniqueIdentifier|EntryName ProteinName OS=OrganismName[ GN=GeneName]\n",
      "#  PE=ProteinExistence SV=SequenceVersion\n",
      "\n",
      "#>sp|P03378|ENV_HV1A2 Envelope glycoprotein gp160 OS=Human \\\n",
      "# immunodeficiency virus type 1 group M subtype B (isolate ARV2/SF2) GN=env PE=3 SV=1\n",
      "            protein_part, organism_part = description.split(' OS=')\n",
      "            entry[\"EntryName\"] = protein_part.split()[0]\n",
      "            entry[\"ProtName\"] =  ' '.join(protein_part.split()[1:])\n",
      "            entry[\"Organism\"] = organism_part.split('PE=')[0].split('GN=')[0].strip()\n",
      "            entry['Sequence'] = ''\n",
      "\n",
      "        else:\n",
      "            entry['Sequence'] = entry['Sequence'] + line.strip()\n",
      "        \n",
      "\n",
      "    entries.append(entry)\n",
      "    return entries\n",
      "\n",
      "HIV = parse_fasta(fasta_file)\n",
      "#print 'HIV=', HIV\n",
      "new_entry =  HIV[0]\n",
      "print new_entry"
     ],
     "language": "python",
     "metadata": {},
     "outputs": [
      {
       "output_type": "stream",
       "stream": "stdout",
       "text": [
        "{'Sequence': 'MKVKGTRRNYQHLWRWGTLLLGMLMICSATEKLWVTVYYGVPVWKEATTTLFCASDARAYDTEVHNVWATHACVPTDPNPQEVVLGNVTENFNMWKNNMVEQMQEDIISLWDQSLKPCVKLTPLCVTLNCTDLGKATNTNSSNWKEEIKGEIKNCSFNITTSIRDKIQKENALFRNLDVVPIDNASTTTNYTNYRLIHCNRSVITQACPKVSFEPIPIHYCTPAGFAILKCNNKTFNGKGPCTNVSTVQCTHGIRPIVSTQLLLNGSLAEEEVVIRSDNFTNNAKTIIVQLNESVAINCTRPNNNTRKSIYIGPGRAFHTTGRIIGDIRKAHCNISRAQWNNTLEQIVKKLREQFGNNKTIVFNQSSGGDPEIVMHSFNCRGEFFYCNTTQLFNNTWRLNHTEGTKGNDTIILPCRIKQIINMWQEVGKAMYAPPIGGQISCSSNITGLLLTRDGGTNVTNDTEVFRPGGGDMRDNWRSELYKYKVIKIEPLGIAPTKAKRRVVQREKRAVGIVGAMFLGFLGAAGSTMGAVSLTLTVQARQLLSGIVQQQNNLLRAIEAQQHLLQLTVWGIKQLQARVLAVERYLRDQQLLGIWGCSGKLICTTAVPWNASWSNKSLEDIWDNMTWMQWEREIDNYTNTIYTLLEESQNQQEKNEQELLELDKWASLWNWFSITNWLWYIKIFIMIVGGLVGLRIVFAVLSIVNRVRQGYSPLSFQTRLPVPRGPDRPDGIEEEGGERDRDRSVRLVDGFLALIWEDLRSLCLFSYRRLRDLLLIAARTVEILGHRGWEALKYWWSLLQYWIQELKNSAVSWLNATAIAVTEGTDRVIEVAQRAYRAILHIHRRIRQGLERLLL', 'DB': 'sp', 'AccNum': 'P03378', 'EntryName': 'ENV_HV1A2', 'ProtName': 'Envelope glycoprotein gp160', 'Organism': 'Human immunodeficiency virus type 1 group M subtype B (isolate ARV2/SF2)'}\n"
       ]
      }
     ],
     "prompt_number": 24
    },
    {
     "cell_type": "markdown",
     "metadata": {},
     "source": [
      "<q>3. Writing files</q>"
     ]
    },
    {
     "cell_type": "code",
     "collapsed": false,
     "input": [
      "def write_codon_table(filename, codon_table):\n",
      "    fh = open(filename, 'w+')\n",
      "    for base1 in bases:\n",
      "        for base2 in bases:\n",
      "            for base3 in bases:\n",
      "                codon = base1+base2+base3\n",
      "                fh.write('%s %s ' % (codon, codon_table[codon]))\n",
      "            fh.write('\\n')\n",
      "    fh.close()\n",
      "\n",
      "bases = ['T', 'C', 'A', 'G']\n",
      "codons = [a+b+c for a in bases for b in bases for c in bases]\n",
      "amino_acids = 'FFLLSSSSYY**CC*WLLLLPPPPHHQQRRRRIIIMTTTTNNKKSSRRVVVVAAAADDEEGGGG'\n",
      "codon_table = dict(zip(codons, amino_acids))\n",
      "\n",
      "write_codon_table('mycodon_table.txt', codon_table)\n",
      "\n",
      "     "
     ],
     "language": "python",
     "metadata": {},
     "outputs": [],
     "prompt_number": 25
    },
    {
     "cell_type": "markdown",
     "metadata": {},
     "source": [
      "<q>4. Sequence sorter</q>"
     ]
    },
    {
     "cell_type": "code",
     "collapsed": false,
     "input": [
      "fh_bacteria = open('../data/eftu_bacteria.faa', 'w')\n",
      "fh_archaea = open('../data/eftu_archaea.faa', 'w')\n",
      "fh_eukaryota = open('../data/eftu_eukrayota.faa', 'w')\n",
      "\n",
      "for line in open('../data/eftu.faa'):\n",
      "    if line[0] == '>':\n",
      "        kingdom = line.split()[1]\n",
      "        if kingdom == 'Bacteria;':\n",
      "            out_stream = fh_bacteria\n",
      "        elif kingdom == 'Archaea;':\n",
      "            out_stream = fh_archaea\n",
      "        elif kingdom == 'Eukaryota;':\n",
      "            out_stream = fh_eukaryota\n",
      "\n",
      "    out_stream.write(line)"
     ],
     "language": "python",
     "metadata": {},
     "outputs": []
    },
    {
     "cell_type": "markdown",
     "metadata": {},
     "source": [
      "<q>5. DNA translator</q>"
     ]
    },
    {
     "cell_type": "code",
     "collapsed": false,
     "input": [
      "fasta_file = '../data/human_beta_globin.fasta'\n",
      "\n",
      "def read_fasta(fastafile):\n",
      "    fh = open(fastafile)\n",
      "    entries = {}\n",
      "    for line in fh.readlines():\n",
      "        if line[0]  == '>':\n",
      "            seq_name = line[1:].strip()\n",
      "            entries.setdefault(seq_name,'')\n",
      "        else:\n",
      "            entries[seq_name] += line.strip().upper()\n",
      "\n",
      "    return entries\n",
      "\n",
      "def translate(sequence, frame=1):\n",
      "    bases = ['T', 'C', 'A', 'G']\n",
      "    codons = [a+b+c for a in bases for b in bases for c in bases]\n",
      "    amino_acids = 'FFLLSSSSYY**CC*WLLLLPPPPHHQQRRRRIIIMTTTTNNKKSSRRVVVVAAAADDEEGGGG'\n",
      "    codon_table = dict(zip(codons, amino_acids))\n",
      "    aa_seq = []\n",
      "    for i in range(frame-1, len(sequence), 3):\n",
      "        codon = sequence[i:i+3]\n",
      "        if len(codon) !=3: break\n",
      "        aa_seq.append(codon_table.get(codon, 'X'))\n",
      "    return ''.join(aa_seq)\n",
      "\n",
      "def reverse_complement(sequence):\n",
      "    rseq = sequence[::-1]\n",
      "    rev_dict = {'A':'T','T':'A','G':'C','C':'G'}\n",
      "    return ''.join([rev_dict.get(x, 'N') for x in rseq])\n",
      "                   \n",
      "            \n",
      "for name, sequence in read_fasta(fasta_file).items():\n",
      "    print name\n",
      "    print sequence\n",
      "    for i in range(1,4):\n",
      "        print i, translate(sequence, frame=i)\n",
      "\n",
      "    r_sequence = reverse_complement(sequence)\n",
      "    for i in range(1,4):\n",
      "        print i*-1, translate(r_sequence, frame=i)\n",
      "    \n",
      "\n",
      "        \n"
     ],
     "language": "python",
     "metadata": {},
     "outputs": []
    },
    {
     "cell_type": "markdown",
     "metadata": {},
     "source": [
      "<br><br><br><br><br><br><br><br>"
     ]
    },
    {
     "cell_type": "markdown",
     "metadata": {},
     "source": [
      "# Modules - an ultrashort intro\n",
      "\n",
      "    import random\n",
      "\n",
      "    import math\n",
      "\n",
      "    from math import pi, e"
     ]
    },
    {
     "cell_type": "code",
     "collapsed": false,
     "input": [
      "from math import pi, e\n",
      "print pi\n",
      "\n",
      "from mytools import parse_fasta"
     ],
     "language": "python",
     "metadata": {},
     "outputs": [
      {
       "output_type": "stream",
       "stream": "stdout",
       "text": [
        "3.14159265359\n"
       ]
      }
     ],
     "prompt_number": 19
    },
    {
     "cell_type": "markdown",
     "metadata": {},
     "source": [
      "<br><br><br><br><br><br><br><br><br><br><br><br><br><br><br><br><br>\n",
      "<br><br><br><img src=\"../pix/play2.jpg\">\n",
      "## Create your own module\n",
      "1. Create a new python file (e.g. *mytools.py*) in you favorite python editor (e.g. sublime2)\n",
      "1. Rewrite - once and for all - the parse FASTA function (e.g. *read_fasta*) (NOTE: you have to save it in the notebook directory)\n",
      "1. In the code field below, write *from mytools import read_fasta*\n",
      "1. Apply the function on a fasta file from previous exercises\n"
     ]
    },
    {
     "cell_type": "code",
     "collapsed": false,
     "input": [],
     "language": "python",
     "metadata": {},
     "outputs": []
    },
    {
     "cell_type": "markdown",
     "metadata": {},
     "source": [
      "<br><br><br><br><br><br><br><br><br><br><br><br><br><br><br><br><br>\n"
     ]
    },
    {
     "cell_type": "markdown",
     "metadata": {},
     "source": [
      "# Case story: Comparing the codon usage of human gut bacteria obtained from SAS flights landing at Kastrup\n",
      "\n",
      "## Introduction\n",
      "Airports have been suggested as potentially optimal control points for limiting the spread of disease outbreaks. Here we investigated combined air toilet waste from 18 international flights arriving to Copenhagen. Total DNA was extracted and sequenced using Illumina technology. The sequence reads were de-novo assembled and all possible microbial genes were extracted.\n",
      "The resulting microbial gene catalogue was compared to the SwissProt database.\n",
      "\n",
      "<center>\n",
      "<img src=\"../pix/sas.jpg\" width=\"300px\"/>\n",
      "</center>\n",
      "<br><br>\n",
      "The goal of this case is to calculate the codon usage for all sequences from a) Alphaproteobacteria and b) Clostridiales and print the codon usage for a) and b) next to each other.\n",
      "<br><br><br><br><br><br>"
     ]
    },
    {
     "cell_type": "markdown",
     "metadata": {},
     "source": [
      "## Input files\n",
      "The data files for this exercise are too big for using *git*. So we zipped them and put the zip file [here](http://www.cbs.dtu.dk/courses/27624/SK926.zip)\n",
      "<br>Download and unzip SK926.zip in your *data* folder.\n",
      "<br>\n",
      "<br>\n",
      "Now, you have following files:\n",
      "* the FASTA files containing all microbial genes (nucleotides)\n",
      "<br><code style=\"white-space: pre\">\n",
      "\\>contig-100_0_1 # 3 # 269 # -1 # ID=1_1;partial=10;start_type=ATG;rbs_motif=TAA;rbs_spacer=14bp;gc_cont=0.378\n",
      "ATGAGTGAAGAAAATAACTGGAATTATGGAAATGATGAGCCGAATGTAAATCAGGGAAATCCTGTCAGCC\n",
      "TGGAGAAAAGTACGACTGATGGTACAGCAGGTGTAAATTTAGAGAAGACTGTGACCGGAAATGAAGAGCG\n",
      "TGTAAATTCAGAAAAGACTATGACAGACAATCCGTATTATACAAATACGTCATATGGAAACGGCAATACA\n",
      "AATTATAATTACGGACAGTCAAATGACAGTGCAGGTTATAACTATGGACAGTCAAAC\n",
      "\\>contig-100_0_2 # 284 # 1297 # -1 # ID=1_2;partial=00;start_type=ATG;rbs_motif=TAA;rbs_spacer=15bp;gc_cont=0.413\n",
      "ATGAAATTACTGACATTTGCGATCCCGTGTTACAATTCACAGGATTACATGGAAAACTGTATCAAATCCC\n",
      "TGCTGCCGGGTGGCGATGATGTTGAGATCCTGATCATTGATGATGGGTCAAAAGATAGCACCGGTGACAT\n",
      "AGCAGATGCCTATGAGAAGAAATATCCGGGAATCATCCGTGCAATCCATCAGGTAAATGGAGGACACGGA\n",
      "GAGGCTGTCAATGCTGGAATCCGCAATGCGACAGGACTTTATTTTAAAGTGGTAGACAGCGATGACTGGG\n",
      "...\n",
      "</code><br>\n",
      "* the UniProt BLAST result, tab-separated format (geneID bestHit-ID score ....)<br>\n",
      "<code style=\"white-space: pre\">\n",
      "contig-100_0_2\tEPSJ_BACSU\t28.4\t222\t137\t10\t1\t636\t2\t211\t5.3e-16\t86.7\n",
      "contig-100_0_3\tGLF_ECOLI\t38.0\t392\t210\t13\t1\t1152\t1\t367\t8.9e-68\t258.8\n",
      "contig-100_0_43\tTAGA_BACSU\t30.9\t233\t147\t7\t7\t687\t1\t225\t1.9e-23\t110.9\n",
      "contig-100_0_14\tYNDE_BACSU\t22.2\t374\t256\t12\t1\t1077\t1\t354\t3.1e-18\t95.1\n",
      "contig-100_0_13\tSP2R_BACSU\t30.0\t203\t137\t2\t25\t618\t2\t204\t2e-24\t114.0\n",
      "contig-100_1_5\tY112B_HAEIN\t38.2\t267\t156\t6\t1\t792\t6\t266\t3e-41\t171.0\n",
      "contig-100_0_20\tY6286_MYCS2\t45.0\t429\t233\t3\t4\t1284\t1\t428\t7.5e-108\t392.1\n",
      "...\n",
      "</code>\n",
      "    \n",
      "* a UniProt database extract, containing the UniProt-ID, the organism and the NCBI taonomy, tab separated\n",
      "format (UniProt-ID   Organism   Taxonomy):<br>\n",
      "<code  style=\"white-space: pre\">\n",
      "EPSJ_BACSU\tBacillus subtilis (strain 168)\t Bacteria; Firmicutes; Bacilli; Bacillales; Bacillaceae; Bacillus\n",
      "GLF_ECOLI\tEscherichia coli (strain K12)\t Bacteria; Proteobacteria; Gammaproteobacteria; Enterobacteriales; Enterobacteriaceae; Escherichia\n",
      "TAGA_BACSU\tBacillus subtilis (strain 168)\t Bacteria; Firmicutes; Bacilli; Bacillales; Bacillaceae; Bacillus\n",
      "YNDE_BACSU\tBacillus subtilis (strain 168)\t Bacteria; Firmicutes; Bacilli; Bacillales; Bacillaceae; Bacillus\n",
      "SP2R_BACSU\tBacillus subtilis (strain 168)\t Bacteria; Firmicutes; Bacilli; Bacillales; Bacillaceae; Bacillus\n",
      "Y112B_HAEIN\tHaemophilus influenzae (strain ATCC 51907 / DSM 11121 / KW20 / Rd)\t Bacteria; Proteobacteria; Gammaproteobacteria; Pasteurellales; Pasteurellaceae; Haemophilus\n",
      "...\n",
      "</code>\n",
      "\n"
     ]
    },
    {
     "cell_type": "markdown",
     "metadata": {},
     "source": [
      "## Desired output:\n",
      "<code>\n",
      "      A    C\n",
      "CTT: 1.76 2.14\n",
      "TAG: 0.04 0.05\n",
      "ACA: 1.41 1.97\n",
      "ACG: 1.33 0.92\n",
      "ATC: 3.43 3.53\n",
      "AAC: 2.02 1.96\n",
      "ATA: 1.13 0.95\n",
      "...\n",
      "<code>"
     ]
    },
    {
     "cell_type": "markdown",
     "metadata": {},
     "source": [
      "## STEP 1: Decide how to attack the problem\n",
      "\n"
     ]
    },
    {
     "cell_type": "markdown",
     "metadata": {},
     "source": [
      "1. read sequences\n",
      "2. read Blast report\n",
      "3. read DB\n",
      "\n",
      "4. assign sequences to species/taxonomy\n",
      "\n",
      "5. extract sequences for alpha-proteobacteria\n",
      "\n",
      "6. calculate codon usage\n",
      "\n",
      "7. output"
     ]
    },
    {
     "cell_type": "markdown",
     "metadata": {},
     "source": [
      "## STEP 2: Make the overall structure of the program\n"
     ]
    },
    {
     "cell_type": "markdown",
     "metadata": {},
     "source": [
      "1. read sequences\n",
      "\n",
      "    use `read_fasta` from your module\n",
      "    \n",
      "2. read Blast report\n",
      "\n",
      "    function `blast_report_reader`\n",
      "    \n",
      "3. read DB\n",
      "\n",
      "    function `read_db`\n",
      "\n",
      "4. assign sequences to species/taxonomy\n",
      "\n",
      "    dictionary with gene_names as key which returns sequence \n",
      "    \n",
      "    dictionary with gene_names as key which returns blast_best_hit (sp_id)\n",
      "\n",
      "    dictionary with sp_id as key which returns taxonomy\n",
      "    \n",
      "    list with gene_name, sequence and taxonomy\n",
      "\n",
      "\n",
      "5. extract sequences for alpha-proteobacteria\n",
      "\n",
      "    loop over the list of gene_name, sequence and taxonomy - match alpha-prot.\n",
      "\n",
      "    -> list of sequences\n",
      "\n",
      "\n",
      "6. calculate codon usage\n",
      "    \n",
      "    function `codon_usage`\n",
      "\n",
      "    apply codon_usage to all sequences in the list of sequences\n",
      "\n",
      "7. output"
     ]
    },
    {
     "cell_type": "markdown",
     "metadata": {},
     "source": [
      "## STEP 3: Fill out the functions"
     ]
    },
    {
     "cell_type": "code",
     "collapsed": false,
     "input": [],
     "language": "python",
     "metadata": {},
     "outputs": []
    },
    {
     "cell_type": "markdown",
     "metadata": {},
     "source": [
      "## STEP 4: Run it! "
     ]
    },
    {
     "cell_type": "markdown",
     "metadata": {},
     "source": [
      "### Exercise\n",
      "Write the complete python program, test run it on the data files and mail [me](mailto:thomas@cbs.dtu.dk) the script.\n",
      "<br>\n",
      "\n"
     ]
    },
    {
     "cell_type": "markdown",
     "metadata": {},
     "source": [
      "---"
     ]
    },
    {
     "cell_type": "code",
     "collapsed": false,
     "input": [
      "from IPython.core.display import HTML\n",
      "\n",
      "\n",
      "def css_styling():\n",
      "    styles = open(\"../styles/custom.css\", \"r\").read()\n",
      "    return HTML(styles)\n",
      "css_styling()"
     ],
     "language": "python",
     "metadata": {},
     "outputs": [
      {
       "html": [
        "<style>\n",
        "    div.cell{\n",
        "        width:800px;\n",
        "        margin-left:16% !important;\n",
        "        margin-right:auto;\n",
        "    }\n",
        "    div.text_cell_render{\n",
        "        font-family: \"Helvetica Neue\", Arial, Helvetica, Geneva, sans-serif;\n",
        "        line-height: 145%;\n",
        "        font-size: 100%;\n",
        "        width:800px;\n",
        "        margin-left:auto;\n",
        "        margin-right:auto;\n",
        "    }\n",
        "    .CodeMirror{\n",
        "            font-family: \"Source Code Pro\", source-code-pro,Consolas, monospace;\n",
        "    }\n",
        "    div.CodeMirror{\n",
        "    \tfont-size: 11pt;\n",
        "    }\n",
        "    div.cell.border-box-sizing.code_cell{\n",
        "    \tpadding-left: 50px;\n",
        "    }\n",
        "    div.text_cell_input {\n",
        "    \tmargin-left: 50px;\n",
        "    }\n",
        "    .prompt{\n",
        "        display: None;\n",
        "    }\n",
        "    .text_cell_render h1 {\n",
        "        font-family: Helvetica, serif;\n",
        "        font-size: 30pt;\n",
        "        color: #274257;\n",
        "        text-transform: uppercase;\n",
        "        line-height: 100%;\n",
        "    }\n",
        "    .text_cell_render h2 {\n",
        "    \tmargin-top: 35px;\n",
        "        font-family: Helvetica, serif;\n",
        "        font-size: 24pt;\n",
        "        color: #2A75A9;\n",
        "        line-height: 100%;\n",
        "    }\n",
        "    .text_cell_render h3{\n",
        "    \tmargin-top: 35px;\n",
        "        font-family: Helvetica, serif;\n",
        "        font-size: 18pt;\n",
        "        color: #7EB5D6;\n",
        "        line-height: 100%;\n",
        "       }\n",
        "    .text_cell_render h4{\n",
        "    \tmargin-top: 35px;\n",
        "    \tfont-family: Helvetica, serif;\n",
        "        font-size: 14pt;\n",
        "        line-height: 100%;\n",
        "    }\n",
        "    .text_cell_render h5 {\n",
        "        font-weight: 300;\n",
        "        font-size: 22pt;\n",
        "        color: #4057A1;\n",
        "        font-style: italic;\n",
        "        margin-bottom: .5em;\n",
        "        margin-top: 0.5em;\n",
        "        display: block;\n",
        "        line-height: 100%;\n",
        "    }\n",
        "    \n",
        "    .warning{\n",
        "        color: rgb( 240, 20, 20 )\n",
        "        } \n",
        "    .wds {\n",
        "        background: none repeat scroll 0% 0% rgb(247, 247, 247);\n",
        "        padding: 0em 0em;\n",
        "        font-size: 11px;\n",
        "        font-family: Arial,Helvetica,sans-serif;\n",
        "        display: inline-block;\n",
        "        margin: 0px 0em;\n",
        "        white-space: nowrap;\n",
        "    }\n",
        "    cb {\n",
        "        background: none repeat scroll 0% 0% rgb(247, 247, 247);\n",
        "        padding: 0.1em 0.6em;\n",
        "        border: 1px solid rgb(204, 204, 204);\n",
        "        font-size: 11pt;\n",
        "        font-family: \"Source Code Pro\", source-code-pro,Consolas, monospace;\n",
        "        color: rgb(51, 51, 51);\n",
        "        box-shadow: 0px 1px 0px rgba(0, 0, 0, 0.2), 0px 0px 0px 2px rgb(255, 255, 255) inset;\n",
        "        border-radius: 3px 3px 3px 3px;\n",
        "        display: inline-block;\n",
        "        margin: 0px 0.1em;\n",
        "        line-height: 1.4;\n",
        "        white-space: nowrap;\n",
        "    }\n",
        "    q {\t\n",
        "        font-weight: 300;\n",
        "        font-size: 14pt;\n",
        "        color: #4057A1;\n",
        "        margin-bottom: .5em;\n",
        "        margin-top: 0.5em;\n",
        "        display: block;\n",
        "        font-family: \"Helvetica Neue\", Arial, Helvetica, Geneva, sans-serif;\n",
        "        line-height: 145%;\n",
        "        width:800px;\n",
        "        margin-left:auto;\n",
        "        margin-right:auto;\n",
        "    }\n",
        "    qq {\t\n",
        "        font-weight: 300;\n",
        "        font-size: 11pt;\n",
        "        color: #4057A1;\n",
        "        margin-bottom: .5em;\n",
        "        margin-top: 0.5em;\n",
        "        display: block;\n",
        "        font-family: \"Helvetica Neue\", Arial, Helvetica, Geneva, sans-serif;\n",
        "        line-height: 145%;\n",
        "        width:800px;\n",
        "        margin-left:auto;\n",
        "        margin-right:auto;\n",
        "    }\n",
        "    kbd {\n",
        "        background: none repeat scroll 0% 0% rgb(247, 247, 247);\n",
        "        padding: 0.1em 0.6em;\n",
        "        border: 1px solid rgb(204, 204, 204);\n",
        "        font-size: 11px;\n",
        "        font-family: Arial,Helvetica,sans-serif;\n",
        "        color: rgb(51, 51, 51);\n",
        "        box-shadow: 0px 1px 0px rgba(0, 0, 0, 0.2), 0px 0px 0px 2px rgb(255, 255, 255) inset;\n",
        "        border-radius: 3px 3px 3px 3px;\n",
        "        display: inline-block;\n",
        "        margin: 0px 0.1em;\n",
        "        text-shadow: 0px 1px 0px rgb(255, 255, 255);\n",
        "        line-height: 1.4;\n",
        "        white-space: nowrap;\n",
        "    }\n",
        "    ol {\n",
        "        list-style-type: decimal;\n",
        "    }\n",
        "\n",
        "\t.box_rotate {\n",
        "\t\t  -webkit-transform: rotate(270deg);  /* Chrome, Safari 3.1+ */\n",
        "\t\t     -moz-transform: rotate(270deg);  /* Firefox 3.5-15 */\n",
        "\t\t      -ms-transform: rotate(270deg);  /* IE 9 */\n",
        "\t\t       -o-transform: rotate(270deg);  /* Opera 10.50-12.00 */\n",
        "\t\t          transform: rotate(270deg);  /* Firefox 16+, IE 10+, Opera 12.10+ */\n",
        "\t}\n",
        "\n",
        "\t.vertical-text {\n",
        "\t\tdisplay: inline-block;\n",
        "\t\toverflow: hidden;\n",
        "\t\twidth: 1.5em;\n",
        "\t}\n",
        "\n",
        "\t.vertical-text__inner {\n",
        "\t\tdisplay: inline-block;\n",
        "\t\twhite-space: nowrap;\n",
        "\t\tline-height: 1.5;\n",
        "\t\t  -webkit-transform: rotate(270deg);  /* Chrome, Safari 3.1+ */\n",
        "\t\t     -moz-transform: rotate(270deg);  /* Firefox 3.5-15 */\n",
        "\t\t      -ms-transform: rotate(270deg);  /* IE 9 */\n",
        "\t\t       -o-transform: rotate(270deg);  /* Opera 10.50-12.00 */\n",
        "\t\t          transform: rotate(270deg);  /* Firefox 16+, IE 10+, Opera 12.10+ */\n",
        "\t}\n",
        "\n",
        "\t.vertical-text__inner:after {\n",
        "\t\tcontent: \"\";\n",
        "\t\tdisplay: block;\n",
        "\t\tmargin: -1.5em 0 100%;\n",
        "\t}\n",
        "\n",
        "\t.topics{\n",
        "\t\tbackground: url('files/images/topics.png') no-repeat scroll 0% 0%; \n",
        "\t\twidth: 520px; \n",
        "\t\theight: 250px; \n",
        "\n",
        "\t\tpadding-top: 35px;\n",
        "\t}\n",
        "\n",
        "\t.c_program{\n",
        "\t\tbackground: url('files/images/program.png') no-repeat scroll 0% 0%; width: 520px; margin-left: auto; margin-right: auto;\n",
        "\t}\n",
        "\n",
        "\t.c_require{\n",
        "\t\tbackground: url('files/images/software.png') no-repeat scroll 0% 0%; width: 520px; height: 250px; margin-left: auto; margin-right: auto;\n",
        "\t}\n",
        "\n",
        "</style>\n",
        "<script>\n",
        "    MathJax.Hub.Config({\n",
        "                        TeX: {\n",
        "                           extensions: [\"AMSmath.js\"]\n",
        "                           },\n",
        "                tex2jax: {\n",
        "                    inlineMath: [ ['$','$'], [\"\\\\(\",\"\\\\)\"] ],\n",
        "                    displayMath: [ ['$$','$$'], [\"\\\\[\",\"\\\\]\"] ]\n",
        "                },\n",
        "                displayAlign: 'center', // Change this to 'center' to center equations.\n",
        "                \"HTML-CSS\": {\n",
        "                    styles: {'.MathJax_Display': {\"margin\": 4}}\n",
        "                }\n",
        "        });\n",
        "</script>\n"
       ],
       "metadata": {},
       "output_type": "pyout",
       "prompt_number": 26,
       "text": [
        "<IPython.core.display.HTML at 0x10c7b40d0>"
       ]
      }
     ],
     "prompt_number": 26
    }
   ],
   "metadata": {}
  }
 ]
}