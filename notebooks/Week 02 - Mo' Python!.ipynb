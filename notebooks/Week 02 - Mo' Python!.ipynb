{
 "metadata": {
  "name": "",
  "signature": "sha256:440e3e540013a48dc30aa138c654f3fec8f38025658281da845b2670ed279cf5"
 },
 "nbformat": 3,
 "nbformat_minor": 0,
 "worksheets": [
  {
   "cells": [
    {
     "cell_type": "markdown",
     "metadata": {},
     "source": [
      "## New installation procedure on the course web page\n",
      "\n",
      "http://www.cbs.dtu.dk/courses/27624<br>\n",
      "http://www.cbs.dtu.dk/courses/27624/installation.php"
     ]
    },
    {
     "cell_type": "markdown",
     "metadata": {},
     "source": [
      "## Update your Course Materials!\n",
      "\n",
      "#### For Windows: \n",
      "Open the Git Shell icon (<b>not the blue one</b>).\n",
      "<img src=\"files/images/gitshell.png\"/>\n",
      "Type:\n",
      "<code>\n",
      "cd cbs-python\n",
      "git checkout -f master\n",
      "git pull origin master\n",
      "</code>\n",
      "#### For MAC and Linux:\n",
      "Open a terminal. Navigate to the course directory (Whereever you placed it):\n",
      "<br><code>cd ~/Documents/Courses/cbs-python</code>\n",
      "<br>Now update the folder using<br>\n",
      "<code>git checkout -f master\n",
      "git pull origin master</code>\n",
      "<br><br><br><br><br><br>"
     ]
    },
    {
     "cell_type": "markdown",
     "metadata": {},
     "source": [
      "# Data types in python\n",
      "\n",
      "<div class=\"topics\" style=\"padding-left: 30px;padding-top: 60px;\">\n",
      "        This lecture will cover:\n",
      "             <ul>\n",
      "                <li>Numbers</li>\n",
      "                <li>Booleans</li>\n",
      "                <li>Sequences</li>\n",
      "                <li>Dictionaries</li>\n",
      "            </ul>\n",
      "</div>"
     ]
    },
    {
     "cell_type": "markdown",
     "metadata": {},
     "source": [
      "## Numbers\n",
      "Like most other computer languages Python has several types of numbers. Number data types store numeric values. They are immutable data types, which means that changing the value of a number data type results in a newly created object.\n"
     ]
    },
    {
     "cell_type": "code",
     "collapsed": false,
     "input": [
      "A = 10\n",
      "B = 2"
     ],
     "language": "python",
     "metadata": {},
     "outputs": []
    },
    {
     "cell_type": "markdown",
     "metadata": {},
     "source": [
      "<ul style=\"width: 600px;\">\n",
      "    <li><b>integers:</b> often called just ints, are positive or negative whole numbers with no decimal point. </li>\n",
      "    <li><b>long:</b> are integers of unlimited size, written like integers and followed by an uppercase or lowercase L</li>\n",
      "    <li><b>floats:</b> represent real numbers and are written with a decimal point dividing the integer and fractional parts. Floats may also be in scientific notation, with E or e indicating the power of 10 (2.5E2 = 2.5 x 10<sup>2</sup> = 250)</li>\n",
      "    <li><b>complex:</b> are of the form <cb>a + bJ</cb>, where a and b are floats and J is an imaginary number. Complex numbers are not used much in Python programming.</li>\n",
      "</ul>\n"
     ]
    },
    {
     "cell_type": "code",
     "collapsed": false,
     "input": [
      "\n",
      "A = 10      # int\n",
      "B = 20131L  # long\n",
      "C = 3.14    # float\n",
      "D = 1 + 3.14j   # complex\n"
     ],
     "language": "python",
     "metadata": {},
     "outputs": [
      {
       "metadata": {},
       "output_type": "pyout",
       "prompt_number": 4,
       "text": [
        "1"
       ]
      }
     ],
     "prompt_number": 4
    },
    {
     "cell_type": "markdown",
     "metadata": {},
     "source": [
      "####Arithmetics\n",
      "\n",
      "Python supports all the standard arithmetical operations on numerical types, and mostly uses a similar syntax to several other computer languages:\n"
     ]
    },
    {
     "cell_type": "code",
     "collapsed": false,
     "input": [
      "x = 3.14159\n",
      "y = 2.71828\n",
      "\n",
      "x + y # addition\n",
      "x - y # subtraction\n",
      "x * y # multiplication\n",
      "x / y # division\n",
      "x // y # floored division\n",
      "x % y # modulus - remainder of x/y\n",
      "x ** y # exponentiation\n",
      "pow(x, y) # another way to do exponentiation\n",
      "\n",
      "print ((x + 1) - y) * 4"
     ],
     "language": "python",
     "metadata": {},
     "outputs": []
    },
    {
     "cell_type": "markdown",
     "metadata": {},
     "source": [
      "You can mix (some) types in arithmetic expressions and python will apply rules as to the type of the result"
     ]
    },
    {
     "cell_type": "code",
     "collapsed": false,
     "input": [
      "13 + 5.0"
     ],
     "language": "python",
     "metadata": {},
     "outputs": []
    },
    {
     "cell_type": "markdown",
     "metadata": {},
     "source": [
      "You can force python to use a particular type by casting an expression explicitly, using helpfully named functions: float, int, str etc."
     ]
    },
    {
     "cell_type": "code",
     "collapsed": false,
     "input": [
      "float(3) + float(13)"
     ],
     "language": "python",
     "metadata": {},
     "outputs": [
      {
       "metadata": {},
       "output_type": "pyout",
       "prompt_number": 108,
       "text": [
        "16.0"
       ]
      }
     ],
     "prompt_number": 108
    },
    {
     "cell_type": "code",
     "collapsed": false,
     "input": [
      "int(3.14159) + 1"
     ],
     "language": "python",
     "metadata": {},
     "outputs": [
      {
       "metadata": {},
       "output_type": "pyout",
       "prompt_number": 6,
       "text": [
        "4"
       ]
      }
     ],
     "prompt_number": 6
    },
    {
     "cell_type": "markdown",
     "metadata": {},
     "source": [
      "Division in python sometimes trips up new (and experienced!) programmers. If you divide 2 integers you will only get an integer result. If you want a floating point results you should explicitly cast at least one of the arguments to a float."
     ]
    },
    {
     "cell_type": "code",
     "collapsed": false,
     "input": [
      "print \"3/4:\", 3/4"
     ],
     "language": "python",
     "metadata": {},
     "outputs": [
      {
       "output_type": "stream",
       "stream": "stdout",
       "text": [
        "3/4: 0\n"
       ]
      }
     ],
     "prompt_number": 7
    },
    {
     "cell_type": "code",
     "collapsed": false,
     "input": [
      "print \"3.0/4:\", float(3)/4"
     ],
     "language": "python",
     "metadata": {},
     "outputs": [
      {
       "output_type": "stream",
       "stream": "stdout",
       "text": [
        "3.0/4: 0.75\n"
       ]
      }
     ],
     "prompt_number": 8
    },
    {
     "cell_type": "markdown",
     "metadata": {},
     "source": [
      "There are a few shortcut assignment statements to make modifying variables directly faster to type"
     ]
    },
    {
     "cell_type": "code",
     "collapsed": false,
     "input": [
      "x = 3\n",
      "x += 1 # equivalent to x = x + 1\n",
      "x"
     ],
     "language": "python",
     "metadata": {},
     "outputs": []
    },
    {
     "cell_type": "code",
     "collapsed": false,
     "input": [
      "y = 10\n",
      "y *= x # equivalent to y = y * x\n",
      "y"
     ],
     "language": "python",
     "metadata": {},
     "outputs": []
    },
    {
     "cell_type": "markdown",
     "metadata": {},
     "source": [
      "<br><br><br><img src=\"../pix/play2.jpg\">\n",
      "\n",
      "Calculate the Matthews correlation coefficient (MCC) for following kinase predictions:<br>\n",
      "True positives (TP) = 184 <br>\n",
      "True negatives (TN) = 161 <br>\n",
      "False positives (FP) = 5 <br>\n",
      "False negatives (FN) = 13 <br>\n",
      "<img src=\"../pix/mcc2.png\" width=250px>\n"
     ]
    },
    {
     "cell_type": "code",
     "collapsed": false,
     "input": [],
     "language": "python",
     "metadata": {},
     "outputs": []
    },
    {
     "cell_type": "markdown",
     "metadata": {},
     "source": [
      "## Booleans\n",
      "\n",
      "Boolean values represent truth or falsehood, as used in logical operations, for example. Not surprisingly, there are only two values, and in Python they are called True and False."
     ]
    },
    {
     "cell_type": "code",
     "collapsed": false,
     "input": [
      "a = True\n",
      "b = False\n",
      "print b\n",
      "c =\"\"\n",
      "if c: print \"yes\"\n",
      "    \n",
      "False, \"\", 0"
     ],
     "language": "python",
     "metadata": {},
     "outputs": [
      {
       "output_type": "stream",
       "stream": "stdout",
       "text": [
        "False\n"
       ]
      }
     ],
     "prompt_number": 14
    },
    {
     "cell_type": "markdown",
     "metadata": {},
     "source": [
      "<br><br><br><img src=\"../pix/play2.jpg\">\n",
      "Try to understand the following examples of Boolean expressions:"
     ]
    },
    {
     "cell_type": "code",
     "collapsed": false,
     "input": [
      "a = 5\n",
      "b = 6\n",
      "a == 10"
     ],
     "language": "python",
     "metadata": {},
     "outputs": [
      {
       "metadata": {},
       "output_type": "pyout",
       "prompt_number": 16,
       "text": [
        "False"
       ]
      }
     ],
     "prompt_number": 16
    },
    {
     "cell_type": "code",
     "collapsed": false,
     "input": [
      "print \"Test 1:\", a == 5\n",
      "print \"Test 2:\", a == 7\n",
      "print \"Test 3:\", a == 5 and b == 6\n",
      "print \"Test 4:\", a == 5 and b == 5\n",
      "print \"Test 5:\", a == 6 or b == 6\n",
      "print \"Test 6:\", not (a == 6 and b == 6)\n",
      "print \"Test 7:\", not a == 6 and b == 6\n",
      "print \"Test 8:\", a == 5 and b > a\n",
      "print \"Test 9:\", a == 5 and (not (\"testing\" == \"testing\" or \"Python\" == \"Fun\"))"
     ],
     "language": "python",
     "metadata": {},
     "outputs": [
      {
       "output_type": "stream",
       "stream": "stdout",
       "text": [
        "Test 1: True\n",
        "Test 2: False\n",
        "Test 3: True\n",
        "Test 4: False\n",
        "Test 5: True\n",
        "Test 6: True\n",
        "Test 7: True\n",
        "Test 8: True\n",
        "Test 9: False\n"
       ]
      }
     ],
     "prompt_number": 17
    },
    {
     "cell_type": "markdown",
     "metadata": {},
     "source": [
      "<br><br><br>"
     ]
    },
    {
     "cell_type": "markdown",
     "metadata": {},
     "source": [
      "## Sequences"
     ]
    },
    {
     "cell_type": "markdown",
     "metadata": {},
     "source": [
      "In Python the word *sequence* refer to an ordered collection of items. We will take a look at them all:\n",
      "<ul>\n",
      "    <li>Strings</li>\n",
      "    <li>Lists</li>\n",
      "    <li>Tuples</li>\n",
      "</ul>"
     ]
    },
    {
     "cell_type": "markdown",
     "metadata": {},
     "source": [
      "### Strings\n",
      "Strings are amongst the most popular types in Python. We can create them simply by enclosing characters in quotes. Python treats single quotes the same as double quotes."
     ]
    },
    {
     "cell_type": "code",
     "collapsed": false,
     "input": [
      "print \"This is a string\"\n",
      "print 'This is a string'\n",
      "print '''This is a string'''\n",
      "print \"\"\"This is a string\"\"\""
     ],
     "language": "python",
     "metadata": {},
     "outputs": []
    },
    {
     "cell_type": "code",
     "collapsed": false,
     "input": [
      "print \"A single quote (') inside double quotes\"\n",
      "print 'Here we have \"double quotes\" inside single quotes'\n",
      "\n",
      "print \"\"\"trings are amongst the most popular types in Python. We can create them simply by enclosing characters in quotes. \n",
      "trings are amongst the most popular types in Python. We can create them simply by enclosing characters in quotes. \n",
      "trings are amongst the most popular types in Python. We can create them simply by enclosing characters in quotes. trings are amongst the most popular types in Python. We can create them simply by enclosing characters in quotes. trings are amongst the most popular types in Python. We can create them simply by enclosing characters in quotes. \n",
      "\"\"\""
     ],
     "language": "python",
     "metadata": {},
     "outputs": [
      {
       "output_type": "stream",
       "stream": "stdout",
       "text": [
        "A single quote (') inside double quotes\n",
        "Here we have \"double quotes\" inside single quotes\n",
        "trings are amongst the most popular types in Python. We can create them simply by enclosing characters in quotes. \n",
        "trings are amongst the most popular types in Python. We can create them simply by enclosing characters in quotes. \n",
        "trings are amongst the most popular types in Python. We can create them simply by enclosing characters in quotes. trings are amongst the most popular types in Python. We can create them simply by enclosing characters in quotes. trings are amongst the most popular types in Python. We can create them simply by enclosing characters in quotes. \n",
        "\n"
       ]
      }
     ],
     "prompt_number": 19
    },
    {
     "cell_type": "markdown",
     "metadata": {},
     "source": [
      "<br><br><img src=\"../pix/play2.jpg\"><i>Put the following protein annotation result in a text string:</i>\n",
      "\n",
      "Phospholipase A2 \"basic\" or Orotidine-5'-phosphate decarboxylase"
     ]
    },
    {
     "cell_type": "code",
     "collapsed": false,
     "input": [
      "annotation = \"\""
     ],
     "language": "python",
     "metadata": {},
     "outputs": []
    },
    {
     "cell_type": "markdown",
     "metadata": {},
     "source": [
      "<br><br><br>"
     ]
    },
    {
     "cell_type": "markdown",
     "metadata": {},
     "source": [
      "####Modifying strings\n",
      "\n",
      "You can apply some of the same \"math\" operations on strings:"
     ]
    },
    {
     "cell_type": "code",
     "collapsed": false,
     "input": [
      "A = \"ACGTGA\"\n",
      "B = \"TATAA\""
     ],
     "language": "python",
     "metadata": {},
     "outputs": [],
     "prompt_number": 20
    },
    {
     "cell_type": "code",
     "collapsed": false,
     "input": [
      "A + B"
     ],
     "language": "python",
     "metadata": {},
     "outputs": [
      {
       "metadata": {},
       "output_type": "pyout",
       "prompt_number": 21,
       "text": [
        "'ACGTGATATAA'"
       ]
      }
     ],
     "prompt_number": 21
    },
    {
     "cell_type": "code",
     "collapsed": false,
     "input": [
      "B * 5"
     ],
     "language": "python",
     "metadata": {},
     "outputs": [
      {
       "metadata": {},
       "output_type": "pyout",
       "prompt_number": 22,
       "text": [
        "'TATAATATAATATAATATAATATAA'"
       ]
      }
     ],
     "prompt_number": 22
    },
    {
     "cell_type": "code",
     "collapsed": false,
     "input": [],
     "language": "python",
     "metadata": {},
     "outputs": []
    },
    {
     "cell_type": "markdown",
     "metadata": {},
     "source": [
      "You can access a single character from a string using brackets containing the *index* of the string character:"
     ]
    },
    {
     "cell_type": "code",
     "collapsed": false,
     "input": [
      "A[2]"
     ],
     "language": "python",
     "metadata": {},
     "outputs": [
      {
       "metadata": {},
       "output_type": "pyout",
       "prompt_number": 23,
       "text": [
        "'G'"
       ]
      }
     ],
     "prompt_number": 23
    },
    {
     "cell_type": "code",
     "collapsed": false,
     "input": [
      "C = \"Python\"\n",
      "C[-1]"
     ],
     "language": "python",
     "metadata": {},
     "outputs": [
      {
       "metadata": {},
       "output_type": "pyout",
       "prompt_number": 27,
       "text": [
        "'n'"
       ]
      }
     ],
     "prompt_number": 27
    },
    {
     "cell_type": "markdown",
     "metadata": {},
     "source": [
      "<center>\n",
      "<img src=\"http://www.python-course.eu/images/string_indices.gif\" />\n",
      "</center>"
     ]
    },
    {
     "cell_type": "code",
     "collapsed": false,
     "input": [
      "C[6] # Will give an index error"
     ],
     "language": "python",
     "metadata": {},
     "outputs": []
    },
    {
     "cell_type": "markdown",
     "metadata": {},
     "source": [
      "You can check how long a string is using ```len()```"
     ]
    },
    {
     "cell_type": "code",
     "collapsed": false,
     "input": [
      "len(C)"
     ],
     "language": "python",
     "metadata": {},
     "outputs": [
      {
       "metadata": {},
       "output_type": "pyout",
       "prompt_number": 28,
       "text": [
        "6"
       ]
      }
     ],
     "prompt_number": 28
    },
    {
     "cell_type": "markdown",
     "metadata": {},
     "source": [
      "Strings are immutable -- once we have created it, we cannot change it."
     ]
    },
    {
     "cell_type": "code",
     "collapsed": false,
     "input": [
      "A = \"acgctAGACGT\"\n",
      "print A.upper() # Returns the uppercase string\n",
      "print A"
     ],
     "language": "python",
     "metadata": {},
     "outputs": [
      {
       "output_type": "stream",
       "stream": "stdout",
       "text": [
        "ACGCTAGACGT\n",
        "acgctAGACGT\n"
       ]
      }
     ],
     "prompt_number": 32
    },
    {
     "cell_type": "code",
     "collapsed": false,
     "input": [
      "print A\n",
      "A[2] = 'W\""
     ],
     "language": "python",
     "metadata": {},
     "outputs": [
      {
       "ename": "SyntaxError",
       "evalue": "EOL while scanning string literal (<ipython-input-31-1f9680eade30>, line 2)",
       "output_type": "pyerr",
       "traceback": [
        "\u001b[0;36m  File \u001b[0;32m\"<ipython-input-31-1f9680eade30>\"\u001b[0;36m, line \u001b[0;32m2\u001b[0m\n\u001b[0;31m    A[2] = 'W\"\u001b[0m\n\u001b[0m             ^\u001b[0m\n\u001b[0;31mSyntaxError\u001b[0m\u001b[0;31m:\u001b[0m EOL while scanning string literal\n"
       ]
      }
     ],
     "prompt_number": 31
    },
    {
     "cell_type": "markdown",
     "metadata": {},
     "source": [
      "Our string A is unchanged..."
     ]
    },
    {
     "cell_type": "markdown",
     "metadata": {},
     "source": [
      "To actually change the string we have to make a copy of it. "
     ]
    },
    {
     "cell_type": "code",
     "collapsed": false,
     "input": [
      "B = A.upper()\n",
      "print \"A is\", A\n",
      "print \"B is\", B"
     ],
     "language": "python",
     "metadata": {},
     "outputs": [
      {
       "output_type": "stream",
       "stream": "stdout",
       "text": [
        "A is acgctAGACGT\n",
        "B is ACGCTAGACGT\n"
       ]
      }
     ],
     "prompt_number": 33
    },
    {
     "cell_type": "markdown",
     "metadata": {},
     "source": [
      "Or by reassign to the name A to change the string."
     ]
    },
    {
     "cell_type": "code",
     "collapsed": false,
     "input": [
      "A = A.upper()\n",
      "print A"
     ],
     "language": "python",
     "metadata": {},
     "outputs": [
      {
       "output_type": "stream",
       "stream": "stdout",
       "text": [
        "ACGCTAGACGT\n"
       ]
      }
     ],
     "prompt_number": 34
    },
    {
     "cell_type": "markdown",
     "metadata": {},
     "source": [
      "Some other string manipulations:"
     ]
    },
    {
     "cell_type": "code",
     "collapsed": false,
     "input": [
      "B = \"a,bunch,of,words\"\n",
      "print B.split(\",bu\")"
     ],
     "language": "python",
     "metadata": {},
     "outputs": [
      {
       "output_type": "stream",
       "stream": "stdout",
       "text": [
        "['a', 'nch,of,words']\n"
       ]
      }
     ],
     "prompt_number": 38
    },
    {
     "cell_type": "code",
     "collapsed": false,
     "input": [
      "B = [\"a\", \"bunch\", \"of\", \"words\", \"in\", \"a\", \"list\", \"object\"]\n",
      "print \" \".join(B)\n",
      "print \"_\".join(B)\n",
      "print \",\".join(B)\n",
      "\n"
     ],
     "language": "python",
     "metadata": {},
     "outputs": [
      {
       "output_type": "stream",
       "stream": "stdout",
       "text": [
        "a bunch of words in a list object\n",
        "a_bunch_of_words_in_a_list_object\n",
        "a,bunch,of,words,in,a,list,object\n",
        "Object `B.split` not found.\n"
       ]
      }
     ],
     "prompt_number": 39
    },
    {
     "cell_type": "markdown",
     "metadata": {},
     "source": [
      "<br><br><img src=\"../pix/play2.jpg\">\n",
      "Convert the following annotation into a hyphen (-) separated text. (compare split() and split(' '))"
     ]
    },
    {
     "cell_type": "code",
     "collapsed": false,
     "input": [
      "annotation = \"\"\"The status, quality, and expansion of the NIH full-length cDNA\n",
      "RT   project: the Mammalian Gene Collection (MGC).\"\"\"\n",
      "annotation.split?"
     ],
     "language": "python",
     "metadata": {},
     "outputs": [],
     "prompt_number": 47
    },
    {
     "cell_type": "markdown",
     "metadata": {},
     "source": [
      "<br><br><br>\n",
      "#### Slicing\n"
     ]
    },
    {
     "cell_type": "markdown",
     "metadata": {},
     "source": [
      "The \"slice\" syntax is a great way to refer to substrings of strings. Slicing consists of two indexes, separated by a colon \":\"\n",
      "\n",
      "<code>\n",
      " -6  -5  -4  -3  -2  -1\n",
      "+---+---+---+---+---+---+\n",
      "| P | y | t | h | o | n |\n",
      "+---+---+---+---+---+---+\n",
      "  0   1   2   3   4   5  \n",
      "</code>\n"
     ]
    },
    {
     "cell_type": "code",
     "collapsed": false,
     "input": [
      "seq = \"Python\"\n",
      "print seq[2:4]\n",
      "print seq[2:-2]\n"
     ],
     "language": "python",
     "metadata": {},
     "outputs": [
      {
       "output_type": "stream",
       "stream": "stdout",
       "text": [
        "th\n",
        "th\n"
       ]
      }
     ],
     "prompt_number": 48
    },
    {
     "cell_type": "markdown",
     "metadata": {},
     "source": [
      "<br><br><img src=\"../pix/play2.jpg\">\n",
      "\n",
      "From a Illumina sequencing run, the quality scores indicate that the first 7 bases and the last 15 bases of all sequences are rather bad and need to be trimmed off.\n",
      "With slicing remove the bad nucleotides from the following sequence."
     ]
    },
    {
     "cell_type": "code",
     "collapsed": false,
     "input": [
      "seq = \"TTCAATATTAAGCTTGGCATTTAAAGTCTTTAGGATTGACTGAAACTGTTCAAAAAAGGATAAAAGCTTAAAATCATATTTATCGGAGCCAATTTCTTTA\"\n"
     ],
     "language": "python",
     "metadata": {},
     "outputs": []
    },
    {
     "cell_type": "markdown",
     "metadata": {},
     "source": [
      "<br><br><br>\n",
      "#### Python string formatting with the % operator\n",
      "\n",
      "<br>\n",
      "<code>Your name is John !</code><br><br>\n",
      "Do you remember last weeks irritation about the \"space\" between name and \"!\"?"
     ]
    },
    {
     "cell_type": "code",
     "collapsed": false,
     "input": [
      "name = \"John\"\n",
      "print \"Your name is\", name, \"!\""
     ],
     "language": "python",
     "metadata": {},
     "outputs": [
      {
       "output_type": "stream",
       "stream": "stdout",
       "text": [
        "Your name is John !\n"
       ]
      }
     ],
     "prompt_number": 49
    },
    {
     "cell_type": "markdown",
     "metadata": {},
     "source": [
      "<br><br><br>\n"
     ]
    },
    {
     "cell_type": "code",
     "collapsed": false,
     "input": [
      "name = \"Thomas\"\n",
      "print \"Your name is %.2f!\" % 100.0"
     ],
     "language": "python",
     "metadata": {},
     "outputs": [
      {
       "output_type": "stream",
       "stream": "stdout",
       "text": [
        "Your name is 100.00!\n"
       ]
      }
     ],
     "prompt_number": 57
    },
    {
     "cell_type": "code",
     "collapsed": false,
     "input": [
      "age = 36\n",
      "print \"Your name is %s, and you are %d years old!\" % (name, age)"
     ],
     "language": "python",
     "metadata": {},
     "outputs": [
      {
       "output_type": "stream",
       "stream": "stdout",
       "text": [
        "Your name is Thomas, and you are 36 years old!\n"
       ]
      }
     ],
     "prompt_number": 58
    },
    {
     "cell_type": "code",
     "collapsed": false,
     "input": [
      "from math import pi\n",
      "\n",
      "print \"pi = %.100f\" % pi"
     ],
     "language": "python",
     "metadata": {},
     "outputs": [
      {
       "output_type": "stream",
       "stream": "stdout",
       "text": [
        "pi = 3.1415926535897931159979634685441851615905761718750000000000000000000000000000000000000000000000000000\n"
       ]
      }
     ],
     "prompt_number": 61
    },
    {
     "cell_type": "markdown",
     "metadata": {},
     "source": [
      "<br><br><br>\n",
      "### Lists"
     ]
    },
    {
     "cell_type": "markdown",
     "metadata": {},
     "source": [
      "#### Making lists"
     ]
    },
    {
     "cell_type": "markdown",
     "metadata": {},
     "source": [
      "Lists are like arrays in other programming languages. It is essentially a stack of data items. Unlike strings (stack of characters), lists are collections that you can actually change.\n",
      "\n",
      "Lets say you want to make a list of your movies:\n",
      "\n",
      "<ul>\n",
      "    <li>The Meaning of Life</li>\n",
      "    <li>The Life of Brian</li>\n",
      "    <li>The Holy Grail</li>\n",
      "</ul>\n",
      "\n",
      "In python, this is done using brackets **[ ]**"
     ]
    },
    {
     "cell_type": "code",
     "collapsed": false,
     "input": [
      "movies = [\"The Holy Grail\", \"The Life of Brian\", \"The Meaning of Life\"]"
     ],
     "language": "python",
     "metadata": {},
     "outputs": [],
     "prompt_number": 65
    },
    {
     "cell_type": "markdown",
     "metadata": {},
     "source": [
      "#### Reading from lists"
     ]
    },
    {
     "cell_type": "code",
     "collapsed": false,
     "input": [
      "print movies"
     ],
     "language": "python",
     "metadata": {},
     "outputs": [
      {
       "output_type": "stream",
       "stream": "stdout",
       "text": [
        "['The Holy Grail', 'The Life of Brian', 'The Meaning of Life']\n"
       ]
      }
     ],
     "prompt_number": 66
    },
    {
     "cell_type": "markdown",
     "metadata": {},
     "source": [
      "We can also use this brackets afterwards to access just a single item in the list:"
     ]
    },
    {
     "cell_type": "code",
     "collapsed": false,
     "input": [
      "print movies[0]\n",
      "print movies[1]\n",
      "print movies[2]"
     ],
     "language": "python",
     "metadata": {},
     "outputs": [
      {
       "output_type": "stream",
       "stream": "stdout",
       "text": [
        "The Holy Grail\n",
        "The Life of Brian\n",
        "The Meaning of Life\n"
       ]
      }
     ],
     "prompt_number": 67
    },
    {
     "cell_type": "markdown",
     "metadata": {},
     "source": [
      "You can check how many items are in the movie collection using"
     ]
    },
    {
     "cell_type": "code",
     "collapsed": false,
     "input": [
      "len(movies)"
     ],
     "language": "python",
     "metadata": {},
     "outputs": [
      {
       "metadata": {},
       "output_type": "pyout",
       "prompt_number": 68,
       "text": [
        "3"
       ]
      }
     ],
     "prompt_number": 68
    },
    {
     "cell_type": "markdown",
     "metadata": {},
     "source": [
      "#### Adding more data to the list"
     ]
    },
    {
     "cell_type": "markdown",
     "metadata": {},
     "source": [
      "If you want to **add** just another item to the list (appending) you can do this by"
     ]
    },
    {
     "cell_type": "code",
     "collapsed": false,
     "input": [
      "movies.append(\"Die Hard\")\n",
      "print movies"
     ],
     "language": "python",
     "metadata": {},
     "outputs": [
      {
       "output_type": "stream",
       "stream": "stdout",
       "text": [
        "['The Holy Grail', 'The Life of Brian', 'The Meaning of Life', 'Die Hard']\n"
       ]
      }
     ],
     "prompt_number": 69
    },
    {
     "cell_type": "markdown",
     "metadata": {},
     "source": [
      "To **insert** an item into a specific position of the list you can use"
     ]
    },
    {
     "cell_type": "code",
     "collapsed": false,
     "input": [
      "movies.insert(3, \"Twilight\")\n",
      "print movies"
     ],
     "language": "python",
     "metadata": {},
     "outputs": [
      {
       "output_type": "stream",
       "stream": "stdout",
       "text": [
        "['The Holy Grail', 'The Life of Brian', 'The Meaning of Life', 'Twilight', 'Die Hard']\n"
       ]
      }
     ],
     "prompt_number": 70
    },
    {
     "cell_type": "markdown",
     "metadata": {},
     "source": [
      "Appending and inserting only works with a single item. You can also **extend** the list with another list using"
     ]
    },
    {
     "cell_type": "code",
     "collapsed": false,
     "input": [
      "newmovies = [\"The Dark Knight Rises\", \"Django Unchained\", \"The Avengers\", 300]\n",
      "mynewlist = movies.extend?"
     ],
     "language": "python",
     "metadata": {},
     "outputs": [],
     "prompt_number": 75
    },
    {
     "cell_type": "code",
     "collapsed": false,
     "input": [
      "mynewlist = movies.extend"
     ],
     "language": "python",
     "metadata": {},
     "outputs": []
    },
    {
     "cell_type": "code",
     "collapsed": false,
     "input": [
      "print mynewlist"
     ],
     "language": "python",
     "metadata": {},
     "outputs": [
      {
       "output_type": "stream",
       "stream": "stdout",
       "text": [
        "None\n"
       ]
      }
     ],
     "prompt_number": 74
    },
    {
     "cell_type": "markdown",
     "metadata": {},
     "source": [
      "#### Deleting items from list"
     ]
    },
    {
     "cell_type": "markdown",
     "metadata": {},
     "source": [
      "Of course you can **remove** an element again from the collection of favorite movies by either <cb>movies.pop(3)</cb> or <cb>movies.remove(\"Twilight\")</cb>"
     ]
    },
    {
     "cell_type": "code",
     "collapsed": false,
     "input": [
      "movies.remove(\"Twilight\")\n",
      "print movies"
     ],
     "language": "python",
     "metadata": {},
     "outputs": []
    },
    {
     "cell_type": "markdown",
     "metadata": {},
     "source": [
      "Using <cb>movies.pop()</cb> without any paramter just removes the last element. Additionally the function <cb>.pop()</cb> also returns this element where it was called:"
     ]
    },
    {
     "cell_type": "code",
     "collapsed": false,
     "input": [
      "movies.pop()"
     ],
     "language": "python",
     "metadata": {},
     "outputs": []
    },
    {
     "cell_type": "code",
     "collapsed": false,
     "input": [
      "print movies"
     ],
     "language": "python",
     "metadata": {},
     "outputs": []
    },
    {
     "cell_type": "code",
     "collapsed": false,
     "input": [
      "del movies[2] # also works\n",
      "print movies"
     ],
     "language": "python",
     "metadata": {},
     "outputs": []
    },
    {
     "cell_type": "markdown",
     "metadata": {},
     "source": [
      "<img src=\"../pix/play2.jpg\">Make a list that includes four common organisms, such as 'Giant Squid' and 'Killer Rabbit'.<br>\n",
      "Use the <i>list.index()</i> function to find the index of one organism in your list.<br>\n",
      "Use the <i>in</i> function to show that this organism is in your list.<br>\n",
      "Use the <i>append()</i> function to add a new cute animal to your list.<br>\n",
      "Use the <i>insert()</i> function to add a new predator at the beginning of the list.<br>\n",
      "Use a loop to show all the organims in your list.<br>\n",
      "(<font size=\"tiny\"><i>adapted from http://introtopython.org/</i></font>)"
     ]
    },
    {
     "cell_type": "code",
     "collapsed": false,
     "input": [],
     "language": "python",
     "metadata": {},
     "outputs": []
    },
    {
     "cell_type": "markdown",
     "metadata": {},
     "source": [
      "<br><br><br>"
     ]
    },
    {
     "cell_type": "markdown",
     "metadata": {},
     "source": [
      "### Tuples"
     ]
    },
    {
     "cell_type": "markdown",
     "metadata": {},
     "source": [
      "Tuples are like lists - but once you have created it, you can't change it. "
     ]
    },
    {
     "cell_type": "code",
     "collapsed": false,
     "input": [
      "mytuble = (1,2,3,4)"
     ],
     "language": "python",
     "metadata": {},
     "outputs": []
    },
    {
     "cell_type": "markdown",
     "metadata": {},
     "source": [
      "Since they have a **fixed size** you generally use them as structures for some data, like coordinates (x,y). \n",
      "\n",
      "**Example**: Say you go for a walk at DTU campus and note your GPS coordinates at any instant in a tuple (x,y) called <cb>current_coordinate</cb>. While walking you record your journey in a list called <cb>journey</cb>, so you can trace your route at a later point."
     ]
    },
    {
     "cell_type": "code",
     "collapsed": false,
     "input": [
      "journey = [] # empty list\n",
      "while walking:\n",
      "    current_coordinate = (x,y)\n",
      "    journey.append(coordinate)\n",
      "# This code won't run, because we don't know the coordinates \"x\" and \"y\" and when to stop \"walking\".\n",
      "# But it illustrates the idea of tuples used as coordinates and lists used as records."
     ],
     "language": "python",
     "metadata": {},
     "outputs": []
    },
    {
     "cell_type": "markdown",
     "metadata": {},
     "source": [
      "After a short walk your <cb>journey</cb> would look something like this:"
     ]
    },
    {
     "cell_type": "code",
     "collapsed": false,
     "input": [
      "[\n",
      "   (55.787159, 12.518814),\n",
      "   (55.787033, 12.519661),\n",
      "   (55.786761, 12.521485),\n",
      "   (55.787582, 12.522022),\n",
      "   (55.787889, 12.520208),\n",
      "   (55.787159, 12.518814)\n",
      "];"
     ],
     "language": "python",
     "metadata": {},
     "outputs": []
    },
    {
     "cell_type": "markdown",
     "metadata": {},
     "source": [
      "This cannot be done in the opposite way! \n",
      "\n",
      "Tuples are in general more memory efficient than lists but accessing data items from list and tuples are equally fast."
     ]
    },
    {
     "cell_type": "markdown",
     "metadata": {},
     "source": [
      "## Dictionaries\n",
      "\n",
      "Dictionaries is a special type of data structure in python. It holds a Key and a Value. They Value can be addressed not by a number, like in lists, but by a Key. (In other languages this data structure is also called a hash-table). You make dictionaries using the <b>{ }</b> brackets:"
     ]
    },
    {
     "cell_type": "code",
     "collapsed": false,
     "input": [
      "IUPAC = {'A': 'Ala', 'C': 'Cys', 'E': 'Glu'}\n",
      "IUPAC['E']"
     ],
     "language": "python",
     "metadata": {},
     "outputs": [
      {
       "metadata": {},
       "output_type": "pyout",
       "prompt_number": 80,
       "text": [
        "'Glu'"
       ]
      }
     ],
     "prompt_number": 80
    },
    {
     "cell_type": "markdown",
     "metadata": {},
     "source": [
      "And access each Value using, eg. <cb>IUPAC['E']</cb>:"
     ]
    },
    {
     "cell_type": "code",
     "collapsed": false,
     "input": [
      "print \"C stands for the amino acid\", IUPAC['C']\n",
      "aa = 'A'\n",
      "print aa, \"stands for the amino acid\", IUPAC[aa]"
     ],
     "language": "python",
     "metadata": {},
     "outputs": [
      {
       "output_type": "stream",
       "stream": "stdout",
       "text": [
        "C stands for the amino acid Cys\n",
        "A stands for the amino acid Ala\n"
       ]
      }
     ],
     "prompt_number": 81
    },
    {
     "cell_type": "markdown",
     "metadata": {},
     "source": [
      "Another way of creating it is:"
     ]
    },
    {
     "cell_type": "code",
     "collapsed": false,
     "input": [
      "IUPAC = dict(A='Ala', C='Cys', E='Glu')\n",
      "print IUPAC"
     ],
     "language": "python",
     "metadata": {},
     "outputs": []
    },
    {
     "cell_type": "markdown",
     "metadata": {},
     "source": [
      "The dict() function can also be used to convert sequences to dictionaries:"
     ]
    },
    {
     "cell_type": "code",
     "collapsed": false,
     "input": [
      "rgb = [('red','ff0000'), ('green','00ff00'), ('blue','0000ff')]\n",
      "colors = dict(rgb)\n",
      "colors['green']\n",
      "colors.update(IUPAC)\n",
      "#print colors\n",
      "\n",
      "keys = colors.keys()\n",
      "keys.sort()\n",
      "#print keys\n",
      "\n",
      "colors.items()"
     ],
     "language": "python",
     "metadata": {},
     "outputs": [
      {
       "metadata": {},
       "output_type": "pyout",
       "prompt_number": 91,
       "text": [
        "[('blue', '0000ff'),\n",
        " ('A', 'Ala'),\n",
        " ('C', 'Cys'),\n",
        " ('green', '00ff00'),\n",
        " ('E', 'Glu'),\n",
        " ('red', 'ff0000')]"
       ]
      }
     ],
     "prompt_number": 91
    },
    {
     "cell_type": "markdown",
     "metadata": {},
     "source": [
      "## Running trough items in a collection\n",
      "\n",
      "Python has a very non-typical way of running through items in a collection (items in a list, characters in a string or keys in a dictionary).\n",
      "\n",
      "It goes like this:"
     ]
    },
    {
     "cell_type": "code",
     "collapsed": false,
     "input": [
      "for color in colors:\n",
      "    print color, colors[color]"
     ],
     "language": "python",
     "metadata": {},
     "outputs": [
      {
       "output_type": "stream",
       "stream": "stdout",
       "text": [
        "blue 0000ff\n",
        "A Ala\n",
        "C Cys\n",
        "green 00ff00\n",
        "E Glu\n",
        "red ff0000\n"
       ]
      }
     ],
     "prompt_number": 94
    },
    {
     "cell_type": "markdown",
     "metadata": {},
     "source": [
      "The recipe is basically a **for** line ending with a colon. Everything that follows with an **indentation** will be evaluated for each item in the collection."
     ]
    },
    {
     "cell_type": "code",
     "collapsed": false,
     "input": [
      "for color in colors:\n",
      "    print \"The color <%s> is %s\" % (colors[color], color)\n",
      "\n",
      "print \"Last color was\", color"
     ],
     "language": "python",
     "metadata": {},
     "outputs": [
      {
       "output_type": "stream",
       "stream": "stdout",
       "text": [
        "The color <0000ff> is blue\n",
        "The color <Ala> is A\n",
        "The color <Cys> is C\n",
        "The color <00ff00> is green\n",
        "The color <Glu> is E\n",
        "The color <ff0000> is red\n",
        "Last color was red\n"
       ]
      }
     ],
     "prompt_number": 95
    },
    {
     "cell_type": "code",
     "collapsed": false,
     "input": [
      "for key, value in colors.items():\n",
      "    print key, value"
     ],
     "language": "python",
     "metadata": {},
     "outputs": [
      {
       "output_type": "stream",
       "stream": "stdout",
       "text": [
        "blue 0000ff\n",
        "A Ala\n",
        "C Cys\n",
        "green 00ff00\n",
        "E Glu\n",
        "red ff0000\n"
       ]
      }
     ],
     "prompt_number": 96
    },
    {
     "cell_type": "markdown",
     "metadata": {},
     "source": [
      "<br><br><br>"
     ]
    },
    {
     "cell_type": "markdown",
     "metadata": {},
     "source": [
      "## Membership testing\n",
      "\n",
      "There are two kind of membership tests in python\n",
      "\n",
      "    in\n",
      "\n",
      "and \n",
      "\n",
      "    not in\n",
      "\n",
      "They are used to test if an item is a member of a collection. Like"
     ]
    },
    {
     "cell_type": "code",
     "collapsed": false,
     "input": [
      "2 in [1,2,3,4]"
     ],
     "language": "python",
     "metadata": {},
     "outputs": [
      {
       "metadata": {},
       "output_type": "pyout",
       "prompt_number": 97,
       "text": [
        "True"
       ]
      }
     ],
     "prompt_number": 97
    },
    {
     "cell_type": "code",
     "collapsed": false,
     "input": [
      "2 not in [1,3,5,7]"
     ],
     "language": "python",
     "metadata": {},
     "outputs": [
      {
       "metadata": {},
       "output_type": "pyout",
       "prompt_number": 98,
       "text": [
        "True"
       ]
      }
     ],
     "prompt_number": 98
    },
    {
     "cell_type": "code",
     "collapsed": false,
     "input": [
      "print \"green\" in colors\n",
      "print \"darkgreen\" in colors"
     ],
     "language": "python",
     "metadata": {},
     "outputs": [
      {
       "output_type": "stream",
       "stream": "stdout",
       "text": [
        "True\n",
        "False\n"
       ]
      }
     ],
     "prompt_number": 99
    },
    {
     "cell_type": "code",
     "collapsed": false,
     "input": [
      "\"T\" in \"UAGCCGACGUGA\""
     ],
     "language": "python",
     "metadata": {},
     "outputs": [
      {
       "metadata": {},
       "output_type": "pyout",
       "prompt_number": 100,
       "text": [
        "False"
       ]
      }
     ],
     "prompt_number": 100
    },
    {
     "cell_type": "markdown",
     "metadata": {},
     "source": [
      "## List Comprehension\n",
      "\n",
      "Instead of defining a list by *enumeration*:"
     ]
    },
    {
     "cell_type": "code",
     "collapsed": false,
     "input": [
      "A = [0,1,2,3,4]\n",
      "[3*x for x in A]"
     ],
     "language": "python",
     "metadata": {},
     "outputs": [
      {
       "metadata": {},
       "output_type": "pyout",
       "prompt_number": 103,
       "text": [
        "[0, 3, 6, 9, 12]"
       ]
      }
     ],
     "prompt_number": 103
    },
    {
     "cell_type": "markdown",
     "metadata": {},
     "source": [
      "you can assign it by *comprehension*, eg. \n",
      "<center>\n",
      "<img src=\"files/images/eq_1.gif\" />\n",
      "</center>\n",
      "\n",
      "which gives\n",
      "<center>\n",
      "<img src=\"files/images/eq_2.gif\" />\n",
      "</center>\n",
      "\n",
      "\n",
      "In Python this is written as:\n",
      "\n",
      "    B = [expression for item in collection]"
     ]
    },
    {
     "cell_type": "code",
     "collapsed": false,
     "input": [
      "B = [3 for x in A]\n",
      "print B"
     ],
     "language": "python",
     "metadata": {},
     "outputs": [
      {
       "output_type": "stream",
       "stream": "stdout",
       "text": [
        "[3, 3, 3, 3, 3]\n"
       ]
      }
     ],
     "prompt_number": 105
    },
    {
     "cell_type": "code",
     "collapsed": false,
     "input": [
      "[IUPAC[x] for x in [\"C\", \"A\", \"A\", \"E\"]]"
     ],
     "language": "python",
     "metadata": {},
     "outputs": [
      {
       "metadata": {},
       "output_type": "pyout",
       "prompt_number": 106,
       "text": [
        "['Cys', 'Ala', 'Ala', 'Glu']"
       ]
      }
     ],
     "prompt_number": 106
    },
    {
     "cell_type": "markdown",
     "metadata": {},
     "source": [
      "<img src=\"../pix/play2.jpg\">Use the following IUPAC dictionary together with a list comprehension (or a for loop) to translate the ATP synthetase subunit 8 from Architeuthis dux into the 3-letter amino acid code sequence separated by '-'.\n"
     ]
    },
    {
     "cell_type": "code",
     "collapsed": false,
     "input": [
      "IUPAC = {'*': 'Ter', 'A': 'Ala', 'C': 'Cys', 'E': 'Glu', 'D': 'Asp',\n",
      "         'G': 'Gly', 'F': 'Phe', 'I': 'Ile', 'H': 'His', 'K': 'Lys',\n",
      "         'M': 'Met', 'L': 'Leu', 'N': 'Asn', 'Q': 'Gln', 'P': 'Pro',\n",
      "         'S': 'Ser', 'R': 'Arg', 'T': 'Thr', 'W': 'Trp', 'V': 'Val',\n",
      "         'Y': 'Tyr', 'X': 'Xaa'}\n",
      "ATP8 = \"MPQLSPINWLFLFIMFWSIMILNTSIMWWNTNNLYMINKTPKTSSNISYKW*\"\n"
     ],
     "language": "python",
     "metadata": {},
     "outputs": []
    },
    {
     "cell_type": "markdown",
     "metadata": {},
     "source": [
      "<br><br><br>"
     ]
    },
    {
     "cell_type": "markdown",
     "metadata": {},
     "source": [
      "## Conversion"
     ]
    },
    {
     "cell_type": "markdown",
     "metadata": {},
     "source": [
      "Conversion between data types in Python is called *type casting*. This is done using functions like \n",
      "\n",
      "    int()\n",
      "    float()\n",
      "    str()\n",
      "    list()\n",
      "    dict()\n",
      "\n",
      "A common conversion is from string to number:"
     ]
    },
    {
     "cell_type": "code",
     "collapsed": false,
     "input": [
      "x = \"12.4\"\n",
      "y = \"-2\"\n",
      "print x + y"
     ],
     "language": "python",
     "metadata": {},
     "outputs": []
    },
    {
     "cell_type": "code",
     "collapsed": false,
     "input": [
      "print float(x) + int(y)"
     ],
     "language": "python",
     "metadata": {},
     "outputs": []
    },
    {
     "cell_type": "markdown",
     "metadata": {},
     "source": [
      "Or the other way around"
     ]
    },
    {
     "cell_type": "code",
     "collapsed": false,
     "input": [
      "x = 12.4\n",
      "y = -2"
     ],
     "language": "python",
     "metadata": {},
     "outputs": []
    },
    {
     "cell_type": "code",
     "collapsed": false,
     "input": [
      "print str(x) + str(y)"
     ],
     "language": "python",
     "metadata": {},
     "outputs": []
    },
    {
     "cell_type": "markdown",
     "metadata": {},
     "source": [
      "Example of using list()"
     ]
    },
    {
     "cell_type": "code",
     "collapsed": false,
     "input": [
      "myStr = \"ABCDEFG\"\n",
      "print list(myStr)"
     ],
     "language": "python",
     "metadata": {},
     "outputs": []
    },
    {
     "cell_type": "markdown",
     "metadata": {},
     "source": [
      "<br><br><br>"
     ]
    },
    {
     "cell_type": "markdown",
     "metadata": {},
     "source": [
      "<img src=\"../pix/book.gif\" width=50px> Required reading for next week: \n",
      "* Python for Bioinformatics by S. Bassi - Chapter 4"
     ]
    },
    {
     "cell_type": "markdown",
     "metadata": {},
     "source": [
      "<br><br><br>\n",
      "<img src=\"../pix/exercise.png\">\n",
      "<br><br><br>\n"
     ]
    },
    {
     "cell_type": "code",
     "collapsed": false,
     "input": [
      "from IPython.core.display import HTML\n",
      "\n",
      "\n",
      "def css_styling():\n",
      "    styles = open(\"../styles/custom.css\", \"r\").read()\n",
      "    return HTML(styles)\n",
      "css_styling()\n"
     ],
     "language": "python",
     "metadata": {},
     "outputs": [
      {
       "html": [
        "<style>\n",
        "    div.cell{\n",
        "        width:800px;\n",
        "        margin-left:16% !important;\n",
        "        margin-right:auto;\n",
        "    }\n",
        "    div.text_cell_render{\n",
        "        font-family: \"Helvetica Neue\", Arial, Helvetica, Geneva, sans-serif;\n",
        "        line-height: 145%;\n",
        "        font-size: 100%;\n",
        "        width:800px;\n",
        "        margin-left:auto;\n",
        "        margin-right:auto;\n",
        "    }\n",
        "    .CodeMirror{\n",
        "            font-family: \"Source Code Pro\", source-code-pro,Consolas, monospace;\n",
        "    }\n",
        "    div.CodeMirror{\n",
        "    \tfont-size: 11pt;\n",
        "    }\n",
        "    div.cell.border-box-sizing.code_cell{\n",
        "    \tpadding-left: 50px;\n",
        "    }\n",
        "    div.text_cell_input {\n",
        "    \tmargin-left: 50px;\n",
        "    }\n",
        "    .prompt{\n",
        "        display: None;\n",
        "    }\n",
        "    .text_cell_render h1 {\n",
        "        font-family: Helvetica, serif;\n",
        "        font-size: 30pt;\n",
        "        color: #274257;\n",
        "        text-transform: uppercase;\n",
        "        line-height: 100%;\n",
        "    }\n",
        "    .text_cell_render h2 {\n",
        "    \tmargin-top: 35px;\n",
        "        font-family: Helvetica, serif;\n",
        "        font-size: 24pt;\n",
        "        color: #2A75A9;\n",
        "        line-height: 100%;\n",
        "    }\n",
        "    .text_cell_render h3{\n",
        "    \tmargin-top: 35px;\n",
        "        font-family: Helvetica, serif;\n",
        "        font-size: 18pt;\n",
        "        color: #7EB5D6;\n",
        "        line-height: 100%;\n",
        "       }\n",
        "    .text_cell_render h4{\n",
        "    \tmargin-top: 35px;\n",
        "    \tfont-family: Helvetica, serif;\n",
        "        font-size: 14pt;\n",
        "        line-height: 100%;\n",
        "    }\n",
        "    .text_cell_render h5 {\n",
        "        font-weight: 300;\n",
        "        font-size: 22pt;\n",
        "        color: #4057A1;\n",
        "        font-style: italic;\n",
        "        margin-bottom: .5em;\n",
        "        margin-top: 0.5em;\n",
        "        display: block;\n",
        "        line-height: 100%;\n",
        "    }\n",
        "    \n",
        "    .warning{\n",
        "        color: rgb( 240, 20, 20 )\n",
        "        } \n",
        "    .wds {\n",
        "        background: none repeat scroll 0% 0% rgb(247, 247, 247);\n",
        "        padding: 0em 0em;\n",
        "        font-size: 11px;\n",
        "        font-family: Arial,Helvetica,sans-serif;\n",
        "        display: inline-block;\n",
        "        margin: 0px 0em;\n",
        "        white-space: nowrap;\n",
        "    }\n",
        "    cb {\n",
        "        background: none repeat scroll 0% 0% rgb(247, 247, 247);\n",
        "        padding: 0.1em 0.6em;\n",
        "        border: 1px solid rgb(204, 204, 204);\n",
        "        font-size: 11pt;\n",
        "        font-family: \"Source Code Pro\", source-code-pro,Consolas, monospace;\n",
        "        color: rgb(51, 51, 51);\n",
        "        box-shadow: 0px 1px 0px rgba(0, 0, 0, 0.2), 0px 0px 0px 2px rgb(255, 255, 255) inset;\n",
        "        border-radius: 3px 3px 3px 3px;\n",
        "        display: inline-block;\n",
        "        margin: 0px 0.1em;\n",
        "        line-height: 1.4;\n",
        "        white-space: nowrap;\n",
        "    }\n",
        "    q {\t\n",
        "        font-weight: 300;\n",
        "        font-size: 14pt;\n",
        "        color: #4057A1;\n",
        "        margin-bottom: .5em;\n",
        "        margin-top: 0.5em;\n",
        "        display: block;\n",
        "        font-family: \"Helvetica Neue\", Arial, Helvetica, Geneva, sans-serif;\n",
        "        line-height: 145%;\n",
        "        width:800px;\n",
        "        margin-left:auto;\n",
        "        margin-right:auto;\n",
        "    }\n",
        "    qq {\t\n",
        "        font-weight: 300;\n",
        "        font-size: 11pt;\n",
        "        color: #4057A1;\n",
        "        margin-bottom: .5em;\n",
        "        margin-top: 0.5em;\n",
        "        display: block;\n",
        "        font-family: \"Helvetica Neue\", Arial, Helvetica, Geneva, sans-serif;\n",
        "        line-height: 145%;\n",
        "        width:800px;\n",
        "        margin-left:auto;\n",
        "        margin-right:auto;\n",
        "    }\n",
        "    kbd {\n",
        "        background: none repeat scroll 0% 0% rgb(247, 247, 247);\n",
        "        padding: 0.1em 0.6em;\n",
        "        border: 1px solid rgb(204, 204, 204);\n",
        "        font-size: 11px;\n",
        "        font-family: Arial,Helvetica,sans-serif;\n",
        "        color: rgb(51, 51, 51);\n",
        "        box-shadow: 0px 1px 0px rgba(0, 0, 0, 0.2), 0px 0px 0px 2px rgb(255, 255, 255) inset;\n",
        "        border-radius: 3px 3px 3px 3px;\n",
        "        display: inline-block;\n",
        "        margin: 0px 0.1em;\n",
        "        text-shadow: 0px 1px 0px rgb(255, 255, 255);\n",
        "        line-height: 1.4;\n",
        "        white-space: nowrap;\n",
        "    }\n",
        "    ol {\n",
        "        list-style-type: decimal;\n",
        "    }\n",
        "\n",
        "\t.box_rotate {\n",
        "\t\t  -webkit-transform: rotate(270deg);  /* Chrome, Safari 3.1+ */\n",
        "\t\t     -moz-transform: rotate(270deg);  /* Firefox 3.5-15 */\n",
        "\t\t      -ms-transform: rotate(270deg);  /* IE 9 */\n",
        "\t\t       -o-transform: rotate(270deg);  /* Opera 10.50-12.00 */\n",
        "\t\t          transform: rotate(270deg);  /* Firefox 16+, IE 10+, Opera 12.10+ */\n",
        "\t}\n",
        "\n",
        "\t.vertical-text {\n",
        "\t\tdisplay: inline-block;\n",
        "\t\toverflow: hidden;\n",
        "\t\twidth: 1.5em;\n",
        "\t}\n",
        "\n",
        "\t.vertical-text__inner {\n",
        "\t\tdisplay: inline-block;\n",
        "\t\twhite-space: nowrap;\n",
        "\t\tline-height: 1.5;\n",
        "\t\t  -webkit-transform: rotate(270deg);  /* Chrome, Safari 3.1+ */\n",
        "\t\t     -moz-transform: rotate(270deg);  /* Firefox 3.5-15 */\n",
        "\t\t      -ms-transform: rotate(270deg);  /* IE 9 */\n",
        "\t\t       -o-transform: rotate(270deg);  /* Opera 10.50-12.00 */\n",
        "\t\t          transform: rotate(270deg);  /* Firefox 16+, IE 10+, Opera 12.10+ */\n",
        "\t}\n",
        "\n",
        "\t.vertical-text__inner:after {\n",
        "\t\tcontent: \"\";\n",
        "\t\tdisplay: block;\n",
        "\t\tmargin: -1.5em 0 100%;\n",
        "\t}\n",
        "\n",
        "\t.topics{\n",
        "\t\tbackground: url('files/images/topics.png') no-repeat scroll 0% 0%; \n",
        "\t\twidth: 520px; \n",
        "\t\theight: 250px; \n",
        "\n",
        "\t\tpadding-top: 35px;\n",
        "\t}\n",
        "\n",
        "\t.c_program{\n",
        "\t\tbackground: url('files/images/program.png') no-repeat scroll 0% 0%; width: 520px; margin-left: auto; margin-right: auto;\n",
        "\t}\n",
        "\n",
        "\t.c_require{\n",
        "\t\tbackground: url('files/images/software.png') no-repeat scroll 0% 0%; width: 520px; height: 250px; margin-left: auto; margin-right: auto;\n",
        "\t}\n",
        "\n",
        "</style>\n",
        "<script>\n",
        "    MathJax.Hub.Config({\n",
        "                        TeX: {\n",
        "                           extensions: [\"AMSmath.js\"]\n",
        "                           },\n",
        "                tex2jax: {\n",
        "                    inlineMath: [ ['$','$'], [\"\\\\(\",\"\\\\)\"] ],\n",
        "                    displayMath: [ ['$$','$$'], [\"\\\\[\",\"\\\\]\"] ]\n",
        "                },\n",
        "                displayAlign: 'center', // Change this to 'center' to center equations.\n",
        "                \"HTML-CSS\": {\n",
        "                    styles: {'.MathJax_Display': {\"margin\": 4}}\n",
        "                }\n",
        "        });\n",
        "</script>\n"
       ],
       "metadata": {},
       "output_type": "pyout",
       "prompt_number": 3,
       "text": [
        "<IPython.core.display.HTML at 0x10758e9d0>"
       ]
      }
     ],
     "prompt_number": 3
    }
   ],
   "metadata": {}
  }
 ]
}