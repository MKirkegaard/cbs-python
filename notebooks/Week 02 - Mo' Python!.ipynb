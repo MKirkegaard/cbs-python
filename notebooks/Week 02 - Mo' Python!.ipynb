{
 "metadata": {
  "name": "",
  "signature": "sha256:5ce368bc9bd0f64170c88a0b52cc12b2da4e239fefafc7d4ea069bf7ffb28b83"
 },
 "nbformat": 3,
 "nbformat_minor": 0,
 "worksheets": [
  {
   "cells": [
    {
     "cell_type": "markdown",
     "metadata": {},
     "source": [
      "## Update your Course Materials!\n",
      "\n",
      "#### For Windows: \n",
      "Open the Git Shell icon (<b>not the blue one</b>).\n",
      "<img src=\"files/images/gitshell.png\"/>\n",
      "Type:\n",
      "<code>\n",
      "cd cbs-python\n",
      "git checkout -f master\n",
      "git pull origin master\n",
      "</code>\n",
      "#### For MAC and Linux:\n",
      "Open a terminal. Navigate to the course directory (Whereever you placed it):\n",
      "<br><code>cd ~/Documents/Courses/cbs-python</code>\n",
      "<br>Now update the folder using<br>\n",
      "<code>git checkout -f master\n",
      "git pull origin master</code>\n",
      "<br><br><br><br><br><br>"
     ]
    },
    {
     "cell_type": "markdown",
     "metadata": {},
     "source": [
      "# Data types in python\n",
      "\n",
      "<div class=\"topics\" style=\"padding-left: 30px;padding-top: 60px;\">\n",
      "        This lecture will cover:\n",
      "             <ul>\n",
      "                <li>Numbers</li>\n",
      "                <li>Booleans</li>\n",
      "                <li>Sequences</li>\n",
      "                <li>Dictionaries</li>\n",
      "            </ul>\n",
      "</div>"
     ]
    },
    {
     "cell_type": "markdown",
     "metadata": {},
     "source": [
      "## Numbers\n",
      "Like most other computer languages Python has several types of numbers. Number data types store numeric values. They are immutable data types, which means that changing the value of a number data type results in a newly created object.\n"
     ]
    },
    {
     "cell_type": "code",
     "collapsed": false,
     "input": [
      "A = 10\n",
      "B = 2"
     ],
     "language": "python",
     "metadata": {},
     "outputs": []
    },
    {
     "cell_type": "markdown",
     "metadata": {},
     "source": [
      "<ul style=\"width: 600px;\">\n",
      "    <li><b>integers:</b> often called just ints, are positive or negative whole numbers with no decimal point. </li>\n",
      "    <li><b>long:</b> are integers of unlimited size, written like integers and followed by an uppercase or lowercase L</li>\n",
      "    <li><b>floats:</b> represent real numbers and are written with a decimal point dividing the integer and fractional parts. Floats may also be in scientific notation, with E or e indicating the power of 10 (2.5E2 = 2.5 x 10<sup>2</sup> = 250)</li>\n",
      "    <li><b>complex:</b> are of the form <cb>a + bJ</cb>, where a and b are floats and J is an imaginary number. Complex numbers are not used much in Python programming.</li>\n",
      "</ul>\n"
     ]
    },
    {
     "cell_type": "code",
     "collapsed": false,
     "input": [
      "\n",
      "A = 10      # int\n",
      "B = 20131L  # long\n",
      "C = 3.14    # float\n",
      "D = 1 + 3.14j   # complex"
     ],
     "language": "python",
     "metadata": {},
     "outputs": []
    },
    {
     "cell_type": "markdown",
     "metadata": {},
     "source": [
      "####Arithmetics\n",
      "\n",
      "Python supports all the standard arithmetical operations on numerical types, and mostly uses a similar syntax to several other computer languages:\n"
     ]
    },
    {
     "cell_type": "code",
     "collapsed": false,
     "input": [
      "x = 3.14159\n",
      "y = 2.71828\n",
      "\n",
      "x + y # addition\n",
      "x - y # subtraction\n",
      "x * y # multiplication\n",
      "x / y # division\n",
      "x // y # floored division\n",
      "x % y # modulus - remainder of x/y\n",
      "x ** y # exponentiation\n",
      "pow(x, y) # another way to do exponentiation\n",
      "\n",
      "print ((x + 1) - y) * 4"
     ],
     "language": "python",
     "metadata": {},
     "outputs": []
    },
    {
     "cell_type": "markdown",
     "metadata": {},
     "source": [
      "You can mix (some) types in arithmetic expressions and python will apply rules as to the type of the result"
     ]
    },
    {
     "cell_type": "code",
     "collapsed": false,
     "input": [
      "13 + 5.0"
     ],
     "language": "python",
     "metadata": {},
     "outputs": []
    },
    {
     "cell_type": "markdown",
     "metadata": {},
     "source": [
      "You can force python to use a particular type by casting an expression explicitly, using helpfully named functions: float, int, str etc."
     ]
    },
    {
     "cell_type": "code",
     "collapsed": false,
     "input": [
      "float(3) + float(7)"
     ],
     "language": "python",
     "metadata": {},
     "outputs": []
    },
    {
     "cell_type": "code",
     "collapsed": false,
     "input": [
      "int(3.14159) + 1"
     ],
     "language": "python",
     "metadata": {},
     "outputs": []
    },
    {
     "cell_type": "markdown",
     "metadata": {},
     "source": [
      "Division in python sometimes trips up new (and experienced!) programmers. If you divide 2 integers you will only get an integer result. If you want a floating point results you should explicitly cast at least one of the arguments to a float."
     ]
    },
    {
     "cell_type": "code",
     "collapsed": false,
     "input": [
      "print \"3/4:\", 3/4"
     ],
     "language": "python",
     "metadata": {},
     "outputs": []
    },
    {
     "cell_type": "code",
     "collapsed": false,
     "input": [
      "print \"3.0/4:\", float(3)/4"
     ],
     "language": "python",
     "metadata": {},
     "outputs": []
    },
    {
     "cell_type": "markdown",
     "metadata": {},
     "source": [
      "There are a few shortcut assignment statements to make modifying variables directly faster to type"
     ]
    },
    {
     "cell_type": "code",
     "collapsed": false,
     "input": [
      "x = 3\n",
      "x += 1 # equivalent to x = x + 1\n",
      "x"
     ],
     "language": "python",
     "metadata": {},
     "outputs": []
    },
    {
     "cell_type": "code",
     "collapsed": false,
     "input": [
      "y = 10\n",
      "y *= x # equivalent to y = y * x\n",
      "y"
     ],
     "language": "python",
     "metadata": {},
     "outputs": []
    },
    {
     "cell_type": "markdown",
     "metadata": {},
     "source": [
      "<br><br><br><img src=\"../pix/play2.jpg\">\n",
      "\n",
      "Calculate the Matthews correlation coefficient (MCC) for following kinase predictions:<br>\n",
      "True positives (TP) = 184 <br>\n",
      "True negatives (TN) = 161 <br>\n",
      "False positives (FP) = 5 <br>\n",
      "False negatives (FN) = 13 <br>\n",
      "<img src=\"../pix/mcc2.png\" width=250px>\n"
     ]
    },
    {
     "cell_type": "code",
     "collapsed": false,
     "input": [],
     "language": "python",
     "metadata": {},
     "outputs": []
    },
    {
     "cell_type": "markdown",
     "metadata": {},
     "source": [
      "## Booleans\n",
      "\n",
      "Boolean values represent truth or falsehood, as used in logical operations, for example. Not surprisingly, there are only two values, and in Python they are called True and False."
     ]
    },
    {
     "cell_type": "code",
     "collapsed": false,
     "input": [
      "a = True\n",
      "b = False\n",
      "print b"
     ],
     "language": "python",
     "metadata": {},
     "outputs": []
    },
    {
     "cell_type": "markdown",
     "metadata": {},
     "source": [
      "<br><br><br><img src=\"../pix/play2.jpg\">\n",
      "Try to understand the following examples of Boolean expressions:"
     ]
    },
    {
     "cell_type": "code",
     "collapsed": false,
     "input": [
      "a, b = 5, 6\n",
      "\n",
      "print \"Test 1:\", a == 5\n",
      "print \"Test 2:\", a == 7\n",
      "print \"Test 3:\", a == 5 and b == 6\n",
      "print \"Test 4:\", a == 5 and b == 5\n",
      "print \"Test 5:\", a == 6 or b == 6\n",
      "print \"Test 6:\", not (a == 6 and b == 6)\n",
      "print \"Test 7:\", not a == 6 and b == 6\n",
      "print \"Test 8:\", a == 5 and b > a\n",
      "print \"Test 9:\", a == 5 and (not (\"testing\" == \"testing\" or \"Python\" == \"Fun\"))"
     ],
     "language": "python",
     "metadata": {},
     "outputs": []
    },
    {
     "cell_type": "markdown",
     "metadata": {},
     "source": [
      "<br><br><br>"
     ]
    },
    {
     "cell_type": "markdown",
     "metadata": {},
     "source": [
      "## Sequences"
     ]
    },
    {
     "cell_type": "markdown",
     "metadata": {},
     "source": [
      "In Python the word *sequence* refer to an ordered collection of items. We will take a look at them all:\n",
      "<ul>\n",
      "    <li>Strings</li>\n",
      "    <li>Lists</li>\n",
      "    <li>Tuples</li>\n",
      "</ul>"
     ]
    },
    {
     "cell_type": "markdown",
     "metadata": {},
     "source": [
      "### Strings\n",
      "Strings are amongst the most popular types in Python. We can create them simply by enclosing characters in quotes. Python treats single quotes the same as double quotes."
     ]
    },
    {
     "cell_type": "code",
     "collapsed": false,
     "input": [
      "print \"This is a string\"\n",
      "print 'This is a string'\n",
      "print '''This is a string'''\n",
      "print \"\"\"This is a string\"\"\""
     ],
     "language": "python",
     "metadata": {},
     "outputs": []
    },
    {
     "cell_type": "code",
     "collapsed": false,
     "input": [
      "print \"A single quote (') inside double quotes\"\n",
      "print 'Here we have \"double quotes\" inside single quotes'"
     ],
     "language": "python",
     "metadata": {},
     "outputs": []
    },
    {
     "cell_type": "markdown",
     "metadata": {},
     "source": [
      "<br><br><img src=\"../pix/play2.jpg\"><i>Put the following protein annotation result in a text string:</i>\n",
      "\n",
      "Phospholipase A2 \"basic\" or Orotidine-5'-phosphate decarboxylase"
     ]
    },
    {
     "cell_type": "code",
     "collapsed": false,
     "input": [
      "annotation = \"\""
     ],
     "language": "python",
     "metadata": {},
     "outputs": []
    },
    {
     "cell_type": "markdown",
     "metadata": {},
     "source": [
      "<br><br><br>"
     ]
    },
    {
     "cell_type": "markdown",
     "metadata": {},
     "source": [
      "####Modifying strings\n",
      "\n",
      "You can apply some of the same \"math\" operations on strings:"
     ]
    },
    {
     "cell_type": "code",
     "collapsed": false,
     "input": [
      "A = \"ACGTGA\"\n",
      "B = \"TATAA\""
     ],
     "language": "python",
     "metadata": {},
     "outputs": []
    },
    {
     "cell_type": "code",
     "collapsed": false,
     "input": [
      "A + B"
     ],
     "language": "python",
     "metadata": {},
     "outputs": []
    },
    {
     "cell_type": "code",
     "collapsed": false,
     "input": [
      "B * 5"
     ],
     "language": "python",
     "metadata": {},
     "outputs": []
    },
    {
     "cell_type": "markdown",
     "metadata": {},
     "source": [
      "You can access a single character from a string using brackets containing the *index* of the string character:"
     ]
    },
    {
     "cell_type": "code",
     "collapsed": false,
     "input": [
      "A[2]"
     ],
     "language": "python",
     "metadata": {},
     "outputs": []
    },
    {
     "cell_type": "code",
     "collapsed": false,
     "input": [
      "C = \"Python\""
     ],
     "language": "python",
     "metadata": {},
     "outputs": []
    },
    {
     "cell_type": "markdown",
     "metadata": {},
     "source": [
      "<center>\n",
      "<img src=\"http://www.python-course.eu/images/string_indices.gif\" />\n",
      "</center>"
     ]
    },
    {
     "cell_type": "code",
     "collapsed": false,
     "input": [
      "C[6] # Will give an index error"
     ],
     "language": "python",
     "metadata": {},
     "outputs": []
    },
    {
     "cell_type": "markdown",
     "metadata": {},
     "source": [
      "You can check how long a string is using ```len()```"
     ]
    },
    {
     "cell_type": "code",
     "collapsed": false,
     "input": [
      "len(C)"
     ],
     "language": "python",
     "metadata": {},
     "outputs": []
    },
    {
     "cell_type": "markdown",
     "metadata": {},
     "source": [
      "Strings are immutable -- once we have created it, we cannot change it."
     ]
    },
    {
     "cell_type": "code",
     "collapsed": false,
     "input": [
      "A = \"acgctAGACGT\"\n",
      "A.upper() # Returns the uppercase string"
     ],
     "language": "python",
     "metadata": {},
     "outputs": []
    },
    {
     "cell_type": "code",
     "collapsed": false,
     "input": [
      "print A"
     ],
     "language": "python",
     "metadata": {},
     "outputs": []
    },
    {
     "cell_type": "markdown",
     "metadata": {},
     "source": [
      "Our string A is unchanged..."
     ]
    },
    {
     "cell_type": "markdown",
     "metadata": {},
     "source": [
      "To actually change the string we have to make a copy of it. "
     ]
    },
    {
     "cell_type": "code",
     "collapsed": false,
     "input": [
      "B = A.upper()\n",
      "print \"A is\", A\n",
      "print \"B is\", B"
     ],
     "language": "python",
     "metadata": {},
     "outputs": []
    },
    {
     "cell_type": "markdown",
     "metadata": {},
     "source": [
      "Or by reassign to the name A to change the string."
     ]
    },
    {
     "cell_type": "code",
     "collapsed": false,
     "input": [
      "A = A.upper()\n",
      "print A"
     ],
     "language": "python",
     "metadata": {},
     "outputs": []
    },
    {
     "cell_type": "markdown",
     "metadata": {},
     "source": [
      "Some other string manipulations:"
     ]
    },
    {
     "cell_type": "code",
     "collapsed": false,
     "input": [
      "B = \"a,bunch,of,words\"\n",
      "print B.split(\",\")"
     ],
     "language": "python",
     "metadata": {},
     "outputs": []
    },
    {
     "cell_type": "code",
     "collapsed": false,
     "input": [
      "B = [\"a\", \"bunch\", \"of\", \"words\", \"in\", \"a\", \"list\", \"object\"]\n",
      "print \" \".join(B)\n",
      "print \"_\".join(B)"
     ],
     "language": "python",
     "metadata": {},
     "outputs": []
    },
    {
     "cell_type": "markdown",
     "metadata": {},
     "source": [
      "<br><br><br>\n",
      "#### Slicing\n"
     ]
    },
    {
     "cell_type": "markdown",
     "metadata": {},
     "source": [
      "The \"slice\" syntax is a great way to refer to substrings of strings. Slicing consists of two indexes, separated by a colon \":\"\n",
      "\n",
      "<code>\n",
      " -6  -5  -4  -3  -2  -1\n",
      "+---+---+---+---+---+---+\n",
      "| P | y | t | h | o | n |\n",
      "+---+---+---+---+---+---+\n",
      "  0   1   2   3   4   5  \n",
      "</code>\n"
     ]
    },
    {
     "cell_type": "code",
     "collapsed": false,
     "input": [
      "seq = \"Python\"\n",
      "print seq[2:4]\n",
      "print seq[2:-2]\n"
     ],
     "language": "python",
     "metadata": {},
     "outputs": []
    },
    {
     "cell_type": "markdown",
     "metadata": {},
     "source": [
      "\n",
      "\n",
      "From a Illumina sequencing run, the quality scores indicate that the first 7 bases and the last 15 bases of all sequences are rather bad and need to be trimmed off.\n",
      "With slicing remove the bad nucleotides from the following sequence."
     ]
    },
    {
     "cell_type": "code",
     "collapsed": false,
     "input": [
      "seq = \"TTCAATATTAAGCTTGGCATTTAAAGTCTTTAGGATTGACTGAAACTGTTCAAAAAAGGATAAAAGCTTAAAATCATATTTATCGGAGCCAATTTCTTTA\"\n"
     ],
     "language": "python",
     "metadata": {},
     "outputs": []
    },
    {
     "cell_type": "markdown",
     "metadata": {},
     "source": [
      "<br><br><br>\n",
      "#### Printing variables inside strings\n"
     ]
    },
    {
     "cell_type": "code",
     "collapsed": false,
     "input": [
      "name = \"John\"\n",
      "print \"Your name is\", name, \"!\""
     ],
     "language": "python",
     "metadata": {},
     "outputs": []
    },
    {
     "cell_type": "markdown",
     "metadata": {},
     "source": [
      "<br><br><br>"
     ]
    },
    {
     "cell_type": "code",
     "collapsed": false,
     "input": [
      "print \"Your name is %s!\" % name"
     ],
     "language": "python",
     "metadata": {},
     "outputs": []
    },
    {
     "cell_type": "code",
     "collapsed": false,
     "input": [
      "age = 36\n",
      "print \"Your name is %s, and you are %d years old!\" % (name, age)"
     ],
     "language": "python",
     "metadata": {},
     "outputs": []
    },
    {
     "cell_type": "code",
     "collapsed": false,
     "input": [
      "from math import pi\n",
      "print \"pi = %.2f\" % pi"
     ],
     "language": "python",
     "metadata": {},
     "outputs": []
    },
    {
     "cell_type": "markdown",
     "metadata": {},
     "source": [
      "<br><br><br>\n",
      "### Lists"
     ]
    },
    {
     "cell_type": "markdown",
     "metadata": {},
     "source": [
      "#### Making lists"
     ]
    },
    {
     "cell_type": "markdown",
     "metadata": {},
     "source": [
      "Lists are like arrays in other programming languages. It is essentially a stack of data items. Unlike strings (stack of characters), lists are collections that you can actually change.\n",
      "\n",
      "Lets say you want to make a list of your movies:\n",
      "\n",
      "<ul>\n",
      "    <li>The Meaning of Life</li>\n",
      "    <li>The Life of Brian</li>\n",
      "    <li>The Holy Grail</li>\n",
      "</ul>\n",
      "\n",
      "In python, this is done using brackets **[ ]**"
     ]
    },
    {
     "cell_type": "code",
     "collapsed": false,
     "input": [
      "movies = [\"The Holy Grail\", \"The Life of Brian\", \"The Meaning of Life\"]"
     ],
     "language": "python",
     "metadata": {},
     "outputs": []
    },
    {
     "cell_type": "markdown",
     "metadata": {},
     "source": [
      "#### Reading from lists"
     ]
    },
    {
     "cell_type": "code",
     "collapsed": false,
     "input": [
      "print movies"
     ],
     "language": "python",
     "metadata": {},
     "outputs": []
    },
    {
     "cell_type": "markdown",
     "metadata": {},
     "source": [
      "We can also use this brackets afterwards to access just a single item in the list:"
     ]
    },
    {
     "cell_type": "code",
     "collapsed": false,
     "input": [
      "print movies[0]\n",
      "print movies[1]\n",
      "print movies[2]"
     ],
     "language": "python",
     "metadata": {},
     "outputs": []
    },
    {
     "cell_type": "markdown",
     "metadata": {},
     "source": [
      "You can check how many items are in the movie collection using"
     ]
    },
    {
     "cell_type": "code",
     "collapsed": false,
     "input": [
      "len(movies)"
     ],
     "language": "python",
     "metadata": {},
     "outputs": []
    },
    {
     "cell_type": "markdown",
     "metadata": {},
     "source": [
      "#### Adding more data to the list"
     ]
    },
    {
     "cell_type": "markdown",
     "metadata": {},
     "source": [
      "If you want to **add** just another item to the list (appending) you can do this by"
     ]
    },
    {
     "cell_type": "code",
     "collapsed": false,
     "input": [
      "movies.append(\"Die Hard\")"
     ],
     "language": "python",
     "metadata": {},
     "outputs": []
    },
    {
     "cell_type": "markdown",
     "metadata": {},
     "source": [
      "Printing the list now gives"
     ]
    },
    {
     "cell_type": "code",
     "collapsed": false,
     "input": [
      "print movies"
     ],
     "language": "python",
     "metadata": {},
     "outputs": []
    },
    {
     "cell_type": "markdown",
     "metadata": {},
     "source": [
      "To **insert** an item into a specific position of the list you can use"
     ]
    },
    {
     "cell_type": "code",
     "collapsed": false,
     "input": [
      "movies.insert(3, \"Twilight\")\n",
      "print movies"
     ],
     "language": "python",
     "metadata": {},
     "outputs": []
    },
    {
     "cell_type": "markdown",
     "metadata": {},
     "source": [
      "Appending and inserting only works with a single item. You can also **extend** the list with another list using"
     ]
    },
    {
     "cell_type": "code",
     "collapsed": false,
     "input": [
      "newmovies = [\"The Dark Knight Rises\", \"Django Unchained\", \"The Avengers\"]\n",
      "movies.extend(newmovies)"
     ],
     "language": "python",
     "metadata": {},
     "outputs": []
    },
    {
     "cell_type": "code",
     "collapsed": false,
     "input": [
      "print movies"
     ],
     "language": "python",
     "metadata": {},
     "outputs": []
    },
    {
     "cell_type": "markdown",
     "metadata": {},
     "source": [
      "#### Deleting items from list"
     ]
    },
    {
     "cell_type": "markdown",
     "metadata": {},
     "source": [
      "Of course you can **remove** an element again from the collection of favorite movies by either <cb>movies.pop(3)</cb> or <cb>movies.remove(\"Twilight\")</cb>"
     ]
    },
    {
     "cell_type": "code",
     "collapsed": false,
     "input": [
      "movies.remove(\"Twilight\")\n",
      "print movies"
     ],
     "language": "python",
     "metadata": {},
     "outputs": []
    },
    {
     "cell_type": "markdown",
     "metadata": {},
     "source": [
      "Using <cb>movies.pop()</cb> without any paramter just removes the last element. Additionally the function <cb>.pop()</cb> also returns this element where it was called:"
     ]
    },
    {
     "cell_type": "code",
     "collapsed": false,
     "input": [
      "movies.pop()"
     ],
     "language": "python",
     "metadata": {},
     "outputs": []
    },
    {
     "cell_type": "code",
     "collapsed": false,
     "input": [
      "print movies"
     ],
     "language": "python",
     "metadata": {},
     "outputs": []
    },
    {
     "cell_type": "code",
     "collapsed": false,
     "input": [
      "del movies[2] # also works\n",
      "print movies"
     ],
     "language": "python",
     "metadata": {},
     "outputs": []
    },
    {
     "cell_type": "markdown",
     "metadata": {},
     "source": [
      "<img src=\"../pix/play2.jpg\">Make a list that includes four organisms, such as 'Giant Squid' and 'Killer rabbit'.<br>\n",
      "Use the <i>list.index()</i> function to find the index of one organism in your list.<br>\n",
      "Use the <i>in</i> function to show that this organism is in your list.<br>\n",
      "Use the <i>append()</i> function to add a new cute animal to your list.<br>\n",
      "Use the <i>insert()</i> function to add a new predator at the beginning of the list.<br>\n",
      "Use a loop to show all the organims in your list.<br>\n",
      "(<font size=\"tiny\"><i>adapted from http://introtopython.org/</i></font>)"
     ]
    },
    {
     "cell_type": "code",
     "collapsed": false,
     "input": [],
     "language": "python",
     "metadata": {},
     "outputs": []
    },
    {
     "cell_type": "markdown",
     "metadata": {},
     "source": [
      "<br><br><br>"
     ]
    },
    {
     "cell_type": "markdown",
     "metadata": {},
     "source": [
      "### Tuples"
     ]
    },
    {
     "cell_type": "markdown",
     "metadata": {},
     "source": [
      "Tuples are like lists - but once you have created it, you can't change it. "
     ]
    },
    {
     "cell_type": "code",
     "collapsed": false,
     "input": [
      "mytuble = (1,2,3,4)"
     ],
     "language": "python",
     "metadata": {},
     "outputs": []
    },
    {
     "cell_type": "markdown",
     "metadata": {},
     "source": [
      "Since they have a **fixed size** you generally use them as structures for some data, like coordinates (x,y). \n",
      "\n",
      "**Example**: Say you go for a walk at DTU campus and note your GPS coordinates at any instant in a tuple (x,y) called <cb>current_coordinate</cb>. While walking you record your journey in a list called <cb>journey</cb>, so you can trace your route at a later point."
     ]
    },
    {
     "cell_type": "code",
     "collapsed": false,
     "input": [
      "journey = [] # empty list\n",
      "while walking:\n",
      "    current_coordinate = (x,y)\n",
      "    journey.append(coordinate)\n",
      "# This code won't run, because we don't know the coordinates \"x\" and \"y\" and when to stop \"walking\".\n",
      "# But it illustrates the idea of tuples used as coordinates and lists used as records."
     ],
     "language": "python",
     "metadata": {},
     "outputs": []
    },
    {
     "cell_type": "markdown",
     "metadata": {},
     "source": [
      "After a short walk your <cb>journey</cb> would look something like this:"
     ]
    },
    {
     "cell_type": "code",
     "collapsed": false,
     "input": [
      "[\n",
      "   (55.787159, 12.518814),\n",
      "   (55.787033, 12.519661),\n",
      "   (55.786761, 12.521485),\n",
      "   (55.787582, 12.522022),\n",
      "   (55.787889, 12.520208),\n",
      "   (55.787159, 12.518814)\n",
      "];"
     ],
     "language": "python",
     "metadata": {},
     "outputs": []
    },
    {
     "cell_type": "markdown",
     "metadata": {},
     "source": [
      "This cannot be done in the opposite way! \n",
      "\n",
      "Tuples are in general more memory efficient than lists but accessing data items from list and tuples are equally fast."
     ]
    },
    {
     "cell_type": "markdown",
     "metadata": {},
     "source": [
      "## Dictionaries\n",
      "\n",
      "Dictionaries is a special type of data structure in python. It holds a Key and a Value. They Value can be addressed not by a number, like in lists, but by a Key. (In other languages this data structure is also called a hash-table). You make dictionaries using the <b>{ }</b> brackets:"
     ]
    },
    {
     "cell_type": "code",
     "collapsed": false,
     "input": [
      "IUPAC = {'A': 'Ala', 'C': 'Cys', 'E': 'Glu'}"
     ],
     "language": "python",
     "metadata": {},
     "outputs": []
    },
    {
     "cell_type": "markdown",
     "metadata": {},
     "source": [
      "And access each Value using, eg. <cb>IUPAC['E']</cb>:"
     ]
    },
    {
     "cell_type": "code",
     "collapsed": false,
     "input": [
      "print \"C stands for the amino acid\", IUPAC['C']\n",
      "aa = 'A'\n",
      "print aa, \"stands for the amino acid\", IUPAC[aa]"
     ],
     "language": "python",
     "metadata": {},
     "outputs": []
    },
    {
     "cell_type": "markdown",
     "metadata": {},
     "source": [
      "Another way of creating it is:"
     ]
    },
    {
     "cell_type": "code",
     "collapsed": false,
     "input": [
      "IUPAC = dict(A='Ala', C='Cys', E='Glu')\n",
      "print IUPAC"
     ],
     "language": "python",
     "metadata": {},
     "outputs": []
    },
    {
     "cell_type": "markdown",
     "metadata": {},
     "source": [
      "## Running trough items in a collection\n",
      "\n",
      "Python has a very non-typical way of running through items in a collection (items in a list, characters in a string or keys in a dictionary).\n",
      "\n",
      "It goes like this:"
     ]
    },
    {
     "cell_type": "code",
     "collapsed": false,
     "input": [
      "for color in colors:\n",
      "    print color"
     ],
     "language": "python",
     "metadata": {},
     "outputs": []
    },
    {
     "cell_type": "markdown",
     "metadata": {},
     "source": [
      "The recipe is basically a **for** line ending with a colon. Everything that follows with an **indentation** will be evaluated for each item in the collection."
     ]
    },
    {
     "cell_type": "code",
     "collapsed": false,
     "input": [
      "for color in colors:\n",
      "    print \"This\",\n",
      "    print \"color\",\n",
      "    print \"is\",\n",
      "    for character in color:\n",
      "        print character,\n",
      "    print \"!\"\n",
      "print \"Last color is\", color"
     ],
     "language": "python",
     "metadata": {},
     "outputs": []
    },
    {
     "cell_type": "markdown",
     "metadata": {},
     "source": [
      "## Membership testing\n",
      "\n",
      "There are two kind of membership tests in python\n",
      "\n",
      "    in\n",
      "\n",
      "and \n",
      "\n",
      "    not in\n",
      "\n",
      "They are used to test if an item is a member of a collection. Like"
     ]
    },
    {
     "cell_type": "code",
     "collapsed": false,
     "input": [
      "2 in [1,2,3,4]"
     ],
     "language": "python",
     "metadata": {},
     "outputs": []
    },
    {
     "cell_type": "code",
     "collapsed": false,
     "input": [
      "2 not in [1,3,5,7]"
     ],
     "language": "python",
     "metadata": {},
     "outputs": []
    },
    {
     "cell_type": "markdown",
     "metadata": {},
     "source": [
      "They will return a boolean, either\n",
      "\n",
      "    True\n",
      "or \n",
      "\n",
      "    False\n",
      "\n",
      "which is another data type aswell. This type is case-sensitive, so true is not the same as True!\n",
      "\n",
      "It can be used with all kind of collections:"
     ]
    },
    {
     "cell_type": "code",
     "collapsed": false,
     "input": [
      "\"T\" in \"UAGCCGACGUGA\""
     ],
     "language": "python",
     "metadata": {},
     "outputs": []
    },
    {
     "cell_type": "markdown",
     "metadata": {},
     "source": [
      "## List Comprehension\n",
      "\n",
      "Instead of defining a list by *enumeration*:"
     ]
    },
    {
     "cell_type": "code",
     "collapsed": false,
     "input": [
      "A = [0,1,2,3,4]"
     ],
     "language": "python",
     "metadata": {},
     "outputs": []
    },
    {
     "cell_type": "markdown",
     "metadata": {},
     "source": [
      "you can assign it by *comprehension*, eg. \n",
      "<center>\n",
      "<img src=\"files/images/eq_1.gif\" />\n",
      "</center>\n",
      "\n",
      "which gives\n",
      "<center>\n",
      "<img src=\"files/images/eq_2.gif\" />\n",
      "</center>\n",
      "\n",
      "\n",
      "In Python this is written as:\n",
      "\n",
      "    B = [expression for item in collection]"
     ]
    },
    {
     "cell_type": "code",
     "collapsed": false,
     "input": [
      "B = [3*x for x in A]\n",
      "print B"
     ],
     "language": "python",
     "metadata": {},
     "outputs": []
    },
    {
     "cell_type": "markdown",
     "metadata": {},
     "source": [
      "<img src=\"../pix/play2.jpg\">Use the following IUPAC dictionary together with a list comprehension (or a for loop) to translate the ATP synthetase subunit 8 from Architeuthis dux into the 3-letter amino acid code sequence separated by '-'.\n"
     ]
    },
    {
     "cell_type": "code",
     "collapsed": false,
     "input": [
      "IUPAC = {'*': 'Ter', 'A': 'Ala', 'C': 'Cys', 'E': 'Glu', 'D': 'Asp',\n",
      "         'G': 'Gly', 'F': 'Phe', 'I': 'Ile', 'H': 'His', 'K': 'Lys',\n",
      "         'M': 'Met', 'L': 'Leu', 'N': 'Asn', 'Q': 'Gln', 'P': 'Pro',\n",
      "         'S': 'Ser', 'R': 'Arg', 'T': 'Thr', 'W': 'Trp', 'V': 'Val',\n",
      "         'Y': 'Tyr', 'X': 'Xaa'}\n",
      "ATP8 = \"MPQLSPINWLFLFIMFWSIMILNTSIMWWNTNNLYMINKTPKTSSNISYKW*\"\n"
     ],
     "language": "python",
     "metadata": {},
     "outputs": []
    },
    {
     "cell_type": "markdown",
     "metadata": {},
     "source": [
      "<br><br><br>"
     ]
    },
    {
     "cell_type": "markdown",
     "metadata": {},
     "source": [
      "## Conversion"
     ]
    },
    {
     "cell_type": "markdown",
     "metadata": {},
     "source": [
      "Conversion between data types in Python is called *type casting*. This is done using functions like \n",
      "\n",
      "    int()\n",
      "    float()\n",
      "    str()\n",
      "    list()\n",
      "    dict()\n",
      "\n",
      "A common conversion is from string to number:"
     ]
    },
    {
     "cell_type": "code",
     "collapsed": false,
     "input": [
      "x = \"12.4\"\n",
      "y = \"-2\"\n",
      "print x + y"
     ],
     "language": "python",
     "metadata": {},
     "outputs": []
    },
    {
     "cell_type": "code",
     "collapsed": false,
     "input": [
      "print float(x) + int(y)"
     ],
     "language": "python",
     "metadata": {},
     "outputs": []
    },
    {
     "cell_type": "markdown",
     "metadata": {},
     "source": [
      "Or the other way around"
     ]
    },
    {
     "cell_type": "code",
     "collapsed": false,
     "input": [
      "x = 12.4\n",
      "y = -2"
     ],
     "language": "python",
     "metadata": {},
     "outputs": []
    },
    {
     "cell_type": "code",
     "collapsed": false,
     "input": [
      "print str(x) + str(y)"
     ],
     "language": "python",
     "metadata": {},
     "outputs": []
    },
    {
     "cell_type": "markdown",
     "metadata": {},
     "source": [
      "Example of using list()"
     ]
    },
    {
     "cell_type": "code",
     "collapsed": false,
     "input": [
      "myStr = \"ABCDEFG\"\n",
      "print list(myStr)"
     ],
     "language": "python",
     "metadata": {},
     "outputs": []
    },
    {
     "cell_type": "markdown",
     "metadata": {},
     "source": [
      "Example of using dict()"
     ]
    },
    {
     "cell_type": "code",
     "collapsed": false,
     "input": [
      "myList = [(\"a\", 2), (\"b\", 3), (\"c\", 1)]\n",
      "myDict = dict(myList)\n",
      "print myDict"
     ],
     "language": "python",
     "metadata": {},
     "outputs": []
    },
    {
     "cell_type": "markdown",
     "metadata": {},
     "source": [
      "<br><br><br>"
     ]
    },
    {
     "cell_type": "code",
     "collapsed": false,
     "input": [
      "from IPython.core.display import HTML\n",
      "\n",
      "\n",
      "def css_styling():\n",
      "    styles = open(\"../styles/custom.css\", \"r\").read()\n",
      "    return HTML(styles)\n",
      "css_styling()\n"
     ],
     "language": "python",
     "metadata": {},
     "outputs": []
    }
   ],
   "metadata": {}
  }
 ]
}