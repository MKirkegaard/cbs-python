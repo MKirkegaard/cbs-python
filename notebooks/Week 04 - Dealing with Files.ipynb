{
 "cells": [
  {
   "cell_type": "markdown",
   "metadata": {},
   "source": [
    "## Backup your exercises\n",
    "save and rename!\n",
    "\n",
    "## Update your Course Materials!\n",
    "\n",
    "#### For Windows: \n",
    "Open the Git Shell icon (<b>not the blue one</b>).\n",
    "<img src=\"files/images/gitshell.png\"/>\n",
    "Type:\n",
    "<code>\n",
    "cd cbs-python\n",
    "git checkout -f master\n",
    "git pull origin master\n",
    "</code>\n",
    "#### For MAC and Linux:\n",
    "Open a terminal. Navigate to the course directory (Whereever you placed it):\n",
    "<br><code>cd ~/Documents/Courses/cbs-python</code>\n",
    "<br>Now update the folder using<br>\n",
    "<code>git checkout -f master\n",
    "git pull origin master</code>\n",
    "<br><br><br>"
   ]
  },
  {
   "cell_type": "markdown",
   "metadata": {},
   "source": [
    "# Week 04 - Dealing with files"
   ]
  },
  {
   "cell_type": "markdown",
   "metadata": {},
   "source": [
    "<div class=\"topics\" style=\"padding-left: 30px;padding-top: 60px;\">\n",
    "\n",
    "             <ul>\n",
    "                <li>questions for last weeks lecture</li>\n",
    "                <li>Dealing with files</li>\n",
    "                <li>Script editor</li>\n",
    "            </ul>\n",
    "</div>"
   ]
  },
  {
   "cell_type": "markdown",
   "metadata": {},
   "source": [
    "### Python Files I/O\n",
    "\n",
    "You have already used Python's basic Input/Output via the following:\n",
    "\n",
    "###### getting input from the keyboard\n",
    "    raw_input(\"Enter your name: \")\n",
    "    \n",
    "###### printing output to the screen\n",
    "    print \"Your age is\", 37\n",
    "    \n",
    "\n",
    "<img src=\"../pix/files.png\" width = \"20%\">\n",
    "and today we will work with preserving data for further usage in a file\n",
    "###### reading input from a file on the disk\n",
    "    txt = open('blastp_result.txt').read()\n",
    "    \n",
    "###### writing output to a file on the disk\n",
    "    open(blastp_result_parsed.txt', 'w').write(\"Parsing completed\")\n",
    "    "
   ]
  },
  {
   "cell_type": "markdown",
   "metadata": {},
   "source": [
    "### Reading Files\n",
    "Reading a file in Python takes **three** steps:\n",
    "\n",
    "<b>1. Open the file</b>\n",
    "\n",
    ">Python has a built in function <cb>open()</cb> that lets you create a *filehandle*. The file is not yet read, but is now accessible through the *filehandle*. \n",
    "\n",
    "    fh = open(\"filename.txt\") # open with relative path.\n",
    "    fh = open(\"../data/filename.txt\") # open with relative path.\n",
    "\n",
    "\n",
    "    fh = open(\"/home/people/thomas/filename.txt\") # open with absolute path.\n",
    "    fh = open(\"/Users/thomas/filename.txt\") # open with absolute path.\n",
    "    fh = open(\"C:\\Data\\filename.txt\") # open with absolute path.\n",
    "<br><br><br><br><br><br><br><br><br>"
   ]
  },
  {
   "cell_type": "markdown",
   "metadata": {},
   "source": [
    "<b>2. Read the file</b>\n",
    "\n",
    ">There are several ways to read a file in Python. \n",
    "\n",
    "    fh.read()  # reads the entire content of the file \n",
    "\n",
    "    fh.read(n) # reads n bytes from the file.\n",
    " \n",
    "    fh.readline() # Reads a single line from the file into a string.\n",
    "\n",
    "    fh.readlines() # Returns a list with all lines from the file.\n",
    "    \n",
    "<br><br><br><br><br><br><br><br><br><br><br><br><br><br><br>"
   ]
  },
  {
   "cell_type": "markdown",
   "metadata": {},
   "source": [
    "<b>3. Close the file</b>\n",
    "Once we are done with the file, it is considered good programming practice to cloes it. Python will automatically close the file after the program execution.\n",
    "\n",
    "    fh.close()"
   ]
  },
  {
   "cell_type": "markdown",
   "metadata": {},
   "source": [
    "Example:"
   ]
  },
  {
   "cell_type": "code",
   "execution_count": null,
   "metadata": {
    "collapsed": false
   },
   "outputs": [],
   "source": [
    "fh = open(\"../data/test.txt\")\n",
    "print '<%s>' % fh.read()\n",
    "fh.close()"
   ]
  },
  {
   "cell_type": "code",
   "execution_count": null,
   "metadata": {
    "collapsed": false
   },
   "outputs": [],
   "source": [
    "fh = open(\"../data/test.txt\")\n",
    "print '<%s>' % fh.readline()\n",
    "print fh.readline()\n",
    "print fh.readline()\n",
    "fh.close()"
   ]
  },
  {
   "cell_type": "code",
   "execution_count": null,
   "metadata": {
    "collapsed": false
   },
   "outputs": [],
   "source": [
    "fh = open(\"../data/test.txt\")\n",
    "print fh.readlines()\n",
    "fh.close()"
   ]
  },
  {
   "cell_type": "markdown",
   "metadata": {},
   "source": [
    "#### Looping over lines in a file\n",
    "When reading from files it is often convinient to read line-by-line. Every time you use\n",
    "\n",
    "    f.readline()\n",
    "    \n",
    "it will read a new line from the file. This makes it useful in loops:\n",
    "\n",
    "    line = f.readline()\n",
    "    while line:\n",
    "        ... do something ...\n",
    "        line = f.readline()\n",
    "        \n",
    "We will see more to these type of loops in the exercises today."
   ]
  },
  {
   "cell_type": "markdown",
   "metadata": {},
   "source": [
    "## Writing Files\n",
    "Writing files is similar to reading. It takes three steps as well:\n",
    "\n",
    "**1. Open the file**\n",
    ">File must be accessible by Python (e.g. the user must have access to it).\n",
    ">Additionally the file must be *opened* with writing permissions.\n",
    "\n",
    ">There are two ways to open a file for writing. If you want to create a new file, use the ```\"w\"``` argument:\n",
    "\n",
    "    f = open(\"filename.txt\", \"w\")\n",
    "    \n",
    ">If you want to append to an already existing file use the ```\"a\"``` argument:\n",
    "\n",
    "    f = open(\"filename.txt\", \"a\")"
   ]
  },
  {
   "cell_type": "markdown",
   "metadata": {},
   "source": [
    "**2. Write data to file**\n",
    ">Writing to a file can be done using the filehandle ```f``` it self. It will contain a method called ```write()``` that accepts as parameter a string which will be written to the file:\n",
    "\n",
    "    f.write(\" A string to be placed in 'filename.txt' \\n\")\n",
    "\n",
    ">Notice the newline character at the end of the string. Writing strings to a file without '\\n' will add the string after each other on the same line. "
   ]
  },
  {
   "cell_type": "markdown",
   "metadata": {},
   "source": [
    "**3. Close the file**\n",
    ">Close the file the same way as done preciously.\n",
    "\n",
    "    f.close()"
   ]
  },
  {
   "cell_type": "markdown",
   "metadata": {},
   "source": [
    "**Example**:\n",
    "Let's create a file \"newfile.txt\" containing a list of numbers using the three steps above"
   ]
  },
  {
   "cell_type": "code",
   "execution_count": null,
   "metadata": {
    "collapsed": false
   },
   "outputs": [],
   "source": [
    "numbers = range(10) # [1,2,3,4...10]\n",
    "f = open(\"../data/newfile.txt\", \"w\")\n",
    "for number in numbers:\n",
    "    f.write( str(number) + \"\\n\" )\n",
    "f.close()\n"
   ]
  },
  {
   "cell_type": "markdown",
   "metadata": {},
   "source": [
    "<br><br><br><img src=\"../pix/play2.jpg\">\n",
    "Open `\"../data/test.txt\"` in reading mode,<br>read everything in the file,<br>convert it to upper case <br>and write it to the new file `\"../data/test_uppercase.txt\"`\n"
   ]
  },
  {
   "cell_type": "code",
   "execution_count": null,
   "metadata": {
    "collapsed": false
   },
   "outputs": [],
   "source": [
    "\n"
   ]
  },
  {
   "cell_type": "markdown",
   "metadata": {},
   "source": [
    "<br><br>\n",
    "## File Handling: The ```os``` module\n",
    "There are more actions with files apart from reading and writing. The module **os** contains a number of useful tools to do things with files:"
   ]
  },
  {
   "cell_type": "code",
   "execution_count": null,
   "metadata": {
    "collapsed": false
   },
   "outputs": [],
   "source": [
    "import os"
   ]
  },
  {
   "cell_type": "markdown",
   "metadata": {},
   "source": [
    "\n",
    "**Show the path to the current working directory**"
   ]
  },
  {
   "cell_type": "code",
   "execution_count": null,
   "metadata": {
    "collapsed": false
   },
   "outputs": [],
   "source": [
    "os.getcwd()"
   ]
  },
  {
   "cell_type": "markdown",
   "metadata": {},
   "source": [
    "**Change the current working directory to path**"
   ]
  },
  {
   "cell_type": "code",
   "execution_count": null,
   "metadata": {
    "collapsed": false
   },
   "outputs": [],
   "source": [
    "# first save our current location\n",
    "current_dir = os.getcwd()\n",
    "print \"Starting in:\", current_dir\n",
    "\n",
    "os.chdir(\"../\") # Go up one level\n",
    "print \"But now I am in:\", os.getcwd()\n",
    "\n",
    "# go back to the original location\n",
    "os.chdir(current_dir)\n",
    "print \"and finally, I am back in:\", os.getcwd()\n"
   ]
  },
  {
   "cell_type": "markdown",
   "metadata": {},
   "source": [
    "**Show the files and folders in the directory**"
   ]
  },
  {
   "cell_type": "code",
   "execution_count": null,
   "metadata": {
    "collapsed": false
   },
   "outputs": [],
   "source": [
    "mydir = os.getcwd()\n",
    "os.listdir(mydir)"
   ]
  },
  {
   "cell_type": "markdown",
   "metadata": {},
   "source": [
    "**Create a new folder**"
   ]
  },
  {
   "cell_type": "code",
   "execution_count": null,
   "metadata": {
    "collapsed": false
   },
   "outputs": [],
   "source": [
    "os.mkdir(\"newfolder\")"
   ]
  },
  {
   "cell_type": "markdown",
   "metadata": {},
   "source": [
    "**Check if given path exist**"
   ]
  },
  {
   "cell_type": "code",
   "execution_count": null,
   "metadata": {
    "collapsed": false
   },
   "outputs": [],
   "source": [
    "os.path.exists(\"/\")"
   ]
  },
  {
   "cell_type": "markdown",
   "metadata": {},
   "source": [
    "**Remove file**"
   ]
  },
  {
   "cell_type": "code",
   "execution_count": null,
   "metadata": {
    "collapsed": true
   },
   "outputs": [],
   "source": [
    "os.remove(\"/path/to/some/file.txt\")"
   ]
  },
  {
   "cell_type": "markdown",
   "metadata": {},
   "source": [
    "**Rename file**"
   ]
  },
  {
   "cell_type": "code",
   "execution_count": null,
   "metadata": {
    "collapsed": false
   },
   "outputs": [],
   "source": [
    "os.rename(\"/path/to/some/file.txt\" , \"/path/to/some/file.xls\")"
   ]
  },
  {
   "cell_type": "markdown",
   "metadata": {},
   "source": [
    "**Show the file or directory name at the end of the path as well as the rest of the path**"
   ]
  },
  {
   "cell_type": "code",
   "execution_count": null,
   "metadata": {
    "collapsed": false
   },
   "outputs": [],
   "source": [
    "os.path.split(mydir)"
   ]
  },
  {
   "cell_type": "markdown",
   "metadata": {},
   "source": [
    "**Get the extension of a file**"
   ]
  },
  {
   "cell_type": "code",
   "execution_count": null,
   "metadata": {
    "collapsed": false
   },
   "outputs": [],
   "source": [
    "os.path.splitext(\"/home/christian/Documents/somefile.xls\")"
   ]
  },
  {
   "cell_type": "markdown",
   "metadata": {},
   "source": [
    "---"
   ]
  },
  {
   "cell_type": "markdown",
   "metadata": {},
   "source": [
    "##### Programming editors\n",
    "\n",
    "\n",
    "### simple text editor or Word ..... bad choice\n",
    "<img src=\"../pix/textedit.png\" width=\"60%\"><br><br>\n",
    "\n",
    "### text editor with fixed font .... better, but still not great\n",
    "<img src=\"../pix/sublime_plain.png\" width=\"60%\"><br><br>\n",
    "\n",
    "### text editor with syntax basedcoloring .... Yes!\n",
    "<img src=\"../pix/sublime_color.png\" width=\"60%\"><br><br>\n",
    "\n",
    "### e.g. Sublime2 http://www.sublimetext.com/2\n",
    "<img src=\"../pix/sublime.png\" width=\"60%\"><br><br>\n",
    "\n",
    "\n",
    "If you don't have a favorite programming editor yet, install *Sublime 2*\n",
    "\n",
    "http://www.sublimetext.com/2\n",
    "\n",
    "If you have a Windows computer, you might also want to consider the windows-only editor *Notepad++*\n",
    "\n",
    "https://notepad-plus-plus.org\n",
    "\n",
    "<br><br><br><img src=\"../pix/play2.jpg\">\n",
    "\n",
    "\n",
    "Find your \"number guessing\" code from last week, copy it into a script file in *Sublime* (or whichever programming editor you prefer) and run it from the commandline:\n",
    "\n",
    "    python guess_the_number.py\n",
    "    \n",
    "HINT: If you are on a linux or mac, you simply need to open the terminal, change directory into the folder where you saved your script, and then run the script with the above command.\n",
    "\n",
    "If you are on a windows computer, you need to use \"cmd.exe\" as your terminal. For windows 7 and lower you have to click on \"Start\" and then \"run\", and then search for \"cmd.exe\". For windows 8 and above, you can press the windows-key and \"Q\", and then type cmd.exe.\n",
    "\n",
    "##### Optional: Permissions\n",
    "Do you want to shorten the command \"python guess_the_number.py\"? You can add a line in the beginning of your script that tells your computer to run python. Normally it would look like this \"#!/usr/bin/python\", but you can actually point to any python installation you have on your computer, such as the anaconda version which we use in this course. Then you can run your code simply by typing \"./guess_the_number.py\". Just remember to change the permissions, so you can run the code! This is done by typing \"chmod u+x guess_the_number.py\"."
   ]
  },
  {
   "cell_type": "markdown",
   "metadata": {},
   "source": [
    "<br><br><br><img src=\"../pix/book.gif\" width=50px> Required reading for next week: \n",
    "* Python for Bioinformatics by S. Bassi - Chapter 6, Modulization and Scripts"
   ]
  },
  {
   "cell_type": "markdown",
   "metadata": {},
   "source": [
    "<br><br><br>\n",
    "<img src=\"../pix/exercise.png\">\n",
    "<br><br><br>"
   ]
  },
  {
   "cell_type": "code",
   "execution_count": 1,
   "metadata": {
    "collapsed": false
   },
   "outputs": [
    {
     "data": {
      "text/html": [
       "<style>\n",
       "    div.cell{\n",
       "        width:800px;\n",
       "        margin-left:16% !important;\n",
       "        margin-right:auto;\n",
       "    }\n",
       "    div.text_cell_render{\n",
       "        font-family: \"Helvetica Neue\", Arial, Helvetica, Geneva, sans-serif;\n",
       "        line-height: 145%;\n",
       "        font-size: 100%;\n",
       "        width:800px;\n",
       "        margin-left:auto;\n",
       "        margin-right:auto;\n",
       "    }\n",
       "    .CodeMirror{\n",
       "            font-family: \"Source Code Pro\", source-code-pro,Consolas, monospace;\n",
       "    }\n",
       "    div.CodeMirror{\n",
       "    \tfont-size: 11pt;\n",
       "    }\n",
       "    div.cell.border-box-sizing.code_cell{\n",
       "    \tpadding-left: 50px;\n",
       "    }\n",
       "    div.text_cell_input {\n",
       "    \tmargin-left: 50px;\n",
       "    }\n",
       "    .prompt{\n",
       "        display: None;\n",
       "    }\n",
       "    .text_cell_render h1 {\n",
       "        font-family: Helvetica, serif;\n",
       "        font-size: 30pt;\n",
       "        color: #274257;\n",
       "        text-transform: uppercase;\n",
       "        line-height: 100%;\n",
       "    }\n",
       "    .text_cell_render h2 {\n",
       "    \tmargin-top: 35px;\n",
       "        font-family: Helvetica, serif;\n",
       "        font-size: 24pt;\n",
       "        color: #2A75A9;\n",
       "        line-height: 100%;\n",
       "    }\n",
       "    .text_cell_render h3{\n",
       "    \tmargin-top: 35px;\n",
       "        font-family: Helvetica, serif;\n",
       "        font-size: 18pt;\n",
       "        color: #7EB5D6;\n",
       "        line-height: 100%;\n",
       "       }\n",
       "    .text_cell_render h4{\n",
       "    \tmargin-top: 35px;\n",
       "    \tfont-family: Helvetica, serif;\n",
       "        font-size: 14pt;\n",
       "        line-height: 100%;\n",
       "    }\n",
       "    .text_cell_render h5 {\n",
       "        font-weight: 300;\n",
       "        font-size: 22pt;\n",
       "        color: #4057A1;\n",
       "        font-style: italic;\n",
       "        margin-bottom: .5em;\n",
       "        margin-top: 0.5em;\n",
       "        display: block;\n",
       "        line-height: 100%;\n",
       "    }\n",
       "    \n",
       "    .warning{\n",
       "        color: rgb( 240, 20, 20 )\n",
       "        } \n",
       "    .wds {\n",
       "        background: none repeat scroll 0% 0% rgb(247, 247, 247);\n",
       "        padding: 0em 0em;\n",
       "        font-size: 11px;\n",
       "        font-family: Arial,Helvetica,sans-serif;\n",
       "        display: inline-block;\n",
       "        margin: 0px 0em;\n",
       "        white-space: nowrap;\n",
       "    }\n",
       "    cb {\n",
       "        background: none repeat scroll 0% 0% rgb(247, 247, 247);\n",
       "        padding: 0.1em 0.6em;\n",
       "        border: 1px solid rgb(204, 204, 204);\n",
       "        font-size: 11pt;\n",
       "        font-family: \"Source Code Pro\", source-code-pro,Consolas, monospace;\n",
       "        color: rgb(51, 51, 51);\n",
       "        box-shadow: 0px 1px 0px rgba(0, 0, 0, 0.2), 0px 0px 0px 2px rgb(255, 255, 255) inset;\n",
       "        border-radius: 3px 3px 3px 3px;\n",
       "        display: inline-block;\n",
       "        margin: 0px 0.1em;\n",
       "        line-height: 1.4;\n",
       "        white-space: nowrap;\n",
       "    }\n",
       "    q {\t\n",
       "        font-weight: 300;\n",
       "        font-size: 14pt;\n",
       "        color: #4057A1;\n",
       "        margin-bottom: .5em;\n",
       "        margin-top: 0.5em;\n",
       "        display: block;\n",
       "        font-family: \"Helvetica Neue\", Arial, Helvetica, Geneva, sans-serif;\n",
       "        line-height: 145%;\n",
       "        width:800px;\n",
       "        margin-left:auto;\n",
       "        margin-right:auto;\n",
       "    }\n",
       "    qq {\t\n",
       "        font-weight: 300;\n",
       "        font-size: 11pt;\n",
       "        color: #4057A1;\n",
       "        margin-bottom: .5em;\n",
       "        margin-top: 0.5em;\n",
       "        display: block;\n",
       "        font-family: \"Helvetica Neue\", Arial, Helvetica, Geneva, sans-serif;\n",
       "        line-height: 145%;\n",
       "        width:800px;\n",
       "        margin-left:auto;\n",
       "        margin-right:auto;\n",
       "    }\n",
       "    kbd {\n",
       "        background: none repeat scroll 0% 0% rgb(247, 247, 247);\n",
       "        padding: 0.1em 0.6em;\n",
       "        border: 1px solid rgb(204, 204, 204);\n",
       "        font-size: 11px;\n",
       "        font-family: Arial,Helvetica,sans-serif;\n",
       "        color: rgb(51, 51, 51);\n",
       "        box-shadow: 0px 1px 0px rgba(0, 0, 0, 0.2), 0px 0px 0px 2px rgb(255, 255, 255) inset;\n",
       "        border-radius: 3px 3px 3px 3px;\n",
       "        display: inline-block;\n",
       "        margin: 0px 0.1em;\n",
       "        text-shadow: 0px 1px 0px rgb(255, 255, 255);\n",
       "        line-height: 1.4;\n",
       "        white-space: nowrap;\n",
       "    }\n",
       "    ol {\n",
       "        list-style-type: decimal;\n",
       "    }\n",
       "\n",
       "\t.box_rotate {\n",
       "\t\t  -webkit-transform: rotate(270deg);  /* Chrome, Safari 3.1+ */\n",
       "\t\t     -moz-transform: rotate(270deg);  /* Firefox 3.5-15 */\n",
       "\t\t      -ms-transform: rotate(270deg);  /* IE 9 */\n",
       "\t\t       -o-transform: rotate(270deg);  /* Opera 10.50-12.00 */\n",
       "\t\t          transform: rotate(270deg);  /* Firefox 16+, IE 10+, Opera 12.10+ */\n",
       "\t}\n",
       "\n",
       "\t.vertical-text {\n",
       "\t\tdisplay: inline-block;\n",
       "\t\toverflow: hidden;\n",
       "\t\twidth: 1.5em;\n",
       "\t}\n",
       "\n",
       "\t.vertical-text__inner {\n",
       "\t\tdisplay: inline-block;\n",
       "\t\twhite-space: nowrap;\n",
       "\t\tline-height: 1.5;\n",
       "\t\t  -webkit-transform: rotate(270deg);  /* Chrome, Safari 3.1+ */\n",
       "\t\t     -moz-transform: rotate(270deg);  /* Firefox 3.5-15 */\n",
       "\t\t      -ms-transform: rotate(270deg);  /* IE 9 */\n",
       "\t\t       -o-transform: rotate(270deg);  /* Opera 10.50-12.00 */\n",
       "\t\t          transform: rotate(270deg);  /* Firefox 16+, IE 10+, Opera 12.10+ */\n",
       "\t}\n",
       "\n",
       "\t.vertical-text__inner:after {\n",
       "\t\tcontent: \"\";\n",
       "\t\tdisplay: block;\n",
       "\t\tmargin: -1.5em 0 100%;\n",
       "\t}\n",
       "\n",
       "\t.topics{\n",
       "\t\tbackground: url('files/images/topics.png') no-repeat scroll 0% 0%; \n",
       "\t\twidth: 520px; \n",
       "\t\theight: 250px; \n",
       "\n",
       "\t\tpadding-top: 35px;\n",
       "\t}\n",
       "\n",
       "\t.c_program{\n",
       "\t\tbackground: url('files/images/program.png') no-repeat scroll 0% 0%; width: 520px; margin-left: auto; margin-right: auto;\n",
       "\t}\n",
       "\n",
       "\t.c_require{\n",
       "\t\tbackground: url('files/images/software.png') no-repeat scroll 0% 0%; width: 520px; height: 250px; margin-left: auto; margin-right: auto;\n",
       "\t}\n",
       "\n",
       "</style>\n",
       "<script>\n",
       "    MathJax.Hub.Config({\n",
       "                        TeX: {\n",
       "                           extensions: [\"AMSmath.js\"]\n",
       "                           },\n",
       "                tex2jax: {\n",
       "                    inlineMath: [ ['$','$'], [\"\\\\(\",\"\\\\)\"] ],\n",
       "                    displayMath: [ ['$$','$$'], [\"\\\\[\",\"\\\\]\"] ]\n",
       "                },\n",
       "                displayAlign: 'center', // Change this to 'center' to center equations.\n",
       "                \"HTML-CSS\": {\n",
       "                    styles: {'.MathJax_Display': {\"margin\": 4}}\n",
       "                }\n",
       "        });\n",
       "</script>\n"
      ],
      "text/plain": [
       "<IPython.core.display.HTML object>"
      ]
     },
     "execution_count": 1,
     "metadata": {},
     "output_type": "execute_result"
    }
   ],
   "source": [
    "from IPython.core.display import HTML\n",
    "\n",
    "\n",
    "def css_styling():\n",
    "    styles = open(\"../styles/custom.css\", \"r\").read()\n",
    "    return HTML(styles)\n",
    "css_styling()"
   ]
  }
 ],
 "metadata": {
  "kernelspec": {
   "display_name": "Python 2",
   "language": "python",
   "name": "python2"
  },
  "language_info": {
   "codemirror_mode": {
    "name": "ipython",
    "version": 2
   },
   "file_extension": ".py",
   "mimetype": "text/x-python",
   "name": "python",
   "nbconvert_exporter": "python",
   "pygments_lexer": "ipython2",
   "version": "2.7.10"
  }
 },
 "nbformat": 4,
 "nbformat_minor": 0
}
