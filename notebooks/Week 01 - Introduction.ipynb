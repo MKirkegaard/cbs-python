{
 "cells": [
  {
   "cell_type": "markdown",
   "metadata": {},
   "source": [
    "![Welcome](../pix/python-27624.png)"
   ]
  },
  {
   "cell_type": "markdown",
   "metadata": {},
   "source": [
    "<center>\n",
    "    <img src=\"files/images/aim.png\" /> \n",
    "</center>"
   ]
  },
  {
   "cell_type": "markdown",
   "metadata": {},
   "source": [
    "\n",
    "## What is python?\n",
    "[Python](http://www.python.org/) is a modern, general-purpose, object-oriented, high-level programming language.\n",
    "\n",
    "General characteristics of Python:\n",
    "\n",
    "* **clean and simple language:** Easy-to-read and intuitive code, easy-to-learn minimalistic syntax, maintainability scales well with size of projects.\n",
    "* **expressive language:** Fewer lines of code, fewer bugs, easier to maintain.\n",
    "\n",
    "Technical details:\n",
    "\n",
    "* **dynamically typed:** No need to define the type of variables, function arguments or return types.\n",
    "* **automatic memory management:** No need to explicitly allocate and deallocate memory for variables and data arrays. No memory leak bugs. \n",
    "* **interpreted:** No need to compile the code. The Python interpreter reads and executes the python code directly."
   ]
  },
  {
   "cell_type": "markdown",
   "metadata": {},
   "source": [
    "![popular](../pix/popular2015.jpg)"
   ]
  },
  {
   "cell_type": "markdown",
   "metadata": {},
   "source": [
    "### Python compared to other languages\n",
    "\n",
    "Lets make a simple program that **counts the number of adenine in a DNA sequence**. The rationale for this is not to understand all the different pieces of code but to see the difference in how the code is written.\n",
    "\n",
    "Here is an outline of what we want to do:\n",
    "<ol>\n",
    "    <li>Go through each nucleotide in a DNA sequence ACGAAGTCGAGG that we call \"dna_sequence\". </li>\n",
    "    <li>Ask if the current nucleotide is \"A\".</li>\n",
    "    <ul>\n",
    "        <li>If yes: Add 1 to a variable we call \"nAde\".</li>\n",
    "        <li>If no: Don't add anything.</li>\n",
    "    </ul>\n",
    "    <li>Continue to next nucleotide until the end of the sequence</li>\n",
    "    <li>Print the variable \"nAde\" to the screen</li>\n",
    "</ol>"
   ]
  },
  {
   "cell_type": "markdown",
   "metadata": {},
   "source": [
    "\n",
    "**In C:**\n",
    "\n",
    "While C is one of the fastest computer languages in terms of running time it has a rather steep learning curve for new comers and does not have many built in functionality."
   ]
  },
  {
   "cell_type": "raw",
   "metadata": {},
   "source": [
    "#include <stdio.h>\n",
    "#include <string.h>\n",
    "\n",
    "int main(){\n",
    "    char dna_sequence[] = \"ACGAAGTCGAGG\";\n",
    "    int nAde = 0;\n",
    "    for (int i=0; i<strlen(dna_sequence); i++){\n",
    "        nAde += dna_sequence[i] == 'A' ? 1 : 0;\n",
    "    }\n",
    "printf(\"%d\\n\", nAde);\n",
    "}"
   ]
  },
  {
   "cell_type": "markdown",
   "metadata": {},
   "source": [
    "\n",
    "\n",
    "**In perl:**\n",
    "\n",
    "Perl is excellent for making tools for life-science research, but like C it can be a little hard to read for new comers. "
   ]
  },
  {
   "cell_type": "raw",
   "metadata": {},
   "source": [
    "my $dna_sequence = \"ACGAAGTCGAGG\";\n",
    "my $nAde = 0;\n",
    "for (my $i = 0; $i < length($dna_sequence); $i++) {\n",
    "    $nAde += substr($dna_sequence,$i,1) eq 'A' ? 1 : 0;\n",
    "}\n",
    "print $nAde, \"\\n\";"
   ]
  },
  {
   "cell_type": "markdown",
   "metadata": {},
   "source": [
    "\n",
    "**In Python:**\n",
    "\n",
    "So far, you may not have understood the codes for counting adenine in a DNA sequence - that's okay. Try to read this piece of code out loud: "
   ]
  },
  {
   "cell_type": "code",
   "execution_count": null,
   "metadata": {
    "collapsed": false
   },
   "outputs": [],
   "source": [
    "dna_sequence = \"ACGAAGTCGAGGTCGAGGTCGAGGTCGAGGTCGAGGTCGAGGTCGAGG\"\n",
    "nAde = 0\n",
    "for nucleotide in dna_sequence:\n",
    "    nAde += 1 if nucleotide == \"T\" else 0\n",
    "print nAde"
   ]
  },
  {
   "cell_type": "markdown",
   "metadata": {},
   "source": [
    "Actually in python we have many built in functions to help us along the way. This code does the same trick in just one line:"
   ]
  },
  {
   "cell_type": "code",
   "execution_count": null,
   "metadata": {
    "collapsed": false
   },
   "outputs": [],
   "source": [
    "\"ACGAAGTCGAGG\".count('A')"
   ]
  },
  {
   "cell_type": "markdown",
   "metadata": {},
   "source": [
    "<img src=\"../pix/play2.jpg\">"
   ]
  },
  {
   "cell_type": "markdown",
   "metadata": {},
   "source": [
    "### Advantages and disadvantages\n",
    "Advantages:\n",
    "\n",
    "* The main advantage is ease of programming, minimizing the time required to develop, debug and maintain the code.\n",
    "* Well designed language that encourage many good programming practices:\n",
    " * Modular and object-oriented programming, good system for packaging and re-use of code. This often results in more transparent, maintainable and bug-free code.\n",
    " * Documentation tightly integrated with the code.\n",
    "* A large standard library, and a large collection of add-on packages.\n",
    "* Great performance due to close integration with time-tested and highly optimized codes written in C and Fortran:\n",
    "    * Using in-built functions can really boost performance\n",
    "\n",
    "Disadvantages:\n",
    "\n",
    "* Since Python is an interpreted and dynamically typed programming language, the execution of python code can be slow compared to compiled statically typed programming languages, such as C and Fortran. \n",
    "* Somewhat decentralized, with different environment, packages and documentation spread out at different places. Can make it harder to get started.\n",
    "* Traditionally, the bioinformatics community was heavily Perl oriented\n"
   ]
  },
  {
   "cell_type": "markdown",
   "metadata": {},
   "source": [
    "### Python Versions\n",
    "\n",
    "Python is evolving. At the moment, there are two major versions of Python available: Python 2.7 and Python 3.2. In this course, **we'll be using Python 2.7**. Why aren't we using the more up-to-date Python 3? There's a bit of history: For most of Python's lifetime, each new version of the language would introduce new features, but would try very, very hard to not break any code that other people had already written; in other words, most changes were backwards compatible. In about 2006, however, Python's creator and \"Benevolent Dictator For Life\" Guido van Rossum decided that there were a number of things that he had gotten wrong in the original Python specification, and would like to change. Making those changes would break other people's code, so it was decided to make them all at once. <br /><br />\n",
    "\n",
    "<center>\n",
    "<img src=\"files/images/pyhistory.svg\" />\n",
    "</center>\n",
    "<br /><br />\n",
    "Although that version was released almost 5 years ago, there are lots of other libraries that haven't completely switched. The number of \"gotchas\" between Python 2 and 3 is relatively small, and we'll try to point out where there are differences, so if you do decide to make the leap, things should go relatively smoothly."
   ]
  },
  {
   "cell_type": "markdown",
   "metadata": {},
   "source": [
    "## Python Environments\n",
    "There are also many different environments through which the python interpreter can be used. Each environment have different advantages and is suitable for different workflows. One strength of python is that it versatile and can be used in complementary ways, but it can be confusing for beginners so we will start with a brief survey of python environments that are useful for scientific computing.\n",
    "\n",
    "<p></p>\n",
    "\n",
    "\n",
    "#### Python enterpreter\n",
    "\n",
    "The standard way to use the Python programming language is to use the Python interpreter to run python code. The python interpreter is a program that read and execute the python code in files passed to it as arguments. At the command prompt, the command ``python`` is used to invoke the Python interpreter.\n",
    "\n",
    "For example, to run a file <cb>my-program.py</cb> that contains python code from the command prompt, use:\n",
    "\n",
    "<cb>python my-program.py</cb>\n",
    "\n",
    "We can also start the interpreter by simply typing <cb>python</cb> at the command line, and interactively type python code into the interpreter. \n",
    "\n",
    "<center>\n",
    "<img src=\"files/images/python_prompt.png\" width=\"600px\"/>\n",
    "</center>\n",
    "\n",
    "<p></p>\n",
    "\n",
    "#### IPython\n",
    "IPython is an interactive shell that addresses the limitation of the standard python interpreter, and it is a work-horse for scientific use of python. It provides an interactive prompt to the python interpreter with a greatly improved user-friendliness.\n",
    "\n",
    "<center>\n",
    "<img src=\"files/images/ipython_prompt.png\" width=\"600px\"/>\n",
    "</center>\n",
    "\n",
    "Some of the many useful features of IPython includes:\n",
    "\n",
    "* Command history, which can be browsed with the up and down arrows on the keyboard.\n",
    "* Tab auto-completion.\n",
    "* In-line editing of code.\n",
    "* Object introspection, and automatic extract of documentation strings from python objects like classes and functions.\n",
    "* Good interaction with operating system shell.\n",
    "* Support for multiple parallel back-end processes, that can run on computing clusters or cloud services like Amazon EE2.\n",
    "\n",
    "#### IPython Notebook\n",
    "\n",
    "IPython notebook is an HTML-based notebook environment for Python, similar to Mathematica or Maple. It is based the IPython shell, but provides a cell-based environment with great interactivity, where calculations can be organized documented in a structured way.\n",
    "\n",
    "<img src=\"files/images/notebook.png\" width=\"800\" />\n",
    "\n",
    "Although using the a web browser as graphical interface, IPython notebooks are usually run locally, from the same computer that run the browser. To start a new IPython notebook session, run the following command:\n",
    "\n",
    "<cb>ipython notebook</cb>\n",
    "\n",
    "from a directory where you want the notebooks to be stored. This will open a new browser window (or a new tab in an existing window) with an index page where existing notebooks are shown and from which new notebooks can be created.\n",
    "<p></p>\n",
    "\n",
    "#### Komodo and sublime-text\n",
    "\n",
    "Komodo and Sublime-Text are feature-rich editors made for multiple languages (not just python). They are both highly extensible and both have a large repitoire of plugins and packages. It doesn't include built-in python entepreters but offers a minimilistic experience when programming which can be quite productive in itself. \n",
    "\n",
    "<img src=\"files/images/komodo.png\" width=800px />\n",
    "\n",
    "<p></p>\n",
    "\n",
    "<img src=\"files/images/sublime.png\" width=800px />\n",
    "\n",
    "<p></p>\n",
    "\n",
    "#### Spyder\n",
    "\n",
    "Spyder is a MATLAB-like IDE for scientific computing with python. It has the many advantages of a traditional IDE environment, for example that everything from code editing, execution and debugging is carried out in a single environment, and work on different calculations can be organized as projects in the IDE environment.\n",
    "\n",
    "If you are coming from MATLAB or something similar this is a good editor to start with.\n",
    "\n",
    "<img src=\"files/images/spyder.png\" width=\"800px\" />\n",
    "\n",
    "#### Emacs python-mode.el\n",
    "\n",
    "![Emacs](../pix/emacs2.png)\n",
    "\n"
   ]
  },
  {
   "cell_type": "markdown",
   "metadata": {},
   "source": [
    "## Let's get started: "
   ]
  },
  {
   "cell_type": "markdown",
   "metadata": {},
   "source": [
    "##### Form groups of two"
   ]
  },
  {
   "cell_type": "markdown",
   "metadata": {},
   "source": [
    "## Our first python code:"
   ]
  },
  {
   "cell_type": "markdown",
   "metadata": {},
   "source": [
    "### Printing values"
   ]
  },
  {
   "cell_type": "code",
   "execution_count": null,
   "metadata": {
    "collapsed": false
   },
   "outputs": [],
   "source": [
    "print "
   ]
  },
  {
   "cell_type": "markdown",
   "metadata": {},
   "source": [
    " This is a **code snippet** (blocks of text in gray boxes like this indicate python code). This code can be put into a text file and saved as *myprogram.py* file. When being run it displays the output shown in lines underneath the code snippet."
   ]
  },
  {
   "cell_type": "code",
   "execution_count": null,
   "metadata": {
    "collapsed": false
   },
   "outputs": [],
   "source": [
    "print 12 + 14 +100.0"
   ]
  },
  {
   "cell_type": "markdown",
   "metadata": {},
   "source": [
    "You can print multiple expressions by seperating with commas"
   ]
  },
  {
   "cell_type": "code",
   "execution_count": null,
   "metadata": {
    "collapsed": false
   },
   "outputs": [],
   "source": [
    "print \"the answer:\", 21*2"
   ]
  },
  {
   "cell_type": "markdown",
   "metadata": {},
   "source": [
    "<img src=\"../pix/play2.jpg\">"
   ]
  },
  {
   "cell_type": "markdown",
   "metadata": {},
   "source": [
    "### Using variables"
   ]
  },
  {
   "cell_type": "markdown",
   "metadata": {},
   "source": [
    "Instead of directly operating on values, like \"the answer:\" and 42, we can store them in variables. This is especially useful when working with multiple values at the same time. "
   ]
  },
  {
   "cell_type": "code",
   "execution_count": null,
   "metadata": {
    "collapsed": false
   },
   "outputs": [],
   "source": [
    "A = 12\n",
    "B = 16\n",
    "print A + B"
   ]
  },
  {
   "cell_type": "markdown",
   "metadata": {},
   "source": [
    "Variables can be used on the right hand side of an assignment as well, in which case they will be evaluated before the value is assigned to the variable on the left hand side."
   ]
  },
  {
   "cell_type": "code",
   "execution_count": null,
   "metadata": {
    "collapsed": false
   },
   "outputs": [],
   "source": [
    "C = 2 * A\n",
    "print C"
   ]
  },
  {
   "cell_type": "code",
   "execution_count": null,
   "metadata": {
    "collapsed": false
   },
   "outputs": [],
   "source": [
    "C = C + 1\n",
    "C"
   ]
  },
  {
   "cell_type": "markdown",
   "metadata": {},
   "source": [
    "In fact this can be done in a minimalistic way, such as"
   ]
  },
  {
   "cell_type": "code",
   "execution_count": null,
   "metadata": {
    "collapsed": false
   },
   "outputs": [],
   "source": [
    "C -= 1\n",
    "print C"
   ]
  },
  {
   "cell_type": "markdown",
   "metadata": {},
   "source": [
    "<img src=\"../pix/play2.jpg\">"
   ]
  },
  {
   "cell_type": "markdown",
   "metadata": {},
   "source": [
    "### Using Calls\n",
    "In python there are two types of calls\n",
    "\n",
    "<ul>\n",
    "<li>Function call</li>\n",
    "<li>Method call</li>\n",
    "</ul>\n",
    "\n",
    "#### Function call\n",
    "The simplest kind of call is to invoke a *function*. "
   ]
  },
  {
   "cell_type": "code",
   "execution_count": null,
   "metadata": {
    "collapsed": false
   },
   "outputs": [],
   "source": [
    "len(\"TATA\")"
   ]
  },
  {
   "cell_type": "markdown",
   "metadata": {},
   "source": [
    "A *function* is invoked by a <span style=\"color: green; font-style: italic\">function name</span>, a pair of parentheses and zero or more <span style=\"color: red; font-style: italic\">arguments</span>. Here are some more examples:"
   ]
  },
  {
   "cell_type": "code",
   "execution_count": null,
   "metadata": {
    "collapsed": false
   },
   "outputs": [],
   "source": [
    "type(\"TATA\")"
   ]
  },
  {
   "cell_type": "code",
   "execution_count": null,
   "metadata": {
    "collapsed": false
   },
   "outputs": [],
   "source": [
    "raw_input()"
   ]
  },
  {
   "cell_type": "code",
   "execution_count": null,
   "metadata": {
    "collapsed": false
   },
   "outputs": [],
   "source": [
    "abs(-12)"
   ]
  },
  {
   "cell_type": "markdown",
   "metadata": {},
   "source": [
    "<img src=\"../pix/play2.jpg\">"
   ]
  },
  {
   "cell_type": "markdown",
   "metadata": {},
   "source": [
    "#### Method call\n",
    "Instead of supplying a value to Python's built-in functions, most objects in python has it's own functions, called *methods*.\n",
    "\n",
    "Calling a method is like with a function, except they are specific to a certain type of object:"
   ]
  },
  {
   "cell_type": "code",
   "execution_count": null,
   "metadata": {
    "collapsed": false
   },
   "outputs": [],
   "source": [
    "mystring = \"TATA\"\n",
    "mystring.upper?"
   ]
  },
  {
   "cell_type": "code",
   "execution_count": null,
   "metadata": {
    "collapsed": false
   },
   "outputs": [],
   "source": [
    "\"TATA\".count(\"A\")"
   ]
  },
  {
   "cell_type": "code",
   "execution_count": null,
   "metadata": {
    "collapsed": false
   },
   "outputs": [],
   "source": [
    "\"GCTAGTCAAGCTTACTATTTTGGCATTGGCATGAG\".find(\"TGGCAT\")"
   ]
  },
  {
   "cell_type": "code",
   "execution_count": null,
   "metadata": {
    "collapsed": false
   },
   "outputs": [],
   "source": [
    "X = 5.25\n",
    "X.as_integer_ratio()"
   ]
  },
  {
   "cell_type": "markdown",
   "metadata": {},
   "source": [
    "<img src=\"../pix/play2.jpg\">"
   ]
  },
  {
   "cell_type": "markdown",
   "metadata": {},
   "source": [
    "### Different usage of python"
   ]
  },
  {
   "cell_type": "markdown",
   "metadata": {},
   "source": [
    "#### Interactive mode (PROMPT):\n",
    "Allows you to get an immediate reply to each instructions"
   ]
  },
  {
   "cell_type": "code",
   "execution_count": null,
   "metadata": {
    "collapsed": false
   },
   "outputs": [],
   "source": [
    "print \"hello world\""
   ]
  },
  {
   "cell_type": "code",
   "execution_count": null,
   "metadata": {
    "collapsed": false
   },
   "outputs": [],
   "source": [
    "name = raw_input(\"Type your name: \")\n",
    "print \"Your name is\", name, \"!\""
   ]
  },
  {
   "cell_type": "markdown",
   "metadata": {},
   "source": [
    "####Batch mode (PROGRAM):\n",
    "Allows you to run a series of instructions before getting the output.\n",
    "\n",
    "Let's program a doorman in a file called **doorman.py:**"
   ]
  },
  {
   "cell_type": "code",
   "execution_count": null,
   "metadata": {
    "collapsed": false
   },
   "outputs": [],
   "source": [
    "#!/usr/bin/python\n",
    "\n",
    "\"\"\" My first Python program \"\"\"\n",
    "\n",
    "# GET INPUT FROM USER\n",
    "name = raw_input(\"Type your name: \").capitalize()\n",
    "\n",
    "# VALIDATE INPUT\n",
    "guest_list = [\"John\", \"Charles\", \"Hans\"]\n",
    "\n",
    "if name in guest_list:\n",
    "    print \"Please enter\", name\n",
    "else:\n",
    "    print \"Your name is not on the guest list! Get lost!\""
   ]
  },
  {
   "cell_type": "code",
   "execution_count": null,
   "metadata": {
    "collapsed": false
   },
   "outputs": [],
   "source": [
    "name = raw_input(\"Type your name: \").capitalize"
   ]
  },
  {
   "cell_type": "markdown",
   "metadata": {},
   "source": [
    "The above program can be run with either <cb>python doorman.py</cb> or simply <cb>./doorman.py</cb>"
   ]
  },
  {
   "cell_type": "markdown",
   "metadata": {},
   "source": [
    "<qq> Q: How would you make sure that JOHN and john would also be accepted?</qq>"
   ]
  },
  {
   "cell_type": "markdown",
   "metadata": {},
   "source": [
    "### Commenting\n",
    "\n",
    "When you are writing a program it is often convenient to annotate your code to remind you what you were (intending) it to do, in programming these annotations are known as comments. You can include a comment in python by prefixing some text with a # character. All text following the # will then be ignored by the interpreter. You can start a comment on it's own line, or you can include at the end of a line of code."
   ]
  },
  {
   "cell_type": "code",
   "execution_count": null,
   "metadata": {
    "collapsed": false
   },
   "outputs": [],
   "source": [
    "print \"Hi\" # this will be ignored\n",
    "# as will this\n",
    "print \"Bye\"\n",
    "# print \"Never seen\""
   ]
  },
  {
   "cell_type": "markdown",
   "metadata": {},
   "source": [
    "Being able to write **meaningful** comments is one of the best attributes of a skilled programmer! It makes it really easy for others to read your code. Here are some examples of meaningful comments (don't worry about what the code does!)\n"
   ]
  },
  {
   "cell_type": "code",
   "execution_count": null,
   "metadata": {
    "collapsed": false
   },
   "outputs": [],
   "source": [
    "    ########################## PARSE INPUTFILE ##########################\n",
    "    validate.checkFile(inputfile)\n",
    "    seqdat = seqParse.parse(inputfile, type=\"fasta\")\n",
    "\n",
    "    ...\n",
    "   \n",
    "    ############################ COMPUTE PSSM ###########################\n",
    "    # SET NUMBER OF SEQUENCES\n",
    "    seqdat.numseq = len(seqdat.aln)\n",
    "    # CALCULATE SEQUENCE WEIGHTING\n",
    "    if sequenceWeighting == 1: # Heuristics\n",
    "        alpha, weights = Heuristic(seqdat.aln, alphabet, gaps)\n",
    "    elif sequenceWeighting == 2: # Hobohm\n",
    "        alpha, weights = Hobohm(seqdat.aln, alphabet, gaps, threshold)\n",
    "    else: \n",
    "        alpha, weights = seqdat.numseq - 1, [1]*seqdat.numseq # Set weights to 1\n",
    "    # APPLY SEQUENCE WEIGHTING\n",
    "    seqdat.set_sw(weights)\n",
    "    # CALCULATE FREQUENCIES\n",
    "    seqdat.calc_freq()\n",
    "    # CALCULATE PROBABILITIES\n",
    "    seqdat.calc_prob(alpha, beta)"
   ]
  },
  {
   "cell_type": "markdown",
   "metadata": {},
   "source": [
    "Again, don't worry if you don't understand the termology of the codes above. You will get your hands into it yourself later in the course. "
   ]
  },
  {
   "cell_type": "markdown",
   "metadata": {},
   "source": [
    "### Getting more out of Python with modules"
   ]
  },
  {
   "cell_type": "markdown",
   "metadata": {},
   "source": [
    "You can extend the functionality of Python by importing more features (**modules**). For instance, if you want to do more than the basic math operations you can import the math module"
   ]
  },
  {
   "cell_type": "code",
   "execution_count": null,
   "metadata": {
    "collapsed": false
   },
   "outputs": [],
   "source": [
    "import math\n",
    "\n",
    "x = math.cos(2 * math.pi)\n",
    "print x"
   ]
  },
  {
   "cell_type": "markdown",
   "metadata": {},
   "source": [
    "You can import the *cos* and *pi* objects specifically using"
   ]
  },
  {
   "cell_type": "code",
   "execution_count": null,
   "metadata": {
    "collapsed": false
   },
   "outputs": [],
   "source": [
    "from math import cos, pi\n",
    "\n",
    "x = cos(2*pi)\n",
    "print x"
   ]
  },
  {
   "cell_type": "markdown",
   "metadata": {},
   "source": [
    "We will see a lot more to modules later in the course. "
   ]
  },
  {
   "cell_type": "markdown",
   "metadata": {},
   "source": [
    "## More information about Python\n",
    "\n",
    "S. Bassi, Python for Bioinformatics, Chapter 1-3.\n",
    "\n",
    "P. Barry, Head First: Python, Chapter 1.\n",
    "\n",
    "M. Model, Bioinformatics Programming Using Python, Chapter 1 and 3.\n",
    "\n",
    "J.R. Johansson (robert@riken.jp) http://dml.riken.jp/~rob/,\n",
    "[github scientific-python-lectures](http://github.com/jrjohansson/scientific-python-lectures)\n",
    "\n",
    "The Python Documentation https://docs.python.org\n",
    "\n",
    "The Python Tutorial https://docs.python.org/tutorial/\n",
    "\n",
    "The Biopython project http://www.biopython.org\n"
   ]
  },
  {
   "cell_type": "markdown",
   "metadata": {},
   "source": [
    "<img src=\"../pix/book.gif\" width=50px> Suggested reading for todays exercises: \n",
    "* Python for Bioinformatics by S. Bassi - Chapter 2.2, 2.3 and 2.4"
   ]
  },
  {
   "cell_type": "markdown",
   "metadata": {},
   "source": [
    "<img src=\"../pix/book.gif\" width=50px> Required reading for next week: \n",
    "* Python for Bioinformatics by S. Bassi - Chapter 3"
   ]
  },
  {
   "cell_type": "markdown",
   "metadata": {},
   "source": [
    "## Markup and styles"
   ]
  },
  {
   "cell_type": "code",
   "execution_count": null,
   "metadata": {
    "collapsed": false
   },
   "outputs": [],
   "source": [
    "from IPython.core.display import HTML\n",
    "\n",
    "\n",
    "def css_styling():\n",
    "    styles = open(\"../styles/custom_slide.css\", \"r\").read()\n",
    "    return HTML(styles)\n",
    "css_styling()"
   ]
  }
 ],
 "metadata": {
  "kernelspec": {
   "display_name": "Python 2",
   "language": "python",
   "name": "python2"
  },
  "language_info": {
   "codemirror_mode": {
    "name": "ipython",
    "version": 2
   },
   "file_extension": ".py",
   "mimetype": "text/x-python",
   "name": "python",
   "nbconvert_exporter": "python",
   "pygments_lexer": "ipython2",
   "version": "2.7.10"
  }
 },
 "nbformat": 4,
 "nbformat_minor": 0
}
