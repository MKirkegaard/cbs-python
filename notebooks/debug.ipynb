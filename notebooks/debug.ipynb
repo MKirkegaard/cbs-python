{
 "metadata": {
  "name": "",
  "signature": "sha256:c1df1fa0dac49f5608aad57b405a48fe89334d094d081a4ca74fc93140621657"
 },
 "nbformat": 3,
 "nbformat_minor": 0,
 "worksheets": [
  {
   "cells": [
    {
     "cell_type": "markdown",
     "metadata": {},
     "source": [
      "# Week 03 - Exercises ..."
     ]
    },
    {
     "cell_type": "markdown",
     "metadata": {},
     "source": [
      "<q>1. Decision Statements</q>\n",
      "\n",
      "<qq>Explain what is going on in this code block:</qq>\n",
      "\n",
      "    if conditionA or conditionB:\n",
      "        \" code A \"\n",
      "    else:\n",
      "        \" code B \""
     ]
    },
    {
     "cell_type": "code",
     "collapsed": false,
     "input": [
      "# Playground: Use this to test some code if you like.\n"
     ],
     "language": "python",
     "metadata": {},
     "outputs": [],
     "prompt_number": 1
    },
    {
     "cell_type": "markdown",
     "metadata": {},
     "source": [
      "<q>Now, explain what is going on in this code block:</q>\n",
      "    \n",
      "    if conditionA:\n",
      "        \" code A \"\n",
      "    elif conditionB:\n",
      "        \" code B \"\n",
      "    else:\n",
      "        \" code C \""
     ]
    },
    {
     "cell_type": "code",
     "collapsed": false,
     "input": [
      "# Playground: Use this to test some code if you like.\n"
     ],
     "language": "python",
     "metadata": {},
     "outputs": [],
     "prompt_number": 2
    },
    {
     "cell_type": "markdown",
     "metadata": {},
     "source": [
      "<q>2. Net charge of a Protein</q>\n",
      "\n",
      "Dictionary containing charges of individual amino acids"
     ]
    },
    {
     "cell_type": "code",
     "collapsed": false,
     "input": [
      "AACharge = {\"C\": -0.045,\n",
      "            \"D\": -0.999,\n",
      "            \"E\": -0.998,\n",
      "            \"H\": 0.091,\n",
      "            \"K\": 1.0,\n",
      "            \"R\": 1.0,\n",
      "            \"Y\": -0.001,}"
     ],
     "language": "python",
     "metadata": {},
     "outputs": [],
     "prompt_number": 3
    },
    {
     "cell_type": "markdown",
     "metadata": {},
     "source": [
      "<q>Make a function ```prot_charge``` that takes a protein sequence as input and calculates the net charge using the dictionary above</q>\n",
      "\n",
      "**Instructions**\n",
      "<ol>\n",
      "<li>Define the function ```prot_charge``` to accept a protein sequence.</li>\n",
      "<li>Validate that the sequence is infact a protein.</li>\n",
      "<li>Create a variable to hold the protein charge. Set it to -0.002 initially, since this is the charge of the free ends.</li>\n",
      "<li>Compute the charge of the full protein sequence and add it to this variable</li>\n",
      "<li>Return this charge variable</li>\n",
      "</ol>"
     ]
    },
    {
     "cell_type": "markdown",
     "metadata": {},
     "source": [
      "The function should not take into account:\n",
      "<ul><li>surface accesibility, pH, cysteine disulfide bridges or amidation and acetylation.</li>\n",
      "</ul>"
     ]
    },
    {
     "cell_type": "code",
     "collapsed": false,
     "input": [
      "# Make the function here\n"
     ],
     "language": "python",
     "metadata": {},
     "outputs": [],
     "prompt_number": 4
    },
    {
     "cell_type": "markdown",
     "metadata": {},
     "source": [
      "<q>3. Printing the DNA codon table using *nested loops*</q>\n",
      "In this exercise we will be using a dictionary containing the <a href=\"http://en.wikipedia.org/wiki/DNA_codon_table\">DNA codon table</a>. Instead of generating this dictionary manually by typing in the **three nucleotides as key** and an **amino acid as value**, like\n",
      "\n",
      "    codon_table[\"AAA\"] = \"K\"\n",
      "    codon_table[\"AAC\"] = \"N\"\n",
      "    ...\n",
      "\n",
      "we will use a shortcut:"
     ]
    },
    {
     "cell_type": "code",
     "collapsed": false,
     "input": [
      "# Hint: Make sure to run me! \n",
      "# also, try to understand what is happening here\n",
      "# new is the zip function, look it up with \"zip?\"\n",
      "\n",
      "bases = ['T', 'C', 'A', 'G']\n",
      "codons = [a+b+c for a in bases for b in bases for c in bases]\n",
      "amino_acids = 'FFLLSSSSYY**CC*WLLLLPPPPHHQQRRRRIIIMTTTTNNKKSSRRVVVVAAAADDEEGGGG'\n",
      "codon_table = dict(zip(codons, amino_acids))"
     ],
     "language": "python",
     "metadata": {},
     "outputs": [],
     "prompt_number": 5
    },
    {
     "cell_type": "markdown",
     "metadata": {},
     "source": [
      "Which gives the same resulting dictionary:"
     ]
    },
    {
     "cell_type": "code",
     "collapsed": false,
     "input": [
      "print codon_table[\"AAA\"]\n",
      "print codon_table[\"AAC\"]"
     ],
     "language": "python",
     "metadata": {},
     "outputs": [
      {
       "output_type": "stream",
       "stream": "stdout",
       "text": [
        "K\n",
        "N\n"
       ]
      }
     ],
     "prompt_number": 6
    },
    {
     "cell_type": "markdown",
     "metadata": {},
     "source": [
      "<q>Make a function ```print_codon_table()``` that prints the codon table in a nice, but simple arrangement, using nested for loops like below. Use the dictionary ```codon_table``` as well as the ```bases``` variable:</q>\n",
      "\n",
      "    for base1 in bases:\n",
      "        for base2 in bases:\n",
      "            for base3 in bases:\n",
      "                print ...\n",
      "\n",
      "We have already begun the function for you."
     ]
    },
    {
     "cell_type": "code",
     "collapsed": false,
     "input": [
      "def print_codon_table():\n",
      "    for base1 in bases:\n",
      "        for base2 in bases:\n",
      "            for base3 in bases:\n",
      "                pass\n",
      "                # finish the function"
     ],
     "language": "python",
     "metadata": {},
     "outputs": [],
     "prompt_number": 7
    },
    {
     "cell_type": "markdown",
     "metadata": {},
     "source": [
      "**Hint:** *Use *\n",
      "\n",
      "    print \"\"\n",
      "    \n",
      "*to make a new line in each nested loop.*\n",
      "\n",
      "Test the function here:"
     ]
    },
    {
     "cell_type": "code",
     "collapsed": false,
     "input": [
      "print_codon_table()"
     ],
     "language": "python",
     "metadata": {},
     "outputs": [],
     "prompt_number": 8
    },
    {
     "cell_type": "markdown",
     "metadata": {},
     "source": [
      "See if you can arrange the output like this: "
     ]
    },
    {
     "cell_type": "raw",
     "metadata": {},
     "source": [
      "TTT F   TTC F   TTA L   TTG L   \n",
      "TCT S   TCC S   TCA S   TCG S   \n",
      "TAT Y   TAC Y   TAA *   TAG *   \n",
      "TGT C   TGC C   TGA *   TGG W   \n",
      "\n",
      "CTT L   CTC L   CTA L   CTG L   \n",
      "CCT P   CCC P   CCA P   CCG P   \n",
      "CAT H   CAC H   CAA Q   CAG Q   \n",
      "CGT R   CGC R   CGA R   CGG R   \n",
      "\n",
      "ATT I   ATC I   ATA I   ATG M   \n",
      "ACT T   ACC T   ACA T   ACG T   \n",
      "AAT N   AAC N   AAA K   AAG K   \n",
      "AGT S   AGC S   AGA R   AGG R   \n",
      "\n",
      "GTT V   GTC V   GTA V   GTG V   \n",
      "GCT A   GCC A   GCA A   GCG A   \n",
      "GAT D   GAC D   GAA E   GAG E   \n",
      "GGT G   GGC G   GGA G   GGG G"
     ]
    },
    {
     "cell_type": "markdown",
     "metadata": {},
     "source": [
      "<q>4. Calculating the coding potential of a DNA sequence</q>"
     ]
    },
    {
     "cell_type": "markdown",
     "metadata": {},
     "source": [
      "Unequal usage of codons in the coding regions appears to be a universal feature of the genomes across the phylogenetic spectra. This bias obeys mainly to\n",
      "<ul><li>the uneven usage of the amino acids in the existing proteins, and</li>  <li> the uneven usage of synonymous codons</li></ul>\n",
      "The bias in the usage of the synonymous codons correlates with the abundance of the corresponding tRNAs. The correlation is particularly strong for highly expressed genes. Codon usage is specific of the taxonomic group, and there exist correlation between taxonomic divergence and similarity of codon usage. "
     ]
    },
    {
     "cell_type": "markdown",
     "metadata": {},
     "source": [
      "By comparing the frequency of codons in a region of an species genome read in a given frame with the typical frequency of codons in the species genes, it is possible to estimate a likelihood of the region coding for a protein in such a frame. Regions in which codons are used with frequencies similar to the typical species codon frequencies are likely to code for genes (**exons**) while regions which codons distribution is uniform -- 1/64 (0.015625) -- could be considered as non-coding regions (**introns**). "
     ]
    },
    {
     "cell_type": "markdown",
     "metadata": {},
     "source": [
      "<center>\n",
      "<table>\n",
      "<tr><td>\n",
      "<font SIZE=\"-2\"> </font>\n",
      "<table CELLPADDING=3 BORDER=\"1\">\n",
      "<tr><td ALIGN=\"CENTER\" COLSPAN=16>The Human Codon Usage Table</td>\n",
      "</tr>\n",
      "<tr><td ALIGN=\"LEFT\"><font SIZE=\"-2\"> Gly </font></td>\n",
      "<td ALIGN=\"LEFT\"><font SIZE=\"-2\"> GGG </font></td>\n",
      "<td ALIGN=\"RIGHT\"><font SIZE=\"-2\"> 17.08 </font></td>\n",
      "<td ALIGN=\"RIGHT\"><font SIZE=\"-2\"> 0.23  </font></td>\n",
      "<td ALIGN=\"LEFT\"><font SIZE=\"-2\"> Arg </font></td>\n",
      "<td ALIGN=\"LEFT\"><font SIZE=\"-2\"> AGG </font></td>\n",
      "<td ALIGN=\"RIGHT\"><font SIZE=\"-2\"> 12.09 </font></td>\n",
      "<td ALIGN=\"RIGHT\"><font SIZE=\"-2\"> 0.22  </font></td>\n",
      "<td ALIGN=\"LEFT\"><font SIZE=\"-2\"> Trp </font></td>\n",
      "<td ALIGN=\"LEFT\"><font SIZE=\"-2\"> TGG </font></td>\n",
      "<td ALIGN=\"RIGHT\"><font SIZE=\"-2\"> 14.74 </font></td>\n",
      "<td ALIGN=\"RIGHT\"><font SIZE=\"-2\"> 1.00  </font></td>\n",
      "<td ALIGN=\"LEFT\"><font SIZE=\"-2\"> Arg </font></td>\n",
      "<td ALIGN=\"LEFT\"><font SIZE=\"-2\"> CGG </font></td>\n",
      "<td ALIGN=\"RIGHT\"><font SIZE=\"-2\"> 10.40 </font></td>\n",
      "<td ALIGN=\"RIGHT\"><font SIZE=\"-2\"> 0.19 </font></td>\n",
      "</tr>\n",
      "<tr><td ALIGN=\"LEFT\"><font SIZE=\"-2\"> Gly </font></td>\n",
      "<td ALIGN=\"LEFT\"><font SIZE=\"-2\"> GGA </font></td>\n",
      "<td ALIGN=\"RIGHT\"><font SIZE=\"-2\"> 19.31 </font></td>\n",
      "<td ALIGN=\"RIGHT\"><font SIZE=\"-2\"> 0.26  </font></td>\n",
      "<td ALIGN=\"LEFT\"><font SIZE=\"-2\"> Arg </font></td>\n",
      "<td ALIGN=\"LEFT\"><font SIZE=\"-2\"> AGA </font></td>\n",
      "<td ALIGN=\"RIGHT\"><font SIZE=\"-2\"> 11.73 </font></td>\n",
      "<td ALIGN=\"RIGHT\"><font SIZE=\"-2\"> 0.21  </font></td>\n",
      "<td ALIGN=\"LEFT\"><font SIZE=\"-2\"> End </font></td>\n",
      "<td ALIGN=\"LEFT\"><font SIZE=\"-2\"> TGA </font></td>\n",
      "<td ALIGN=\"RIGHT\"><font SIZE=\"-2\"> 2.64 </font></td>\n",
      "<td ALIGN=\"RIGHT\"><font SIZE=\"-2\"> 0.61  </font></td>\n",
      "<td ALIGN=\"LEFT\"><font SIZE=\"-2\"> Arg </font></td>\n",
      "<td ALIGN=\"LEFT\"><font SIZE=\"-2\"> CGA </font></td>\n",
      "<td ALIGN=\"RIGHT\"><font SIZE=\"-2\"> 5.63 </font></td>\n",
      "<td ALIGN=\"RIGHT\"><font SIZE=\"-2\"> 0.10 </font></td>\n",
      "</tr>\n",
      "<tr><td ALIGN=\"LEFT\"><font SIZE=\"-2\"> Gly </font></td>\n",
      "<td ALIGN=\"LEFT\"><font SIZE=\"-2\"> GGT </font></td>\n",
      "<td ALIGN=\"RIGHT\"><font SIZE=\"-2\"> 13.66 </font></td>\n",
      "<td ALIGN=\"RIGHT\"><font SIZE=\"-2\"> 0.18  </font></td>\n",
      "<td ALIGN=\"LEFT\"><font SIZE=\"-2\"> Ser </font></td>\n",
      "<td ALIGN=\"LEFT\"><font SIZE=\"-2\"> AGT </font></td>\n",
      "<td ALIGN=\"RIGHT\"><font SIZE=\"-2\"> 10.18 </font></td>\n",
      "<td ALIGN=\"RIGHT\"><font SIZE=\"-2\"> 0.14  </font></td>\n",
      "<td ALIGN=\"LEFT\"><font SIZE=\"-2\"> Cys </font></td>\n",
      "<td ALIGN=\"LEFT\"><font SIZE=\"-2\"> TGT </font></td>\n",
      "<td ALIGN=\"RIGHT\"><font SIZE=\"-2\"> 9.99 </font></td>\n",
      "<td ALIGN=\"RIGHT\"><font SIZE=\"-2\"> 0.42  </font></td>\n",
      "<td ALIGN=\"LEFT\"><font SIZE=\"-2\"> Arg </font></td>\n",
      "<td ALIGN=\"LEFT\"><font SIZE=\"-2\"> CGT </font></td>\n",
      "<td ALIGN=\"RIGHT\"><font SIZE=\"-2\"> 5.16 </font></td>\n",
      "<td ALIGN=\"RIGHT\"><font SIZE=\"-2\"> 0.09 </font></td>\n",
      "</tr>\n",
      "<tr><td ALIGN=\"LEFT\"><font SIZE=\"-2\"> Gly </font></td>\n",
      "<td ALIGN=\"LEFT\"><font SIZE=\"-2\"> GGC </font></td>\n",
      "<td ALIGN=\"RIGHT\"><font SIZE=\"-2\"> 24.94 </font></td>\n",
      "<td ALIGN=\"RIGHT\"><font SIZE=\"-2\"> 0.33  </font></td>\n",
      "<td ALIGN=\"LEFT\"><font SIZE=\"-2\"> Ser </font></td>\n",
      "<td ALIGN=\"LEFT\"><font SIZE=\"-2\"> AGC </font></td>\n",
      "<td ALIGN=\"RIGHT\"><font SIZE=\"-2\"> 18.54 </font></td>\n",
      "<td ALIGN=\"RIGHT\"><font SIZE=\"-2\"> 0.25  </font></td>\n",
      "<td ALIGN=\"LEFT\"><font SIZE=\"-2\"> Cys </font></td>\n",
      "<td ALIGN=\"LEFT\"><font SIZE=\"-2\"> TGC </font></td>\n",
      "<td ALIGN=\"RIGHT\"><font SIZE=\"-2\"> 13.86 </font></td>\n",
      "<td ALIGN=\"RIGHT\"><font SIZE=\"-2\"> 0.58  </font></td>\n",
      "<td ALIGN=\"LEFT\"><font SIZE=\"-2\"> Arg </font></td>\n",
      "<td ALIGN=\"LEFT\"><font SIZE=\"-2\"> CGC </font></td>\n",
      "<td ALIGN=\"RIGHT\"><font SIZE=\"-2\"> 10.82 </font></td>\n",
      "<td ALIGN=\"RIGHT\"><font SIZE=\"-2\"> 0.19 </font></td>\n",
      "</tr>\n",
      "<tr><td ALIGN=\"LEFT\"><font SIZE=\"-2\"> </font></td>\n",
      "<td ALIGN=\"LEFT\"><font SIZE=\"-2\"> </font></td>\n",
      "<td ALIGN=\"RIGHT\"><font SIZE=\"-2\"> </font></td>\n",
      "<td ALIGN=\"RIGHT\"><font SIZE=\"-2\"> </font></td>\n",
      "<td ALIGN=\"LEFT\"><font SIZE=\"-2\"> </font></td>\n",
      "<td ALIGN=\"LEFT\"><font SIZE=\"-2\"> </font></td>\n",
      "<td ALIGN=\"RIGHT\"><font SIZE=\"-2\"> </font></td>\n",
      "<td ALIGN=\"RIGHT\"><font SIZE=\"-2\"> </font></td>\n",
      "<td ALIGN=\"LEFT\"><font SIZE=\"-2\"> </font></td>\n",
      "<td ALIGN=\"LEFT\"><font SIZE=\"-2\"> </font></td>\n",
      "<td ALIGN=\"RIGHT\"><font SIZE=\"-2\"> </font></td>\n",
      "<td ALIGN=\"RIGHT\"><font SIZE=\"-2\"> </font></td>\n",
      "<td ALIGN=\"LEFT\"><font SIZE=\"-2\"> </font></td>\n",
      "<td ALIGN=\"LEFT\"><font SIZE=\"-2\"> </font></td>\n",
      "<td ALIGN=\"RIGHT\"><font SIZE=\"-2\"> </font></td>\n",
      "<td ALIGN=\"RIGHT\"><font SIZE=\"-2\"> </font></td>\n",
      "</tr>\n",
      "<tr><td ALIGN=\"LEFT\"><font SIZE=\"-2\"> Glu </font></td>\n",
      "<td ALIGN=\"LEFT\"><font SIZE=\"-2\"> GAG </font></td>\n",
      "<td ALIGN=\"RIGHT\"><font SIZE=\"-2\"> 38.82 </font></td>\n",
      "<td ALIGN=\"RIGHT\"><font SIZE=\"-2\"> 0.59  </font></td>\n",
      "<td ALIGN=\"LEFT\"><font SIZE=\"-2\"> Lys </font></td>\n",
      "<td ALIGN=\"LEFT\"><font SIZE=\"-2\"> AAG </font></td>\n",
      "<td ALIGN=\"RIGHT\"><font SIZE=\"-2\"> 33.79 </font></td>\n",
      "<td ALIGN=\"RIGHT\"><font SIZE=\"-2\"> 0.60  </font></td>\n",
      "<td ALIGN=\"LEFT\"><font SIZE=\"-2\"> End </font></td>\n",
      "<td ALIGN=\"LEFT\"><font SIZE=\"-2\"> TAG </font></td>\n",
      "<td ALIGN=\"RIGHT\"><font SIZE=\"-2\"> 0.73 </font></td>\n",
      "<td ALIGN=\"RIGHT\"><font SIZE=\"-2\"> 0.17  </font></td>\n",
      "<td ALIGN=\"LEFT\"><font SIZE=\"-2\"> Gln </font></td>\n",
      "<td ALIGN=\"LEFT\"><font SIZE=\"-2\"> CAG </font></td>\n",
      "<td ALIGN=\"RIGHT\"><font SIZE=\"-2\"> 32.95 </font></td>\n",
      "<td ALIGN=\"RIGHT\"><font SIZE=\"-2\"> 0.73 </font></td>\n",
      "</tr>\n",
      "<tr><td ALIGN=\"LEFT\"><font SIZE=\"-2\"> Glu </font></td>\n",
      "<td ALIGN=\"LEFT\"><font SIZE=\"-2\"> GAA </font></td>\n",
      "<td ALIGN=\"RIGHT\"><font SIZE=\"-2\"> 27.51 </font></td>\n",
      "<td ALIGN=\"RIGHT\"><font SIZE=\"-2\"> 0.41  </font></td>\n",
      "<td ALIGN=\"LEFT\"><font SIZE=\"-2\"> Lys </font></td>\n",
      "<td ALIGN=\"LEFT\"><font SIZE=\"-2\"> AAA </font></td>\n",
      "<td ALIGN=\"RIGHT\"><font SIZE=\"-2\"> 22.32 </font></td>\n",
      "<td ALIGN=\"RIGHT\"><font SIZE=\"-2\"> 0.40  </font></td>\n",
      "<td ALIGN=\"LEFT\"><font SIZE=\"-2\"> End </font></td>\n",
      "<td ALIGN=\"LEFT\"><font SIZE=\"-2\"> TAA </font></td>\n",
      "<td ALIGN=\"RIGHT\"><font SIZE=\"-2\"> 0.95 </font></td>\n",
      "<td ALIGN=\"RIGHT\"><font SIZE=\"-2\"> 0.22  </font></td>\n",
      "<td ALIGN=\"LEFT\"><font SIZE=\"-2\"> Gln </font></td>\n",
      "<td ALIGN=\"LEFT\"><font SIZE=\"-2\"> CAA </font></td>\n",
      "<td ALIGN=\"RIGHT\"><font SIZE=\"-2\"> 11.94 </font></td>\n",
      "<td ALIGN=\"RIGHT\"><font SIZE=\"-2\"> 0.27 </font></td>\n",
      "</tr>\n",
      "<tr><td ALIGN=\"LEFT\"><font SIZE=\"-2\"> Asp </font></td>\n",
      "<td ALIGN=\"LEFT\"><font SIZE=\"-2\"> GAT </font></td>\n",
      "<td ALIGN=\"RIGHT\"><font SIZE=\"-2\"> 21.45 </font></td>\n",
      "<td ALIGN=\"RIGHT\"><font SIZE=\"-2\"> 0.44  </font></td>\n",
      "<td ALIGN=\"LEFT\"><font SIZE=\"-2\"> Asn </font></td>\n",
      "<td ALIGN=\"LEFT\"><font SIZE=\"-2\"> AAT </font></td>\n",
      "<td ALIGN=\"RIGHT\"><font SIZE=\"-2\"> 16.43 </font></td>\n",
      "<td ALIGN=\"RIGHT\"><font SIZE=\"-2\"> 0.44  </font></td>\n",
      "<td ALIGN=\"LEFT\"><font SIZE=\"-2\"> Tyr </font></td>\n",
      "<td ALIGN=\"LEFT\"><font SIZE=\"-2\"> TAT </font></td>\n",
      "<td ALIGN=\"RIGHT\"><font SIZE=\"-2\"> 11.80 </font></td>\n",
      "<td ALIGN=\"RIGHT\"><font SIZE=\"-2\"> 0.42  </font></td>\n",
      "<td ALIGN=\"LEFT\"><font SIZE=\"-2\"> His </font></td>\n",
      "<td ALIGN=\"LEFT\"><font SIZE=\"-2\"> CAT </font></td>\n",
      "<td ALIGN=\"RIGHT\"><font SIZE=\"-2\"> 9.56 </font></td>\n",
      "<td ALIGN=\"RIGHT\"><font SIZE=\"-2\"> 0.41 </font></td>\n",
      "</tr>\n",
      "<tr><td ALIGN=\"LEFT\"><font SIZE=\"-2\"> Asp </font></td>\n",
      "<td ALIGN=\"LEFT\"><font SIZE=\"-2\"> GAC </font></td>\n",
      "<td ALIGN=\"RIGHT\"><font SIZE=\"-2\"> 27.06 </font></td>\n",
      "<td ALIGN=\"RIGHT\"><font SIZE=\"-2\"> 0.56  </font></td>\n",
      "<td ALIGN=\"LEFT\"><font SIZE=\"-2\"> Asn </font></td>\n",
      "<td ALIGN=\"LEFT\"><font SIZE=\"-2\"> AAC </font></td>\n",
      "<td ALIGN=\"RIGHT\"><font SIZE=\"-2\"> 21.30 </font></td>\n",
      "<td ALIGN=\"RIGHT\"><font SIZE=\"-2\"> 0.56  </font></td>\n",
      "<td ALIGN=\"LEFT\"><font SIZE=\"-2\"> Tyr </font></td>\n",
      "<td ALIGN=\"LEFT\"><font SIZE=\"-2\"> TAC </font></td>\n",
      "<td ALIGN=\"RIGHT\"><font SIZE=\"-2\"> 16.48 </font></td>\n",
      "<td ALIGN=\"RIGHT\"><font SIZE=\"-2\"> 0.58  </font></td>\n",
      "<td ALIGN=\"LEFT\"><font SIZE=\"-2\"> His </font></td>\n",
      "<td ALIGN=\"LEFT\"><font SIZE=\"-2\"> CAC </font></td>\n",
      "<td ALIGN=\"RIGHT\"><font SIZE=\"-2\"> 14.00 </font></td>\n",
      "<td ALIGN=\"RIGHT\"><font SIZE=\"-2\"> 0.59 </font></td>\n",
      "</tr>\n",
      "<tr><td ALIGN=\"LEFT\"><font SIZE=\"-2\"> </font></td>\n",
      "<td ALIGN=\"LEFT\"><font SIZE=\"-2\"> </font></td>\n",
      "<td ALIGN=\"RIGHT\"><font SIZE=\"-2\"> </font></td>\n",
      "<td ALIGN=\"RIGHT\"><font SIZE=\"-2\"> </font></td>\n",
      "<td ALIGN=\"LEFT\"><font SIZE=\"-2\"> </font></td>\n",
      "<td ALIGN=\"LEFT\"><font SIZE=\"-2\"> </font></td>\n",
      "<td ALIGN=\"RIGHT\"><font SIZE=\"-2\"> </font></td>\n",
      "<td ALIGN=\"RIGHT\"><font SIZE=\"-2\"> </font></td>\n",
      "<td ALIGN=\"LEFT\"><font SIZE=\"-2\"> </font></td>\n",
      "<td ALIGN=\"LEFT\"><font SIZE=\"-2\"> </font></td>\n",
      "<td ALIGN=\"RIGHT\"><font SIZE=\"-2\"> </font></td>\n",
      "<td ALIGN=\"RIGHT\"><font SIZE=\"-2\"> </font></td>\n",
      "<td ALIGN=\"LEFT\"><font SIZE=\"-2\"> </font></td>\n",
      "<td ALIGN=\"LEFT\"><font SIZE=\"-2\"> </font></td>\n",
      "<td ALIGN=\"RIGHT\"><font SIZE=\"-2\"> </font></td>\n",
      "<td ALIGN=\"RIGHT\"><font SIZE=\"-2\"> </font></td>\n",
      "</tr>\n",
      "<tr><td ALIGN=\"LEFT\"><font SIZE=\"-2\"> Val </font></td>\n",
      "<td ALIGN=\"LEFT\"><font SIZE=\"-2\"> GTG </font></td>\n",
      "<td ALIGN=\"RIGHT\"><font SIZE=\"-2\"> 28.60 </font></td>\n",
      "<td ALIGN=\"RIGHT\"><font SIZE=\"-2\"> 0.48  </font></td>\n",
      "<td ALIGN=\"LEFT\"><font SIZE=\"-2\"> Met </font></td>\n",
      "<td ALIGN=\"LEFT\"><font SIZE=\"-2\"> ATG </font></td>\n",
      "<td ALIGN=\"RIGHT\"><font SIZE=\"-2\"> 21.86 </font></td>\n",
      "<td ALIGN=\"RIGHT\"><font SIZE=\"-2\"> 1.00  </font></td>\n",
      "<td ALIGN=\"LEFT\"><font SIZE=\"-2\"> Leu </font></td>\n",
      "<td ALIGN=\"LEFT\"><font SIZE=\"-2\"> TTG </font></td>\n",
      "<td ALIGN=\"RIGHT\"><font SIZE=\"-2\"> 11.43 </font></td>\n",
      "<td ALIGN=\"RIGHT\"><font SIZE=\"-2\"> 0.12  </font></td>\n",
      "<td ALIGN=\"LEFT\"><font SIZE=\"-2\"> Leu </font></td>\n",
      "<td ALIGN=\"LEFT\"><font SIZE=\"-2\"> CTG </font></td>\n",
      "<td ALIGN=\"RIGHT\"><font SIZE=\"-2\"> 39.93 </font></td>\n",
      "<td ALIGN=\"RIGHT\"><font SIZE=\"-2\"> 0.43 </font></td>\n",
      "</tr>\n",
      "<tr><td ALIGN=\"LEFT\"><font SIZE=\"-2\"> Val </font></td>\n",
      "<td ALIGN=\"LEFT\"><font SIZE=\"-2\"> GTA </font></td>\n",
      "<td ALIGN=\"RIGHT\"><font SIZE=\"-2\"> 6.09 </font></td>\n",
      "<td ALIGN=\"RIGHT\"><font SIZE=\"-2\"> 0.10  </font></td>\n",
      "<td ALIGN=\"LEFT\"><font SIZE=\"-2\"> Ile </font></td>\n",
      "<td ALIGN=\"LEFT\"><font SIZE=\"-2\"> ATA </font></td>\n",
      "<td ALIGN=\"RIGHT\"><font SIZE=\"-2\"> 6.05 </font></td>\n",
      "<td ALIGN=\"RIGHT\"><font SIZE=\"-2\"> 0.14  </font></td>\n",
      "<td ALIGN=\"LEFT\"><font SIZE=\"-2\"> Leu </font></td>\n",
      "<td ALIGN=\"LEFT\"><font SIZE=\"-2\"> TTA </font></td>\n",
      "<td ALIGN=\"RIGHT\"><font SIZE=\"-2\"> 5.55 </font></td>\n",
      "<td ALIGN=\"RIGHT\"><font SIZE=\"-2\"> 0.06  </font></td>\n",
      "<td ALIGN=\"LEFT\"><font SIZE=\"-2\"> Leu </font></td>\n",
      "<td ALIGN=\"LEFT\"><font SIZE=\"-2\"> CTA </font></td>\n",
      "<td ALIGN=\"RIGHT\"><font SIZE=\"-2\"> 6.42 </font></td>\n",
      "<td ALIGN=\"RIGHT\"><font SIZE=\"-2\"> 0.07 </font></td>\n",
      "</tr>\n",
      "<tr><td ALIGN=\"LEFT\"><font SIZE=\"-2\"> Val </font></td>\n",
      "<td ALIGN=\"LEFT\"><font SIZE=\"-2\"> GTT </font></td>\n",
      "<td ALIGN=\"RIGHT\"><font SIZE=\"-2\"> 10.30 </font></td>\n",
      "<td ALIGN=\"RIGHT\"><font SIZE=\"-2\"> 0.17  </font></td>\n",
      "<td ALIGN=\"LEFT\"><font SIZE=\"-2\"> Ile </font></td>\n",
      "<td ALIGN=\"LEFT\"><font SIZE=\"-2\"> ATT </font></td>\n",
      "<td ALIGN=\"RIGHT\"><font SIZE=\"-2\"> 15.03 </font></td>\n",
      "<td ALIGN=\"RIGHT\"><font SIZE=\"-2\"> 0.35  </font></td>\n",
      "<td ALIGN=\"LEFT\"><font SIZE=\"-2\"> Phe </font></td>\n",
      "<td ALIGN=\"LEFT\"><font SIZE=\"-2\"> TTT </font></td>\n",
      "<td ALIGN=\"RIGHT\"><font SIZE=\"-2\"> 15.36 </font></td>\n",
      "<td ALIGN=\"RIGHT\"><font SIZE=\"-2\"> 0.43  </font></td>\n",
      "<td ALIGN=\"LEFT\"><font SIZE=\"-2\"> Leu </font></td>\n",
      "<td ALIGN=\"LEFT\"><font SIZE=\"-2\"> CTT </font></td>\n",
      "<td ALIGN=\"RIGHT\"><font SIZE=\"-2\"> 11.24 </font></td>\n",
      "<td ALIGN=\"RIGHT\"><font SIZE=\"-2\"> 0.12 </font></td>\n",
      "</tr>\n",
      "<tr><td ALIGN=\"LEFT\"><font SIZE=\"-2\"> Val </font></td>\n",
      "<td ALIGN=\"LEFT\"><font SIZE=\"-2\"> GTC </font></td>\n",
      "<td ALIGN=\"RIGHT\"><font SIZE=\"-2\"> 15.01 </font></td>\n",
      "<td ALIGN=\"RIGHT\"><font SIZE=\"-2\"> 0.25  </font></td>\n",
      "<td ALIGN=\"LEFT\"><font SIZE=\"-2\"> Ile </font></td>\n",
      "<td ALIGN=\"LEFT\"><font SIZE=\"-2\"> ATC </font></td>\n",
      "<td ALIGN=\"RIGHT\"><font SIZE=\"-2\"> 22.47 </font></td>\n",
      "<td ALIGN=\"RIGHT\"><font SIZE=\"-2\"> 0.52  </font></td>\n",
      "<td ALIGN=\"LEFT\"><font SIZE=\"-2\"> Phe </font></td>\n",
      "<td ALIGN=\"LEFT\"><font SIZE=\"-2\"> TTC </font></td>\n",
      "<td ALIGN=\"RIGHT\"><font SIZE=\"-2\"> 20.72 </font></td>\n",
      "<td ALIGN=\"RIGHT\"><font SIZE=\"-2\"> 0.57  </font></td>\n",
      "<td ALIGN=\"LEFT\"><font SIZE=\"-2\"> Leu </font></td>\n",
      "<td ALIGN=\"LEFT\"><font SIZE=\"-2\"> CTC </font></td>\n",
      "<td ALIGN=\"RIGHT\"><font SIZE=\"-2\"> 19.14 </font></td>\n",
      "<td ALIGN=\"RIGHT\"><font SIZE=\"-2\"> 0.20 </font></td>\n",
      "</tr>\n",
      "<tr><td ALIGN=\"LEFT\"><font SIZE=\"-2\"> </font></td>\n",
      "<td ALIGN=\"LEFT\"><font SIZE=\"-2\"> </font></td>\n",
      "<td ALIGN=\"RIGHT\"><font SIZE=\"-2\"> </font></td>\n",
      "<td ALIGN=\"RIGHT\"><font SIZE=\"-2\"> </font></td>\n",
      "<td ALIGN=\"LEFT\"><font SIZE=\"-2\"> </font></td>\n",
      "<td ALIGN=\"LEFT\"><font SIZE=\"-2\"> </font></td>\n",
      "<td ALIGN=\"RIGHT\"><font SIZE=\"-2\"> </font></td>\n",
      "<td ALIGN=\"RIGHT\"><font SIZE=\"-2\"> </font></td>\n",
      "<td ALIGN=\"LEFT\"><font SIZE=\"-2\"> </font></td>\n",
      "<td ALIGN=\"LEFT\"><font SIZE=\"-2\"> </font></td>\n",
      "<td ALIGN=\"RIGHT\"><font SIZE=\"-2\"> </font></td>\n",
      "<td ALIGN=\"RIGHT\"><font SIZE=\"-2\"> </font></td>\n",
      "<td ALIGN=\"LEFT\"><font SIZE=\"-2\"> </font></td>\n",
      "<td ALIGN=\"LEFT\"><font SIZE=\"-2\"> </font></td>\n",
      "<td ALIGN=\"RIGHT\"><font SIZE=\"-2\"> </font></td>\n",
      "<td ALIGN=\"RIGHT\"><font SIZE=\"-2\"> </font></td>\n",
      "</tr>\n",
      "<tr><td ALIGN=\"LEFT\"><font SIZE=\"-2\"> Ala </font></td>\n",
      "<td ALIGN=\"LEFT\"><font SIZE=\"-2\"> GCG </font></td>\n",
      "<td ALIGN=\"RIGHT\"><font SIZE=\"-2\"> 7.27 </font></td>\n",
      "<td ALIGN=\"RIGHT\"><font SIZE=\"-2\"> 0.10  </font></td>\n",
      "<td ALIGN=\"LEFT\"><font SIZE=\"-2\"> Thr </font></td>\n",
      "<td ALIGN=\"LEFT\"><font SIZE=\"-2\"> ACG </font></td>\n",
      "<td ALIGN=\"RIGHT\"><font SIZE=\"-2\"> 6.80 </font></td>\n",
      "<td ALIGN=\"RIGHT\"><font SIZE=\"-2\"> 0.12  </font></td>\n",
      "<td ALIGN=\"LEFT\"><font SIZE=\"-2\"> Ser </font></td>\n",
      "<td ALIGN=\"LEFT\"><font SIZE=\"-2\"> TCG </font></td>\n",
      "<td ALIGN=\"RIGHT\"><font SIZE=\"-2\"> 4.38 </font></td>\n",
      "<td ALIGN=\"RIGHT\"><font SIZE=\"-2\"> 0.06  </font></td>\n",
      "<td ALIGN=\"LEFT\"><font SIZE=\"-2\"> Pro </font></td>\n",
      "<td ALIGN=\"LEFT\"><font SIZE=\"-2\"> CCG </font></td>\n",
      "<td ALIGN=\"RIGHT\"><font SIZE=\"-2\"> 7.02 </font></td>\n",
      "<td ALIGN=\"RIGHT\"><font SIZE=\"-2\"> 0.11 </font></td>\n",
      "</tr>\n",
      "<tr><td ALIGN=\"LEFT\"><font SIZE=\"-2\"> Ala </font></td>\n",
      "<td ALIGN=\"LEFT\"><font SIZE=\"-2\"> GCA </font></td>\n",
      "<td ALIGN=\"RIGHT\"><font SIZE=\"-2\"> 15.50 </font></td>\n",
      "<td ALIGN=\"RIGHT\"><font SIZE=\"-2\"> 0.22  </font></td>\n",
      "<td ALIGN=\"LEFT\"><font SIZE=\"-2\"> Thr </font></td>\n",
      "<td ALIGN=\"LEFT\"><font SIZE=\"-2\"> ACA </font></td>\n",
      "<td ALIGN=\"RIGHT\"><font SIZE=\"-2\"> 15.04 </font></td>\n",
      "<td ALIGN=\"RIGHT\"><font SIZE=\"-2\"> 0.27  </font></td>\n",
      "<td ALIGN=\"LEFT\"><font SIZE=\"-2\"> Ser </font></td>\n",
      "<td ALIGN=\"LEFT\"><font SIZE=\"-2\"> TCA </font></td>\n",
      "<td ALIGN=\"RIGHT\"><font SIZE=\"-2\"> 10.96 </font></td>\n",
      "<td ALIGN=\"RIGHT\"><font SIZE=\"-2\"> 0.15  </font></td>\n",
      "<td ALIGN=\"LEFT\"><font SIZE=\"-2\"> Pro </font></td>\n",
      "<td ALIGN=\"LEFT\"><font SIZE=\"-2\"> CCA </font></td>\n",
      "<td ALIGN=\"RIGHT\"><font SIZE=\"-2\"> 17.11 </font></td>\n",
      "<td ALIGN=\"RIGHT\"><font SIZE=\"-2\"> 0.27 </font></td>\n",
      "</tr>\n",
      "<tr><td ALIGN=\"LEFT\"><font SIZE=\"-2\"> Ala </font></td>\n",
      "<td ALIGN=\"LEFT\"><font SIZE=\"-2\"> GCT </font></td>\n",
      "<td ALIGN=\"RIGHT\"><font SIZE=\"-2\"> 20.23 </font></td>\n",
      "<td ALIGN=\"RIGHT\"><font SIZE=\"-2\"> 0.28  </font></td>\n",
      "<td ALIGN=\"LEFT\"><font SIZE=\"-2\"> Thr </font></td>\n",
      "<td ALIGN=\"LEFT\"><font SIZE=\"-2\"> ACT </font></td>\n",
      "<td ALIGN=\"RIGHT\"><font SIZE=\"-2\"> 13.24 </font></td>\n",
      "<td ALIGN=\"RIGHT\"><font SIZE=\"-2\"> 0.23  </font></td>\n",
      "<td ALIGN=\"LEFT\"><font SIZE=\"-2\"> Ser </font></td>\n",
      "<td ALIGN=\"LEFT\"><font SIZE=\"-2\"> TCT </font></td>\n",
      "<td ALIGN=\"RIGHT\"><font SIZE=\"-2\"> 13.51 </font></td>\n",
      "<td ALIGN=\"RIGHT\"><font SIZE=\"-2\"> 0.18  </font></td>\n",
      "<td ALIGN=\"LEFT\"><font SIZE=\"-2\"> Pro </font></td>\n",
      "<td ALIGN=\"LEFT\"><font SIZE=\"-2\"> CCT </font></td>\n",
      "<td ALIGN=\"RIGHT\"><font SIZE=\"-2\"> 18.03 </font></td>\n",
      "<td ALIGN=\"RIGHT\"><font SIZE=\"-2\"> 0.29 </font></td>\n",
      "</tr>\n",
      "<tr><td ALIGN=\"LEFT\"><font SIZE=\"-2\"> Ala </font></td>\n",
      "<td ALIGN=\"LEFT\"><font SIZE=\"-2\"> GCC </font></td>\n",
      "<td ALIGN=\"RIGHT\"><font SIZE=\"-2\"> 28.43 </font></td>\n",
      "<td ALIGN=\"RIGHT\"><font SIZE=\"-2\"> 0.40  </font></td>\n",
      "<td ALIGN=\"LEFT\"><font SIZE=\"-2\"> Thr </font></td>\n",
      "<td ALIGN=\"LEFT\"><font SIZE=\"-2\"> ACC </font></td>\n",
      "<td ALIGN=\"RIGHT\"><font SIZE=\"-2\"> 21.52 </font></td>\n",
      "<td ALIGN=\"RIGHT\"><font SIZE=\"-2\"> 0.38  </font></td>\n",
      "<td ALIGN=\"LEFT\"><font SIZE=\"-2\"> Ser </font></td>\n",
      "<td ALIGN=\"LEFT\"><font SIZE=\"-2\"> TCC </font></td>\n",
      "<td ALIGN=\"RIGHT\"><font SIZE=\"-2\"> 17.37 </font></td>\n",
      "<td ALIGN=\"RIGHT\"><font SIZE=\"-2\"> 0.23  </font></td>\n",
      "<td ALIGN=\"LEFT\"><font SIZE=\"-2\"> Pro </font></td>\n",
      "<td ALIGN=\"LEFT\"><font SIZE=\"-2\"> CCC </font></td>\n",
      "<td ALIGN=\"RIGHT\"><font SIZE=\"-2\"> 20.51 </font></td>\n",
      "<td ALIGN=\"RIGHT\"><font SIZE=\"-2\"> 0.33 </font></td>\n",
      "</tr>\n",
      "<tr><td></td>\n",
      "<td></td>\n",
      "<td></td>\n",
      "<td></td>\n",
      "<td></td>\n",
      "<td></td>\n",
      "<td></td>\n",
      "<td></td>\n",
      "<td></td>\n",
      "<td></td>\n",
      "<td></td>\n",
      "<td></td>\n",
      "<td></td>\n",
      "<td></td>\n",
      "<td></td>\n",
      "<td></td>\n",
      "</tr>\n",
      "<caption>\n",
      "<font size=1>\n",
      "<strong>Table 1:</strong>\n",
      "The human codon usage and codon preference table as published in \n",
      "<tt> <a href=\"http://bioinformatics.weizmann.ac.il/databases/codon\">Weizmann Institute of Science</a></tt>. For each \n",
      "codon, the table displays the frequency of usage of each codon (per thousand)\n",
      "in human coding regions (first column) and the relative frequency of each\n",
      "codon among synonymous codons (second column).\n",
      "</font>\n",
      "</caption>\n",
      "</table>\n",
      "</table>\n",
      "</center>"
     ]
    },
    {
     "cell_type": "markdown",
     "metadata": {},
     "source": [
      "Let $S$ be a sequence of DNA, the higher the number of codons in $S$ matching the more frequent codons in the table, the *higher the coding potential* of the sequence $S$ (the probability to be encoding a protein). This value can be computed as: \n",
      "\n",
      "$$ \\frac{p(C_1)p(C_2)p(C_3)...p(C_m)}{\\frac{1}{64}\\frac{1}{64}\\frac{1}{64}...\\frac{1}{64}} $$\n",
      "\n",
      "where $p(C_1),p(C_2),p(C_3)...p(C_m)$ are the frequency of codons as $C_1=\\{ACC \\}$. \n",
      "\n",
      "This expression is known as *likelihood ratio* and it is usually computed in logarithmics terms to reduce the magnitude of the numbers (*log-likelihood ratio*). "
     ]
    },
    {
     "cell_type": "markdown",
     "metadata": {},
     "source": [
      "The file *propcodons.txt* in your data folder contains the human codon usage table above in a format like"
     ]
    },
    {
     "cell_type": "raw",
     "metadata": {},
     "source": [
      "GGG 0.01708\n",
      "GGA 0.01931\n",
      "GGT 0.01366\n",
      "GGC 0.02494\n",
      "GAG 0.03882\n",
      "GAA 0.02751\n",
      "..."
     ]
    },
    {
     "cell_type": "markdown",
     "metadata": {},
     "source": [
      "The code snippet below reads this file and creates a dictionary (```codonprop```) containing the frequencies. "
     ]
    },
    {
     "cell_type": "code",
     "collapsed": false,
     "input": [
      "# Loads a file containing codon frequencies\n",
      "# into a dictionary called codonprop\n",
      "codonprop = {}                               # Initiates an empty dictionary\n",
      "with open(\"../data/propcodons.txt\") as f:    # Opens the file\n",
      "    line = f.readline()                      # Reads the very first line\n",
      "    while line:                              # Reads the rest of the lines uptil it comes up empty.\n",
      "        line = line.split()                  # Converts line into a list of text separated by spaces\n",
      "        codonprop[line[0]] = float(line[1])  # Puts the value into a dictionary with codon as key\n",
      "        line = f.readline()                  # Reads the next line"
     ],
     "language": "python",
     "metadata": {},
     "outputs": [],
     "prompt_number": 9
    },
    {
     "cell_type": "markdown",
     "metadata": {},
     "source": [
      "**Note:** *We learn more about dealing with files next week.*"
     ]
    },
    {
     "cell_type": "markdown",
     "metadata": {},
     "source": [
      "You can access the frequencies using the codon you are looking for, like"
     ]
    },
    {
     "cell_type": "code",
     "collapsed": false,
     "input": [
      "print codonprop.get(\"ACT\", 1.0/64)"
     ],
     "language": "python",
     "metadata": {},
     "outputs": [
      {
       "output_type": "stream",
       "stream": "stdout",
       "text": [
        "0.01324\n"
       ]
      }
     ],
     "prompt_number": 10
    },
    {
     "cell_type": "markdown",
     "metadata": {},
     "source": [
      "<q>Make a function ```coding_potential(seq)``` that computes the log-likelihood value of a sequence by following the instructions below</q>"
     ]
    },
    {
     "cell_type": "markdown",
     "metadata": {},
     "source": [
      "<ol>\n",
      "<li>Go through the sequence in steps of three using an iterator $i$</li>\n",
      "    *Hint: Use the function ```range(start, stop[, step])``` as the iteration.*\n",
      "<li>Read the $i^{th}$ codon into a variable using slicing.</li>\n",
      "<li>Compute the log likelihood of the sequence using $r = r + log(p_i) - log(1.0/64)$.</li>\n",
      "<li>Return the log likelihood value</li>\n",
      "</ol>"
     ]
    },
    {
     "cell_type": "code",
     "collapsed": false,
     "input": [
      "def coding_potential(seq):\n",
      "    \"\"\" Returns the coding potential of a DNA sequence \"\"\"\n",
      "    # Fill out the rest"
     ],
     "language": "python",
     "metadata": {},
     "outputs": [],
     "prompt_number": 11
    },
    {
     "cell_type": "markdown",
     "metadata": {},
     "source": [
      "To test the program we will use it on two different sequences, an exon and an intron:"
     ]
    },
    {
     "cell_type": "code",
     "collapsed": false,
     "input": [
      "# Make sure to run me! \n",
      "exon = \"GCTGCTGGTGGTCTACCCTTGGACCCAGAGGTTCTTTGAGTCCTTTGGGGATCTGTCCACT\\\n",
      "CCTGATGCTGTTATGGGCAACCCTAAGGTGAAGGCTCATGGCAAGAAAGTGCTCGGTGCCT\\\n",
      "TTAGTGATGGCCTGGCTCACCTGGACAACCTCAAGGGCACCTTTGCCACACTGAGTGAGCT\\\n",
      "GCACTGTGACAAGCTGCACGTGGATCCTGAGAACTTCAGG\"\n",
      "\n",
      "intron = \"ATAACAATTGTTTTCTTTTGTTTAATTCTTGCTTTCTTTTTTTTTCTTCTCCGCAATTTTT\\\n",
      "ACTATTATACTTAATGCCTTAACATTGTGTATAACAAAAGGAAATATCTCTGAGATACATT\\\n",
      "AAGTAACTTAAAAAAAAACTTTACACAGTCTGCCTAGTACATTACTATTTGGAATATATGT\\\n",
      "GTGCTTATTTGCATATTCATAATCTCCCTACTTTATTTTC\""
     ],
     "language": "python",
     "metadata": {},
     "outputs": [],
     "prompt_number": 12
    },
    {
     "cell_type": "markdown",
     "metadata": {},
     "source": [
      "Call the functions using these sequences by running: "
     ]
    },
    {
     "cell_type": "code",
     "collapsed": false,
     "input": [
      "coding_potential(exon)"
     ],
     "language": "python",
     "metadata": {},
     "outputs": [],
     "prompt_number": 13
    },
    {
     "cell_type": "code",
     "collapsed": false,
     "input": [
      "coding_potential(intron)"
     ],
     "language": "python",
     "metadata": {},
     "outputs": [],
     "prompt_number": 14
    },
    {
     "cell_type": "markdown",
     "metadata": {},
     "source": [
      "The function should return approximately: \n",
      "    $$r_{exon} = -16.1315104493$$\n",
      "    $$r_{intron} = -14.3648279366$$"
     ]
    },
    {
     "cell_type": "markdown",
     "metadata": {},
     "source": [
      "Unfortunately, as you have seen, the log-likelihood value computed for both cases is very similar so that we can not distinguish among coding and non coding regions. As you know, a DNA sequence can be translated into a series of amino acids using three different reading frames and we are probably using the wrong frame right now. "
     ]
    },
    {
     "cell_type": "markdown",
     "metadata": {},
     "source": [
      "<q>Copy your function ```coding_potential(seq)``` into the code block below and update it to compute the maximum coding potential of all three reading frames</q>"
     ]
    },
    {
     "cell_type": "code",
     "collapsed": false,
     "input": [
      "def coding_potential(seq):\n",
      "    \"\"\" Returns the maximum coding potential of a DNA\n",
      "        sequence from all three reading frames. \"\"\"\n",
      "    # Paste code from coding_potential(seq) and update it"
     ],
     "language": "python",
     "metadata": {},
     "outputs": [],
     "prompt_number": 15
    },
    {
     "cell_type": "markdown",
     "metadata": {},
     "source": [
      "Call the functions using these sequences by running: "
     ]
    },
    {
     "cell_type": "code",
     "collapsed": false,
     "input": [
      "coding_potential(exon)"
     ],
     "language": "python",
     "metadata": {},
     "outputs": [],
     "prompt_number": 16
    },
    {
     "cell_type": "code",
     "collapsed": false,
     "input": [
      "coding_potential(intron)"
     ],
     "language": "python",
     "metadata": {},
     "outputs": [],
     "prompt_number": 17
    },
    {
     "cell_type": "markdown",
     "metadata": {},
     "source": [
      "Now your function should return approximately:\n",
      "    $$r_{exon} = 24.0645763143$$\n",
      "    $$r_{intron} = -14.3648279366$$\n"
     ]
    },
    {
     "cell_type": "markdown",
     "metadata": {},
     "source": [
      "In practice, the problem is not to determine the likelihood that a given sequence is coding or not, but to locate the (usually small) coding regions within large genomic sequences. The typical procedure is to compute the value of a coding statistic in successive (overlapped) sliding windows, and record the value of the statistic for each of the windows. This generates a profile along the sequence in which peaks may point to the coding regions and valleys to the non-coding ones. "
     ]
    },
    {
     "cell_type": "markdown",
     "metadata": {},
     "source": [
      "<q>Create a function ```exon_predictor(seq, window, overlap)``` that computes the protein coding potential using sliding windows in the three reading frames at the same time. Follow these instructions:</q>\n",
      "\n",
      "<ol>\n",
      "<li>Initialize a list $r$ to be filled up with log-likelihood ratios</li>\n",
      "<li>Make a loop that goes through all windows in the sequence shifted by the ```overlap``` size</li>\n",
      "*Hint: Use ```range(start, stop[, step])```*\n",
      "<li>Create a segment sequence corresponding to the ```window``` size using slicing (```[i:i+window]```)</li>\n",
      "<li>Compute the maximum coding potential in this segment using ```coding_potential(seq)``` and append it to $r$</li>\n",
      "<li>Return $r$</li>"
     ]
    },
    {
     "cell_type": "code",
     "collapsed": false,
     "input": [
      "def exon_predictor(seq, window=120, overlap=10):\n",
      "    \"\"\" Returns the the log-likelihood ratio computed for \n",
      "        every [window] nucleotide windows, shifted by [overlap]  \n",
      "        nucleotides in the sequence seq.\"\"\" \n",
      "    # Finish this function"
     ],
     "language": "python",
     "metadata": {},
     "outputs": [],
     "prompt_number": 18
    },
    {
     "cell_type": "markdown",
     "metadata": {},
     "source": [
      "To test our prediction tool we will use the sequence that encodes three exons of the Human $\\beta$-globin gene. To analyze this information, we can visualize the results in a graphical way using the program matplotlib. To do this, run the code below: "
     ]
    },
    {
     "cell_type": "code",
     "collapsed": false,
     "input": [
      "# READ DNA SEQUENCE FROM FASTA FILE\n",
      "from Bio import SeqIO\n",
      "with open(\"../data/human_beta_globin.fasta\") as f:\n",
      "    for record in SeqIO.parse(f, \"fasta\"):\n",
      "        seq = record # there is only 1 record.\n",
      "seq = str( seq.seq )\n",
      "\n",
      "# INITIALIZE MATPLOTLIB FUNCTIONALITY\n",
      "import matplotlib\n",
      "%pylab inline\n",
      "print \"(Ignore any warnings...)\"\n",
      "\n",
      "# PREDICTION PARAMETERS\n",
      "window = 120\n",
      "overlap = 10\n",
      "\n",
      "# COMPUTE AND PLOT PREDICTION\n",
      "x = range(0, len(seq), overlap)\n",
      "y = exon_predictor(seq, window, overlap)\n",
      "bar ( x,y )"
     ],
     "language": "python",
     "metadata": {},
     "outputs": [
      {
       "output_type": "stream",
       "stream": "stdout",
       "text": [
        "Populating the interactive namespace from numpy and matplotlib\n",
        "(Ignore any warnings...)\n"
       ]
      },
      {
       "output_type": "stream",
       "stream": "stderr",
       "text": [
        "WARNING: pylab import has clobbered these variables: ['record', 'f']\n",
        "`%matplotlib` prevents importing * from pylab and numpy\n"
       ]
      },
      {
       "ename": "AssertionError",
       "evalue": "incompatible sizes: argument 'height' must be length 206 or scalar",
       "output_type": "pyerr",
       "traceback": [
        "\u001b[0;31m---------------------------------------------------------------------------\u001b[0m\n\u001b[0;31mAssertionError\u001b[0m                            Traceback (most recent call last)",
        "\u001b[0;32m<ipython-input-19-adddea406cba>\u001b[0m in \u001b[0;36m<module>\u001b[0;34m()\u001b[0m\n\u001b[1;32m     18\u001b[0m \u001b[0mx\u001b[0m \u001b[0;34m=\u001b[0m \u001b[0mrange\u001b[0m\u001b[0;34m(\u001b[0m\u001b[0;36m0\u001b[0m\u001b[0;34m,\u001b[0m \u001b[0mlen\u001b[0m\u001b[0;34m(\u001b[0m\u001b[0mseq\u001b[0m\u001b[0;34m)\u001b[0m\u001b[0;34m,\u001b[0m \u001b[0moverlap\u001b[0m\u001b[0;34m)\u001b[0m\u001b[0;34m\u001b[0m\u001b[0m\n\u001b[1;32m     19\u001b[0m \u001b[0my\u001b[0m \u001b[0;34m=\u001b[0m \u001b[0mexon_predictor\u001b[0m\u001b[0;34m(\u001b[0m\u001b[0mseq\u001b[0m\u001b[0;34m,\u001b[0m \u001b[0mwindow\u001b[0m\u001b[0;34m,\u001b[0m \u001b[0moverlap\u001b[0m\u001b[0;34m)\u001b[0m\u001b[0;34m\u001b[0m\u001b[0m\n\u001b[0;32m---> 20\u001b[0;31m \u001b[0mbar\u001b[0m \u001b[0;34m(\u001b[0m \u001b[0mx\u001b[0m\u001b[0;34m,\u001b[0m\u001b[0my\u001b[0m \u001b[0;34m)\u001b[0m\u001b[0;34m\u001b[0m\u001b[0m\n\u001b[0m",
        "\u001b[0;32m/System/Library/Frameworks/Python.framework/Versions/2.7/Extras/lib/python/matplotlib/pyplot.pyc\u001b[0m in \u001b[0;36mbar\u001b[0;34m(left, height, width, bottom, hold, **kwargs)\u001b[0m\n\u001b[1;32m   2087\u001b[0m         \u001b[0max\u001b[0m\u001b[0;34m.\u001b[0m\u001b[0mhold\u001b[0m\u001b[0;34m(\u001b[0m\u001b[0mhold\u001b[0m\u001b[0;34m)\u001b[0m\u001b[0;34m\u001b[0m\u001b[0m\n\u001b[1;32m   2088\u001b[0m     \u001b[0;32mtry\u001b[0m\u001b[0;34m:\u001b[0m\u001b[0;34m\u001b[0m\u001b[0m\n\u001b[0;32m-> 2089\u001b[0;31m         \u001b[0mret\u001b[0m \u001b[0;34m=\u001b[0m \u001b[0max\u001b[0m\u001b[0;34m.\u001b[0m\u001b[0mbar\u001b[0m\u001b[0;34m(\u001b[0m\u001b[0mleft\u001b[0m\u001b[0;34m,\u001b[0m \u001b[0mheight\u001b[0m\u001b[0;34m,\u001b[0m \u001b[0mwidth\u001b[0m\u001b[0;34m,\u001b[0m \u001b[0mbottom\u001b[0m\u001b[0;34m,\u001b[0m \u001b[0;34m**\u001b[0m\u001b[0mkwargs\u001b[0m\u001b[0;34m)\u001b[0m\u001b[0;34m\u001b[0m\u001b[0m\n\u001b[0m\u001b[1;32m   2090\u001b[0m         \u001b[0mdraw_if_interactive\u001b[0m\u001b[0;34m(\u001b[0m\u001b[0;34m)\u001b[0m\u001b[0;34m\u001b[0m\u001b[0m\n\u001b[1;32m   2091\u001b[0m     \u001b[0;32mfinally\u001b[0m\u001b[0;34m:\u001b[0m\u001b[0;34m\u001b[0m\u001b[0m\n",
        "\u001b[0;32m/System/Library/Frameworks/Python.framework/Versions/2.7/Extras/lib/python/matplotlib/axes.pyc\u001b[0m in \u001b[0;36mbar\u001b[0;34m(self, left, height, width, bottom, **kwargs)\u001b[0m\n\u001b[1;32m   4731\u001b[0m         \u001b[0;32massert\u001b[0m \u001b[0mlen\u001b[0m\u001b[0;34m(\u001b[0m\u001b[0mleft\u001b[0m\u001b[0;34m)\u001b[0m\u001b[0;34m==\u001b[0m\u001b[0mnbars\u001b[0m\u001b[0;34m,\u001b[0m \u001b[0;34m\"incompatible sizes: argument 'left' must be length %d or scalar\"\u001b[0m \u001b[0;34m%\u001b[0m \u001b[0mnbars\u001b[0m\u001b[0;34m\u001b[0m\u001b[0m\n\u001b[1;32m   4732\u001b[0m         assert len(height)==nbars, (\"incompatible sizes: argument 'height' must be length %d or scalar\" %\n\u001b[0;32m-> 4733\u001b[0;31m                                     nbars)\n\u001b[0m\u001b[1;32m   4734\u001b[0m         assert len(width)==nbars, (\"incompatible sizes: argument 'width' must be length %d or scalar\" %\n\u001b[1;32m   4735\u001b[0m                                    nbars)\n",
        "\u001b[0;31mAssertionError\u001b[0m: incompatible sizes: argument 'height' must be length 206 or scalar"
       ]
      },
      {
       "metadata": {},
       "output_type": "display_data",
       "png": "[encoded data removed]",
       "text": [
        "<matplotlib.figure.Figure at 0x10ff08150>"
       ]
      }
     ],
     "prompt_number": 19
    },
    {
     "cell_type": "markdown",
     "metadata": {},
     "source": [
      "Hopefully you will see a plot like this\n",
      "\n",
      "<img src=\"files/images/week3_exonintron.png\" />"
     ]
    },
    {
     "cell_type": "markdown",
     "metadata": {},
     "source": [
      ">If you get an error when running the code above you might not have ```matplotlib``` installed. On mac or linux run in a terminal: \n",
      "\n",
      "><cb>sudo pip install matplotlib</cb>\n",
      "\n",
      ">Windows users should already have matplotlib installed from the pythonxy distribution.  "
     ]
    },
    {
     "cell_type": "markdown",
     "metadata": {},
     "source": [
      "<q>Compare the predicted exons with experimentally validated data</q>"
     ]
    },
    {
     "cell_type": "markdown",
     "metadata": {},
     "source": [
      "On this plot, it is easy to identify the three regions whose coding potential is positive. Check that those regions are the three real exons that were experimentally verified here: \n",
      "\n",
      "http://www.ebi.ac.uk/ena/data/view/V00499\n",
      "\n"
     ]
    },
    {
     "cell_type": "markdown",
     "metadata": {},
     "source": [
      "The three validated exon regions are:"
     ]
    },
    {
     "cell_type": "raw",
     "metadata": {},
     "source": [
      "exon1 : \n",
      "exon2 : \n",
      "exon3 : "
     ]
    },
    {
     "cell_type": "markdown",
     "metadata": {},
     "source": [
      "<q>5. [Optional] Conditional Expressions (Advanced)</q>\n",
      "\n",
      "Python can make some rather nice *conditional expressions* in a single line using the syntax\n",
      "\n",
      "    expression1 if condition else expression2\n",
      "\n",
      "An example is:"
     ]
    },
    {
     "cell_type": "code",
     "collapsed": false,
     "input": [
      "type = \"DNA\"\n",
      "bases = \"ATCG\" if type==\"DNA\" else \"AUCG\"\n",
      "print bases"
     ],
     "language": "python",
     "metadata": {},
     "outputs": []
    },
    {
     "cell_type": "markdown",
     "metadata": {},
     "source": [
      "<q>make a one-line command that can print the average of a list using</q>\n",
      "\n",
      "    sum(A)/len(A)\n",
      "\n",
      "However, if the list is empty it should print \"N/A\". Test it on these two lists:"
     ]
    },
    {
     "cell_type": "code",
     "collapsed": false,
     "input": [
      "A = [1,2,3,4]\n",
      "B = []"
     ],
     "language": "python",
     "metadata": {},
     "outputs": []
    },
    {
     "cell_type": "code",
     "collapsed": false,
     "input": [
      "# Make one-liner here and try it with A and B.\n"
     ],
     "language": "python",
     "metadata": {},
     "outputs": []
    },
    {
     "cell_type": "markdown",
     "metadata": {},
     "source": [
      "<img src=\"../pix/FinishFlag.jpg\">\n",
      "<br><br><br>"
     ]
    },
    {
     "cell_type": "markdown",
     "metadata": {},
     "source": [
      "---"
     ]
    },
    {
     "cell_type": "code",
     "collapsed": false,
     "input": [
      "from IPython.core.display import HTML\n",
      "\n",
      "\n",
      "def css_styling():\n",
      "    styles = open(\"../styles/custom.css\", \"r\").read()\n",
      "    return HTML(styles)\n",
      "css_styling()"
     ],
     "language": "python",
     "metadata": {},
     "outputs": []
    },
    {
     "cell_type": "code",
     "collapsed": false,
     "input": [],
     "language": "python",
     "metadata": {},
     "outputs": []
    }
   ],
   "metadata": {}
  }
 ]
}