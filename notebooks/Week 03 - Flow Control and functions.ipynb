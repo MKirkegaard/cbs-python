{
 "metadata": {
  "name": "",
  "signature": "sha256:39bc218f48e8805e2c66a8429ea7dbe911b33265e090ad99e82310f43b8fc957"
 },
 "nbformat": 3,
 "nbformat_minor": 0,
 "worksheets": [
  {
   "cells": [
    {
     "cell_type": "markdown",
     "metadata": {},
     "source": [
      "## Update your Course Materials!\n",
      "\n",
      "#### For Windows: \n",
      "Open the Git Shell icon (<b>not the blue one</b>).\n",
      "<img src=\"files/images/gitshell.png\"/>\n",
      "Type:\n",
      "<code>\n",
      "cd cbs-python\n",
      "git checkout -f master\n",
      "git pull origin master\n",
      "</code>\n",
      "#### For MAC and Linux:\n",
      "Open a terminal. Navigate to the course directory (Whereever you placed it):\n",
      "<br><code>cd ~/Documents/Courses/cbs-python</code>\n",
      "<br>Now update the folder using<br>\n",
      "<code>git checkout -f master\n",
      "git pull origin master</code>\n",
      "<br><br><br><br><br><br>"
     ]
    },
    {
     "cell_type": "markdown",
     "metadata": {},
     "source": [
      "# Week 03 - Flow control and Functions\n",
      "\n",
      "\n",
      "<div class=\"topics\">\n",
      "    <div style=\"padding-left: 15px;\">\n",
      "        This lecture will cover:\n",
      "        \n",
      "        <ul>\n",
      "            <li>Python flow control:</li>\n",
      "            <ul>\n",
      "                <li>Test: <i>if, else</i> and <i>elif</i></li>\n",
      "                <li>Loops: <i>for</i> and <i>while</i></li>\n",
      "                <li>Escaping loops</li>\n",
      "            </ul>\n",
      "            <li>Functions</li>\n",
      "        </ul>\n",
      "    </div>\n",
      "</div>"
     ]
    },
    {
     "cell_type": "markdown",
     "metadata": {},
     "source": [
      "## Test, Loops and Escapes\n",
      "In the last action-packed session, we've learned quite a bit. However, we're still missing two of the most essential components of programming: logic and repetition. To add these to your Python programs, there are three key words that you will need: if, for, and while.\n",
      "\n",
      "### The Syntax of *if*, *else* and *elif*\n",
      "The if statement is one of the most fundamental components of programming, and it is found in some form or another in every general-purpose programming language (and nearly all specialized ones, too). It simply tells the computer to execute a block of code if a given statement is true. If the statement is false, the code is skipped. Although the concept is simple, conditional statements like if allow your programs to make decisions on their own.\n",
      "\n",
      "In Python, we construct our if statements with this general form:\n",
      "\n",
      "    if condition:\n",
      "        execute code A\n"
     ]
    },
    {
     "cell_type": "code",
     "collapsed": false,
     "input": [
      "today = \"Friday\"\n",
      "\n",
      "if today == \"Thursday\":\n",
      "    print \"Yeah, it's Python day!\"\n",
      "    "
     ],
     "language": "python",
     "metadata": {},
     "outputs": [],
     "prompt_number": 144
    },
    {
     "cell_type": "markdown",
     "metadata": {},
     "source": [
      "If the condition is not met in the code above nothing happens. If you want something to happen otherwise you can use the *else* statement:\n",
      "\n",
      "    if condition:\n",
      "        execute code A\n",
      "    else:\n",
      "        execute code B\n"
     ]
    },
    {
     "cell_type": "code",
     "collapsed": false,
     "input": [
      "today = \"Monday\"\n",
      "\n",
      "if today == \"Thursday\":\n",
      "    print \"Yeah, it's Python day!\"\n",
      "else:\n",
      "    print \"... nope, have to wait\"    "
     ],
     "language": "python",
     "metadata": {},
     "outputs": [
      {
       "output_type": "stream",
       "stream": "stdout",
       "text": [
        "... nope, have to wait\n"
       ]
      }
     ],
     "prompt_number": 146
    },
    {
     "cell_type": "markdown",
     "metadata": {},
     "source": [
      "<br><br><br>\n",
      "Finally we can test two or more conditions and execute some code only if none of the conditions is met:\n",
      "\n",
      "    if conditionA:\n",
      "        execute code A\n",
      "    elif conditionB:\n",
      "        execute code B\n",
      "    else: \n",
      "        execute code C"
     ]
    },
    {
     "cell_type": "code",
     "collapsed": false,
     "input": [
      "today = \"Tuesday\"\n",
      "\n",
      "if   today == \"Thursday\":\n",
      "    print \"Yeah, it's Python day!\"\n",
      "elif today == \"Friday\":\n",
      "    print \"Nope, that was yesterday\"\n",
      "else:\n",
      "    print \"... nope, have to wait\"   "
     ],
     "language": "python",
     "metadata": {},
     "outputs": [
      {
       "output_type": "stream",
       "stream": "stdout",
       "text": [
        "... nope, have to wait\n"
       ]
      }
     ],
     "prompt_number": 149
    },
    {
     "cell_type": "markdown",
     "metadata": {},
     "source": [
      "<br><br><br>The condition must be an expression that returns True or False. Here are some examples of conditions:"
     ]
    },
    {
     "cell_type": "code",
     "collapsed": false,
     "input": [
      "x = 2\n",
      "y = 4\n",
      "print x < y,\n",
      "print x > y,\n",
      "print x == y,\n",
      "print x != y,\n",
      "print x <= y,\n",
      "print x >= y"
     ],
     "language": "python",
     "metadata": {},
     "outputs": []
    },
    {
     "cell_type": "markdown",
     "metadata": {},
     "source": [
      "**Example**: Say we have a variable called ```sequence_type``` that gives us information about whether a sequence is DNA or Protein ..."
     ]
    },
    {
     "cell_type": "markdown",
     "metadata": {},
     "source": [
      "Then we can use the decision statements to figure out what kind of BLAST command to execute."
     ]
    },
    {
     "cell_type": "code",
     "collapsed": false,
     "input": [
      "sequence_type = \"RA\"\n",
      "\n",
      "if sequence_type == \"DNA\":\n",
      "    print \"blastall -p blastn -d EMBL -i mysequences.fas -o mysequences.blastn\"\n",
      "    \n",
      "elif sequence_type == \"Protein\":\n",
      "    print \"blastall -p blastp -d SwissProt -i mysequences.fas -o mysequences.blastp\"\n",
      "\n",
      "else:\n",
      "    print \"Unknown sequence_type <%s>\" % sequence_type"
     ],
     "language": "python",
     "metadata": {},
     "outputs": [
      {
       "output_type": "stream",
       "stream": "stdout",
       "text": [
        "Unknown sequence_type <RNA>\n"
       ]
      }
     ],
     "prompt_number": 151
    },
    {
     "cell_type": "markdown",
     "metadata": {},
     "source": [
      "<br><br><br><img src=\"../pix/play2.jpg\">\n",
      "Change the above BLAST command code to accept a sequence_type RNA, and print the same command as for DNA.\n",
      "<br><br><br>"
     ]
    },
    {
     "cell_type": "markdown",
     "metadata": {},
     "source": [
      "#### The Nature of Truth\n",
      "There are a few things that python read as \"True\". You can base decisions on other things than True and False."
     ]
    },
    {
     "cell_type": "code",
     "collapsed": false,
     "input": [
      "N = 0\n",
      "if N: \n",
      "    print \"N is nonzero\""
     ],
     "language": "python",
     "metadata": {},
     "outputs": [],
     "prompt_number": 152
    },
    {
     "cell_type": "code",
     "collapsed": false,
     "input": [
      "N = 4\n",
      "if N:\n",
      "    print \"N is nonzero\""
     ],
     "language": "python",
     "metadata": {},
     "outputs": [
      {
       "output_type": "stream",
       "stream": "stdout",
       "text": [
        "N is nonzero\n"
       ]
      }
     ],
     "prompt_number": 153
    },
    {
     "cell_type": "markdown",
     "metadata": {},
     "source": [
      "Nonempty data structures count as True while empty data structures count as False:"
     ]
    },
    {
     "cell_type": "code",
     "collapsed": false,
     "input": [
      "A = \"\"\n",
      "if A:\n",
      "    print \"String is not empty\"\n",
      "else:\n",
      "    print \"String is empty\""
     ],
     "language": "python",
     "metadata": {},
     "outputs": [
      {
       "output_type": "stream",
       "stream": "stdout",
       "text": [
        "String is empty\n"
       ]
      }
     ],
     "prompt_number": 154
    },
    {
     "cell_type": "code",
     "collapsed": false,
     "input": [
      "B = []\n",
      "if B:\n",
      "    print \"List is not empty\"\n",
      "else:\n",
      "    print \"List is empty\""
     ],
     "language": "python",
     "metadata": {},
     "outputs": []
    },
    {
     "cell_type": "markdown",
     "metadata": {},
     "source": [
      "Don't confuse context with boolean context ..."
     ]
    },
    {
     "cell_type": "code",
     "collapsed": false,
     "input": [
      "txt = \"This Python course is awesome ...\"\n",
      "print txt, bool(txt)\n",
      "\n",
      "txt = \"Elvis is alive ...\"\n",
      "print txt, bool(txt)"
     ],
     "language": "python",
     "metadata": {},
     "outputs": [
      {
       "output_type": "stream",
       "stream": "stdout",
       "text": [
        "This Python course is awesome ... True\n",
        "Elvis is alive ... True\n"
       ]
      }
     ],
     "prompt_number": 155
    },
    {
     "cell_type": "markdown",
     "metadata": {},
     "source": [
      "<br><br><br><img src=\"../pix/play2.jpg\">\n",
      "###### Restriction enzymes\n",
      "Write an <code>if</code> expression that depending on which restriction enzyme is used, cuts the dna_sequence at the correct position. (for simplicity use <code>split</code>)\n",
      "\n",
      "HindIII = AAGCTT<br>\n",
      "BamHI = GGATCC<br>\n",
      "EcoRV = GATATC<br>"
     ]
    },
    {
     "cell_type": "code",
     "collapsed": false,
     "input": [
      "dna_sequence = \"AAAAAAAAAAGATATCAAAAGAATTCAAAAAAAAGCTTAAAAAAAGGATCCA\"\n",
      "restriction_enzyme = \"HindIII\"\n",
      "#restriction_enzyme = \"BamHI\"\n",
      "#restriction_enzyme = \"EcoRV\"\n"
     ],
     "language": "python",
     "metadata": {},
     "outputs": []
    },
    {
     "cell_type": "markdown",
     "metadata": {},
     "source": [
      "<br><br><br>\n",
      "### Iterations: The ```for``` loop\n",
      "\n",
      ">Doing something to each element of a collection is called iteration.\n",
      "\n",
      "This control structure allows you to repeat an instruction while changing a variable for each cycle. \n",
      "\n",
      "We already saw how to use it for going through items in a collection:"
     ]
    },
    {
     "cell_type": "code",
     "collapsed": false,
     "input": [
      "    for c in myString:\n",
      "        print c\n",
      "\n",
      "    for i in myList:\n",
      "        print i\n",
      "\n",
      "    for k in myDictionary:\n",
      "        print k"
     ],
     "language": "python",
     "metadata": {},
     "outputs": []
    },
    {
     "cell_type": "markdown",
     "metadata": {},
     "source": [
      "#### Counters"
     ]
    },
    {
     "cell_type": "code",
     "collapsed": false,
     "input": [
      "for i in [1,2,3,4]:\n",
      "    print i"
     ],
     "language": "python",
     "metadata": {},
     "outputs": [
      {
       "output_type": "stream",
       "stream": "stdout",
       "text": [
        "1\n",
        "2\n",
        "3\n",
        "4\n"
       ]
      }
     ],
     "prompt_number": 156
    },
    {
     "cell_type": "markdown",
     "metadata": {},
     "source": [
      "If you don't have a list, but want to repeat an instruction 4 times you can use the shortcut to generate a *N*-element list <cb>range(<i>N</i>)</cb>"
     ]
    },
    {
     "cell_type": "code",
     "collapsed": false,
     "input": [
      "for x in range(4):\n",
      "    print x "
     ],
     "language": "python",
     "metadata": {},
     "outputs": [
      {
       "output_type": "stream",
       "stream": "stdout",
       "text": [
        "0\n",
        "1\n",
        "2\n",
        "3\n"
       ]
      }
     ],
     "prompt_number": 157
    },
    {
     "cell_type": "code",
     "collapsed": false,
     "input": [
      "mysequence = \"GATATCAAAAGA\"\n",
      "L  = len(mysequence)\n",
      "print range(L)\n",
      "for i in range(L):\n",
      "    print \"Nucleotide on position %d = %s\" % (i, mysequence[i])"
     ],
     "language": "python",
     "metadata": {},
     "outputs": [
      {
       "output_type": "stream",
       "stream": "stdout",
       "text": [
        "[0, 1, 2, 3, 4, 5, 6, 7, 8, 9, 10, 11]\n",
        "Nucleotide on position 0 = G\n",
        "Nucleotide on position 1 = A\n",
        "Nucleotide on position 2 = T\n",
        "Nucleotide on position 3 = A\n",
        "Nucleotide on position 4 = T\n",
        "Nucleotide on position 5 = C\n",
        "Nucleotide on position 6 = A\n",
        "Nucleotide on position 7 = A\n",
        "Nucleotide on position 8 = A\n",
        "Nucleotide on position 9 = A\n",
        "Nucleotide on position 10 = G\n",
        "Nucleotide on position 11 = A\n"
       ]
      }
     ],
     "prompt_number": 162
    },
    {
     "cell_type": "markdown",
     "metadata": {},
     "source": [
      "<br><br><br><img src=\"../pix/play2.jpg\">\n",
      "Print every second nucleotide in <code>mysequence</code> <br>(hint: before you start coding, look at the details for the <code>range</code> function, using \"?\")"
     ]
    },
    {
     "cell_type": "code",
     "collapsed": false,
     "input": [
      "mysequence = \"GATATCAAAAGA\"\n",
      "L  = len(mysequence)"
     ],
     "language": "python",
     "metadata": {},
     "outputs": []
    },
    {
     "cell_type": "markdown",
     "metadata": {},
     "source": [
      "<br><br><br>\n",
      "### The ```while``` loop\n",
      "\n",
      "Unlike the *for* loop, a while loop doesn't know beforehand when to end the repetition of instructions. Instead it repeats the code portion until a condition is no longer True:\n",
      "\n",
      "**Simple loop**: \n",
      "The basic form of loop begins with the keyword ```while``` and an expression.\n",
      "\n",
      "    while expression:\n",
      "        statements\n",
      "        \n",
      "**Example:**"
     ]
    },
    {
     "cell_type": "code",
     "collapsed": false,
     "input": [
      "a = 10\n",
      "while a < 40:\n",
      "    print a\n",
      "    a += 10"
     ],
     "language": "python",
     "metadata": {},
     "outputs": [
      {
       "output_type": "stream",
       "stream": "stdout",
       "text": [
        "10\n",
        "20\n",
        "30\n"
       ]
      }
     ],
     "prompt_number": 163
    },
    {
     "cell_type": "markdown",
     "metadata": {},
     "source": [
      "<br><br><br>"
     ]
    },
    {
     "cell_type": "markdown",
     "metadata": {},
     "source": [
      "### Escaping loops with ```break```"
     ]
    },
    {
     "cell_type": "markdown",
     "metadata": {},
     "source": [
      "Another way of ending a *for* or *while* loop is using\n",
      "\n",
      "    break\n",
      "\n",
      "Here is an example:"
     ]
    },
    {
     "cell_type": "code",
     "collapsed": false,
     "input": [
      "a = 10\n",
      "while True:\n",
      "    if a < 40:\n",
      "        print a\n",
      "    else: \n",
      "        break\n",
      "    a += 10"
     ],
     "language": "python",
     "metadata": {},
     "outputs": []
    },
    {
     "cell_type": "markdown",
     "metadata": {},
     "source": [
      "Forgetting the break condition the code will loop forever (until we interrupt it)"
     ]
    },
    {
     "cell_type": "code",
     "collapsed": false,
     "input": [
      "while True:\n",
      "    pass"
     ],
     "language": "python",
     "metadata": {},
     "outputs": []
    },
    {
     "cell_type": "markdown",
     "metadata": {},
     "source": [
      "Breaks are convinient when searching structures for a particular item"
     ]
    },
    {
     "cell_type": "code",
     "collapsed": false,
     "input": [
      "found = False\n",
      "for x in range(10000000):\n",
      "    if x == 4:\n",
      "        found = True\n",
      "print \"Ready!\""
     ],
     "language": "python",
     "metadata": {},
     "outputs": []
    },
    {
     "cell_type": "code",
     "collapsed": false,
     "input": [
      "found = False\n",
      "for x in range(10000000):\n",
      "    if x == 4:\n",
      "        found = True\n",
      "        break\n",
      "print \"Ready!\", found"
     ],
     "language": "python",
     "metadata": {},
     "outputs": [
      {
       "output_type": "stream",
       "stream": "stdout",
       "text": [
        "Ready!\n"
       ]
      }
     ],
     "prompt_number": 165
    },
    {
     "cell_type": "markdown",
     "metadata": {},
     "source": [
      "The latter is roughly a thousand-fold faster since it breaks after the value 4 has been found, instead of searching the rest.\n",
      "\n",
      "\n",
      "---\n"
     ]
    },
    {
     "cell_type": "markdown",
     "metadata": {},
     "source": [
      "<br><br><br><img src=\"../pix/play2.jpg\">\n",
      "#### Number guessing game\n",
      "Your computer thinks of a random number between 1 and 1000 and you have to guess the number. After each guess, your computer should tell you if the number was to high or too low. If you, by any chance, guess the correct number, the computer should congratulate you.\n",
      "\n",
      "* For getting a random number you can use the \"random\" module\n",
      "* For asking input from the user, use \"raw_input\"\n",
      "* Don't forget to change strings into integers\n",
      "* Use a \"while\" loop\n",
      "\n"
     ]
    },
    {
     "cell_type": "code",
     "collapsed": false,
     "input": [
      "# use the random module to create a random number between 1 and 1000\n",
      "from random import randint\n",
      "n = randint(1,1000)\n",
      "print n\n",
      "        "
     ],
     "language": "python",
     "metadata": {},
     "outputs": []
    },
    {
     "cell_type": "markdown",
     "metadata": {},
     "source": [
      "<br><br><br>\n",
      "\n",
      "## Functions \n",
      "\n",
      "In Python or any other programming language, functions are used to avoid copying the same codeblock in different places of your program. <br><br><br>"
     ]
    },
    {
     "cell_type": "markdown",
     "metadata": {},
     "source": [
      "#### Defining functions\n",
      "We have already learned how to call functions such as ```len()```, ```print()``` and ```range()```, but how do we define them ourselves?\n",
      "\n",
      "New functions are defined with the *function definition statement*\n",
      "<big><big>\n",
      "\n",
      "<code>\n",
      "    def function_name(argument1, argument2) :\n",
      "        \"\"\"Optional Function description (Docstring) \"\"\"\n",
      "        body\n",
      "         \n",
      "</code>"
     ]
    },
    {
     "cell_type": "code",
     "collapsed": false,
     "input": [
      "# define the function \n",
      "def square_it(value):\n",
      "    \"\"\" Returns the square of a value\"\"\"\n",
      "    result = value**2\n",
      "    return result\n",
      "\n",
      "\n",
      "#print square_it(4)\n",
      "# use the function\n",
      "#for i in range(10):\n",
      "#    print i, square_it(i)\n",
      " \n",
      "square_it?"
     ],
     "language": "python",
     "metadata": {},
     "outputs": [],
     "prompt_number": 169
    },
    {
     "cell_type": "markdown",
     "metadata": {},
     "source": [
      "#### Function Scope\n",
      "Variables declared inside a function are valid only inside the function. These variables are called *local variables* as opposed to *global variables* that can be accessed from anywhere. "
     ]
    },
    {
     "cell_type": "code",
     "collapsed": false,
     "input": [
      "def function_with_local_variable():\n",
      "    local_var = \"ABCD\"\n",
      "    \n",
      "    \n",
      "print local_var # Returns a NameError"
     ],
     "language": "python",
     "metadata": {},
     "outputs": [
      {
       "ename": "NameError",
       "evalue": "name 'local_var' is not defined",
       "output_type": "pyerr",
       "traceback": [
        "\u001b[0;31m---------------------------------------------------------------------------\u001b[0m\n\u001b[0;31mNameError\u001b[0m                                 Traceback (most recent call last)",
        "\u001b[0;32m<ipython-input-170-a99515d8f855>\u001b[0m in \u001b[0;36m<module>\u001b[0;34m()\u001b[0m\n\u001b[1;32m      3\u001b[0m \u001b[0;34m\u001b[0m\u001b[0m\n\u001b[1;32m      4\u001b[0m \u001b[0;34m\u001b[0m\u001b[0m\n\u001b[0;32m----> 5\u001b[0;31m \u001b[0;32mprint\u001b[0m \u001b[0mlocal_var\u001b[0m \u001b[0;31m# Returns a NameError\u001b[0m\u001b[0;34m\u001b[0m\u001b[0m\n\u001b[0m",
        "\u001b[0;31mNameError\u001b[0m: name 'local_var' is not defined"
       ]
      }
     ],
     "prompt_number": 170
    },
    {
     "cell_type": "code",
     "collapsed": false,
     "input": [
      "result = \"I am in the global scope\"    # global variable result\n",
      "\n",
      "def square_it(value):\n",
      "    result = value**2    # local variable result\n",
      "    print \"Inside: I am in the function (local) scope, result =\", result\n",
      "    return result\n",
      "\n",
      "for i in range(4):\n",
      "    print i, square_it(i)\n",
      "    \n",
      "print \"Outside: result =\", result"
     ],
     "language": "python",
     "metadata": {},
     "outputs": [
      {
       "output_type": "stream",
       "stream": "stdout",
       "text": [
        "0 Inside: I am in the function (local) scope, result = 0\n",
        "0\n",
        "1 Inside: I am in the function (local) scope, result = 1\n",
        "1\n",
        "2 Inside: I am in the function (local) scope, result = 4\n",
        "4\n",
        "3 Inside: I am in the function (local) scope, result = 9\n",
        "9\n",
        "Outside: result = I am in the global scope\n"
       ]
      }
     ],
     "prompt_number": 171
    },
    {
     "cell_type": "markdown",
     "metadata": {},
     "source": [
      "To access contents of a local variable from *outside the function* the variable must be *returned*."
     ]
    },
    {
     "cell_type": "markdown",
     "metadata": {},
     "source": [
      "#### Returning a Variable\n",
      "\n",
      "Functions can return a value back to the origin of calling. For instance,"
     ]
    },
    {
     "cell_type": "code",
     "collapsed": false,
     "input": [
      "max( [1,2,3] )"
     ],
     "language": "python",
     "metadata": {},
     "outputs": []
    },
    {
     "cell_type": "markdown",
     "metadata": {},
     "source": [
      "returns the value 3. "
     ]
    },
    {
     "cell_type": "markdown",
     "metadata": {},
     "source": [
      "To return a value in your own functions simply use the ```return``` statement:"
     ]
    },
    {
     "cell_type": "code",
     "collapsed": false,
     "input": [
      "def validate_base_sequence( sequence ) : \n",
      "    \"\"\"My first Return Function \"\"\"\n",
      "    valid_base = \"ATCG\"\n",
      "    sequence = sequence.upper()\n",
      "    return all( [base in valid_base for base in sequence] )"
     ],
     "language": "python",
     "metadata": {},
     "outputs": [],
     "prompt_number": 172
    },
    {
     "cell_type": "code",
     "collapsed": false,
     "input": [
      "print validate_base_sequence(\"ACTGGACAT\")"
     ],
     "language": "python",
     "metadata": {},
     "outputs": [
      {
       "output_type": "stream",
       "stream": "stdout",
       "text": [
        "True\n"
       ]
      }
     ],
     "prompt_number": 173
    },
    {
     "cell_type": "code",
     "collapsed": false,
     "input": [
      "print validate_base_sequence(\"ATGTAXATG\")"
     ],
     "language": "python",
     "metadata": {},
     "outputs": [
      {
       "output_type": "stream",
       "stream": "stdout",
       "text": [
        "False\n"
       ]
      }
     ],
     "prompt_number": 174
    },
    {
     "cell_type": "markdown",
     "metadata": {},
     "source": [
      "#### Mutable data types\n",
      ">Most data types are passed to the function as references. They are not copied!\n",
      "\n",
      "This means that if the data type is mutable (you can change it without creating a copy) it will be *altered outside the function* after manipulation:"
     ]
    },
    {
     "cell_type": "code",
     "collapsed": false,
     "input": [
      "def poplist(mylist):\n",
      "    \"\"\" Pops mylist but doesn't return anything! \"\"\"\n",
      "    mylist.pop()\n",
      "\n",
      "A = [1,2,3,4,5]\n",
      "print poplist( A )\n",
      "print A"
     ],
     "language": "python",
     "metadata": {},
     "outputs": []
    },
    {
     "cell_type": "markdown",
     "metadata": {},
     "source": [
      "#### Arguments with Default Values\n",
      "Python allow arguments to have a default value. This is done by entering the default value in the function definition. \n",
      "\n",
      "    def my_function(arg1=True, arg2=False):\n",
      "        ...\n",
      "\n",
      "Let's use the previous *base validation* example and update it with a *type* argument that is by default set to \"DNA\"."
     ]
    },
    {
     "cell_type": "code",
     "collapsed": false,
     "input": [
      "def validate_base_sequence( sequence , type=\"DNA\") : \n",
      "    \"\"\"My first Return Function \"\"\"\n",
      "    type = type.upper()\n",
      "    \n",
      "    if type   == \"DNA\":\n",
      "        valid_base = \"ATCG\"\n",
      "    elif type == \"RNA\":\n",
      "        valid_base = \"AUCG\"\n",
      "    else:\n",
      "        raise ValueError(\"Unknown type \"+type) # A way to produce errors.\n",
      "        \n",
      "    sequence = sequence.upper()\n",
      "  \n",
      "    return all( [base in valid_base for base in sequence] )"
     ],
     "language": "python",
     "metadata": {},
     "outputs": [],
     "prompt_number": 175
    },
    {
     "cell_type": "markdown",
     "metadata": {},
     "source": [
      "This function can be called using *either* one or two parameters: "
     ]
    },
    {
     "cell_type": "code",
     "collapsed": false,
     "input": [
      "validate_base_sequence(\"ACTGGACAT\")"
     ],
     "language": "python",
     "metadata": {},
     "outputs": [
      {
       "metadata": {},
       "output_type": "pyout",
       "prompt_number": 176,
       "text": [
        "True"
       ]
      }
     ],
     "prompt_number": 176
    },
    {
     "cell_type": "code",
     "collapsed": false,
     "input": [
      "validate_base_sequence(\"ACTGGACAT\", \"dna\")"
     ],
     "language": "python",
     "metadata": {},
     "outputs": [
      {
       "metadata": {},
       "output_type": "pyout",
       "prompt_number": 177,
       "text": [
        "True"
       ]
      }
     ],
     "prompt_number": 177
    },
    {
     "cell_type": "code",
     "collapsed": false,
     "input": [
      "validate_base_sequence(\"ACTGGACAT\", type=\"RNA\")"
     ],
     "language": "python",
     "metadata": {},
     "outputs": [
      {
       "metadata": {},
       "output_type": "pyout",
       "prompt_number": 178,
       "text": [
        "False"
       ]
      }
     ],
     "prompt_number": 178
    },
    {
     "cell_type": "code",
     "collapsed": false,
     "input": [
      "validate_base_sequence(\"ACTGGACAT\", type=\"RAN\") # Will throw back the error"
     ],
     "language": "python",
     "metadata": {},
     "outputs": [
      {
       "ename": "ValueError",
       "evalue": "Unknown type RAN",
       "output_type": "pyerr",
       "traceback": [
        "\u001b[0;31m---------------------------------------------------------------------------\u001b[0m\n\u001b[0;31mValueError\u001b[0m                                Traceback (most recent call last)",
        "\u001b[0;32m<ipython-input-179-fbccdcd55da3>\u001b[0m in \u001b[0;36m<module>\u001b[0;34m()\u001b[0m\n\u001b[0;32m----> 1\u001b[0;31m \u001b[0mvalidate_base_sequence\u001b[0m\u001b[0;34m(\u001b[0m\u001b[0;34m\"ACTGGACAT\"\u001b[0m\u001b[0;34m,\u001b[0m \u001b[0mtype\u001b[0m\u001b[0;34m=\u001b[0m\u001b[0;34m\"RAN\"\u001b[0m\u001b[0;34m)\u001b[0m \u001b[0;31m# Will throw back the error\u001b[0m\u001b[0;34m\u001b[0m\u001b[0m\n\u001b[0m",
        "\u001b[0;32m<ipython-input-175-cb892d229142>\u001b[0m in \u001b[0;36mvalidate_base_sequence\u001b[0;34m(sequence, type)\u001b[0m\n\u001b[1;32m      8\u001b[0m         \u001b[0mvalid_base\u001b[0m \u001b[0;34m=\u001b[0m \u001b[0;34m\"AUCG\"\u001b[0m\u001b[0;34m\u001b[0m\u001b[0m\n\u001b[1;32m      9\u001b[0m     \u001b[0;32melse\u001b[0m\u001b[0;34m:\u001b[0m\u001b[0;34m\u001b[0m\u001b[0m\n\u001b[0;32m---> 10\u001b[0;31m         \u001b[0;32mraise\u001b[0m \u001b[0mValueError\u001b[0m\u001b[0;34m(\u001b[0m\u001b[0;34m\"Unknown type \"\u001b[0m\u001b[0;34m+\u001b[0m\u001b[0mtype\u001b[0m\u001b[0;34m)\u001b[0m \u001b[0;31m# A way to produce errors.\u001b[0m\u001b[0;34m\u001b[0m\u001b[0m\n\u001b[0m\u001b[1;32m     11\u001b[0m \u001b[0;34m\u001b[0m\u001b[0m\n\u001b[1;32m     12\u001b[0m     \u001b[0msequence\u001b[0m \u001b[0;34m=\u001b[0m \u001b[0msequence\u001b[0m\u001b[0;34m.\u001b[0m\u001b[0mupper\u001b[0m\u001b[0;34m(\u001b[0m\u001b[0;34m)\u001b[0m\u001b[0;34m\u001b[0m\u001b[0m\n",
        "\u001b[0;31mValueError\u001b[0m: Unknown type RAN"
       ]
      }
     ],
     "prompt_number": 179
    },
    {
     "cell_type": "markdown",
     "metadata": {},
     "source": [
      "---"
     ]
    },
    {
     "cell_type": "markdown",
     "metadata": {},
     "source": [
      "<br><br><br><img src=\"../pix/play2.jpg\">\n",
      "1) Write a function that takes a DNA sequence as input, calculates and returns the GC content.\n",
      "Apply the function on the following list of sequences:"
     ]
    },
    {
     "cell_type": "code",
     "collapsed": false,
     "input": [
      "sequences = ['GGGGGGGGGGGGGGGGGCCCCCCCCCCCCCCCCCC',\n",
      "             'TTTTTTTTTTTTTTTTTTTTTTTTTAAAAAAAAAA',\n",
      "             'TAGATGACCTTATGACAAATCATGAAATTAAAAAG',\n",
      "             'AGGCGCACATCACTACGCACACAGGCGAAGCTAAT',\n",
      "             'TTCTTCCTTTCTTCTTTTTTTCTTTTTTTCTCTTC',\n",
      "             'TGCGAATTTCGCTATATGAGAAGATAAAATAGTGA',\n",
      "             'CTTTTTATTTTTTCTTTTAATTTTTTTTTCCTTTT']\n"
     ],
     "language": "python",
     "metadata": {},
     "outputs": []
    },
    {
     "cell_type": "markdown",
     "metadata": {},
     "source": [
      "2) Write a function that returns the reverse-complement for a DNA sequence, and apply it to the sequences from previous exercise *(Hint: There are several ways of reversing a string - the fastest is using slicing)*"
     ]
    },
    {
     "cell_type": "code",
     "collapsed": false,
     "input": [
      "\n"
     ],
     "language": "python",
     "metadata": {},
     "outputs": []
    },
    {
     "cell_type": "markdown",
     "metadata": {},
     "source": [
      "<br><br><br><img src=\"../pix/book.gif\" width=50px> Required reading for next week: \n",
      "* Python for Bioinformatics by S. Bassi - Chapter 5, Dealing with files"
     ]
    },
    {
     "cell_type": "markdown",
     "metadata": {},
     "source": [
      "<br><br><br>\n",
      "<img src=\"../pix/exercise.png\">\n",
      "<br><br><br>\n"
     ]
    },
    {
     "cell_type": "markdown",
     "metadata": {},
     "source": [
      "## Markup and styles"
     ]
    },
    {
     "cell_type": "code",
     "collapsed": false,
     "input": [
      "from IPython.core.display import HTML\n",
      "\n",
      "\n",
      "def css_styling():\n",
      "    styles = open(\"../styles/custom.css\", \"r\").read()\n",
      "    return HTML(styles)\n",
      "css_styling()"
     ],
     "language": "python",
     "metadata": {},
     "outputs": []
    }
   ],
   "metadata": {}
  }
 ]
}