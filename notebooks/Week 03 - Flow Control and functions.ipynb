{
 "metadata": {
  "name": "",
  "signature": "sha256:e487ee63c3ce02aca239eb680116b8329305b77f4c6a07d6a7ebc0e64121e9a5"
 },
 "nbformat": 3,
 "nbformat_minor": 0,
 "worksheets": [
  {
   "cells": [
    {
     "cell_type": "markdown",
     "metadata": {},
     "source": [
      "## Update your Course Materials!\n",
      "\n",
      "#### For Windows: \n",
      "Open the Git Shell icon (<b>not the blue one</b>).\n",
      "<img src=\"files/images/gitshell.png\"/>\n",
      "Type:\n",
      "<code>\n",
      "cd cbs-python\n",
      "git checkout -f master\n",
      "git pull origin master\n",
      "</code>\n",
      "#### For MAC and Linux:\n",
      "Open a terminal. Navigate to the course directory (Whereever you placed it):\n",
      "<br><code>cd ~/Documents/Courses/cbs-python</code>\n",
      "<br>Now update the folder using<br>\n",
      "<code>git checkout -f master\n",
      "git pull origin master</code>\n",
      "<br><br><br><br><br><br>"
     ]
    },
    {
     "cell_type": "markdown",
     "metadata": {},
     "source": [
      "# Week 03 - Flow control and Functions\n",
      "\n",
      "\n",
      "<div class=\"topics\">\n",
      "    <div style=\"padding-left: 15px;\">\n",
      "        This lecture will cover:\n",
      "        \n",
      "        <ul>\n",
      "            <li>Python flow control:</li>\n",
      "            <ul>\n",
      "                <li>Test: <i>if, else</i> and <i>elif</i></li>\n",
      "                <li>Loops: <i>for</i> and <i>while</i></li>\n",
      "                <li>Escaping loops</li>\n",
      "            </ul>\n",
      "            <li>Functions</li>\n",
      "        </ul>\n",
      "    </div>\n",
      "</div>"
     ]
    },
    {
     "cell_type": "markdown",
     "metadata": {},
     "source": [
      "## Test, Loops and Escapes\n",
      "In the last action-packed session, we've learned quite a bit. However, we're still missing two of the most essential components of programming: logic and repetition. To add these to your Python programs, there are three key words that you will need: if, for, and while.\n",
      "\n",
      "### The Syntax of *if*, *else* and *elif*\n",
      "The if statement is one of the most fundamental components of programming, and it is found in some form or another in every general-purpose programming language (and nearly all specialized ones, too). It simply tells the computer to execute a block of code if a given statement is true. If the statement is false, the code is skipped. Although the concept is simple, conditional statements like if allow your programs to make decisions on their own.\n",
      "\n",
      "In Python, we construct our if statements with this general form:\n",
      "\n",
      "    if condition:\n",
      "        execute code A\n"
     ]
    },
    {
     "cell_type": "code",
     "collapsed": false,
     "input": [
      "today = \"Thursday\"\n",
      "\n",
      "if today == \"Thursday\":\n",
      "    print \"Yeah, it's Python day!\"\n",
      "    "
     ],
     "language": "python",
     "metadata": {},
     "outputs": []
    },
    {
     "cell_type": "markdown",
     "metadata": {},
     "source": [
      "If the condition is not met in the code above nothing happens. If you want something to happen otherwise you can use the *else* statement:\n",
      "\n",
      "    if condition:\n",
      "        execute code A\n",
      "    else:\n",
      "        execute code B\n"
     ]
    },
    {
     "cell_type": "code",
     "collapsed": false,
     "input": [
      "today = \"Thursday\"\n",
      "\n",
      "if today == \"Thursday\":\n",
      "    print \"Yeah, it's Python class!\"\n",
      "else:\n",
      "    print \"... nope, have to wait\"    "
     ],
     "language": "python",
     "metadata": {},
     "outputs": []
    },
    {
     "cell_type": "markdown",
     "metadata": {},
     "source": [
      "<br><br><br>\n",
      "Finally we can test two or more conditions and execute some code only if none of the conditions is met:\n",
      "\n",
      "    if conditionA:\n",
      "        execute code A\n",
      "    elif conditionB:\n",
      "        execute code B\n",
      "    else: \n",
      "        execute code C"
     ]
    },
    {
     "cell_type": "code",
     "collapsed": false,
     "input": [
      "today = \"Thursday\"\n",
      "\n",
      "if today == \"Thursday\":\n",
      "    print \"Yeah, it's Python class!\"\n",
      "elif today == \"Friday\":\n",
      "    print \"Nope, that was yesterday\"\n",
      "else:\n",
      "    print \"... nope, have to wait\"   "
     ],
     "language": "python",
     "metadata": {},
     "outputs": []
    },
    {
     "cell_type": "markdown",
     "metadata": {},
     "source": [
      "<br><br><br>The condition must be an expression that returns True or False. Here are some examples of conditions:"
     ]
    },
    {
     "cell_type": "code",
     "collapsed": false,
     "input": [
      "x = 2\n",
      "y = 4\n",
      "print x < y,\n",
      "print x > y,\n",
      "print x == y,\n",
      "print x != y,\n",
      "print x <= y,\n",
      "print x >= y"
     ],
     "language": "python",
     "metadata": {},
     "outputs": []
    },
    {
     "cell_type": "markdown",
     "metadata": {},
     "source": [
      "**Example**: Say we have a variable called ```sequence_type``` that gives us information about whether a sequence is DNA or Protein ..."
     ]
    },
    {
     "cell_type": "markdown",
     "metadata": {},
     "source": [
      "Then we can use the decision statements to figure out what kind of code to execute."
     ]
    },
    {
     "cell_type": "code",
     "collapsed": false,
     "input": [
      "sequence_type = \"DNA\"\n",
      "\n",
      "if sequence_type == \"DNA\":\n",
      "    print \"blastall -p blastn -d EMBL -i mysequences.fas -o mysequences.blastn\"\n",
      "    \n",
      "elif sequence_type == \"Protein\":\n",
      "    print \"blastall -p blastp -d SwissProt -i mysequences.fas -o mysequences.blastp\"\n",
      "\n",
      "else:\n",
      "    print \"Unknown sequence_type <%s>\" % sequence_type"
     ],
     "language": "python",
     "metadata": {},
     "outputs": []
    },
    {
     "cell_type": "markdown",
     "metadata": {},
     "source": [
      "#### The Nature of Truth\n",
      "There are a few things that python read as \"True\". You can base decisions on other things than True and False."
     ]
    },
    {
     "cell_type": "code",
     "collapsed": false,
     "input": [
      "N = 0\n",
      "if N: \n",
      "    print \"N is nonzero\""
     ],
     "language": "python",
     "metadata": {},
     "outputs": []
    },
    {
     "cell_type": "code",
     "collapsed": false,
     "input": [
      "N = 4\n",
      "if N:\n",
      "    print \"N is nonzero\""
     ],
     "language": "python",
     "metadata": {},
     "outputs": []
    },
    {
     "cell_type": "markdown",
     "metadata": {},
     "source": [
      "Nonempty data structures count as True while empty data structures count as False:"
     ]
    },
    {
     "cell_type": "code",
     "collapsed": false,
     "input": [
      "A = \"\"\n",
      "if A:\n",
      "    print \"String is not empty\"\n",
      "else:\n",
      "    print \"String is empty\""
     ],
     "language": "python",
     "metadata": {},
     "outputs": []
    },
    {
     "cell_type": "code",
     "collapsed": false,
     "input": [
      "B = []\n",
      "if B:\n",
      "    print \"List is not empty\"\n",
      "else:\n",
      "    print \"List is empty\""
     ],
     "language": "python",
     "metadata": {},
     "outputs": []
    },
    {
     "cell_type": "markdown",
     "metadata": {},
     "source": [
      "<br><br><br><img src=\"../pix/play2.jpg\">\n",
      "###### Restriction enzymes\n",
      "Write an <code>if</code> expression that depending on which restriction enzyme is used, cuts the dna_sequence at the right position. (for simplicity use <code>split</code>)\n",
      "\n",
      "HindIII = AAGCTT<br>\n",
      "BamHI = GGATCC<br>\n",
      "EcoRV = GATATC<br>"
     ]
    },
    {
     "cell_type": "code",
     "collapsed": false,
     "input": [
      "dna_sequence = \"AAAAAAAAAAGATATCAAAAGAATTCAAAAAAAAGCTTAAAAAAAGGATCCA\"\n",
      "restriction_enzyme = \"HindIII\"\n",
      "#restriction_enzyme = \"BamHI\"\n",
      "#restriction_enzyme = \"EcoRV\"\n"
     ],
     "language": "python",
     "metadata": {},
     "outputs": []
    },
    {
     "cell_type": "markdown",
     "metadata": {},
     "source": [
      "<br><br><br>\n",
      "### Iterations: The ```for``` loop\n",
      "\n",
      ">Doing something to each element of a collection is called iteration.\n",
      "\n",
      "This control structure allows you to repeat an instruction while changing a variable for each cycle. \n",
      "\n",
      "We already saw how to use it for going through items in a collection:"
     ]
    },
    {
     "cell_type": "code",
     "collapsed": false,
     "input": [
      "    for c in myString:\n",
      "        print c\n",
      "\n",
      "    for i in myList:\n",
      "        print i\n",
      "\n",
      "    for k in myDictionary:\n",
      "        print k"
     ],
     "language": "python",
     "metadata": {},
     "outputs": []
    },
    {
     "cell_type": "markdown",
     "metadata": {},
     "source": [
      "#### Counters"
     ]
    },
    {
     "cell_type": "code",
     "collapsed": false,
     "input": [
      "for i in [1,2,3,4]:\n",
      "    print i"
     ],
     "language": "python",
     "metadata": {},
     "outputs": []
    },
    {
     "cell_type": "markdown",
     "metadata": {},
     "source": [
      "If you don't have a list, but want to repeat an instruction 4 times you can use the shortcut to generate a *N*-element list <cb>range(<i>N</i>)</cb>"
     ]
    },
    {
     "cell_type": "code",
     "collapsed": false,
     "input": [
      "for x in range(4):\n",
      "    print x "
     ],
     "language": "python",
     "metadata": {},
     "outputs": []
    },
    {
     "cell_type": "code",
     "collapsed": false,
     "input": [
      "mysequence = \"GATATCAAAAGA\"\n",
      "L  = len(mysequence)\n",
      "for i in range(L):\n",
      "    print \"Nucleotide on position %d = %s\" % (i, mysequence[i])"
     ],
     "language": "python",
     "metadata": {},
     "outputs": []
    },
    {
     "cell_type": "markdown",
     "metadata": {},
     "source": [
      "<br><br><br><img src=\"../pix/play2.jpg\">\n",
      "Print every second nucleotide in <code>mysequence</code> <br>(hint: before you start coding, look at the details for the <code>range</code> function, using \"?\")"
     ]
    },
    {
     "cell_type": "code",
     "collapsed": false,
     "input": [
      "mysequence = \"GATATCAAAAGA\"\n",
      "L  = len(mysequence)"
     ],
     "language": "python",
     "metadata": {},
     "outputs": []
    },
    {
     "cell_type": "markdown",
     "metadata": {},
     "source": [
      "<br><br><br>\n",
      "### The ```while``` loop\n",
      "\n",
      "Unlike the *for* loop, a while loop doesn't know beforehand when to end the repetition of instructions. Instead it repeats the code portion until a condition is no longer True:\n",
      "\n",
      "**Simple loop**: \n",
      "The basic form of loop begins with the keyword ```while``` and an expression.\n",
      "\n",
      "    while expression:\n",
      "        statements\n",
      "        \n",
      "**Example:**"
     ]
    },
    {
     "cell_type": "code",
     "collapsed": false,
     "input": [
      "a = 10\n",
      "while a < 40:\n",
      "    print a\n",
      "    a += 10"
     ],
     "language": "python",
     "metadata": {},
     "outputs": []
    },
    {
     "cell_type": "markdown",
     "metadata": {},
     "source": [
      "### Escaping loops with ```break```"
     ]
    },
    {
     "cell_type": "markdown",
     "metadata": {},
     "source": [
      "Another way of ending a *for* or *while* loop is using\n",
      "\n",
      "    break\n",
      "\n",
      "Here is an example:"
     ]
    },
    {
     "cell_type": "code",
     "collapsed": false,
     "input": [
      "a = 10\n",
      "while True:\n",
      "    if a < 40:\n",
      "        print a\n",
      "    else: \n",
      "        break\n",
      "    a += 10"
     ],
     "language": "python",
     "metadata": {},
     "outputs": []
    },
    {
     "cell_type": "markdown",
     "metadata": {},
     "source": [
      "Forgetting the break condition the code will loop forever (until we interrupt it)"
     ]
    },
    {
     "cell_type": "code",
     "collapsed": false,
     "input": [
      "while True:\n",
      "    pass"
     ],
     "language": "python",
     "metadata": {},
     "outputs": []
    },
    {
     "cell_type": "markdown",
     "metadata": {},
     "source": [
      "Breaks are convinient when searching structures for a particular item"
     ]
    },
    {
     "cell_type": "code",
     "collapsed": false,
     "input": [
      "found = False\n",
      "for x in range(10000000):\n",
      "    if x == 4:\n",
      "        found = True\n",
      "print \"Ready!\""
     ],
     "language": "python",
     "metadata": {},
     "outputs": []
    },
    {
     "cell_type": "code",
     "collapsed": false,
     "input": [
      "found = False\n",
      "for x in range(10000000):\n",
      "    if x == 4:\n",
      "        found = True\n",
      "        break\n",
      "print \"Ready!\""
     ],
     "language": "python",
     "metadata": {},
     "outputs": []
    },
    {
     "cell_type": "markdown",
     "metadata": {},
     "source": [
      "The latter is roughly a thousand-fold faster since it breaks after the value 4 has been found, instead of searching the rest.\n",
      "\n",
      "\n",
      "---\n"
     ]
    },
    {
     "cell_type": "markdown",
     "metadata": {},
     "source": [
      "<br><br><br><img src=\"../pix/play2.jpg\">\n",
      "#### Number guessing game\n",
      "Your computer thinks of a random number between 1 and 1000 and you have to guess the number. After each guess, your computer should tell you if the number was to high or too low. If you, by any chance, guess the correct number, the computer should congratulate you.\n",
      "\n",
      "* For getting a random number you can use the \"random\" module\n",
      "* For asking input from the user, use \"raw_input\"\n",
      "* Don't forget to change strings into integers\n",
      "* Use a \"while\" loop\n",
      "\n"
     ]
    },
    {
     "cell_type": "code",
     "collapsed": false,
     "input": [
      "# use the random module to create a random number between 1 and 1000\n",
      "from random import randint\n",
      "n = randint(1,1000)\n",
      "print n\n",
      "        "
     ],
     "language": "python",
     "metadata": {},
     "outputs": []
    },
    {
     "cell_type": "markdown",
     "metadata": {},
     "source": [
      "<br><br><br>\n",
      "\n",
      "## Functions \n",
      "\n",
      "In Python or any other programming language, functions are used to avoid copying the same codeblock in different places of your program. \n",
      "\n",
      "<img src=\"../pix/basic-function-tartley.png\">\n",
      "<small>(from http://www.voidspace.org.uk)</small>\n",
      "\n",
      "\n",
      "Imagine if we had to make some code that would generate a list of numbers from zero to $N$ every time we had to use it. Instead we use  the function ```range()```. \n",
      "\n",
      "#### Defining functions\n",
      "We have already learned how to call functions such as ```len()```, ```print()``` and ```range()```, but how do we define them ourselves?\n",
      "\n",
      "New functions are defined with the *function definition statement*\n",
      "\n",
      "    def function_name(argument1, argument2) : \n",
      "        \"\"\"Optional Function description (Docstring) \"\"\"\n",
      "        body"
     ]
    },
    {
     "cell_type": "code",
     "collapsed": false,
     "input": [
      "def square_it(value):\n",
      "    result = value**2\n",
      "    return result\n",
      "\n",
      "for i in range(10):\n",
      "    print i, square_it(i)"
     ],
     "language": "python",
     "metadata": {},
     "outputs": []
    },
    {
     "cell_type": "markdown",
     "metadata": {},
     "source": [
      "#### Function Scope\n",
      "Variables declared inside a function are valid only inside the function. These variables are called *local variables* as opposed to *global variables* that can be accessed from anywhere. "
     ]
    },
    {
     "cell_type": "code",
     "collapsed": false,
     "input": [
      "def function_with_local_variable():\n",
      "    local_var = \"ABCD\"\n",
      "    \n",
      "    \n",
      "print local_var # Returns a NameError"
     ],
     "language": "python",
     "metadata": {},
     "outputs": []
    },
    {
     "cell_type": "code",
     "collapsed": false,
     "input": [
      "result = \"I am in the global scope\"    # global variable result\n",
      "\n",
      "def square_it(value):\n",
      "    result = value**2    # local variable result\n",
      "    print \"Inside: I am in the function (local) scope, result =\", result\n",
      "    return result\n",
      "\n",
      "for i in range(4):\n",
      "    print i, square_it(i)\n",
      "    \n",
      "print \"Outside: result =\", result"
     ],
     "language": "python",
     "metadata": {},
     "outputs": []
    },
    {
     "cell_type": "markdown",
     "metadata": {},
     "source": [
      "To access contents of a local variable from *outside the function* the variable must be *returned*."
     ]
    },
    {
     "cell_type": "markdown",
     "metadata": {},
     "source": [
      "#### Returning a Variable\n",
      "\n",
      "Functions can return a value back to the origin of calling. For instance,"
     ]
    },
    {
     "cell_type": "code",
     "collapsed": false,
     "input": [
      "max( [1,2,3] )"
     ],
     "language": "python",
     "metadata": {},
     "outputs": []
    },
    {
     "cell_type": "markdown",
     "metadata": {},
     "source": [
      "returns the value 3. "
     ]
    },
    {
     "cell_type": "markdown",
     "metadata": {},
     "source": [
      "To return a value in your own functions simply use the ```return``` statement:"
     ]
    },
    {
     "cell_type": "code",
     "collapsed": false,
     "input": [
      "def validate_base_sequence( sequence ) : \n",
      "    \"\"\"My first Return Function \"\"\"\n",
      "    valid_base = \"ATCG\"\n",
      "    sequence = sequence.upper()\n",
      "    return all( [base in valid_base for base in sequence] )"
     ],
     "language": "python",
     "metadata": {},
     "outputs": []
    },
    {
     "cell_type": "code",
     "collapsed": false,
     "input": [
      "print validate_base_sequence(\"ACTGGACAT\")"
     ],
     "language": "python",
     "metadata": {},
     "outputs": []
    },
    {
     "cell_type": "code",
     "collapsed": false,
     "input": [
      "print validate_base_sequence(\"ATGTAXATG\")"
     ],
     "language": "python",
     "metadata": {},
     "outputs": []
    },
    {
     "cell_type": "markdown",
     "metadata": {},
     "source": [
      "#### Mutable data types\n",
      ">Most data types are passed to the function as references. They are not copied!\n",
      "\n",
      "This means that if the data type is mutable (you can change it without creating a copy) it will be *altered outside the function* after manipulation:"
     ]
    },
    {
     "cell_type": "code",
     "collapsed": false,
     "input": [
      "def poplist(mylist):\n",
      "    \"\"\" Pops mylist but doesn't return anything! \"\"\"\n",
      "    mylist.pop()\n",
      "\n",
      "A = [1,2,3,4,5]\n",
      "print poplist( A )\n",
      "print A"
     ],
     "language": "python",
     "metadata": {},
     "outputs": []
    },
    {
     "cell_type": "markdown",
     "metadata": {},
     "source": [
      "#### Arguments with Default Values\n",
      "Python allow arguments to have a default value. This is done by entering the default value in the function definition. \n",
      "\n",
      "    def my_function(arg1=True, arg2=False):\n",
      "        ...\n",
      "\n",
      "Let's use the previous *base validation* example and update it with a *type* argument that is by default set to \"DNA\"."
     ]
    },
    {
     "cell_type": "code",
     "collapsed": false,
     "input": [
      "def validate_base_sequence( sequence , type=\"DNA\") : \n",
      "    \"\"\"My first Return Function \"\"\"\n",
      "    type = type.upper()\n",
      "    \n",
      "    if type   == \"DNA\":\n",
      "        valid_base = \"ATCG\"\n",
      "    elif type == \"RNA\":\n",
      "        valid_base = \"AUCG\"\n",
      "    else:\n",
      "        raise ValueError(\"Unknown type \"+type) # A way to produce errors.\n",
      "    sequence = sequence.upper()\n",
      "  \n",
      "    return all( [base in valid_base for base in sequence] )"
     ],
     "language": "python",
     "metadata": {},
     "outputs": []
    },
    {
     "cell_type": "markdown",
     "metadata": {},
     "source": [
      "This function can be called using *either* one or two parameters: "
     ]
    },
    {
     "cell_type": "code",
     "collapsed": false,
     "input": [
      "validate_base_sequence(\"ACTGGACAT\")"
     ],
     "language": "python",
     "metadata": {},
     "outputs": []
    },
    {
     "cell_type": "code",
     "collapsed": false,
     "input": [
      "validate_base_sequence(\"ACTGGACAT\", \"dna\")"
     ],
     "language": "python",
     "metadata": {},
     "outputs": []
    },
    {
     "cell_type": "code",
     "collapsed": false,
     "input": [
      "validate_base_sequence(\"ACTGGACAT\", type=\"RNA\")"
     ],
     "language": "python",
     "metadata": {},
     "outputs": []
    },
    {
     "cell_type": "code",
     "collapsed": false,
     "input": [
      "validate_base_sequence(\"ACTGGACAT\", type=\"RAN\") # Will throw back the error"
     ],
     "language": "python",
     "metadata": {},
     "outputs": []
    },
    {
     "cell_type": "markdown",
     "metadata": {},
     "source": [
      "---"
     ]
    },
    {
     "cell_type": "markdown",
     "metadata": {},
     "source": [
      "<br><br><br><img src=\"../pix/play2.jpg\">\n",
      "1) Write a function that takes a DNA sequence as input, calculates and returns the GC content.\n",
      "Apply the function on the following list of sequences:"
     ]
    },
    {
     "cell_type": "code",
     "collapsed": false,
     "input": [
      "sequences = ['GGGGGGGGGGGGGGGGGCCCCCCCCCCCCCCCCCC',\n",
      "             'TTTTTTTTTTTTTTTTTTTTTTTTTAAAAAAAAAA',\n",
      "             'TAGATGACCTTATGACAAATCATGAAATTAAAAAG',\n",
      "             'AGGCGCACATCACTACGCACACAGGCGAAGCTAAT',\n",
      "             'TTCTTCCTTTCTTCTTTTTTTCTTTTTTTCTCTTC',\n",
      "             'TGCGAATTTCGCTATATGAGAAGATAAAATAGTGA',\n",
      "             'CTTTTTATTTTTTCTTTTAATTTTTTTTTCCTTTT']\n"
     ],
     "language": "python",
     "metadata": {},
     "outputs": [],
     "prompt_number": 99
    },
    {
     "cell_type": "markdown",
     "metadata": {},
     "source": [
      "2) Write a function that returns the reverse-complement for a DNA sequence"
     ]
    },
    {
     "cell_type": "code",
     "collapsed": false,
     "input": [],
     "language": "python",
     "metadata": {},
     "outputs": []
    },
    {
     "cell_type": "markdown",
     "metadata": {},
     "source": [
      "<br><br><br><img src=\"../pix/book.gif\" width=50px> Required reading for next week: \n",
      "* Python for Bioinformatics by S. Bassi - Chapter 5, Dealing with files"
     ]
    },
    {
     "cell_type": "markdown",
     "metadata": {},
     "source": [
      "<br><br><br>\n",
      "<img src=\"../pix/exercise.png\">\n",
      "<br><br><br>\n"
     ]
    },
    {
     "cell_type": "markdown",
     "metadata": {},
     "source": [
      "## Markup and styles"
     ]
    },
    {
     "cell_type": "code",
     "collapsed": false,
     "input": [
      "from IPython.core.display import HTML\n",
      "\n",
      "\n",
      "def css_styling():\n",
      "    styles = open(\"../styles/custom.css\", \"r\").read()\n",
      "    return HTML(styles)\n",
      "css_styling()"
     ],
     "language": "python",
     "metadata": {},
     "outputs": []
    },
    {
     "cell_type": "code",
     "collapsed": false,
     "input": [],
     "language": "python",
     "metadata": {},
     "outputs": []
    }
   ],
   "metadata": {}
  }
 ]
}