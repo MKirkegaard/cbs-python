{
 "cells": [
  {
   "cell_type": "markdown",
   "metadata": {},
   "source": [
    "## Update your Course Materials!\n",
    "\n",
    "#### For Windows: \n",
    "Open the Git Shell icon (<b>not the blue one</b>).\n",
    "<img src=\"files/images/gitshell.png\"/>\n",
    "Type:\n",
    "<code>\n",
    "cd cbs-python\n",
    "git checkout -f master\n",
    "git pull origin master\n",
    "</code>\n",
    "#### For MAC and Linux:\n",
    "Open a terminal. Navigate to the course directory (Whereever you placed it):\n",
    "<br><code>cd ~/Documents/Courses/cbs-python</code>\n",
    "<br>Now update the folder using<br>\n",
    "<code>git checkout -f master\n",
    "git pull origin master</code>\n",
    "<br><br><br><br><br><br>"
   ]
  },
  {
   "cell_type": "markdown",
   "metadata": {},
   "source": [
    "# Week 03 - Flow control and Functions\n",
    "\n",
    "\n",
    "<div class=\"topics\">\n",
    "    <div style=\"padding-left: 15px;\">\n",
    "        This lecture will cover:\n",
    "        \n",
    "        <ul>\n",
    "            <li>Python flow control:</li>\n",
    "            <ul>\n",
    "                <li>Test: <i>if, else</i> and <i>elif</i></li>\n",
    "                <li>Loops: <i>for</i> and <i>while</i></li>\n",
    "                <li>Escaping loops</li>\n",
    "            </ul>\n",
    "            <li>Functions</li>\n",
    "        </ul>\n",
    "    </div>\n",
    "</div>"
   ]
  },
  {
   "cell_type": "markdown",
   "metadata": {},
   "source": [
    "## Test, Loops and Escapes\n",
    "In the last action-packed session, we've learned quite a bit. However, we're still missing two of the most essential components of programming: logic and repetition. To add these to your Python programs, there are three key words that you will need: if, for, and while.\n",
    "\n",
    "### The Syntax of *if*, *else* and *elif*\n",
    "The if statement is one of the most fundamental components of programming, and it is found in some form or another in every general-purpose programming language (and nearly all specialized ones, too). It simply tells the computer to execute a block of code if a given statement is true. If the statement is false, the code is skipped. Although the concept is simple, conditional statements like if allow your programs to make decisions on their own.\n",
    "\n",
    "In Python, we construct our if statements with this general form:\n",
    "\n",
    "    if condition:\n",
    "        execute code A\n"
   ]
  },
  {
   "cell_type": "code",
   "execution_count": null,
   "metadata": {
    "collapsed": false
   },
   "outputs": [],
   "source": [
    "today = \"Thursday\"\n",
    "\n",
    "if today == \"Thursday\":\n",
    "    print \"Yeah, it's Python day!\"\n",
    "    "
   ]
  },
  {
   "cell_type": "markdown",
   "metadata": {},
   "source": [
    "If the condition is not met in the code above nothing happens. If you want something to happen otherwise you can use the *else* statement:\n",
    "\n",
    "    if condition:\n",
    "        execute code A\n",
    "    else:\n",
    "        execute code B\n"
   ]
  },
  {
   "cell_type": "code",
   "execution_count": null,
   "metadata": {
    "collapsed": false
   },
   "outputs": [],
   "source": [
    "today = \"Monday\"\n",
    "\n",
    "if today == \"Thursday\":\n",
    "    print \"Yeah, it's Python day!\"\n",
    "else:\n",
    "    print \"... nope, have to wait\"    "
   ]
  },
  {
   "cell_type": "markdown",
   "metadata": {},
   "source": [
    "<br><br><br>\n",
    "Finally we can test two or more conditions and execute some code only if none of the conditions is met:\n",
    "\n",
    "    if conditionA:\n",
    "        execute code A\n",
    "    elif conditionB:\n",
    "        execute code B\n",
    "    else: \n",
    "        execute code C"
   ]
  },
  {
   "cell_type": "code",
   "execution_count": null,
   "metadata": {
    "collapsed": false
   },
   "outputs": [],
   "source": [
    "today = \"Tuesday\"\n",
    "\n",
    "if   today == \"Thursday\":\n",
    "    print \"Yeah, it's Python day!\"\n",
    "elif today == \"Friday\":\n",
    "    print \"Nope, that was yesterday\"\n",
    "else:\n",
    "    print \"... nope, have to wait\"   "
   ]
  },
  {
   "cell_type": "markdown",
   "metadata": {},
   "source": [
    "<br><br><br>The condition must be an expression that returns True or False. Here are some examples of conditions:"
   ]
  },
  {
   "cell_type": "code",
   "execution_count": null,
   "metadata": {
    "collapsed": false
   },
   "outputs": [],
   "source": [
    "x = 2\n",
    "y = 4\n",
    "print x < y,\n",
    "print x > y,\n",
    "print x == y,\n",
    "print x != y,\n",
    "print x <= y,\n",
    "print x >= y"
   ]
  },
  {
   "cell_type": "markdown",
   "metadata": {},
   "source": [
    "**Example**: Say we have a variable called ```sequence_type``` that gives us information about whether a sequence is DNA or Protein ..."
   ]
  },
  {
   "cell_type": "markdown",
   "metadata": {},
   "source": [
    "Then we can use the decision statements to figure out what kind of BLAST command to execute."
   ]
  },
  {
   "cell_type": "code",
   "execution_count": null,
   "metadata": {
    "collapsed": false
   },
   "outputs": [],
   "source": [
    "sequence_type = \"RNA\"\n",
    "\n",
    "if sequence_type == \"DNA\":\n",
    "    print \"blastall -p blastn -d EMBL -i mysequences.fas -o mysequences.blastn\"\n",
    "    \n",
    "elif sequence_type == \"Protein\":\n",
    "    print \"blastall -p blastp -d SwissProt -i mysequences.fas -o mysequences.blastp\"\n",
    "\n",
    "else:\n",
    "    print \"Unknown sequence_type <%s>\" % sequence_type"
   ]
  },
  {
   "cell_type": "markdown",
   "metadata": {},
   "source": [
    "<br><br><br><img src=\"../pix/play2.jpg\">\n",
    "Change the above BLAST command code to accept a sequence_type RNA, and print the same command as for DNA.\n",
    "<br><br><br>"
   ]
  },
  {
   "cell_type": "markdown",
   "metadata": {},
   "source": [
    "#### The Nature of Truth\n",
    "There are a few things that python read as \"True\". You can base decisions on other things than True and False."
   ]
  },
  {
   "cell_type": "code",
   "execution_count": null,
   "metadata": {
    "collapsed": false
   },
   "outputs": [],
   "source": [
    "N = 0\n",
    "if N: \n",
    "    print \"N is nonzero\""
   ]
  },
  {
   "cell_type": "code",
   "execution_count": null,
   "metadata": {
    "collapsed": false
   },
   "outputs": [],
   "source": [
    "N = 4\n",
    "if N:\n",
    "    print \"N is nonzero\""
   ]
  },
  {
   "cell_type": "markdown",
   "metadata": {},
   "source": [
    "Nonempty data structures count as True while empty data structures count as False:"
   ]
  },
  {
   "cell_type": "code",
   "execution_count": null,
   "metadata": {
    "collapsed": false
   },
   "outputs": [],
   "source": [
    "A = \"\"\n",
    "if A:\n",
    "    print \"String is not empty\"\n",
    "else:\n",
    "    print \"String is empty\""
   ]
  },
  {
   "cell_type": "code",
   "execution_count": null,
   "metadata": {
    "collapsed": false
   },
   "outputs": [],
   "source": [
    "B = []\n",
    "if B:\n",
    "    print \"List is not empty\"\n",
    "else:\n",
    "    print \"List is empty\""
   ]
  },
  {
   "cell_type": "markdown",
   "metadata": {},
   "source": [
    "Don't confuse context with boolean context ..."
   ]
  },
  {
   "cell_type": "code",
   "execution_count": null,
   "metadata": {
    "collapsed": false
   },
   "outputs": [],
   "source": [
    "txt = \"This Python course is awesome ...\"\n",
    "print txt, bool(txt)\n",
    "\n",
    "txt = \"Elvis is alive ...\"\n",
    "print txt, bool(txt)"
   ]
  },
  {
   "cell_type": "markdown",
   "metadata": {},
   "source": [
    "<br><br><br><img src=\"../pix/play2.jpg\">\n",
    "###### Restriction enzymes\n",
    "Write an <code>if</code> expression that depending on which restriction enzyme is used, cuts the dna_sequence at the correct position. (for simplicity use <code>split</code>)\n",
    "\n",
    "HindIII = AAGCTT<br>\n",
    "BamHI = GGATCC<br>\n",
    "EcoRV = GATATC<br>"
   ]
  },
  {
   "cell_type": "code",
   "execution_count": null,
   "metadata": {
    "collapsed": false
   },
   "outputs": [],
   "source": [
    "dna_sequence = \"AAAAAAAAAAGATATCAAAAGAATTCAAAAAAAAGCTTAAAAAAAGGATCCA\"\n",
    "restriction_enzyme = \"HindIII\"\n",
    "#restriction_enzyme = \"BamHI\"\n",
    "#restriction_enzyme = \"EcoRV\"\n"
   ]
  },
  {
   "cell_type": "markdown",
   "metadata": {},
   "source": [
    "<br><br><br>\n",
    "### Iterations: The ```for``` loop\n",
    "\n",
    "Doing something to each element of a collection is called iteration.\n",
    "\n",
    "This control structure allows you to repeat an instruction while changing a variable for each cycle. \n",
    "\n",
    "We already saw how to use it for going through items in a collection:"
   ]
  },
  {
   "cell_type": "code",
   "execution_count": null,
   "metadata": {
    "collapsed": false
   },
   "outputs": [],
   "source": [
    "    for c in myString:\n",
    "        print c\n",
    "\n",
    "    for i in myList:\n",
    "        print i\n",
    "\n",
    "    for k in myDictionary:\n",
    "        print k"
   ]
  },
  {
   "cell_type": "markdown",
   "metadata": {},
   "source": [
    "#### Counters"
   ]
  },
  {
   "cell_type": "code",
   "execution_count": null,
   "metadata": {
    "collapsed": false
   },
   "outputs": [],
   "source": [
    "for i in [1,2,3,4]:\n",
    "    print i"
   ]
  },
  {
   "cell_type": "markdown",
   "metadata": {},
   "source": [
    "If you don't have a list, but want to repeat an instruction 4 times you can use the shortcut to generate a *N*-element list <cb>range(<i>N</i>)</cb>"
   ]
  },
  {
   "cell_type": "code",
   "execution_count": null,
   "metadata": {
    "collapsed": false
   },
   "outputs": [],
   "source": [
    "for x in range(4):\n",
    "    print x "
   ]
  },
  {
   "cell_type": "code",
   "execution_count": null,
   "metadata": {
    "collapsed": false
   },
   "outputs": [],
   "source": [
    "mysequence = \"GATATCAAAAGA\"\n",
    "L  = len(mysequence)\n",
    "for i in range(L):\n",
    "    print \"Nucleotide on position %d = %s\" % (i, mysequence[i])"
   ]
  },
  {
   "cell_type": "markdown",
   "metadata": {},
   "source": [
    "<br><br><br><img src=\"../pix/play2.jpg\">\n",
    "Print every second nucleotide in <code>mysequence</code> <br>(hint: before you start coding, look at the details for the <code>range</code> function, using \"?\")"
   ]
  },
  {
   "cell_type": "code",
   "execution_count": null,
   "metadata": {
    "collapsed": false
   },
   "outputs": [],
   "source": [
    "mysequence = \"GATATCAAAAGA\"\n",
    "L  = len(mysequence)"
   ]
  },
  {
   "cell_type": "markdown",
   "metadata": {},
   "source": [
    "<br><br><br>\n",
    "### The ```while``` loop\n",
    "\n",
    "Unlike the *for* loop, a while loop doesn't know beforehand when to end the repetition of instructions. Instead it repeats the code portion until a condition is no longer True:\n",
    "\n",
    "**Simple loop**: \n",
    "The basic form of loop begins with the keyword ```while``` and an expression.\n",
    "\n",
    "    while expression:\n",
    "        statements\n",
    "        \n",
    "**Example:**"
   ]
  },
  {
   "cell_type": "code",
   "execution_count": null,
   "metadata": {
    "collapsed": false
   },
   "outputs": [],
   "source": [
    "a = 10\n",
    "while a < 40:\n",
    "    print a\n",
    "    a += 10"
   ]
  },
  {
   "cell_type": "markdown",
   "metadata": {},
   "source": [
    "<br><br><br>"
   ]
  },
  {
   "cell_type": "markdown",
   "metadata": {},
   "source": [
    "### Escaping loops with ```break```"
   ]
  },
  {
   "cell_type": "markdown",
   "metadata": {},
   "source": [
    "Another way of ending a *for* or *while* loop is using\n",
    "\n",
    "    break\n",
    "\n",
    "Here is an example:"
   ]
  },
  {
   "cell_type": "code",
   "execution_count": null,
   "metadata": {
    "collapsed": false
   },
   "outputs": [],
   "source": [
    "a = 10\n",
    "while True:\n",
    "    if a < 40:\n",
    "        print a\n",
    "    else: \n",
    "        break\n",
    "    a += 10"
   ]
  },
  {
   "cell_type": "markdown",
   "metadata": {},
   "source": [
    "Forgetting the break condition the code will loop forever (until we interrupt it)"
   ]
  },
  {
   "cell_type": "code",
   "execution_count": null,
   "metadata": {
    "collapsed": false
   },
   "outputs": [],
   "source": [
    "while True:\n",
    "    pass"
   ]
  },
  {
   "cell_type": "markdown",
   "metadata": {},
   "source": [
    "Breaks are convinient when searching structures for a particular item"
   ]
  },
  {
   "cell_type": "code",
   "execution_count": null,
   "metadata": {
    "collapsed": false
   },
   "outputs": [],
   "source": [
    "found = False\n",
    "for x in range(10000000):\n",
    "    if x == 4:\n",
    "        found = True\n",
    "print \"Ready!\""
   ]
  },
  {
   "cell_type": "code",
   "execution_count": null,
   "metadata": {
    "collapsed": false
   },
   "outputs": [],
   "source": [
    "found = False\n",
    "for x in range(10000000):\n",
    "    if x == 4:\n",
    "        found = True\n",
    "        break\n",
    "print \"Ready!\""
   ]
  },
  {
   "cell_type": "markdown",
   "metadata": {},
   "source": [
    "The latter is roughly a thousand-fold faster since it breaks after the value 4 has been found, instead of searching the rest.\n",
    "\n",
    "\n",
    "---\n"
   ]
  },
  {
   "cell_type": "markdown",
   "metadata": {},
   "source": [
    "<br><br><br><img src=\"../pix/play2.jpg\">\n",
    "#### Number guessing game\n",
    "Your computer thinks of a random number between 1 and 1000 and you have to guess the number. After each guess, your computer should tell you if the number was to high or too low. If you, by any chance, guess the correct number, the computer should congratulate you.\n",
    "\n",
    "* For getting a random number you can use the \"random\" module\n",
    "* For asking input from the user, use \"raw_input\"\n",
    "* Don't forget to change strings into integers\n",
    "* Use a \"while\" loop\n",
    "\n"
   ]
  },
  {
   "cell_type": "code",
   "execution_count": null,
   "metadata": {
    "collapsed": false
   },
   "outputs": [],
   "source": [
    "# use the random module to create a random number between 1 and 1000\n",
    "from random import randint\n",
    "n = randint(1,1000)\n",
    "print n\n",
    "        "
   ]
  },
  {
   "cell_type": "markdown",
   "metadata": {},
   "source": [
    "<br><br><br>\n",
    "\n",
    "## Functions \n",
    "\n",
    "In Python or any other programming language, functions are used to avoid copying the same codeblock in different places of your program. <br><br><br>"
   ]
  },
  {
   "cell_type": "markdown",
   "metadata": {},
   "source": [
    "#### Defining functions\n",
    "We have already learned how to call functions such as ```len()```, ```print()``` and ```range()```, but how do we define them ourselves?\n",
    "\n",
    "New functions are defined with the *function definition statement*\n",
    "<big><big>\n",
    "\n",
    "<code>\n",
    "    def function_name(argument1, argument2) :\n",
    "        \"\"\"Optional Function description (Docstring) \"\"\"\n",
    "        body\n",
    "         \n",
    "</code>"
   ]
  },
  {
   "cell_type": "code",
   "execution_count": null,
   "metadata": {
    "collapsed": false
   },
   "outputs": [],
   "source": [
    "# define the function \n",
    "def square_it(value):\n",
    "    result = value**2\n",
    "    return result\n",
    "\n",
    "# use the function\n",
    "for i in range(10):\n",
    "    print i, square_it(i)\n",
    "    "
   ]
  },
  {
   "cell_type": "markdown",
   "metadata": {},
   "source": [
    "#### Function Scope\n",
    "Variables declared inside a function are valid only inside the function. These variables are called *local variables* as opposed to *global variables* that can be accessed from anywhere. "
   ]
  },
  {
   "cell_type": "code",
   "execution_count": null,
   "metadata": {
    "collapsed": false
   },
   "outputs": [],
   "source": [
    "def function_with_local_variable():\n",
    "    local_var = \"ABCD\"\n",
    "    \n",
    "    \n",
    "print local_var # Returns a NameError"
   ]
  },
  {
   "cell_type": "code",
   "execution_count": null,
   "metadata": {
    "collapsed": false
   },
   "outputs": [],
   "source": [
    "result = \"I am in the global scope\"    # global variable result\n",
    "\n",
    "def square_it(value):\n",
    "    result = value**2    # local variable result\n",
    "    print \"Inside: I am in the function (local) scope, result =\", result\n",
    "    return result\n",
    "\n",
    "for i in range(4):\n",
    "    print i, square_it(i)\n",
    "    \n",
    "print \"Outside: result =\", result"
   ]
  },
  {
   "cell_type": "markdown",
   "metadata": {},
   "source": [
    "To access contents of a local variable from *outside the function* the variable must be *returned*."
   ]
  },
  {
   "cell_type": "markdown",
   "metadata": {},
   "source": [
    "#### Returning a Variable\n",
    "\n",
    "Functions can return a value back to the origin of calling. For instance,"
   ]
  },
  {
   "cell_type": "code",
   "execution_count": null,
   "metadata": {
    "collapsed": false
   },
   "outputs": [],
   "source": [
    "max( [1,2,3] )"
   ]
  },
  {
   "cell_type": "markdown",
   "metadata": {},
   "source": [
    "returns the value 3. "
   ]
  },
  {
   "cell_type": "markdown",
   "metadata": {},
   "source": [
    "To return a value in your own functions simply use the ```return``` statement:"
   ]
  },
  {
   "cell_type": "code",
   "execution_count": null,
   "metadata": {
    "collapsed": false
   },
   "outputs": [],
   "source": [
    "def validate_base_sequence( sequence ) : \n",
    "    \"\"\"My first Return Function \"\"\"\n",
    "    valid_base = \"ATCG\"\n",
    "    sequence = sequence.upper()\n",
    "    return all( [base in valid_base for base in sequence] )"
   ]
  },
  {
   "cell_type": "code",
   "execution_count": null,
   "metadata": {
    "collapsed": false
   },
   "outputs": [],
   "source": [
    "print validate_base_sequence(\"ACTGGACAT\")"
   ]
  },
  {
   "cell_type": "code",
   "execution_count": null,
   "metadata": {
    "collapsed": false
   },
   "outputs": [],
   "source": [
    "print validate_base_sequence(\"ATGTAXATG\")"
   ]
  },
  {
   "cell_type": "markdown",
   "metadata": {},
   "source": [
    "#### Mutable data types\n",
    ">Most data types are passed to the function as references. They are not copied!\n",
    "\n",
    "This means that if the data type is mutable (you can change it without creating a copy) it will be *altered outside the function* after manipulation:"
   ]
  },
  {
   "cell_type": "code",
   "execution_count": null,
   "metadata": {
    "collapsed": false
   },
   "outputs": [],
   "source": [
    "def poplist(mylist):\n",
    "    \"\"\" Pops mylist but doesn't return anything! \"\"\"\n",
    "    mylist.pop()\n",
    "\n",
    "A = [1,2,3,4,5]\n",
    "print poplist( A )\n",
    "print A"
   ]
  },
  {
   "cell_type": "markdown",
   "metadata": {},
   "source": [
    "#### Arguments with Default Values\n",
    "Python allow arguments to have a default value. This is done by entering the default value in the function definition. \n",
    "\n",
    "    def my_function(arg1=True, arg2=False):\n",
    "        ...\n",
    "\n",
    "Let's use the previous *base validation* example and update it with a *type* argument that is by default set to \"DNA\"."
   ]
  },
  {
   "cell_type": "code",
   "execution_count": null,
   "metadata": {
    "collapsed": false
   },
   "outputs": [],
   "source": [
    "def validate_base_sequence( sequence , type=\"DNA\") : \n",
    "    \"\"\"My first Return Function \"\"\"\n",
    "    type = type.upper()\n",
    "    \n",
    "    if type   == \"DNA\":\n",
    "        valid_base = \"ATCG\"\n",
    "    elif type == \"RNA\":\n",
    "        valid_base = \"AUCG\"\n",
    "    else:\n",
    "        raise ValueError(\"Unknown type \"+type) # A way to produce errors.\n",
    "        \n",
    "    sequence = sequence.upper()\n",
    "  \n",
    "    return all( [base in valid_base for base in sequence] )"
   ]
  },
  {
   "cell_type": "markdown",
   "metadata": {},
   "source": [
    "This function can be called using *either* one or two parameters: "
   ]
  },
  {
   "cell_type": "code",
   "execution_count": null,
   "metadata": {
    "collapsed": false
   },
   "outputs": [],
   "source": [
    "validate_base_sequence(\"ACTGGACAT\")"
   ]
  },
  {
   "cell_type": "code",
   "execution_count": null,
   "metadata": {
    "collapsed": false
   },
   "outputs": [],
   "source": [
    "validate_base_sequence(\"ACTGGACAT\", \"dna\")"
   ]
  },
  {
   "cell_type": "code",
   "execution_count": null,
   "metadata": {
    "collapsed": false
   },
   "outputs": [],
   "source": [
    "validate_base_sequence(\"ACTGGACAT\", type=\"RNA\")"
   ]
  },
  {
   "cell_type": "code",
   "execution_count": null,
   "metadata": {
    "collapsed": false
   },
   "outputs": [],
   "source": [
    "validate_base_sequence(\"ACTGGACAT\", type=\"RAN\") # Will throw back the error"
   ]
  },
  {
   "cell_type": "markdown",
   "metadata": {},
   "source": [
    "---"
   ]
  },
  {
   "cell_type": "markdown",
   "metadata": {},
   "source": [
    "<br><br><br><img src=\"../pix/play2.jpg\">\n",
    "1) Write a function that takes a DNA sequence as input, calculates and returns the GC content.\n",
    "Apply the function on the following list of sequences:"
   ]
  },
  {
   "cell_type": "code",
   "execution_count": null,
   "metadata": {
    "collapsed": false
   },
   "outputs": [],
   "source": [
    "sequences = ['GGGGGGGGGGGGGGGGGCCCCCCCCCCCCCCCCCC',\n",
    "             'TTTTTTTTTTTTTTTTTTTTTTTTTAAAAAAAAAA',\n",
    "             'TAGATGACCTTATGACAAATCATGAAATTAAAAAG',\n",
    "             'AGGCGCACATCACTACGCACACAGGCGAAGCTAAT',\n",
    "             'TTCTTCCTTTCTTCTTTTTTTCTTTTTTTCTCTTC',\n",
    "             'TGCGAATTTCGCTATATGAGAAGATAAAATAGTGA',\n",
    "             'CTTTTTATTTTTTCTTTTAATTTTTTTTTCCTTTT']\n"
   ]
  },
  {
   "cell_type": "markdown",
   "metadata": {},
   "source": [
    "2) Write a function that returns the reverse-complement for a DNA sequence, and apply it to the sequences from previous exercise *(Hint: There are several ways of reversing a string - the fastest is using slicing)*"
   ]
  },
  {
   "cell_type": "code",
   "execution_count": null,
   "metadata": {
    "collapsed": false
   },
   "outputs": [],
   "source": [
    "\n"
   ]
  },
  {
   "cell_type": "markdown",
   "metadata": {},
   "source": [
    "<br><br><br><img src=\"../pix/book.gif\" width=50px> Required reading for next week: \n",
    "* Python for Bioinformatics by S. Bassi - Chapter 5, Dealing with files"
   ]
  },
  {
   "cell_type": "markdown",
   "metadata": {},
   "source": [
    "<br><br><br>\n",
    "<img src=\"../pix/exercise.png\">\n",
    "<br><br><br>\n"
   ]
  },
  {
   "cell_type": "markdown",
   "metadata": {},
   "source": [
    "## Markup and styles"
   ]
  },
  {
   "cell_type": "code",
   "execution_count": 1,
   "metadata": {
    "collapsed": false
   },
   "outputs": [
    {
     "data": {
      "text/html": [
       "<style>\n",
       "    div.cell{\n",
       "        width:800px;\n",
       "        margin-left:16% !important;\n",
       "        margin-right:auto;\n",
       "    }\n",
       "    div.text_cell_render{\n",
       "        font-family: \"Helvetica Neue\", Arial, Helvetica, Geneva, sans-serif;\n",
       "        line-height: 145%;\n",
       "        font-size: 100%;\n",
       "        width:800px;\n",
       "        margin-left:auto;\n",
       "        margin-right:auto;\n",
       "    }\n",
       "    .CodeMirror{\n",
       "            font-family: \"Source Code Pro\", source-code-pro,Consolas, monospace;\n",
       "    }\n",
       "    div.CodeMirror{\n",
       "    \tfont-size: 11pt;\n",
       "    }\n",
       "    div.cell.border-box-sizing.code_cell{\n",
       "    \tpadding-left: 50px;\n",
       "    }\n",
       "    div.text_cell_input {\n",
       "    \tmargin-left: 50px;\n",
       "    }\n",
       "    .prompt{\n",
       "        display: None;\n",
       "    }\n",
       "    .text_cell_render h1 {\n",
       "        font-family: Helvetica, serif;\n",
       "        font-size: 30pt;\n",
       "        color: #274257;\n",
       "        text-transform: uppercase;\n",
       "        line-height: 100%;\n",
       "    }\n",
       "    .text_cell_render h2 {\n",
       "    \tmargin-top: 35px;\n",
       "        font-family: Helvetica, serif;\n",
       "        font-size: 24pt;\n",
       "        color: #2A75A9;\n",
       "        line-height: 100%;\n",
       "    }\n",
       "    .text_cell_render h3{\n",
       "    \tmargin-top: 35px;\n",
       "        font-family: Helvetica, serif;\n",
       "        font-size: 18pt;\n",
       "        color: #7EB5D6;\n",
       "        line-height: 100%;\n",
       "       }\n",
       "    .text_cell_render h4{\n",
       "    \tmargin-top: 35px;\n",
       "    \tfont-family: Helvetica, serif;\n",
       "        font-size: 14pt;\n",
       "        line-height: 100%;\n",
       "    }\n",
       "    .text_cell_render h5 {\n",
       "        font-weight: 300;\n",
       "        font-size: 22pt;\n",
       "        color: #4057A1;\n",
       "        font-style: italic;\n",
       "        margin-bottom: .5em;\n",
       "        margin-top: 0.5em;\n",
       "        display: block;\n",
       "        line-height: 100%;\n",
       "    }\n",
       "    \n",
       "    .warning{\n",
       "        color: rgb( 240, 20, 20 )\n",
       "        } \n",
       "    .wds {\n",
       "        background: none repeat scroll 0% 0% rgb(247, 247, 247);\n",
       "        padding: 0em 0em;\n",
       "        font-size: 11px;\n",
       "        font-family: Arial,Helvetica,sans-serif;\n",
       "        display: inline-block;\n",
       "        margin: 0px 0em;\n",
       "        white-space: nowrap;\n",
       "    }\n",
       "    cb {\n",
       "        background: none repeat scroll 0% 0% rgb(247, 247, 247);\n",
       "        padding: 0.1em 0.6em;\n",
       "        border: 1px solid rgb(204, 204, 204);\n",
       "        font-size: 11pt;\n",
       "        font-family: \"Source Code Pro\", source-code-pro,Consolas, monospace;\n",
       "        color: rgb(51, 51, 51);\n",
       "        box-shadow: 0px 1px 0px rgba(0, 0, 0, 0.2), 0px 0px 0px 2px rgb(255, 255, 255) inset;\n",
       "        border-radius: 3px 3px 3px 3px;\n",
       "        display: inline-block;\n",
       "        margin: 0px 0.1em;\n",
       "        line-height: 1.4;\n",
       "        white-space: nowrap;\n",
       "    }\n",
       "    q {\t\n",
       "        font-weight: 300;\n",
       "        font-size: 14pt;\n",
       "        color: #4057A1;\n",
       "        margin-bottom: .5em;\n",
       "        margin-top: 0.5em;\n",
       "        display: block;\n",
       "        font-family: \"Helvetica Neue\", Arial, Helvetica, Geneva, sans-serif;\n",
       "        line-height: 145%;\n",
       "        width:800px;\n",
       "        margin-left:auto;\n",
       "        margin-right:auto;\n",
       "    }\n",
       "    qq {\t\n",
       "        font-weight: 300;\n",
       "        font-size: 11pt;\n",
       "        color: #4057A1;\n",
       "        margin-bottom: .5em;\n",
       "        margin-top: 0.5em;\n",
       "        display: block;\n",
       "        font-family: \"Helvetica Neue\", Arial, Helvetica, Geneva, sans-serif;\n",
       "        line-height: 145%;\n",
       "        width:800px;\n",
       "        margin-left:auto;\n",
       "        margin-right:auto;\n",
       "    }\n",
       "    kbd {\n",
       "        background: none repeat scroll 0% 0% rgb(247, 247, 247);\n",
       "        padding: 0.1em 0.6em;\n",
       "        border: 1px solid rgb(204, 204, 204);\n",
       "        font-size: 11px;\n",
       "        font-family: Arial,Helvetica,sans-serif;\n",
       "        color: rgb(51, 51, 51);\n",
       "        box-shadow: 0px 1px 0px rgba(0, 0, 0, 0.2), 0px 0px 0px 2px rgb(255, 255, 255) inset;\n",
       "        border-radius: 3px 3px 3px 3px;\n",
       "        display: inline-block;\n",
       "        margin: 0px 0.1em;\n",
       "        text-shadow: 0px 1px 0px rgb(255, 255, 255);\n",
       "        line-height: 1.4;\n",
       "        white-space: nowrap;\n",
       "    }\n",
       "    ol {\n",
       "        list-style-type: decimal;\n",
       "    }\n",
       "\n",
       "\t.box_rotate {\n",
       "\t\t  -webkit-transform: rotate(270deg);  /* Chrome, Safari 3.1+ */\n",
       "\t\t     -moz-transform: rotate(270deg);  /* Firefox 3.5-15 */\n",
       "\t\t      -ms-transform: rotate(270deg);  /* IE 9 */\n",
       "\t\t       -o-transform: rotate(270deg);  /* Opera 10.50-12.00 */\n",
       "\t\t          transform: rotate(270deg);  /* Firefox 16+, IE 10+, Opera 12.10+ */\n",
       "\t}\n",
       "\n",
       "\t.vertical-text {\n",
       "\t\tdisplay: inline-block;\n",
       "\t\toverflow: hidden;\n",
       "\t\twidth: 1.5em;\n",
       "\t}\n",
       "\n",
       "\t.vertical-text__inner {\n",
       "\t\tdisplay: inline-block;\n",
       "\t\twhite-space: nowrap;\n",
       "\t\tline-height: 1.5;\n",
       "\t\t  -webkit-transform: rotate(270deg);  /* Chrome, Safari 3.1+ */\n",
       "\t\t     -moz-transform: rotate(270deg);  /* Firefox 3.5-15 */\n",
       "\t\t      -ms-transform: rotate(270deg);  /* IE 9 */\n",
       "\t\t       -o-transform: rotate(270deg);  /* Opera 10.50-12.00 */\n",
       "\t\t          transform: rotate(270deg);  /* Firefox 16+, IE 10+, Opera 12.10+ */\n",
       "\t}\n",
       "\n",
       "\t.vertical-text__inner:after {\n",
       "\t\tcontent: \"\";\n",
       "\t\tdisplay: block;\n",
       "\t\tmargin: -1.5em 0 100%;\n",
       "\t}\n",
       "\n",
       "\t.topics{\n",
       "\t\tbackground: url('files/images/topics.png') no-repeat scroll 0% 0%; \n",
       "\t\twidth: 520px; \n",
       "\t\theight: 250px; \n",
       "\n",
       "\t\tpadding-top: 35px;\n",
       "\t}\n",
       "\n",
       "\t.c_program{\n",
       "\t\tbackground: url('files/images/program.png') no-repeat scroll 0% 0%; width: 520px; margin-left: auto; margin-right: auto;\n",
       "\t}\n",
       "\n",
       "\t.c_require{\n",
       "\t\tbackground: url('files/images/software.png') no-repeat scroll 0% 0%; width: 520px; height: 250px; margin-left: auto; margin-right: auto;\n",
       "\t}\n",
       "\n",
       "</style>\n",
       "<script>\n",
       "    MathJax.Hub.Config({\n",
       "                        TeX: {\n",
       "                           extensions: [\"AMSmath.js\"]\n",
       "                           },\n",
       "                tex2jax: {\n",
       "                    inlineMath: [ ['$','$'], [\"\\\\(\",\"\\\\)\"] ],\n",
       "                    displayMath: [ ['$$','$$'], [\"\\\\[\",\"\\\\]\"] ]\n",
       "                },\n",
       "                displayAlign: 'center', // Change this to 'center' to center equations.\n",
       "                \"HTML-CSS\": {\n",
       "                    styles: {'.MathJax_Display': {\"margin\": 4}}\n",
       "                }\n",
       "        });\n",
       "</script>\n"
      ],
      "text/plain": [
       "<IPython.core.display.HTML object>"
      ]
     },
     "execution_count": 1,
     "metadata": {},
     "output_type": "execute_result"
    }
   ],
   "source": [
    "from IPython.core.display import HTML\n",
    "\n",
    "\n",
    "def css_styling():\n",
    "    styles = open(\"../styles/custom.css\", \"r\").read()\n",
    "    return HTML(styles)\n",
    "css_styling()"
   ]
  }
 ],
 "metadata": {
  "kernelspec": {
   "display_name": "Python 2",
   "language": "python",
   "name": "python2"
  },
  "language_info": {
   "codemirror_mode": {
    "name": "ipython",
    "version": 2
   },
   "file_extension": ".py",
   "mimetype": "text/x-python",
   "name": "python",
   "nbconvert_exporter": "python",
   "pygments_lexer": "ipython2",
   "version": "2.7.10"
  }
 },
 "nbformat": 4,
 "nbformat_minor": 0
}
