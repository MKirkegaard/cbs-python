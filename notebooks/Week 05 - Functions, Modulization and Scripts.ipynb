{
 "metadata": {
  "name": "",
  "signature": "sha256:1d4779fb505bc1b6d7b1e7915999c4156a72ae20a2965e083077f9a13031df34"
 },
 "nbformat": 3,
 "nbformat_minor": 0,
 "worksheets": [
  {
   "cells": [
    {
     "cell_type": "markdown",
     "metadata": {},
     "source": []
    },
    {
     "cell_type": "code",
     "collapsed": false,
     "input": [],
     "language": "python",
     "metadata": {},
     "outputs": [],
     "prompt_number": 5
    }
   ],
   "metadata": {}
  }
 ]
}