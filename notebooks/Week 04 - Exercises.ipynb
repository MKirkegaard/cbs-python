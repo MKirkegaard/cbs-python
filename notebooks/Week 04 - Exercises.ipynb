{
 "metadata": {
  "name": "",
  "signature": "sha256:60c91cee677f6eac347d971e9b0c945642a5512006c12d728cbcfce7a0694be7"
 },
 "nbformat": 3,
 "nbformat_minor": 0,
 "worksheets": [
  {
   "cells": [
    {
     "cell_type": "markdown",
     "metadata": {},
     "source": [
      "# Week 04 - Exercises"
     ]
    },
    {
     "cell_type": "markdown",
     "metadata": {},
     "source": [
      "<q>1. Reading CSV files </q>\n",
      "While doing data processing work, it's very common to encounter a file type called CSV (Comma Seperated Values). All spreadsheets (excel, calc, etc.) can deal with these kind of files, so naturally we will too. An example of how the file looks can be seen below:\n",
      "\n",
      "    >Header1,Header2,Header3\n",
      "    ID0001,119,AGKLLKWKADS\n",
      "    ID0002,502,LIPKLLWKLDS\n",
      "    ID0003,121,AGLLKWKAELD\n",
      "\n",
      "The seperator doesn't have to be comma, it can be anything (space, tab, colon, etc.). In this exercise we will use the file called genes.csv that is located in\n",
      "\n",
      "    \"../data/genes.csv\"\n",
      "\n",
      "The first few lines of the file look like"
     ]
    },
    {
     "cell_type": "raw",
     "metadata": {},
     "source": [
      "id      C1      C2\n",
      "RNF14   53.3653467074   57.6769478694\n",
      "HIF3A   97.6137236357   82.6390589476\n",
      "UBE2Q2  87.1419671327   87.0941947252\n",
      "RNF10   97.5804605484   89.5783896446\n",
      "RNF11   92.3869628906   93.0984191895\n",
      "GPAA1   420.552914254   380.074278466\n",
      "REM1    1.97558709979   0.196951888502\n",
      "REM2    22.4816515967   17.4021256492\n",
      "IMP4    199.170320839   177.519998163\n",
      "..."
     ]
    },
    {
     "cell_type": "markdown",
     "metadata": {},
     "source": [
      "Write a program that reads the file and arranges the data in a suitable data structure."
     ]
    },
    {
     "cell_type": "code",
     "collapsed": false,
     "input": [
      "# Your program starts here"
     ],
     "language": "python",
     "metadata": {},
     "outputs": [],
     "prompt_number": 3
    },
    {
     "cell_type": "markdown",
     "metadata": {},
     "source": [
      "<q>2. Parsing fasta files</q>"
     ]
    },
    {
     "cell_type": "markdown",
     "metadata": {},
     "source": [
      "The fasta file <i>HIV-1_M-B.fasta</i> contains the protein sequences of Human immunodeficiency virus type 1 group M subtype B. The file is located in \n",
      "\n",
      "    \"../data/HIV-1_M-B.fasta\"\n",
      "\n",
      "The first few lines of the file look like"
     ]
    },
    {
     "cell_type": "raw",
     "metadata": {},
     "source": [
      ">sp|P03378|ENV_HV1A2 Envelope glycoprotein gp160 OS=Human immunodeficiency virus type 1 group M subtype B (isolate ARV2/SF2) GN=env PE=3 SV=1\n",
      "MKVKGTRRNYQHLWRWGTLLLGMLMICSATEKLWVTVYYGVPVWKEATTTLFCASDARAY\n",
      "DTEVHNVWATHACVPTDPNPQEVVLGNVTENFNMWKNNMVEQMQEDIISLWDQSLKPCVK\n",
      "LTPLCVTLNCTDLGKATNTNSSNWKEEIKGEIKNCSFNITTSIRDKIQKENALFRNLDVV\n",
      "PIDNASTTTNYTNYRLIHCNRSVITQACPKVSFEPIPIHYCTPAGFAILKCNNKTFNGKG\n",
      "PCTNVSTVQCTHGIRPIVSTQLLLNGSLAEEEVVIRSDNFTNNAKTIIVQLNESVAINCT\n",
      "RPNNNTRKSIYIGPGRAFHTTGRIIGDIRKAHCNISRAQWNNTLEQIVKKLREQFGNNKT\n",
      "..."
     ]
    },
    {
     "cell_type": "markdown",
     "metadata": {},
     "source": [
      "The header line follows the following construct:"
     ]
    },
    {
     "cell_type": "raw",
     "metadata": {},
     "source": [
      ">db|UniqueIdentifier|EntryName ProteinName OS=OrganismName[ GN=GeneName]PE=ProteinExistence SV=SequenceVersion"
     ]
    },
    {
     "cell_type": "markdown",
     "metadata": {},
     "source": [
      "Make a program that reads the HIV fasta file and stores the description and sequence of each protein in a structure like this"
     ]
    },
    {
     "cell_type": "markdown",
     "metadata": {},
     "source": [
      "<ol>\n",
      "    <li>[0] (<i>first protein</i>)</li>\n",
      "    <ul>\n",
      "        <li>\"DB\" : \"sp\"</li>\n",
      "        <li>\"AccNum\" : \"P03378\"</li>\n",
      "        <li>\"EntryName\" : \"ENV_HV1A2\"</li>\n",
      "        <li>\"ProtName\" : \"Envelope glycoprotein gp160\"</li>\n",
      "        <li>\"Organism\" : \"Human immunodeficiency virus type 1 group M subtype B\"</li>\n",
      "        <li>\"Sequence\" : \"MKVKGTRRNYQHLWRWG...\"</li>\n",
      "    </ul>\n",
      "    <li>[1] (<i>second protein</i>)</li>\n",
      "    ...\n",
      "</ol>"
     ]
    },
    {
     "cell_type": "markdown",
     "metadata": {},
     "source": [
      "**hint**: *Here are some useful tools you can use*:\n",
      "\n",
      "opening a file:\n",
      "\n",
      "    fh = open(filename)\n",
      "  \n",
      "reading and looping over the lines:\n",
      "\n",
      "    for line in fh.readlines():\n",
      "\n",
      "checking if first character is \">\":\n",
      "\n",
      "    if line[0] == \">\":\n",
      "    \n",
      "seperating a string into substrings using \"|\" as separator:\n",
      "\n",
      "    line.split(\"|\")\n",
      "\n",
      "removing newline (\\n) character from string:\n",
      "\n",
      "    line.rstrip() \n",
      "\n",
      "joining a list of strings:\n",
      "\n",
      "    \"\".join( [\"a\", \"list\", \"of\", \"words\"] )"
     ]
    },
    {
     "cell_type": "code",
     "collapsed": false,
     "input": [
      "def parse_fasta(filename):\n",
      "    \"\"\" Parsing a fasta file \"\"\"\n",
      "    fasta = []\n",
      "    # Finish the function\n",
      "    \n",
      "    \n",
      "\n",
      "    return fasta"
     ],
     "language": "python",
     "metadata": {},
     "outputs": []
    },
    {
     "cell_type": "markdown",
     "metadata": {},
     "source": [
      "Test the function using "
     ]
    },
    {
     "cell_type": "code",
     "collapsed": false,
     "input": [
      "HIV = parse_fasta( \"../data/HIV-1_M-B.fasta\" )"
     ],
     "language": "python",
     "metadata": {},
     "outputs": []
    },
    {
     "cell_type": "markdown",
     "metadata": {},
     "source": [
      "How does the variable ```HIV``` look like? "
     ]
    },
    {
     "cell_type": "markdown",
     "metadata": {},
     "source": [
      "<q>3. Writing files</q>\n",
      "Last week we made a function that could print the DNA codon table in a simple table-like way by using the ```codon_table``` dictionary and **nested loops**. "
     ]
    },
    {
     "cell_type": "code",
     "collapsed": false,
     "input": [
      "# Hint: Make sure to run me! You don't have to understand this code. \n",
      "bases = ['T', 'C', 'A', 'G']\n",
      "codons = [a+b+c for a in bases for b in bases for c in bases]\n",
      "amino_acids = 'FFLLSSSSYY**CC*WLLLLPPPPHHQQRRRRIIIMTTTTNNKKSSRRVVVVAAAADDEEGGGG'\n",
      "codon_table = dict(zip(codons, amino_acids))"
     ],
     "language": "python",
     "metadata": {},
     "outputs": []
    },
    {
     "cell_type": "markdown",
     "metadata": {},
     "source": [
      "This time, create a function that instead of printing the codon table, writes it to a file specified by the user."
     ]
    },
    {
     "cell_type": "code",
     "collapsed": false,
     "input": [
      "def write_codon_table(filename):\n",
      "    # -> Open the file here <-\n",
      "    for base1 in bases:\n",
      "        for base2 in bases:\n",
      "            for base3 in bases:\n",
      "                pass\n",
      "                # finish the function"
     ],
     "language": "python",
     "metadata": {},
     "outputs": []
    },
    {
     "cell_type": "markdown",
     "metadata": {},
     "source": [
      "**Hints:** *Open, write to and close the file. Using the with statement at the beginning of the function is adviced. Also, remember to use ```open(filename, \"w\")``` to open the file with writing permissions. Never open file inside the loops.*"
     ]
    },
    {
     "cell_type": "markdown",
     "metadata": {},
     "source": [
      "Test the function here: "
     ]
    },
    {
     "cell_type": "code",
     "collapsed": false,
     "input": [
      "write_codon_table(\"../data/DNA_codon_table.txt\")"
     ],
     "language": "python",
     "metadata": {},
     "outputs": []
    },
    {
     "cell_type": "markdown",
     "metadata": {},
     "source": [
      "Arrange the output like this:"
     ]
    },
    {
     "cell_type": "raw",
     "metadata": {},
     "source": [
      "TTT F   TTC F   TTA L   TTG L   \n",
      "TCT S   TCC S   TCA S   TCG S   \n",
      "TAT Y   TAC Y   TAA *   TAG *   \n",
      "TGT C   TGC C   TGA *   TGG W   \n",
      "\n",
      "CTT L   CTC L   CTA L   CTG L   \n",
      "CCT P   CCC P   CCA P   CCG P   \n",
      "CAT H   CAC H   CAA Q   CAG Q   \n",
      "CGT R   CGC R   CGA R   CGG R   \n",
      "\n",
      "ATT I   ATC I   ATA I   ATG M   \n",
      "ACT T   ACC T   ACA T   ACG T   \n",
      "AAT N   AAC N   AAA K   AAG K   \n",
      "AGT S   AGC S   AGA R   AGG R   \n",
      "\n",
      "GTT V   GTC V   GTA V   GTG V   \n",
      "GCT A   GCC A   GCA A   GCG A   \n",
      "GAT D   GAC D   GAA E   GAG E   \n",
      "GGT G   GGC G   GGA G   GGG G"
     ]
    },
    {
     "cell_type": "markdown",
     "metadata": {},
     "source": [
      "---"
     ]
    },
    {
     "cell_type": "markdown",
     "metadata": {},
     "source": [
      "<q>4. Sequence sorter</q>\n",
      "Create a script that reads all sequences from the FASTA file `../data/eftu.faa`, checks from what kingdom the sequence is (*information is in the header*) and writes the corresponding sequences into\n",
      "\n",
      "    ../data/eftu_bacteria.faa\n",
      "    ../data/eftu_archaea.faa\n",
      "    ../data/eftu_eukaryota.faa\n",
      "    \n",
      "    "
     ]
    },
    {
     "cell_type": "markdown",
     "metadata": {},
     "source": [
      "<br><br><br>If you have too little to do ...\n",
      "<q>5. DNA translator</q>\n",
      "Create a script that takes the FASTA file `../data/human_beta_globin.fasta`, reads the sequence and writes the six frame translations (use the code from Week 2) into `../data/human_beta_globin.6frames`\n"
     ]
    },
    {
     "cell_type": "markdown",
     "metadata": {},
     "source": [
      "<img src=\"../pix/FinishFlag.jpg\">\n",
      "<br><br><br>"
     ]
    },
    {
     "cell_type": "code",
     "collapsed": false,
     "input": [
      "from IPython.core.display import HTML\n",
      "\n",
      "\n",
      "def css_styling():\n",
      "    styles = open(\"../styles/custom.css\", \"r\").read()\n",
      "    return HTML(styles)\n",
      "css_styling()"
     ],
     "language": "python",
     "metadata": {},
     "outputs": [],
     "prompt_number": 4
    }
   ],
   "metadata": {}
  }
 ]
}