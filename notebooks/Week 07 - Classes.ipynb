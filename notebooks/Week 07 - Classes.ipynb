{
 "metadata": {
  "name": "",
  "signature": "sha256:932fe8189d71469edbe289dce0577e6f7161062418b7e46aaf79798fa9911ff8"
 },
 "nbformat": 3,
 "nbformat_minor": 0,
 "worksheets": [
  {
   "cells": [
    {
     "cell_type": "markdown",
     "metadata": {},
     "source": [
      "## Backup your exercises\n",
      "rename or copy manually your changed exercise files to another directory\n",
      "\n",
      "## Update your Course Materials!\n",
      "<br><br><br><br><br><br><br><br><br>"
     ]
    },
    {
     "cell_type": "markdown",
     "metadata": {},
     "source": [
      "# Week 07 - Classes\n",
      "\n",
      "<div class=\"topics\">\n",
      "    <div style=\"padding-left: 15px;\">\n",
      "        This lecture will cover:\n",
      "        \n",
      "        <ul>\n",
      "            <li>Introduction to Object Oriented Programming (OOP)</li>\n",
      "            <li>Custom data types</li>\n",
      "        </ul>\n",
      "    </div>\n",
      "</div>"
     ]
    },
    {
     "cell_type": "markdown",
     "metadata": {},
     "source": [
      "## Object Paradigm and Python\n",
      "We have already used objects, even without stating it in an explicit way. Data types used in python are objects. Each of them has associated methods and attributes:\n",
      "\n",
      "<center>\n",
      "<img src=\"files/images/objects.png\" />\n",
      "</center>\n",
      "\n",
      "### Everything in Python is an object!\n"
     ]
    },
    {
     "cell_type": "code",
     "collapsed": false,
     "input": [
      "import sys\n",
      "\n",
      "def function():\n",
      "    pass\n",
      "\n",
      "print type(1)\n",
      "print type(\"\")\n",
      "print type([])\n",
      "print type({})\n",
      "print type(())\n",
      "print type(object)\n",
      "print type(function)\n",
      "print type(sys)"
     ],
     "language": "python",
     "metadata": {},
     "outputs": [
      {
       "output_type": "stream",
       "stream": "stdout",
       "text": [
        "<type 'int'>\n",
        "<type 'str'>\n",
        "<type 'list'>\n",
        "<type 'dict'>\n",
        "<type 'tuple'>\n",
        "<type 'type'>\n",
        "<type 'function'>\n",
        "<type 'module'>\n"
       ]
      }
     ],
     "prompt_number": 76
    },
    {
     "cell_type": "markdown",
     "metadata": {},
     "source": [
      "\n",
      "Although the data types included in Python are many and varied, its capacity to include all our information modelling needs is limited. \n",
      "\n",
      "<ul>\n",
      "<li>We can use **dictionaries** to represent a transletion table between nucleotides and amino acids</li>\n",
      "<li>We can use a **string** to represent a DNA sequence</li>\n",
      "<li>We can use a **tuple** (1,2,6) to represent space coordinates of an atom in a protein</li>\n",
      "<li>We can use a **list** to represent a proteome of an organism</li>\n",
      "</ul>\n",
      "<br>\n",
      "But what data type do we use to represent a metabolic state in a cell? The different domains in a protein? What about an ecosystem? The result of a BLAST run?\n",
      "\n",
      "**There is a need for the ability to define our own data types**"
     ]
    },
    {
     "cell_type": "markdown",
     "metadata": {},
     "source": [
      "### What is an object?\n",
      "Definition: An object in Object Oriented Programming is characterized by\n",
      "\n",
      "1. its *attributes* (properties)\n",
      "2. *methods* that do something with the attributes (for example change them)\n",
      "\n",
      "### What is a class?\n",
      "There are different kind of objects, for example:\n",
      "* Marie Curie, Isaac Newton and Emmy Noether have something in common. They are persons. We say that they are objects of the class \u201cPerson\u201d.\n",
      "* Apple, banana, mango: These are objects of the class \u201cFruit\u201d.\n",
      "* Jacket, blouse, pullover, pants: These are objects of the class \u201cClothes\u201d.\n",
      "\n",
      "<br><br><br><small>(adapted from Learntofish's Blog http://learntofish.wordpress.com)"
     ]
    },
    {
     "cell_type": "markdown",
     "metadata": {},
     "source": [
      "\n",
      "## Classes: Templates of Objects\n",
      "\n",
      "Classes are defined by the following way:"
     ]
    },
    {
     "cell_type": "code",
     "collapsed": false,
     "input": [
      "class Person:\n",
      "    # attributes (properties)\n",
      "    name = \"No name yet\"\n",
      "    age = 0\n",
      " \n",
      "    # methods\n",
      "    def setName(self, x):\n",
      "        self.name = x\n",
      " \n",
      "    def setAge(self, x):\n",
      "        self.age = x\n",
      " \n",
      "    def talk(self):\n",
      "        print \"Hi! My name is\", self.name, \"and I am\", self.age, \"years old.\"\n",
      "        "
     ],
     "language": "python",
     "metadata": {},
     "outputs": []
    },
    {
     "cell_type": "code",
     "collapsed": false,
     "input": [
      "myObject = Person()\n",
      "myObject.setName(\"Methusalem\")\n",
      "myObject.setAge(969)\n",
      "myObject.talk()\n"
     ],
     "language": "python",
     "metadata": {},
     "outputs": []
    },
    {
     "cell_type": "code",
     "collapsed": false,
     "input": [
      "myObject = Person()\n",
      "print myObject"
     ],
     "language": "python",
     "metadata": {},
     "outputs": []
    },
    {
     "cell_type": "markdown",
     "metadata": {},
     "source": [
      "<br><br><br><img src=\"../pix/play2.jpg\">\n",
      "* Add a attribute \"country\" to the code\n",
      "* Update the method \"talk\" to add country to the print statement\n",
      "<br> e.g. Hi! My name is Methusalem, I am from Mesopotamia and I am 969 years old.\n",
      "<br><br><br>"
     ]
    },
    {
     "cell_type": "markdown",
     "metadata": {},
     "source": [
      "### Let's try it with a Sequence class"
     ]
    },
    {
     "cell_type": "code",
     "collapsed": false,
     "input": [
      "sequences = {'contig-100_1_13':'ATGTGGCGCGACTC...', 'contig-100_1_14': 'ATGGGGGCGCGGC...'}\n",
      "blast_hits = {'contig-100_0_13': 'SP2R_BACSU', 'contig-100_0_14': 'YNDE_BACSU'}\n",
      "annotations = {'SP2R_BACSU':'Stage II sporulation protein R', 'YNDE_BACSU':'Spore germination protein YndE'}\n"
     ],
     "language": "python",
     "metadata": {},
     "outputs": []
    },
    {
     "cell_type": "markdown",
     "metadata": {},
     "source": [
      "### What if we could create a special \"Sequence\" object?"
     ]
    },
    {
     "cell_type": "code",
     "collapsed": false,
     "input": [
      "# Pseudo code, does not run (yet)\n",
      "seq = Sequence()\n",
      "seq.name = 'contig-100_1_13'\n",
      "seq.blast_hit = 'SP2R_BACSU'\n",
      "seq.annotation = 'Stage II sporulation protein R'\n",
      "print seq.GCcontent()\n",
      "print seq.Translate(frame = 1)"
     ],
     "language": "python",
     "metadata": {},
     "outputs": []
    },
    {
     "cell_type": "markdown",
     "metadata": {},
     "source": [
      "## Creating a class\n",
      "Let's build a class Sequence that holds different features. "
     ]
    },
    {
     "cell_type": "code",
     "collapsed": false,
     "input": [
      "class Sequence:\n",
      "    def __init__(self, seqstring):\n",
      "        self.seq = seqstring.upper()"
     ],
     "language": "python",
     "metadata": {},
     "outputs": []
    },
    {
     "cell_type": "markdown",
     "metadata": {},
     "source": [
      "This class ```Sequence``` has a method called ```__init__```. It is a **special method** that is executed whenever an instance of ```Sequence``` is created. It **initializes** the object. \n",
      "\n",
      "The word ```self``` is used as a parameter to ```__init__``` and repeated as a variable inside the method. ```Self``` is a variable that is used to represent the instance of ```Sequence```. It is a way to distinquish internal and external variables.\n",
      "\n",
      "When the class ```Sequence``` is used to create an object, it follows the function notation:"
     ]
    },
    {
     "cell_type": "code",
     "collapsed": false,
     "input": [
      "myseq = Sequence(\"ACTGCA\")"
     ],
     "language": "python",
     "metadata": {},
     "outputs": []
    },
    {
     "cell_type": "markdown",
     "metadata": {},
     "source": [
      "Note that the parameter ```seqstring``` given to ```Sequence``` is described in the ```__init__``` method and not on the ```Sequence``` itself.\n",
      "\n",
      "Now our newly created object holds the variable ```seq```, which can be accessed by:"
     ]
    },
    {
     "cell_type": "code",
     "collapsed": false,
     "input": [
      "print myseq.seq"
     ],
     "language": "python",
     "metadata": {},
     "outputs": []
    },
    {
     "cell_type": "markdown",
     "metadata": {},
     "source": [
      "And we can change this at any time"
     ]
    },
    {
     "cell_type": "code",
     "collapsed": false,
     "input": [
      "myseq.seq = \"CGTTAGTT\"\n",
      "print myseq.seq"
     ],
     "language": "python",
     "metadata": {},
     "outputs": []
    },
    {
     "cell_type": "markdown",
     "metadata": {},
     "source": [
      "#### Lets put a bit more functionality into our ```Sequence``` class\n",
      "Let's add a ```transcribe``` method to the class ```Sequence```:"
     ]
    },
    {
     "cell_type": "code",
     "collapsed": false,
     "input": [
      "class Sequence:\n",
      "    TranscriptionTable = {\"A\":\"U\", \"T\":\"A\", \"C\":\"G\", \"G\":\"C\"}\n",
      "    \n",
      "    def __init__(self, seqstring):\n",
      "        self.seq = seqstring.upper()\n",
      "        \n",
      "    def transcribe(self):\n",
      "        tt = \"\"\n",
      "        for x in self.seq:\n",
      "            if x in \"ATCG\":\n",
      "                tt += self.TranscriptionTable[x]\n",
      "        return tt"
     ],
     "language": "python",
     "metadata": {},
     "outputs": []
    },
    {
     "cell_type": "markdown",
     "metadata": {},
     "source": [
      "Now, the class holds a *class variable* ```TranscriptionTable```. We can see this variable even *before* we use the class to create an object:"
     ]
    },
    {
     "cell_type": "code",
     "collapsed": false,
     "input": [
      "Sequence.TranscriptionTable"
     ],
     "language": "python",
     "metadata": {},
     "outputs": []
    },
    {
     "cell_type": "markdown",
     "metadata": {},
     "source": [
      "We can create Sequence objects just like before"
     ]
    },
    {
     "cell_type": "code",
     "collapsed": false,
     "input": [
      "DangerousVirus = Sequence(\"atggaggaggtccgtgggcagtgacaagtgcaa\")\n",
      "DangerousVirus.seq"
     ],
     "language": "python",
     "metadata": {},
     "outputs": []
    },
    {
     "cell_type": "code",
     "collapsed": false,
     "input": [
      "HarmlessVirus = Sequence(\"aatgcatgaggcagattagtgaggactggatgcaa\")\n",
      "HarmlessVirus.seq"
     ],
     "language": "python",
     "metadata": {},
     "outputs": []
    },
    {
     "cell_type": "markdown",
     "metadata": {},
     "source": [
      "The ```Sequence``` class also contains the method ```transcribe```, that has as its only parameter the instance itself (represented by ```self```). This parameter does not appear when the function is called, because it is implicit:"
     ]
    },
    {
     "cell_type": "code",
     "collapsed": false,
     "input": [
      "HarmlessVirus.transcribe()"
     ],
     "language": "python",
     "metadata": {},
     "outputs": [
      {
       "metadata": {},
       "output_type": "pyout",
       "prompt_number": 77,
       "text": [
        "'UUACGUACUCCGUCUAAUCACUCCUGACCUACGUU'"
       ]
      }
     ],
     "prompt_number": 77
    },
    {
     "cell_type": "markdown",
     "metadata": {},
     "source": [
      "The method can also have parameters. Let's add a ```restriction``` method to the ```Sequence``` class. This method calculates how many restriction sites a sequence has for a given restriction enzyme:"
     ]
    },
    {
     "cell_type": "code",
     "collapsed": false,
     "input": [
      "class Sequence:\n",
      "    TranscriptionTable = {\"A\":\"U\", \"T\":\"A\", \"C\":\"G\", \"G\":\"C\"}\n",
      "    \n",
      "    EnzDict = {\"EcoRI\": \"GAATTC\", \"EcoRV\": \"GATATC\"}\n",
      "    \n",
      "    def __init__(self, seqstring):\n",
      "        self.seq = seqstring.upper()\n",
      "        \n",
      "    def transcribe(self):\n",
      "        tt = \"\"\n",
      "        for x in self.seq:\n",
      "            if x in \"ATCG\":\n",
      "                tt += self.TranscriptionTable[x]\n",
      "        return tt\n",
      "    \n",
      "    def restriction(self, enzyme):\n",
      "        try:\n",
      "            return self.seq.count(Sequence.EnzDict[enzyme])\n",
      "        except:\n",
      "            return 0"
     ],
     "language": "python",
     "metadata": {},
     "outputs": []
    },
    {
     "cell_type": "code",
     "collapsed": false,
     "input": [
      "NewVirus = Sequence(\"aatgataagtacaggagaggatatctcagaggagtcgacggtgctgcaa\")"
     ],
     "language": "python",
     "metadata": {},
     "outputs": []
    },
    {
     "cell_type": "code",
     "collapsed": false,
     "input": [
      "NewVirus.transcribe()"
     ],
     "language": "python",
     "metadata": {},
     "outputs": []
    },
    {
     "cell_type": "code",
     "collapsed": false,
     "input": [
      "NewVirus.restriction(\"EcoRV\")"
     ],
     "language": "python",
     "metadata": {},
     "outputs": []
    },
    {
     "cell_type": "markdown",
     "metadata": {},
     "source": [
      "<br><br><br><img src=\"../pix/play2.jpg\">\n",
      "Add a method to the `Sequence` class which counts GC content<br>(Fill out the **XXX** in the code blocks below)\n",
      "<br><br><br>"
     ]
    },
    {
     "cell_type": "code",
     "collapsed": false,
     "input": [
      "class Sequence:\n",
      "    TranscriptionTable = {\"A\":\"U\", \"T\":\"A\", \"C\":\"G\", \"G\":\"C\"}\n",
      "    \n",
      "    EnzDict = {\"EcoRI\": \"GAATTC\", \"EcoRV\": \"GATATC\"}\n",
      "    \n",
      "    def __init__(self, seqstring):\n",
      "        self.seq = seqstring.upper()\n",
      "        \n",
      "    def transcribe(self):\n",
      "        tt = \"\"\n",
      "        for x in self.seq:\n",
      "            if x in \"ATCG\":\n",
      "                tt += self.TranscriptionTable[x]\n",
      "        return tt\n",
      "    \n",
      "    def restriction(self, enzyme):\n",
      "        try:\n",
      "            return self.seq.count(Sequence.EnzDict[enzyme])\n",
      "        except:\n",
      "            return 0\n",
      "        \n",
      "    def GCcontent(XXX):\n",
      "        \"\"\" Returns the GC content (eg. 0.54) of Base Sequence \"\"\"\n",
      "        gc = XXX #hint: use count(\"G\") and count(\"C\")\n",
      "        return gc"
     ],
     "language": "python",
     "metadata": {},
     "outputs": []
    },
    {
     "cell_type": "markdown",
     "metadata": {},
     "source": [
      "<br><br><br><br><br><br><br><br>"
     ]
    },
    {
     "cell_type": "markdown",
     "metadata": {},
     "source": [
      "### Special Methods Attributes\n",
      "Some methods has a special meaning. We have already seen the **```__init__```** that is executed each time a new instance is created. \n",
      "\n",
      "Other methods are executed under other conditions. \n",
      "\n",
      "**Example:**\n",
      "\n",
      "**```__len__```** method: This method is activated when the function len(instance) is called. \n",
      "\n",
      "**Let's see it in action:**\n",
      "\n",
      "Normally when you run len(DangerousVirus) you would get an error:"
     ]
    },
    {
     "cell_type": "code",
     "collapsed": false,
     "input": [
      "len(DangerousVirus)"
     ],
     "language": "python",
     "metadata": {},
     "outputs": []
    },
    {
     "cell_type": "markdown",
     "metadata": {},
     "source": [
      "Because Python doesn't know how what you are asking for a length of. To tell python, we have to make the ```__len__``` method in our ```Sequence``` class:"
     ]
    },
    {
     "cell_type": "code",
     "collapsed": false,
     "input": [
      "class Sequence:\n",
      "    TranscriptionTable = {\"A\":\"U\", \"T\":\"A\", \"C\":\"G\", \"G\":\"C\"}\n",
      "    \n",
      "    EnzDict = {\"EcoRI\": \"GAATTC\", \"EcoRV\": \"GATATC\"}\n",
      "    \n",
      "    def __init__(self, seqstring):\n",
      "        self.seq = seqstring.upper()\n",
      "        \n",
      "    def transcribe(self):\n",
      "        tt = \"\"\n",
      "        for x in self.seq:\n",
      "            if x in \"ATCG\":\n",
      "                tt += self.TranscriptionTable[x]\n",
      "        return tt\n",
      "    \n",
      "    def restriction(self, enzyme):\n",
      "        try:\n",
      "            return self.seq.count(Sequence.EnzDict[enzyme])\n",
      "        except:\n",
      "            return 0\n",
      "        \n",
      "    def __len__(self):\n",
      "        return len(self.seq)"
     ],
     "language": "python",
     "metadata": {},
     "outputs": []
    },
    {
     "cell_type": "code",
     "collapsed": false,
     "input": [
      "M13 = Sequence(\"acgtgacgtggatgcagtagact\")\n",
      "len(M13)"
     ],
     "language": "python",
     "metadata": {},
     "outputs": []
    },
    {
     "cell_type": "markdown",
     "metadata": {},
     "source": [
      "**Other examples**:\n",
      "\n",
      "**```__str__()```**: This method is invoked when the string representation of an object is required. Typically with **```str(object)```** or **```print object```**.\n",
      "\n",
      "**```__getitem__(self, i)```**: Is used to access an object by using **```object[i]```**. Can also be used to access a slice of an object by using **```object[3:6]```**. \n",
      "\n",
      "**```__getslice__(self, low, high)```**: \n",
      "\n",
      "**```__iter__```**: Allows walking through an object. This is required for use of **```for```** loops except for when **```__getitem__```** has been defined.\n",
      "\n",
      "    for nucleotide in DangerousVirus: \n",
      "        ..."
     ]
    },
    {
     "cell_type": "markdown",
     "metadata": {},
     "source": [
      "<br><br><br><img src=\"../pix/book.gif\" width=50px> Required reading for next week: \n",
      "* Python for Bioinformatics by S. Bassi - Chapter 9, Regular Expressions"
     ]
    },
    {
     "cell_type": "markdown",
     "metadata": {},
     "source": [
      "<br><br><br>\n",
      "<img src=\"../pix/exercise.png\">\n",
      "<br><br><br>"
     ]
    },
    {
     "cell_type": "code",
     "collapsed": false,
     "input": [
      "from IPython.core.display import HTML\n",
      "\n",
      "\n",
      "def css_styling():\n",
      "    styles = open(\"../styles/custom.css\", \"r\").read()\n",
      "    return HTML(styles)\n",
      "css_styling()"
     ],
     "language": "python",
     "metadata": {},
     "outputs": [
      {
       "html": [
        "<style>\n",
        "    div.cell{\n",
        "        width:800px;\n",
        "        margin-left:16% !important;\n",
        "        margin-right:auto;\n",
        "    }\n",
        "    div.text_cell_render{\n",
        "        font-family: \"Helvetica Neue\", Arial, Helvetica, Geneva, sans-serif;\n",
        "        line-height: 145%;\n",
        "        font-size: 100%;\n",
        "        width:800px;\n",
        "        margin-left:auto;\n",
        "        margin-right:auto;\n",
        "    }\n",
        "    .CodeMirror{\n",
        "            font-family: \"Source Code Pro\", source-code-pro,Consolas, monospace;\n",
        "    }\n",
        "    div.CodeMirror{\n",
        "    \tfont-size: 11pt;\n",
        "    }\n",
        "    div.cell.border-box-sizing.code_cell{\n",
        "    \tpadding-left: 50px;\n",
        "    }\n",
        "    div.text_cell_input {\n",
        "    \tmargin-left: 50px;\n",
        "    }\n",
        "    .prompt{\n",
        "        display: None;\n",
        "    }\n",
        "    .text_cell_render h1 {\n",
        "        font-family: Helvetica, serif;\n",
        "        font-size: 30pt;\n",
        "        color: #274257;\n",
        "        text-transform: uppercase;\n",
        "        line-height: 100%;\n",
        "    }\n",
        "    .text_cell_render h2 {\n",
        "    \tmargin-top: 35px;\n",
        "        font-family: Helvetica, serif;\n",
        "        font-size: 24pt;\n",
        "        color: #2A75A9;\n",
        "        line-height: 100%;\n",
        "    }\n",
        "    .text_cell_render h3{\n",
        "    \tmargin-top: 35px;\n",
        "        font-family: Helvetica, serif;\n",
        "        font-size: 18pt;\n",
        "        color: #7EB5D6;\n",
        "        line-height: 100%;\n",
        "       }\n",
        "    .text_cell_render h4{\n",
        "    \tmargin-top: 35px;\n",
        "    \tfont-family: Helvetica, serif;\n",
        "        font-size: 14pt;\n",
        "        line-height: 100%;\n",
        "    }\n",
        "    .text_cell_render h5 {\n",
        "        font-weight: 300;\n",
        "        font-size: 22pt;\n",
        "        color: #4057A1;\n",
        "        font-style: italic;\n",
        "        margin-bottom: .5em;\n",
        "        margin-top: 0.5em;\n",
        "        display: block;\n",
        "        line-height: 100%;\n",
        "    }\n",
        "    \n",
        "    .warning{\n",
        "        color: rgb( 240, 20, 20 )\n",
        "        } \n",
        "    .wds {\n",
        "        background: none repeat scroll 0% 0% rgb(247, 247, 247);\n",
        "        padding: 0em 0em;\n",
        "        font-size: 11px;\n",
        "        font-family: Arial,Helvetica,sans-serif;\n",
        "        display: inline-block;\n",
        "        margin: 0px 0em;\n",
        "        white-space: nowrap;\n",
        "    }\n",
        "    cb {\n",
        "        background: none repeat scroll 0% 0% rgb(247, 247, 247);\n",
        "        padding: 0.1em 0.6em;\n",
        "        border: 1px solid rgb(204, 204, 204);\n",
        "        font-size: 11pt;\n",
        "        font-family: \"Source Code Pro\", source-code-pro,Consolas, monospace;\n",
        "        color: rgb(51, 51, 51);\n",
        "        box-shadow: 0px 1px 0px rgba(0, 0, 0, 0.2), 0px 0px 0px 2px rgb(255, 255, 255) inset;\n",
        "        border-radius: 3px 3px 3px 3px;\n",
        "        display: inline-block;\n",
        "        margin: 0px 0.1em;\n",
        "        line-height: 1.4;\n",
        "        white-space: nowrap;\n",
        "    }\n",
        "    q {\t\n",
        "        font-weight: 300;\n",
        "        font-size: 14pt;\n",
        "        color: #4057A1;\n",
        "        margin-bottom: .5em;\n",
        "        margin-top: 0.5em;\n",
        "        display: block;\n",
        "        font-family: \"Helvetica Neue\", Arial, Helvetica, Geneva, sans-serif;\n",
        "        line-height: 145%;\n",
        "        width:800px;\n",
        "        margin-left:auto;\n",
        "        margin-right:auto;\n",
        "    }\n",
        "    qq {\t\n",
        "        font-weight: 300;\n",
        "        font-size: 11pt;\n",
        "        color: #4057A1;\n",
        "        margin-bottom: .5em;\n",
        "        margin-top: 0.5em;\n",
        "        display: block;\n",
        "        font-family: \"Helvetica Neue\", Arial, Helvetica, Geneva, sans-serif;\n",
        "        line-height: 145%;\n",
        "        width:800px;\n",
        "        margin-left:auto;\n",
        "        margin-right:auto;\n",
        "    }\n",
        "    kbd {\n",
        "        background: none repeat scroll 0% 0% rgb(247, 247, 247);\n",
        "        padding: 0.1em 0.6em;\n",
        "        border: 1px solid rgb(204, 204, 204);\n",
        "        font-size: 11px;\n",
        "        font-family: Arial,Helvetica,sans-serif;\n",
        "        color: rgb(51, 51, 51);\n",
        "        box-shadow: 0px 1px 0px rgba(0, 0, 0, 0.2), 0px 0px 0px 2px rgb(255, 255, 255) inset;\n",
        "        border-radius: 3px 3px 3px 3px;\n",
        "        display: inline-block;\n",
        "        margin: 0px 0.1em;\n",
        "        text-shadow: 0px 1px 0px rgb(255, 255, 255);\n",
        "        line-height: 1.4;\n",
        "        white-space: nowrap;\n",
        "    }\n",
        "    ol {\n",
        "        list-style-type: decimal;\n",
        "    }\n",
        "\n",
        "\t.box_rotate {\n",
        "\t\t  -webkit-transform: rotate(270deg);  /* Chrome, Safari 3.1+ */\n",
        "\t\t     -moz-transform: rotate(270deg);  /* Firefox 3.5-15 */\n",
        "\t\t      -ms-transform: rotate(270deg);  /* IE 9 */\n",
        "\t\t       -o-transform: rotate(270deg);  /* Opera 10.50-12.00 */\n",
        "\t\t          transform: rotate(270deg);  /* Firefox 16+, IE 10+, Opera 12.10+ */\n",
        "\t}\n",
        "\n",
        "\t.vertical-text {\n",
        "\t\tdisplay: inline-block;\n",
        "\t\toverflow: hidden;\n",
        "\t\twidth: 1.5em;\n",
        "\t}\n",
        "\n",
        "\t.vertical-text__inner {\n",
        "\t\tdisplay: inline-block;\n",
        "\t\twhite-space: nowrap;\n",
        "\t\tline-height: 1.5;\n",
        "\t\t  -webkit-transform: rotate(270deg);  /* Chrome, Safari 3.1+ */\n",
        "\t\t     -moz-transform: rotate(270deg);  /* Firefox 3.5-15 */\n",
        "\t\t      -ms-transform: rotate(270deg);  /* IE 9 */\n",
        "\t\t       -o-transform: rotate(270deg);  /* Opera 10.50-12.00 */\n",
        "\t\t          transform: rotate(270deg);  /* Firefox 16+, IE 10+, Opera 12.10+ */\n",
        "\t}\n",
        "\n",
        "\t.vertical-text__inner:after {\n",
        "\t\tcontent: \"\";\n",
        "\t\tdisplay: block;\n",
        "\t\tmargin: -1.5em 0 100%;\n",
        "\t}\n",
        "\n",
        "\t.topics{\n",
        "\t\tbackground: url('files/images/topics.png') no-repeat scroll 0% 0%; \n",
        "\t\twidth: 520px; \n",
        "\t\theight: 250px; \n",
        "\n",
        "\t\tpadding-top: 35px;\n",
        "\t}\n",
        "\n",
        "\t.c_program{\n",
        "\t\tbackground: url('files/images/program.png') no-repeat scroll 0% 0%; width: 520px; margin-left: auto; margin-right: auto;\n",
        "\t}\n",
        "\n",
        "\t.c_require{\n",
        "\t\tbackground: url('files/images/software.png') no-repeat scroll 0% 0%; width: 520px; height: 250px; margin-left: auto; margin-right: auto;\n",
        "\t}\n",
        "\n",
        "</style>\n",
        "<script>\n",
        "    MathJax.Hub.Config({\n",
        "                        TeX: {\n",
        "                           extensions: [\"AMSmath.js\"]\n",
        "                           },\n",
        "                tex2jax: {\n",
        "                    inlineMath: [ ['$','$'], [\"\\\\(\",\"\\\\)\"] ],\n",
        "                    displayMath: [ ['$$','$$'], [\"\\\\[\",\"\\\\]\"] ]\n",
        "                },\n",
        "                displayAlign: 'center', // Change this to 'center' to center equations.\n",
        "                \"HTML-CSS\": {\n",
        "                    styles: {'.MathJax_Display': {\"margin\": 4}}\n",
        "                }\n",
        "        });\n",
        "</script>\n"
       ],
       "metadata": {},
       "output_type": "pyout",
       "prompt_number": 1,
       "text": [
        "<IPython.core.display.HTML at 0x10bbd6cd0>"
       ]
      }
     ],
     "prompt_number": 1
    }
   ],
   "metadata": {}
  }
 ]
}