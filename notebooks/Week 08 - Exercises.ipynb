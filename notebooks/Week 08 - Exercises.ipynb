{
 "metadata": {
  "name": "",
  "signature": "sha256:ede1a44167f03ba8f0170f871d84f9e1b0f3f2b30da7d1453002ce8adb350a0b"
 },
 "nbformat": 3,
 "nbformat_minor": 0,
 "worksheets": [
  {
   "cells": [
    {
     "cell_type": "markdown",
     "metadata": {},
     "source": [
      "# Week 08 - Exercises"
     ]
    },
    {
     "cell_type": "markdown",
     "metadata": {},
     "source": [
      "<q>1. The basics of Pattern Matching</q>\n",
      "\n",
      "Start out by opening one of the following websites (or both if you want to compare) in another tab.<br />\n",
      "\n",
      ">http://regexpal.com/<br />\n",
      "http://re-try.appspot.com/\n",
      "\n",
      "\n"
     ]
    },
    {
     "cell_type": "markdown",
     "metadata": {},
     "source": [
      "Given the sequence below, find all restriction enzyme recognition sites in the sequence above that matches the restriction enzyme *DraII*:\n",
      "\n",
      "<center>\n",
      "<img src=\"files/images/draii.png\" width=\"400px\"/>\n",
      "</center>"
     ]
    },
    {
     "cell_type": "raw",
     "metadata": {},
     "source": [
      "CGTAGGACAGTGGGACCCTCAGTAGGGCCTATGCGTATGGCGGGACCTGGCA"
     ]
    },
    {
     "cell_type": "raw",
     "metadata": {},
     "source": [
      "Write your regex pattern here:\n",
      "1. \n",
      "\n",
      "Write all the matches here: \n",
      "1. \n",
      "2. \n",
      "3. "
     ]
    },
    {
     "cell_type": "markdown",
     "metadata": {},
     "source": [
      "---"
     ]
    },
    {
     "cell_type": "markdown",
     "metadata": {},
     "source": [
      "<q>2. Have a look at the pattern below</q>"
     ]
    },
    {
     "cell_type": "code",
     "collapsed": false,
     "input": [
      "\"(ATG([TCGA]{3})*?(TTA|TGA|TAG))\""
     ],
     "language": "python",
     "metadata": {},
     "outputs": []
    },
    {
     "cell_type": "markdown",
     "metadata": {},
     "source": [
      "Or structured differently:"
     ]
    },
    {
     "cell_type": "code",
     "collapsed": false,
     "input": [
      "(\n",
      "  \"(\"\n",
      "    \"ATG\"\n",
      "    \"([TCGA]{3})*?\"\n",
      "    \"(TTA|TGA|TAG)\"\n",
      "  \")\"\n",
      ")"
     ],
     "language": "python",
     "metadata": {},
     "outputs": []
    },
    {
     "cell_type": "markdown",
     "metadata": {},
     "source": [
      "Test the pattern on the sequence below using the re-try webtool (remember to remove the quotes)"
     ]
    },
    {
     "cell_type": "raw",
     "metadata": {},
     "source": [
      "GACGATGCAGAATGATCACTTAGACGAAAAAAAAAAAAAAAAAAAAAATGAAACAGAATGATCACGAATTA"
     ]
    },
    {
     "cell_type": "markdown",
     "metadata": {},
     "source": [
      "What is the output?"
     ]
    },
    {
     "cell_type": "raw",
     "metadata": {},
     "source": [
      "Answer:\n"
     ]
    },
    {
     "cell_type": "markdown",
     "metadata": {},
     "source": [
      "In your own words what do you think this pattern looks for in the DNA sequence?"
     ]
    },
    {
     "cell_type": "raw",
     "metadata": {},
     "source": [
      "Answer:\n"
     ]
    },
    {
     "cell_type": "markdown",
     "metadata": {},
     "source": [
      "When using the 're-try' webtool, why is there a set of three strings for the match? What do they represent if you look at the pattern? E.g.\n",
      "\n",
      "    'ATGCAGAATGATCACTTA', 'CAC', 'TTA'"
     ]
    },
    {
     "cell_type": "raw",
     "metadata": {},
     "source": [
      "Answer: \n"
     ]
    },
    {
     "cell_type": "markdown",
     "metadata": {},
     "source": [
      "What role does the ? play in the pattern? (Test it yourself by removing it from the pattern and see the difference in the output)\n",
      "(Hint: It is called non-greedy Pattern Matching)"
     ]
    },
    {
     "cell_type": "raw",
     "metadata": {},
     "source": [
      "Answer: \n"
     ]
    },
    {
     "cell_type": "markdown",
     "metadata": {},
     "source": [
      "---"
     ]
    },
    {
     "cell_type": "markdown",
     "metadata": {},
     "source": [
      "<q>3. Revisiting the Fasta Parser</q>\n",
      "In week 4 we had a look at fasta files containing a description line and sequence lines. We tried to make an exhaustive function that could extract all the information from the description line that had the following format:"
     ]
    },
    {
     "cell_type": "raw",
     "metadata": {},
     "source": [
      ">db|UniqueIdenatifier|EntryName ProteinName OS=OrganismName[ GN=GeneName]PE=ProteinExistence SV=SequenceVersion"
     ]
    },
    {
     "cell_type": "markdown",
     "metadata": {},
     "source": [
      "An example of a fasta entry could be"
     ]
    },
    {
     "cell_type": "raw",
     "metadata": {},
     "source": [
      ">sp|P03378|ENV_HV1A2 Envelope glycoprotein gp160 OS=Human immunodeficiency virus type 1 group M subtype B (isolate ARV2/SF2) GN=env PE=3 SV=1\n",
      "MKVKGTRRNYQHLWRWGTLLLGMLMICSATEKLWVTVYYGVPVWKEATTTLFCASDARAY\n",
      "DTEVHNVWATHACVPTDPNPQEVVLGNVTENFNMWKNNMVEQMQEDIISLWDQSLKPCVK\n",
      "LTPLCVTLNCTDLGKATNTNSSNWKEEIKGEIKNCSFNITTSIRDKIQKENALFRNLDVV\n",
      "PIDNASTTTNYTNYRLIHCNRSVITQACPKVSFEPIPIHYCTPAGFAILKCNNKTFNGKG\n",
      "PCTNVSTVQCTHGIRPIVSTQLLLNGSLAEEEVVIRSDNFTNNAKTIIVQLNESVAINCT\n",
      "RPNNNTRKSIYIGPGRAFHTTGRIIGDIRKAHCNISRAQWNNTLEQIVKKLREQFGNNKT\n",
      "..."
     ]
    },
    {
     "cell_type": "markdown",
     "metadata": {},
     "source": [
      "Create a regular expression pattern that can fetch the information from the fasta entry above in an output like"
     ]
    },
    {
     "cell_type": "raw",
     "metadata": {},
     "source": [
      "'sp', 'P03378', 'ENV_HV1A2', 'Envelope glycoprotein gp160', 'Human immunodeficiency virus type 1 group M subtype B (isolate ARV2/SF2)', 'env', '3', '1'"
     ]
    },
    {
     "cell_type": "markdown",
     "metadata": {},
     "source": [
      "Hint: Create a group for each element using parentheses\n",
      "\n",
      "Note: The regaxpal webtool is faster at responding, but it does not show you the results from the groups, only the full hit of the expression. Whereas the re-try webtool can show the groups from the output, similar to the output from findall in python."
     ]
    },
    {
     "cell_type": "markdown",
     "metadata": {},
     "source": [
      "Write the pattern here:"
     ]
    },
    {
     "cell_type": "raw",
     "metadata": {},
     "source": [
      "Answer: \n"
     ]
    },
    {
     "cell_type": "markdown",
     "metadata": {},
     "source": [
      "<b>IMPORTANT</b>: This exercise was meant to show you what is possible with regular expressions, but remember that regular expressions can be devious and even unreliable, if not used sparingly and correctly. Always remember to considder what users might do, not everyone follows standard procedures and formats."
     ]
    },
    {
     "cell_type": "markdown",
     "metadata": {},
     "source": [
      "---"
     ]
    },
    {
     "cell_type": "markdown",
     "metadata": {},
     "source": [
      "<q>4. Using Python to do Pattern Matching</q>"
     ]
    },
    {
     "cell_type": "markdown",
     "metadata": {},
     "source": [
      "Make a script in Python using the ```re``` module that can find the three restriction sites in *problem 1* but prints the surrounding (flanking) 5 nucleotides\n",
      "\n",
      "E.g. the the match **```GGGACCC```** should be printed as ```ACAGT```**```GGGACCC```**```TCAGT```\n",
      "\n",
      "**Hint:** *Here are some instructions*\n",
      "\n",
      "<ol>\n",
      "<li>Use the ```finditer()``` method of the ```re``` module to make a Match Object-generator and store it as ```matchobjects```</li>\n",
      "<li>Go through each of the objects in the newly created ```matchobjects``` iterator using a for loop</li>\n",
      "<ol>\n",
      "<li>Get the positions in the sequence where the match was obtained using the ```match.span()``` method.</li>\n",
      "<li>Print the sequence slice that flanks the matched restriction site by 5 nucleotides</li>\n",
      "</ol>\n",
      "</ol>"
     ]
    },
    {
     "cell_type": "code",
     "collapsed": false,
     "input": [
      "import re\n",
      "target = \"CGTAGGACAGTGGGACCCTCAGTAGGGCCTATGCGTATGGCGGGACCTGGCA\"\n",
      "pattern = \"\"\n"
     ],
     "language": "python",
     "metadata": {},
     "outputs": []
    },
    {
     "cell_type": "markdown",
     "metadata": {},
     "source": [
      "---"
     ]
    },
    {
     "cell_type": "code",
     "collapsed": false,
     "input": [
      "from IPython.core.display import HTML\n",
      "\n",
      "\n",
      "def css_styling():\n",
      "    styles = open(\"../styles/custom.css\", \"r\").read()\n",
      "    return HTML(styles)\n",
      "css_styling()"
     ],
     "language": "python",
     "metadata": {},
     "outputs": []
    },
    {
     "cell_type": "code",
     "collapsed": false,
     "input": [],
     "language": "python",
     "metadata": {},
     "outputs": []
    }
   ],
   "metadata": {}
  }
 ]
}